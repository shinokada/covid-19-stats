{
 "cells": [
  {
   "cell_type": "markdown",
   "metadata": {},
   "source": [
    "<span style=\"color:red; font-family:Helvetica Neue, Helvetica, Arial, sans-serif; font-size:2em;\">An Exception was encountered at 'In [2]'.</span>"
   ]
  },
  {
   "cell_type": "markdown",
   "metadata": {
    "papermill": {
     "duration": 0.007633,
     "end_time": "2020-04-20T03:50:44.136988",
     "exception": false,
     "start_time": "2020-04-20T03:50:44.129355",
     "status": "completed"
    },
    "tags": []
   },
   "source": [
    "<a href=\"https://mybinder.org/v2/gh/shinokada/covid-19-stats/master\" target=\"_blank\"><img src=\"https://mybinder.org/badge_logo.svg\"/></a>"
   ]
  },
  {
   "cell_type": "code",
   "execution_count": 1,
   "metadata": {
    "execution": {
     "iopub.execute_input": "2020-04-20T03:50:44.155718Z",
     "iopub.status.busy": "2020-04-20T03:50:44.154773Z",
     "iopub.status.idle": "2020-04-20T03:50:44.163238Z",
     "shell.execute_reply": "2020-04-20T03:50:44.162178Z"
    },
    "papermill": {
     "duration": 0.019462,
     "end_time": "2020-04-20T03:50:44.163504",
     "exception": false,
     "start_time": "2020-04-20T03:50:44.144042",
     "status": "completed"
    },
    "tags": []
   },
   "outputs": [
    {
     "name": "stderr",
     "output_type": "stream",
     "text": [
      "ERROR:root:File `'covid-19-data.ipynb.py'` not found.\n"
     ]
    }
   ],
   "source": [
    "%run covid-19-data.ipynb\n",
    "\n",
    "import pandas as pd\n",
    "import numpy as np"
   ]
  },
  {
   "cell_type": "code",
   "execution_count": 2,
   "metadata": {
    "execution": {
     "iopub.execute_input": "2020-04-20T03:50:44.186559Z",
     "iopub.status.busy": "2020-04-20T03:50:44.185875Z",
     "iopub.status.idle": "2020-04-20T03:50:44.683347Z",
     "shell.execute_reply": "2020-04-20T03:50:44.681636Z"
    },
    "papermill": {
     "duration": 0.514765,
     "end_time": "2020-04-20T03:50:44.683565",
     "exception": true,
     "start_time": "2020-04-20T03:50:44.168800",
     "status": "failed"
    },
    "tags": []
   },
   "outputs": [
    {
     "ename": "NameError",
     "evalue": "name 'covid19_deaths' is not defined",
     "output_type": "error",
     "traceback": [
      "\u001b[0;31m---------------------------------------------------------------------------\u001b[0m",
      "\u001b[0;31mNameError\u001b[0m                                 Traceback (most recent call last)",
      "\u001b[0;32m<ipython-input-2-254070245ad6>\u001b[0m in \u001b[0;36m<module>\u001b[0;34m\u001b[0m\n\u001b[0;32m----> 1\u001b[0;31m \u001b[0mdf\u001b[0m\u001b[0;34m=\u001b[0m\u001b[0mcovid19_deaths\u001b[0m\u001b[0;34m.\u001b[0m\u001b[0mgroupby\u001b[0m\u001b[0;34m(\u001b[0m\u001b[0;34m'Country/Region'\u001b[0m\u001b[0;34m)\u001b[0m\u001b[0;34m.\u001b[0m\u001b[0msum\u001b[0m\u001b[0;34m(\u001b[0m\u001b[0;34m)\u001b[0m\u001b[0;34m.\u001b[0m\u001b[0mreset_index\u001b[0m\u001b[0;34m(\u001b[0m\u001b[0;34m)\u001b[0m\u001b[0;34m\u001b[0m\u001b[0;34m\u001b[0m\u001b[0m\n\u001b[0m\u001b[1;32m      2\u001b[0m \u001b[0mfilter\u001b[0m \u001b[0;34m=\u001b[0m \u001b[0mdf\u001b[0m\u001b[0;34m[\u001b[0m\u001b[0;34m\"Country/Region\"\u001b[0m\u001b[0;34m]\u001b[0m \u001b[0;34m==\u001b[0m \u001b[0;34m\"United Kingdom\"\u001b[0m\u001b[0;34m\u001b[0m\u001b[0;34m\u001b[0m\u001b[0m\n\u001b[1;32m      3\u001b[0m \u001b[0mdf\u001b[0m\u001b[0;34m=\u001b[0m\u001b[0mdf\u001b[0m\u001b[0;34m[\u001b[0m\u001b[0mfilter\u001b[0m\u001b[0;34m]\u001b[0m\u001b[0;34m.\u001b[0m\u001b[0mdrop\u001b[0m\u001b[0;34m(\u001b[0m\u001b[0;34m[\u001b[0m\u001b[0;34m'Lat'\u001b[0m\u001b[0;34m,\u001b[0m \u001b[0;34m'Long'\u001b[0m\u001b[0;34m]\u001b[0m\u001b[0;34m,\u001b[0m\u001b[0maxis\u001b[0m\u001b[0;34m=\u001b[0m\u001b[0;36m1\u001b[0m\u001b[0;34m)\u001b[0m\u001b[0;34m.\u001b[0m\u001b[0mset_index\u001b[0m\u001b[0;34m(\u001b[0m\u001b[0;34m\"Country/Region\"\u001b[0m\u001b[0;34m)\u001b[0m\u001b[0;34m.\u001b[0m\u001b[0mT\u001b[0m\u001b[0;34m\u001b[0m\u001b[0;34m\u001b[0m\u001b[0m\n\u001b[1;32m      4\u001b[0m \u001b[0;34m\u001b[0m\u001b[0m\n\u001b[1;32m      5\u001b[0m \u001b[0mfig\u001b[0m \u001b[0;34m=\u001b[0m \u001b[0mplt\u001b[0m\u001b[0;34m.\u001b[0m\u001b[0mfigure\u001b[0m\u001b[0;34m(\u001b[0m\u001b[0;34m)\u001b[0m\u001b[0;34m\u001b[0m\u001b[0;34m\u001b[0m\u001b[0m\n",
      "\u001b[0;31mNameError\u001b[0m: name 'covid19_deaths' is not defined"
     ]
    }
   ],
   "source": [
    "df=covid19_deaths.groupby('Country/Region').sum().reset_index()\n",
    "filter = df[\"Country/Region\"] == \"United Kingdom\"\n",
    "df=df[filter].drop(['Lat', 'Long'],axis=1).set_index(\"Country/Region\").T\n",
    "\n",
    "fig = plt.figure()\n",
    "ax = fig.add_subplot(1, 1, 1)\n",
    "df.plot(ax=ax,figsize=(20,20))\n",
    "ax.set_title(f'Logarithmic COVID-19 Time series Death as of {deaths_latest}',fontsize= 30)\n",
    "plt.xlabel('Date',fontsize= 20)\n",
    "plt.ylabel('Number',fontsize= 20)\n",
    "plt.yscale(\"log\")\n",
    "plt.grid(True, which=\"both\")\n",
    "plt.rc('legend', fontsize=16)\n",
    "plt.tick_params(labelsize=16)\n",
    "fig.autofmt_xdate() # mke space for and rotate the x-axis tick labels\n",
    "plt.legend(loc=2)\n",
    "plt.show()"
   ]
  },
  {
   "cell_type": "code",
   "execution_count": null,
   "metadata": {
    "papermill": {
     "duration": null,
     "end_time": null,
     "exception": null,
     "start_time": null,
     "status": "pending"
    },
    "tags": []
   },
   "outputs": [],
   "source": [
    "df=covid19_confirmed.groupby('Country/Region').sum().reset_index()\n",
    "filter = df[\"Country/Region\"] == \"United Kingdom\"\n",
    "df=df[filter].drop(['Lat', 'Long'],axis=1).set_index(\"Country/Region\").T\n",
    "\n",
    "# df=df.sort_values(confirmed_latest,ascending=False).head(30).drop(['Lat', 'Long'],axis=1).set_index(\"Country/Region\").T\n",
    "fig = plt.figure()\n",
    "ax = fig.add_subplot(1, 1, 1)\n",
    "df.plot(ax=ax,figsize=(20,20))\n",
    "ax.set_title(f'COVID-19 Time series Confirmed as of {confirmed_latest}',fontsize= 30)\n",
    "plt.xlabel('Date',fontsize= 20)\n",
    "plt.ylabel('Number',fontsize= 20)\n",
    "plt.rc('legend', fontsize=16)\n",
    "plt.tick_params(labelsize=16)\n",
    "fig.autofmt_xdate() # mke space for and rotate the x-axis tick labels\n",
    "plt.legend(loc=2)\n",
    "plt.show()"
   ]
  },
  {
   "cell_type": "code",
   "execution_count": null,
   "metadata": {
    "papermill": {
     "duration": null,
     "end_time": null,
     "exception": null,
     "start_time": null,
     "status": "pending"
    },
    "tags": []
   },
   "outputs": [],
   "source": [
    "df=covid19_deaths.groupby('Country/Region').sum().reset_index()\n",
    "filter = df[\"Country/Region\"] == \"United Kingdom\"\n",
    "df=df[filter].drop(['Lat', 'Long'],axis=1).set_index(\"Country/Region\").T\n",
    "\n",
    "fig = plt.figure()\n",
    "ax = fig.add_subplot(1, 1, 1)\n",
    "df.plot(ax=ax,figsize=(20,20))\n",
    "ax.set_title(f'COVID-19 Time series Death as of {deaths_latest}',fontsize= 30)\n",
    "plt.xlabel('Date',fontsize= 20)\n",
    "plt.ylabel('Number',fontsize= 20)\n",
    "plt.rc('legend', fontsize=16)\n",
    "plt.tick_params(labelsize=16)\n",
    "fig.autofmt_xdate() # mke space for and rotate the x-axis tick labels\n",
    "plt.legend(loc=2)\n",
    "plt.show()"
   ]
  },
  {
   "cell_type": "code",
   "execution_count": null,
   "metadata": {
    "papermill": {
     "duration": null,
     "end_time": null,
     "exception": null,
     "start_time": null,
     "status": "pending"
    },
    "tags": []
   },
   "outputs": [],
   "source": [
    "df=covid19_recovered.groupby('Country/Region').sum().reset_index()\n",
    "filter = df[\"Country/Region\"] == \"United Kingdom\"\n",
    "df=df[filter].drop(['Lat', 'Long'],axis=1).set_index(\"Country/Region\").T\n",
    "\n",
    "fig = plt.figure()\n",
    "ax = fig.add_subplot(1, 1, 1)\n",
    "df.plot(ax=ax,figsize=(20,20))\n",
    "ax.set_title(f'COVID-19 Time series Recovered as of {recovered_latest}',fontsize= 30)\n",
    "plt.xlabel('Date',fontsize= 20)\n",
    "plt.ylabel('Number',fontsize= 20)\n",
    "plt.rc('legend', fontsize=16)\n",
    "plt.tick_params(labelsize=16)\n",
    "fig.autofmt_xdate() # mke space for and rotate the x-axis tick labels\n",
    "plt.legend(loc=2)\n",
    "plt.show()"
   ]
  },
  {
   "cell_type": "code",
   "execution_count": null,
   "metadata": {
    "papermill": {
     "duration": null,
     "end_time": null,
     "exception": null,
     "start_time": null,
     "status": "pending"
    },
    "tags": []
   },
   "outputs": [],
   "source": []
  }
 ],
 "metadata": {
  "kernelspec": {
   "display_name": "Python 3",
   "language": "python",
   "name": "python3"
  },
  "language_info": {
   "codemirror_mode": {
    "name": "ipython",
    "version": 3
   },
   "file_extension": ".py",
   "mimetype": "text/x-python",
   "name": "python",
   "nbconvert_exporter": "python",
   "pygments_lexer": "ipython3",
   "version": "3.7.7"
  },
  "papermill": {
   "duration": 3.327867,
   "end_time": "2020-04-20T03:50:45.947751",
   "environment_variables": {},
   "exception": true,
   "input_path": "uk.ipynb",
   "output_path": "./cron/uk.ipynb",
   "parameters": {},
   "start_time": "2020-04-20T03:50:42.619884",
   "version": "2.1.0"
  }
 },
 "nbformat": 4,
 "nbformat_minor": 4
}