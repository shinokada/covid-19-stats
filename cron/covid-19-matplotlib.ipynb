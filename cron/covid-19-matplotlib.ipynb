{
 "cells": [
  {
   "cell_type": "markdown",
   "metadata": {},
   "source": [
    "<span style=\"color:red; font-family:Helvetica Neue, Helvetica, Arial, sans-serif; font-size:2em;\">An Exception was encountered at 'In [2]'.</span>"
   ]
  },
  {
   "cell_type": "markdown",
   "metadata": {
    "papermill": {
     "duration": 0.009587,
     "end_time": "2020-04-20T03:53:26.628526",
     "exception": false,
     "start_time": "2020-04-20T03:53:26.618939",
     "status": "completed"
    },
    "tags": []
   },
   "source": [
    "# See this in [nbviewer](https://nbviewer.jupyter.org/github/shinokada/covid-19-stats/blob/master/cron/covid-19-matplotlib.ipynb).\n",
    "\n",
    "# See this in [Binder](https://mybinder.org/v2/gh/shinokada/covid-19-stats/master)\n",
    "\n",
    "<a href=\"https://mybinder.org/v2/gh/shinokada/covid-19-stats/master\" target=\"_blank\"><img src=\"https://mybinder.org/badge_logo.svg\"/></a>"
   ]
  },
  {
   "cell_type": "code",
   "execution_count": 1,
   "metadata": {
    "execution": {
     "iopub.execute_input": "2020-04-20T03:53:26.647960Z",
     "iopub.status.busy": "2020-04-20T03:53:26.647025Z",
     "iopub.status.idle": "2020-04-20T03:53:26.650272Z",
     "shell.execute_reply": "2020-04-20T03:53:26.650863Z"
    },
    "papermill": {
     "duration": 0.017032,
     "end_time": "2020-04-20T03:53:26.651045",
     "exception": false,
     "start_time": "2020-04-20T03:53:26.634013",
     "status": "completed"
    },
    "tags": []
   },
   "outputs": [
    {
     "name": "stderr",
     "output_type": "stream",
     "text": [
      "ERROR:root:File `'covid-19-data.ipynb.py'` not found.\n"
     ]
    }
   ],
   "source": [
    "%run covid-19-data.ipynb\n",
    "\n",
    "import pandas as pd\n",
    "import numpy as np\n",
    "from matplotlib.ticker import ScalarFormatter"
   ]
  },
  {
   "cell_type": "code",
   "execution_count": 2,
   "metadata": {
    "execution": {
     "iopub.execute_input": "2020-04-20T03:53:26.685731Z",
     "iopub.status.busy": "2020-04-20T03:53:26.684910Z",
     "iopub.status.idle": "2020-04-20T03:53:27.131855Z",
     "shell.execute_reply": "2020-04-20T03:53:27.130567Z"
    },
    "papermill": {
     "duration": 0.473281,
     "end_time": "2020-04-20T03:53:27.132107",
     "exception": true,
     "start_time": "2020-04-20T03:53:26.658826",
     "status": "failed"
    },
    "tags": []
   },
   "outputs": [
    {
     "ename": "NameError",
     "evalue": "name 'df_confirmed' is not defined",
     "output_type": "error",
     "traceback": [
      "\u001b[0;31m---------------------------------------------------------------------------\u001b[0m",
      "\u001b[0;31mNameError\u001b[0m                                 Traceback (most recent call last)",
      "\u001b[0;32m<ipython-input-2-809ee4776e44>\u001b[0m in \u001b[0;36m<module>\u001b[0;34m\u001b[0m\n\u001b[1;32m      1\u001b[0m \u001b[0mfig\u001b[0m \u001b[0;34m=\u001b[0m \u001b[0mplt\u001b[0m\u001b[0;34m.\u001b[0m\u001b[0mfigure\u001b[0m\u001b[0;34m(\u001b[0m\u001b[0;34m)\u001b[0m\u001b[0;34m\u001b[0m\u001b[0;34m\u001b[0m\u001b[0m\n\u001b[1;32m      2\u001b[0m \u001b[0max\u001b[0m \u001b[0;34m=\u001b[0m \u001b[0mfig\u001b[0m\u001b[0;34m.\u001b[0m\u001b[0madd_subplot\u001b[0m\u001b[0;34m(\u001b[0m\u001b[0;36m1\u001b[0m\u001b[0;34m,\u001b[0m \u001b[0;36m1\u001b[0m\u001b[0;34m,\u001b[0m \u001b[0;36m1\u001b[0m\u001b[0;34m)\u001b[0m\u001b[0;34m\u001b[0m\u001b[0;34m\u001b[0m\u001b[0m\n\u001b[0;32m----> 3\u001b[0;31m \u001b[0mdf_confirmed\u001b[0m\u001b[0;34m.\u001b[0m\u001b[0mplot\u001b[0m\u001b[0;34m(\u001b[0m\u001b[0max\u001b[0m\u001b[0;34m=\u001b[0m\u001b[0max\u001b[0m\u001b[0;34m,\u001b[0m\u001b[0mfigsize\u001b[0m\u001b[0;34m=\u001b[0m\u001b[0;34m(\u001b[0m\u001b[0;36m20\u001b[0m\u001b[0;34m,\u001b[0m\u001b[0;36m20\u001b[0m\u001b[0;34m)\u001b[0m\u001b[0;34m)\u001b[0m\u001b[0;34m\u001b[0m\u001b[0;34m\u001b[0m\u001b[0m\n\u001b[0m\u001b[1;32m      4\u001b[0m \u001b[0max\u001b[0m\u001b[0;34m.\u001b[0m\u001b[0mset_title\u001b[0m\u001b[0;34m(\u001b[0m\u001b[0;34mf'COVID-19 Time series Confirmed as of {confirmed_latest}'\u001b[0m\u001b[0;34m,\u001b[0m\u001b[0mfontsize\u001b[0m\u001b[0;34m=\u001b[0m \u001b[0;36m30\u001b[0m\u001b[0;34m)\u001b[0m\u001b[0;34m\u001b[0m\u001b[0;34m\u001b[0m\u001b[0m\n\u001b[1;32m      5\u001b[0m \u001b[0mplt\u001b[0m\u001b[0;34m.\u001b[0m\u001b[0mxlabel\u001b[0m\u001b[0;34m(\u001b[0m\u001b[0;34m'Date'\u001b[0m\u001b[0;34m,\u001b[0m\u001b[0mfontsize\u001b[0m\u001b[0;34m=\u001b[0m \u001b[0;36m20\u001b[0m\u001b[0;34m)\u001b[0m\u001b[0;34m\u001b[0m\u001b[0;34m\u001b[0m\u001b[0m\n",
      "\u001b[0;31mNameError\u001b[0m: name 'df_confirmed' is not defined"
     ]
    },
    {
     "data": {
      "image/png": "[encoded data removed]",
      "text/plain": [
       "<Figure size 432x288 with 1 Axes>"
      ]
     },
     "metadata": {
      "needs_background": "light"
     },
     "output_type": "display_data"
    }
   ],
   "source": [
    "fig = plt.figure()\n",
    "ax = fig.add_subplot(1, 1, 1)\n",
    "df_confirmed.plot(ax=ax,figsize=(20,20))\n",
    "ax.set_title(f'COVID-19 Time series Confirmed as of {confirmed_latest}',fontsize= 30)\n",
    "plt.xlabel('Date',fontsize= 20)\n",
    "plt.ylabel('Number',fontsize= 20)\n",
    "plt.rc('legend', fontsize=16)\n",
    "plt.tick_params(labelsize=16)\n",
    "fig.autofmt_xdate() # mke space for and rotate the x-axis tick labels\n",
    "plt.legend(loc=2)\n",
    "plt.show()"
   ]
  },
  {
   "cell_type": "code",
   "execution_count": null,
   "metadata": {
    "papermill": {
     "duration": null,
     "end_time": null,
     "exception": null,
     "start_time": null,
     "status": "pending"
    },
    "tags": []
   },
   "outputs": [],
   "source": [
    "fig = plt.figure()\n",
    "ax = fig.add_subplot(1, 1, 1)\n",
    "df_deaths.plot(ax=ax,figsize=(20,20))\n",
    "ax.set_title(f'COVID-19 Time series Death as of {deaths_latest}',fontsize= 30)\n",
    "plt.xlabel('Date',fontsize= 20)\n",
    "plt.ylabel('Number',fontsize= 20)\n",
    "plt.rc('legend', fontsize=16)\n",
    "plt.tick_params(labelsize=16)\n",
    "fig.autofmt_xdate() # mke space for and rotate the x-axis tick labels\n",
    "plt.legend(loc=2)\n",
    "plt.show()"
   ]
  },
  {
   "cell_type": "code",
   "execution_count": null,
   "metadata": {
    "papermill": {
     "duration": null,
     "end_time": null,
     "exception": null,
     "start_time": null,
     "status": "pending"
    },
    "tags": []
   },
   "outputs": [],
   "source": [
    "fig = plt.figure()\n",
    "ax = fig.add_subplot(1, 1, 1)\n",
    "df_recovered.plot(ax=ax,figsize=(20,20))\n",
    "ax.set_title(f'COVID-19 Time series Recovered as of {recovered_latest}',fontsize= 30)\n",
    "plt.xlabel('Date',fontsize= 20)\n",
    "plt.ylabel('Number',fontsize= 20)\n",
    "plt.rc('legend', fontsize=16)\n",
    "plt.tick_params(labelsize=16)\n",
    "fig.autofmt_xdate() # mke space for and rotate the x-axis tick labels\n",
    "plt.legend(loc=2)\n",
    "plt.show()"
   ]
  },
  {
   "cell_type": "code",
   "execution_count": null,
   "metadata": {
    "papermill": {
     "duration": null,
     "end_time": null,
     "exception": null,
     "start_time": null,
     "status": "pending"
    },
    "tags": []
   },
   "outputs": [],
   "source": [
    "# Total Confirmed by date\n",
    "fig = plt.figure()\n",
    "ax = fig.add_subplot(1, 1, 1)\n",
    "df_confirmed_total.plot(ax=ax,figsize=(20,20))\n",
    "ax.set_title(f'COVID-19 Time series global confirmed as of {confirmed_latest}',fontsize= 30)\n",
    "plt.xlabel('Date',fontsize= 20)\n",
    "plt.ylabel('Number',fontsize= 20)\n",
    "plt.tick_params(labelsize=16)\n",
    "ax.yaxis.set_major_formatter(ScalarFormatter(useMathText=True))\n",
    "ax.ticklabel_format(style=\"plain\",  axis=\"y\")\n",
    "fig.autofmt_xdate() # mke space for and rotate the x-axis tick labels\n",
    "plt.show()"
   ]
  },
  {
   "cell_type": "code",
   "execution_count": null,
   "metadata": {
    "papermill": {
     "duration": null,
     "end_time": null,
     "exception": null,
     "start_time": null,
     "status": "pending"
    },
    "tags": []
   },
   "outputs": [],
   "source": [
    "# Total deaths by date\n",
    "fig = plt.figure()\n",
    "ax = fig.add_subplot(1, 1, 1)\n",
    "df_deaths_total.plot(ax=ax,figsize=(20,20))\n",
    "ax.set_title(f'COVID-19 Time series global deaths as of {deaths_latest}',fontsize= 30)\n",
    "plt.xlabel('Date',fontsize= 20)\n",
    "plt.ylabel('Number',fontsize= 20)\n",
    "plt.tick_params(labelsize=16)\n",
    "ax.yaxis.set_major_formatter(ScalarFormatter(useMathText=True))\n",
    "ax.ticklabel_format(style=\"plain\",  axis=\"y\",scilimits=(0,0))\n",
    "fig.autofmt_xdate() # mke space for and rotate the x-axis tick labels\n",
    "plt.show()"
   ]
  },
  {
   "cell_type": "code",
   "execution_count": null,
   "metadata": {
    "papermill": {
     "duration": null,
     "end_time": null,
     "exception": null,
     "start_time": null,
     "status": "pending"
    },
    "tags": []
   },
   "outputs": [],
   "source": [
    "# Total recovered by date\n",
    "fig = plt.figure()\n",
    "ax = fig.add_subplot(1, 1, 1)\n",
    "df_recovered_total.plot(ax=ax,figsize=(20,20))\n",
    "ax.set_title(f'COVID-19 Time series global recovered as of {recovered_latest}',fontsize= 30)\n",
    "plt.xlabel('Date',fontsize= 20)\n",
    "plt.ylabel('Number',fontsize= 20)\n",
    "plt.tick_params(labelsize=16)\n",
    "ax.yaxis.set_major_formatter(ScalarFormatter(useMathText=True))\n",
    "ax.ticklabel_format(style=\"plain\",  axis=\"y\",scilimits=(0,0))\n",
    "fig.autofmt_xdate() # mke space for and rotate the x-axis tick labels\n",
    "plt.show()"
   ]
  },
  {
   "cell_type": "code",
   "execution_count": null,
   "metadata": {
    "papermill": {
     "duration": null,
     "end_time": null,
     "exception": null,
     "start_time": null,
     "status": "pending"
    },
    "tags": []
   },
   "outputs": [],
   "source": []
  }
 ],
 "metadata": {
  "kernelspec": {
   "display_name": "Python 3",
   "language": "python",
   "name": "python3"
  },
  "language_info": {
   "codemirror_mode": {
    "name": "ipython",
    "version": 3
   },
   "file_extension": ".py",
   "mimetype": "text/x-python",
   "name": "python",
   "nbconvert_exporter": "python",
   "pygments_lexer": "ipython3",
   "version": "3.7.7"
  },
  "papermill": {
   "duration": 2.899883,
   "end_time": "2020-04-20T03:53:27.485167",
   "environment_variables": {},
   "exception": true,
   "input_path": "covid-19-matplotlib.ipynb",
   "output_path": "./cron/covid-19-matplotlib.ipynb",
   "parameters": {},
   "start_time": "2020-04-20T03:53:24.585284",
   "version": "2.1.0"
  }
 },
 "nbformat": 4,
 "nbformat_minor": 4
}