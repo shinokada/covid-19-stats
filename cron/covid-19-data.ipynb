{
 "cells": [
  {
   "cell_type": "code",
   "execution_count": 1,
   "metadata": {
    "execution": {
     "iopub.execute_input": "2020-04-18T01:20:05.423395Z",
     "iopub.status.busy": "2020-04-18T01:20:05.422584Z",
     "iopub.status.idle": "2020-04-18T01:20:05.427745Z",
     "shell.execute_reply": "2020-04-18T01:20:05.429358Z"
    },
    "papermill": {
     "duration": 0.017569,
     "end_time": "2020-04-18T01:20:05.429805",
     "exception": false,
     "start_time": "2020-04-18T01:20:05.412236",
     "status": "completed"
    },
    "tags": []
   },
   "outputs": [],
   "source": [
    "import pandas as pd\n",
    "import numpy as np"
   ]
  },
  {
   "cell_type": "code",
   "execution_count": 2,
   "metadata": {
    "execution": {
     "iopub.execute_input": "2020-04-18T01:20:05.443706Z",
     "iopub.status.busy": "2020-04-18T01:20:05.442741Z",
     "iopub.status.idle": "2020-04-18T01:20:06.450753Z",
     "shell.execute_reply": "2020-04-18T01:20:06.451233Z"
    },
    "papermill": {
     "duration": 1.015567,
     "end_time": "2020-04-18T01:20:06.451486",
     "exception": false,
     "start_time": "2020-04-18T01:20:05.435919",
     "status": "completed"
    },
    "tags": []
   },
   "outputs": [],
   "source": [
    "confirmed_global='https://raw.githubusercontent.com/CSSEGISandData/COVID-19/master/csse_covid_19_data/csse_covid_19_time_series/time_series_covid19_confirmed_global.csv'\n",
    "covid19_confirmed=pd.read_csv(confirmed_global)\n",
    "\n",
    "deaths_global='https://raw.githubusercontent.com/CSSEGISandData/COVID-19/master/csse_covid_19_data/csse_covid_19_time_series/time_series_covid19_deaths_global.csv'\n",
    "covid19_deaths=pd.read_csv(deaths_global)\n",
    "\n",
    "recovered_global='https://raw.githubusercontent.com/CSSEGISandData/COVID-19/master/csse_covid_19_data/csse_covid_19_time_series/time_series_covid19_recovered_global.csv'\n",
    "covid19_recovered=pd.read_csv(recovered_global)\n"
   ]
  },
  {
   "cell_type": "code",
   "execution_count": 3,
   "metadata": {
    "execution": {
     "iopub.execute_input": "2020-04-18T01:20:06.510385Z",
     "iopub.status.busy": "2020-04-18T01:20:06.507712Z",
     "iopub.status.idle": "2020-04-18T01:20:06.516660Z",
     "shell.execute_reply": "2020-04-18T01:20:06.516147Z"
    },
    "papermill": {
     "duration": 0.061974,
     "end_time": "2020-04-18T01:20:06.516880",
     "exception": false,
     "start_time": "2020-04-18T01:20:06.454906",
     "status": "completed"
    },
    "tags": []
   },
   "outputs": [],
   "source": [
    "confirmed_latest = covid19_confirmed.T.index.values[-1]\n",
    "deaths_latest = covid19_deaths.T.index.values[-1]\n",
    "recovered_latest = covid19_recovered.T.index.values[-1]"
   ]
  },
  {
   "cell_type": "code",
   "execution_count": null,
   "metadata": {
    "papermill": {
     "duration": 0.00323,
     "end_time": "2020-04-18T01:20:06.523366",
     "exception": false,
     "start_time": "2020-04-18T01:20:06.520136",
     "status": "completed"
    },
    "tags": []
   },
   "outputs": [],
   "source": []
  }
 ],
 "metadata": {
  "kernelspec": {
   "display_name": "Python 3",
   "language": "python",
   "name": "python3"
  },
  "language_info": {
   "codemirror_mode": {
    "name": "ipython",
    "version": 3
   },
   "file_extension": ".py",
   "mimetype": "text/x-python",
   "name": "python",
   "nbconvert_exporter": "python",
   "pygments_lexer": "ipython3",
   "version": "3.7.7"
  },
  "papermill": {
   "duration": 3.009674,
   "end_time": "2020-04-18T01:20:06.709152",
   "environment_variables": {},
   "exception": null,
   "input_path": "covid-19-data.ipynb",
   "output_path": "./cron/covid-19-data.ipynb",
   "parameters": {},
   "start_time": "2020-04-18T01:20:03.699478",
   "version": "2.1.0"
  }
 },
 "nbformat": 4,
 "nbformat_minor": 4
}