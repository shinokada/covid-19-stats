{
 "cells": [
  {
   "cell_type": "code",
   "execution_count": 1,
   "metadata": {
    "execution": {
     "iopub.execute_input": "2020-04-20T03:31:39.601988Z",
     "iopub.status.busy": "2020-04-20T03:31:39.600990Z",
     "iopub.status.idle": "2020-04-20T03:31:39.603759Z",
     "shell.execute_reply": "2020-04-20T03:31:39.604595Z"
    },
    "papermill": {
     "duration": 0.015994,
     "end_time": "2020-04-20T03:31:39.604834",
     "exception": false,
     "start_time": "2020-04-20T03:31:39.588840",
     "status": "completed"
    },
    "tags": []
   },
   "outputs": [],
   "source": [
    "import pandas as pd\n",
    "import numpy as np"
   ]
  },
  {
   "cell_type": "code",
   "execution_count": 2,
   "metadata": {
    "execution": {
     "iopub.execute_input": "2020-04-20T03:31:39.690190Z",
     "iopub.status.busy": "2020-04-20T03:31:39.689272Z",
     "iopub.status.idle": "2020-04-20T03:31:39.940662Z",
     "shell.execute_reply": "2020-04-20T03:31:39.939957Z"
    },
    "papermill": {
     "duration": 0.329873,
     "end_time": "2020-04-20T03:31:39.940879",
     "exception": false,
     "start_time": "2020-04-20T03:31:39.611006",
     "status": "completed"
    },
    "tags": []
   },
   "outputs": [],
   "source": [
    "# confirmed_global\n",
    "confirmed_global='https://raw.githubusercontent.com/CSSEGISandData/COVID-19/master/csse_covid_19_data/csse_covid_19_time_series/time_series_covid19_confirmed_global.csv'\n",
    "covid19_confirmed=pd.read_csv(confirmed_global,index_col='Country/Region')\n",
    "\n",
    "# confirmed_latest\n",
    "confirmed_latest = covid19_confirmed.T.index.values[-1]\n",
    "\n",
    "# df_confirmed\n",
    "df_grouped_conf=covid19_confirmed.groupby('Country/Region').sum()\n",
    "\n",
    "df_confirmed=df_grouped_conf.sort_values(confirmed_latest,ascending=False).head(10).drop(['Lat', 'Long'],axis=1).T\n",
    "\n",
    "# df_confirmed_total\n",
    "covid19_confirmed.loc[\"Total\"] = covid19_confirmed.sum()\n",
    "df_confirmed_total=covid19_confirmed.iloc[-1,4:]\n"
   ]
  },
  {
   "cell_type": "code",
   "execution_count": 3,
   "metadata": {
    "execution": {
     "iopub.execute_input": "2020-04-20T03:31:39.991061Z",
     "iopub.status.busy": "2020-04-20T03:31:39.989662Z",
     "iopub.status.idle": "2020-04-20T03:31:40.117542Z",
     "shell.execute_reply": "2020-04-20T03:31:40.118028Z"
    },
    "papermill": {
     "duration": 0.165983,
     "end_time": "2020-04-20T03:31:40.118240",
     "exception": false,
     "start_time": "2020-04-20T03:31:39.952257",
     "status": "completed"
    },
    "tags": []
   },
   "outputs": [],
   "source": [
    "# deaths_global\n",
    "deaths_global='https://raw.githubusercontent.com/CSSEGISandData/COVID-19/master/csse_covid_19_data/csse_covid_19_time_series/time_series_covid19_deaths_global.csv'\n",
    "covid19_deaths=pd.read_csv(deaths_global,index_col='Country/Region')\n",
    "\n",
    "# deaths_latest\n",
    "deaths_latest = covid19_deaths.T.index.values[-1]\n",
    "\n",
    "# df_deaths\n",
    "df_grouped_deaths=covid19_deaths.groupby('Country/Region').sum()\n",
    "df_deaths=df_grouped_deaths.sort_values(deaths_latest,ascending=False).head(10).drop(['Lat', 'Long'],axis=1).T\n",
    "\n",
    "# df_deaths_total\n",
    "covid19_deaths.loc[\"Total\"] = covid19_deaths.sum()\n",
    "df_deaths_total=covid19_deaths.iloc[-1,4:]\n"
   ]
  },
  {
   "cell_type": "code",
   "execution_count": 4,
   "metadata": {
    "execution": {
     "iopub.execute_input": "2020-04-20T03:31:40.145760Z",
     "iopub.status.busy": "2020-04-20T03:31:40.144942Z",
     "iopub.status.idle": "2020-04-20T03:31:40.446890Z",
     "shell.execute_reply": "2020-04-20T03:31:40.447371Z"
    },
    "papermill": {
     "duration": 0.325301,
     "end_time": "2020-04-20T03:31:40.447540",
     "exception": false,
     "start_time": "2020-04-20T03:31:40.122239",
     "status": "completed"
    },
    "tags": []
   },
   "outputs": [],
   "source": [
    "# recovered_global\n",
    "recovered_global='https://raw.githubusercontent.com/CSSEGISandData/COVID-19/master/csse_covid_19_data/csse_covid_19_time_series/time_series_covid19_recovered_global.csv'\n",
    "covid19_recovered=pd.read_csv(recovered_global,index_col='Country/Region')\n",
    "\n",
    "# recovered_latest\n",
    "recovered_latest = covid19_recovered.T.index.values[-1]\n",
    "\n",
    "# df_recovered\n",
    "df_grouped_recv=covid19_recovered.groupby('Country/Region').sum()\n",
    "df_recovered=df_grouped_recv.sort_values(recovered_latest,ascending=False).head(10).drop(['Lat', 'Long'],axis=1).T\n",
    "\n",
    "# df_recovered_total\n",
    "covid19_recovered.loc[\"Total\"] = covid19_recovered.sum()\n",
    "df_recovered_total=covid19_recovered.iloc[-1,4:]"
   ]
  },
  {
   "cell_type": "code",
   "execution_count": null,
   "metadata": {
    "papermill": {
     "duration": 0.003951,
     "end_time": "2020-04-20T03:31:40.457105",
     "exception": false,
     "start_time": "2020-04-20T03:31:40.453154",
     "status": "completed"
    },
    "tags": []
   },
   "outputs": [],
   "source": []
  }
 ],
 "metadata": {
  "kernelspec": {
   "display_name": "Python 3",
   "language": "python",
   "name": "python3"
  },
  "language_info": {
   "codemirror_mode": {
    "name": "ipython",
    "version": 3
   },
   "file_extension": ".py",
   "mimetype": "text/x-python",
   "name": "python",
   "nbconvert_exporter": "python",
   "pygments_lexer": "ipython3",
   "version": "3.7.7"
  },
  "papermill": {
   "duration": 3.747641,
   "end_time": "2020-04-20T03:31:40.646565",
   "environment_variables": {},
   "exception": null,
   "input_path": "covid-19-data.ipynb",
   "output_path": "./cron/covid-19-data.ipynb",
   "parameters": {},
   "start_time": "2020-04-20T03:31:36.898924",
   "version": "2.1.0"
  }
 },
 "nbformat": 4,
 "nbformat_minor": 4
}