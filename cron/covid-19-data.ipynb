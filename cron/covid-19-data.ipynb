{
 "cells": [
  {
   "cell_type": "code",
   "execution_count": 1,
   "metadata": {
    "execution": {
     "iopub.execute_input": "2020-04-20T01:32:54.236878Z",
     "iopub.status.busy": "2020-04-20T01:32:54.236072Z",
     "iopub.status.idle": "2020-04-20T01:32:54.241408Z",
     "shell.execute_reply": "2020-04-20T01:32:54.242834Z"
    },
    "papermill": {
     "duration": 0.020157,
     "end_time": "2020-04-20T01:32:54.243212",
     "exception": false,
     "start_time": "2020-04-20T01:32:54.223055",
     "status": "completed"
    },
    "tags": []
   },
   "outputs": [],
   "source": [
    "import pandas as pd\n",
    "import numpy as np"
   ]
  },
  {
   "cell_type": "code",
   "execution_count": 2,
   "metadata": {
    "execution": {
     "iopub.execute_input": "2020-04-20T01:32:54.263663Z",
     "iopub.status.busy": "2020-04-20T01:32:54.261858Z",
     "iopub.status.idle": "2020-04-20T01:32:54.483224Z",
     "shell.execute_reply": "2020-04-20T01:32:54.482441Z"
    },
    "papermill": {
     "duration": 0.232829,
     "end_time": "2020-04-20T01:32:54.483426",
     "exception": false,
     "start_time": "2020-04-20T01:32:54.250597",
     "status": "completed"
    },
    "tags": []
   },
   "outputs": [],
   "source": [
    "# confirmed_global\n",
    "confirmed_global='https://raw.githubusercontent.com/CSSEGISandData/COVID-19/master/csse_covid_19_data/csse_covid_19_time_series/time_series_covid19_confirmed_global.csv'\n",
    "covid19_confirmed=pd.read_csv(confirmed_global)\n",
    "\n",
    "# confirmed_latest\n",
    "confirmed_latest = covid19_confirmed.T.index.values[-1]\n",
    "\n",
    "# df_confirmed\n",
    "df=covid19_confirmed.groupby('Country/Region').sum().reset_index()\n",
    "df_confirmed=df.sort_values(confirmed_latest,ascending=False).head(10).drop(['Lat', 'Long'],axis=1).set_index(\"Country/Region\").T\n",
    "\n",
    "# df_confirmed_total\n",
    "covid19_confirmed.loc[\"Total\"] = covid19_confirmed.sum()\n",
    "df_confirmed_total=covid19_confirmed.iloc[-1,4:]\n"
   ]
  },
  {
   "cell_type": "code",
   "execution_count": 3,
   "metadata": {
    "execution": {
     "iopub.execute_input": "2020-04-20T01:32:54.515185Z",
     "iopub.status.busy": "2020-04-20T01:32:54.514084Z",
     "iopub.status.idle": "2020-04-20T01:32:54.875874Z",
     "shell.execute_reply": "2020-04-20T01:32:54.876359Z"
    },
    "papermill": {
     "duration": 0.387802,
     "end_time": "2020-04-20T01:32:54.876527",
     "exception": false,
     "start_time": "2020-04-20T01:32:54.488725",
     "status": "completed"
    },
    "tags": []
   },
   "outputs": [],
   "source": [
    "# deaths_global\n",
    "deaths_global='https://raw.githubusercontent.com/CSSEGISandData/COVID-19/master/csse_covid_19_data/csse_covid_19_time_series/time_series_covid19_deaths_global.csv'\n",
    "covid19_deaths=pd.read_csv(deaths_global)\n",
    "\n",
    "# deaths_latest\n",
    "deaths_latest = covid19_deaths.T.index.values[-1]\n",
    "\n",
    "# df_deaths\n",
    "df=covid19_deaths.groupby('Country/Region').sum().reset_index()\n",
    "df_deaths=df.sort_values(deaths_latest,ascending=False).head(10).drop(['Lat', 'Long'],axis=1).set_index(\"Country/Region\").T\n",
    "\n",
    "# df_deaths_total\n",
    "covid19_deaths.loc[\"Total\"] = covid19_deaths.sum()\n",
    "df_deaths_total=covid19_deaths.iloc[-1,4:]\n"
   ]
  },
  {
   "cell_type": "code",
   "execution_count": 4,
   "metadata": {
    "execution": {
     "iopub.execute_input": "2020-04-20T01:32:54.902594Z",
     "iopub.status.busy": "2020-04-20T01:32:54.901857Z",
     "iopub.status.idle": "2020-04-20T01:32:55.276893Z",
     "shell.execute_reply": "2020-04-20T01:32:55.277692Z"
    },
    "papermill": {
     "duration": 0.397725,
     "end_time": "2020-04-20T01:32:55.277924",
     "exception": false,
     "start_time": "2020-04-20T01:32:54.880199",
     "status": "completed"
    },
    "tags": []
   },
   "outputs": [],
   "source": [
    "# recovered_global\n",
    "recovered_global='https://raw.githubusercontent.com/CSSEGISandData/COVID-19/master/csse_covid_19_data/csse_covid_19_time_series/time_series_covid19_recovered_global.csv'\n",
    "covid19_recovered=pd.read_csv(recovered_global)\n",
    "\n",
    "# recovered_latest\n",
    "recovered_latest = covid19_recovered.T.index.values[-1]\n",
    "\n",
    "# df_recovered\n",
    "df=covid19_recovered.groupby('Country/Region').sum().reset_index()\n",
    "df_recovered=df.sort_values(recovered_latest,ascending=False).head(10).drop(['Lat', 'Long'],axis=1).set_index(\"Country/Region\").T\n",
    "\n",
    "# df_recovered_total\n",
    "covid19_recovered.loc[\"Total\"] = covid19_recovered.sum()\n",
    "df_recovered_total=covid19_recovered.iloc[-1,4:]"
   ]
  },
  {
   "cell_type": "code",
   "execution_count": null,
   "metadata": {
    "papermill": {
     "duration": 0.004232,
     "end_time": "2020-04-20T01:32:55.288682",
     "exception": false,
     "start_time": "2020-04-20T01:32:55.284450",
     "status": "completed"
    },
    "tags": []
   },
   "outputs": [],
   "source": []
  }
 ],
 "metadata": {
  "kernelspec": {
   "display_name": "Python 3",
   "language": "python",
   "name": "python3"
  },
  "language_info": {
   "codemirror_mode": {
    "name": "ipython",
    "version": 3
   },
   "file_extension": ".py",
   "mimetype": "text/x-python",
   "name": "python",
   "nbconvert_exporter": "python",
   "pygments_lexer": "ipython3",
   "version": "3.7.7"
  },
  "papermill": {
   "duration": 3.305557,
   "end_time": "2020-04-20T01:32:55.471477",
   "environment_variables": {},
   "exception": null,
   "input_path": "covid-19-data.ipynb",
   "output_path": "./cron/covid-19-data.ipynb",
   "parameters": {},
   "start_time": "2020-04-20T01:32:52.165920",
   "version": "2.1.0"
  }
 },
 "nbformat": 4,
 "nbformat_minor": 4
}