{
 "cells": [
  {
   "cell_type": "code",
   "execution_count": 1,
   "metadata": {
    "execution": {
     "iopub.execute_input": "2020-04-18T01:15:06.296395Z",
     "iopub.status.busy": "2020-04-18T01:15:06.294635Z",
     "iopub.status.idle": "2020-04-18T01:15:06.298518Z",
     "shell.execute_reply": "2020-04-18T01:15:06.299121Z"
    },
    "papermill": {
     "duration": 0.015781,
     "end_time": "2020-04-18T01:15:06.299634",
     "exception": false,
     "start_time": "2020-04-18T01:15:06.283853",
     "status": "completed"
    },
    "tags": []
   },
   "outputs": [],
   "source": [
    "import pandas as pd\n",
    "import numpy as np"
   ]
  },
  {
   "cell_type": "code",
   "execution_count": 2,
   "metadata": {
    "execution": {
     "iopub.execute_input": "2020-04-18T01:15:06.314104Z",
     "iopub.status.busy": "2020-04-18T01:15:06.312746Z",
     "iopub.status.idle": "2020-04-18T01:15:07.483067Z",
     "shell.execute_reply": "2020-04-18T01:15:07.483558Z"
    },
    "papermill": {
     "duration": 1.17815,
     "end_time": "2020-04-18T01:15:07.483812",
     "exception": false,
     "start_time": "2020-04-18T01:15:06.305662",
     "status": "completed"
    },
    "tags": []
   },
   "outputs": [],
   "source": [
    "confirmed_global='https://raw.githubusercontent.com/CSSEGISandData/COVID-19/master/csse_covid_19_data/csse_covid_19_time_series/time_series_covid19_confirmed_global.csv'\n",
    "covid19_confirmed=pd.read_csv(confirmed_global)\n",
    "\n",
    "deaths_global='https://raw.githubusercontent.com/CSSEGISandData/COVID-19/master/csse_covid_19_data/csse_covid_19_time_series/time_series_covid19_deaths_global.csv'\n",
    "covid19_deaths=pd.read_csv(deaths_global)\n",
    "\n",
    "recovered_global='https://raw.githubusercontent.com/CSSEGISandData/COVID-19/master/csse_covid_19_data/csse_covid_19_time_series/time_series_covid19_recovered_global.csv'\n",
    "covid19_recovered=pd.read_csv(recovered_global)\n"
   ]
  },
  {
   "cell_type": "code",
   "execution_count": 3,
   "metadata": {
    "execution": {
     "iopub.execute_input": "2020-04-18T01:15:07.537896Z",
     "iopub.status.busy": "2020-04-18T01:15:07.536638Z",
     "iopub.status.idle": "2020-04-18T01:15:07.546206Z",
     "shell.execute_reply": "2020-04-18T01:15:07.546948Z"
    },
    "papermill": {
     "duration": 0.060028,
     "end_time": "2020-04-18T01:15:07.547177",
     "exception": false,
     "start_time": "2020-04-18T01:15:07.487149",
     "status": "completed"
    },
    "tags": []
   },
   "outputs": [],
   "source": [
    "confirmed_latest = covid19_confirmed.T.index.values[-1]\n",
    "deaths_latest = covid19_deaths.T.index.values[-1]\n",
    "recovered_latest = covid19_recovered.T.index.values[-1]"
   ]
  },
  {
   "cell_type": "code",
   "execution_count": null,
   "metadata": {
    "papermill": {
     "duration": 0.003968,
     "end_time": "2020-04-18T01:15:07.555897",
     "exception": false,
     "start_time": "2020-04-18T01:15:07.551929",
     "status": "completed"
    },
    "tags": []
   },
   "outputs": [],
   "source": []
  }
 ],
 "metadata": {
  "kernelspec": {
   "display_name": "Python 3",
   "language": "python",
   "name": "python3"
  },
  "language_info": {
   "codemirror_mode": {
    "name": "ipython",
    "version": 3
   },
   "file_extension": ".py",
   "mimetype": "text/x-python",
   "name": "python",
   "nbconvert_exporter": "python",
   "pygments_lexer": "ipython3",
   "version": "3.7.7"
  },
  "papermill": {
   "duration": 3.15134,
   "end_time": "2020-04-18T01:15:07.741405",
   "environment_variables": {},
   "exception": null,
   "input_path": "covid-19-data.ipynb",
   "output_path": "./cron/covid-19-data.ipynb",
   "parameters": {},
   "start_time": "2020-04-18T01:15:04.590065",
   "version": "2.1.0"
  }
 },
 "nbformat": 4,
 "nbformat_minor": 4
}