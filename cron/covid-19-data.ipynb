{
 "cells": [
  {
   "cell_type": "code",
   "execution_count": 1,
   "metadata": {
    "execution": {
     "iopub.execute_input": "2020-04-18T00:46:50.370108Z",
     "iopub.status.busy": "2020-04-18T00:46:50.369336Z",
     "iopub.status.idle": "2020-04-18T00:46:50.372121Z",
     "shell.execute_reply": "2020-04-18T00:46:50.371466Z"
    },
    "papermill": {
     "duration": 0.014961,
     "end_time": "2020-04-18T00:46:50.372267",
     "exception": false,
     "start_time": "2020-04-18T00:46:50.357306",
     "status": "completed"
    },
    "tags": []
   },
   "outputs": [],
   "source": [
    "import pandas as pd\n",
    "import numpy as np"
   ]
  },
  {
   "cell_type": "code",
   "execution_count": 2,
   "metadata": {
    "execution": {
     "iopub.execute_input": "2020-04-18T00:46:50.387508Z",
     "iopub.status.busy": "2020-04-18T00:46:50.386621Z",
     "iopub.status.idle": "2020-04-18T00:46:51.529297Z",
     "shell.execute_reply": "2020-04-18T00:46:51.529831Z"
    },
    "papermill": {
     "duration": 1.150796,
     "end_time": "2020-04-18T00:46:51.530003",
     "exception": false,
     "start_time": "2020-04-18T00:46:50.379207",
     "status": "completed"
    },
    "tags": []
   },
   "outputs": [],
   "source": [
    "confirmed_global='https://raw.githubusercontent.com/CSSEGISandData/COVID-19/master/csse_covid_19_data/csse_covid_19_time_series/time_series_covid19_confirmed_global.csv'\n",
    "covid19_confirmed=pd.read_csv(confirmed_global)\n",
    "\n",
    "deaths_global='https://raw.githubusercontent.com/CSSEGISandData/COVID-19/master/csse_covid_19_data/csse_covid_19_time_series/time_series_covid19_deaths_global.csv'\n",
    "covid19_deaths=pd.read_csv(deaths_global)\n",
    "\n",
    "recovered_global='https://raw.githubusercontent.com/CSSEGISandData/COVID-19/master/csse_covid_19_data/csse_covid_19_time_series/time_series_covid19_recovered_global.csv'\n",
    "covid19_recovered=pd.read_csv(recovered_global)\n"
   ]
  },
  {
   "cell_type": "code",
   "execution_count": 3,
   "metadata": {
    "execution": {
     "iopub.execute_input": "2020-04-18T00:46:51.587472Z",
     "iopub.status.busy": "2020-04-18T00:46:51.586805Z",
     "iopub.status.idle": "2020-04-18T00:46:51.593503Z",
     "shell.execute_reply": "2020-04-18T00:46:51.593981Z"
    },
    "papermill": {
     "duration": 0.058804,
     "end_time": "2020-04-18T00:46:51.594143",
     "exception": false,
     "start_time": "2020-04-18T00:46:51.535339",
     "status": "completed"
    },
    "tags": []
   },
   "outputs": [],
   "source": [
    "confirmed_latest = covid19_confirmed.T.index.values[-1]\n",
    "deaths_latest = covid19_deaths.T.index.values[-1]\n",
    "recovered_latest = covid19_recovered.T.index.values[-1]"
   ]
  },
  {
   "cell_type": "code",
   "execution_count": null,
   "metadata": {
    "papermill": {
     "duration": 0.00314,
     "end_time": "2020-04-18T00:46:51.601895",
     "exception": false,
     "start_time": "2020-04-18T00:46:51.598755",
     "status": "completed"
    },
    "tags": []
   },
   "outputs": [],
   "source": []
  }
 ],
 "metadata": {
  "kernelspec": {
   "display_name": "Python 3",
   "language": "python",
   "name": "python3"
  },
  "language_info": {
   "codemirror_mode": {
    "name": "ipython",
    "version": 3
   },
   "file_extension": ".py",
   "mimetype": "text/x-python",
   "name": "python",
   "nbconvert_exporter": "python",
   "pygments_lexer": "ipython3",
   "version": "3.7.7"
  },
  "papermill": {
   "duration": 3.346939,
   "end_time": "2020-04-18T00:46:51.713995",
   "environment_variables": {},
   "exception": null,
   "input_path": "covid-19-data.ipynb",
   "output_path": "./cron/covid-19-data.ipynb",
   "parameters": {},
   "start_time": "2020-04-18T00:46:48.367056",
   "version": "2.1.0"
  }
 },
 "nbformat": 4,
 "nbformat_minor": 4
}