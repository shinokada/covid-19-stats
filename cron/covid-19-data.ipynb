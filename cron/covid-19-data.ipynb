{
 "cells": [
  {
   "cell_type": "code",
   "execution_count": 1,
   "metadata": {
    "execution": {
     "iopub.execute_input": "2020-04-18T23:00:04.339176Z",
     "iopub.status.busy": "2020-04-18T23:00:04.338202Z",
     "iopub.status.idle": "2020-04-18T23:00:04.343707Z",
     "shell.execute_reply": "2020-04-18T23:00:04.345185Z"
    },
    "papermill": {
     "duration": 0.019493,
     "end_time": "2020-04-18T23:00:04.345578",
     "exception": false,
     "start_time": "2020-04-18T23:00:04.326085",
     "status": "completed"
    },
    "tags": []
   },
   "outputs": [],
   "source": [
    "import pandas as pd\n",
    "import numpy as np"
   ]
  },
  {
   "cell_type": "code",
   "execution_count": 2,
   "metadata": {
    "execution": {
     "iopub.execute_input": "2020-04-18T23:00:04.371494Z",
     "iopub.status.busy": "2020-04-18T23:00:04.370261Z",
     "iopub.status.idle": "2020-04-18T23:00:04.964034Z",
     "shell.execute_reply": "2020-04-18T23:00:04.961305Z"
    },
    "papermill": {
     "duration": 0.61231,
     "end_time": "2020-04-18T23:00:04.964542",
     "exception": false,
     "start_time": "2020-04-18T23:00:04.352232",
     "status": "completed"
    },
    "tags": []
   },
   "outputs": [],
   "source": [
    "confirmed_global='https://raw.githubusercontent.com/CSSEGISandData/COVID-19/master/csse_covid_19_data/csse_covid_19_time_series/time_series_covid19_confirmed_global.csv'\n",
    "covid19_confirmed=pd.read_csv(confirmed_global)\n",
    "\n",
    "deaths_global='https://raw.githubusercontent.com/CSSEGISandData/COVID-19/master/csse_covid_19_data/csse_covid_19_time_series/time_series_covid19_deaths_global.csv'\n",
    "covid19_deaths=pd.read_csv(deaths_global)\n",
    "\n",
    "recovered_global='https://raw.githubusercontent.com/CSSEGISandData/COVID-19/master/csse_covid_19_data/csse_covid_19_time_series/time_series_covid19_recovered_global.csv'\n",
    "covid19_recovered=pd.read_csv(recovered_global)\n"
   ]
  },
  {
   "cell_type": "code",
   "execution_count": 3,
   "metadata": {
    "execution": {
     "iopub.execute_input": "2020-04-18T23:00:05.001045Z",
     "iopub.status.busy": "2020-04-18T23:00:04.999604Z",
     "iopub.status.idle": "2020-04-18T23:00:05.054366Z",
     "shell.execute_reply": "2020-04-18T23:00:05.055094Z"
    },
    "papermill": {
     "duration": 0.086248,
     "end_time": "2020-04-18T23:00:05.055327",
     "exception": false,
     "start_time": "2020-04-18T23:00:04.969079",
     "status": "completed"
    },
    "tags": []
   },
   "outputs": [],
   "source": [
    "confirmed_latest = covid19_confirmed.T.index.values[-1]\n",
    "deaths_latest = covid19_deaths.T.index.values[-1]\n",
    "recovered_latest = covid19_recovered.T.index.values[-1]"
   ]
  },
  {
   "cell_type": "code",
   "execution_count": null,
   "metadata": {
    "papermill": {
     "duration": 0.005371,
     "end_time": "2020-04-18T23:00:05.065653",
     "exception": false,
     "start_time": "2020-04-18T23:00:05.060282",
     "status": "completed"
    },
    "tags": []
   },
   "outputs": [],
   "source": []
  }
 ],
 "metadata": {
  "kernelspec": {
   "display_name": "Python 3",
   "language": "python",
   "name": "python3"
  },
  "language_info": {
   "codemirror_mode": {
    "name": "ipython",
    "version": 3
   },
   "file_extension": ".py",
   "mimetype": "text/x-python",
   "name": "python",
   "nbconvert_exporter": "python",
   "pygments_lexer": "ipython3",
   "version": "3.7.7"
  },
  "papermill": {
   "duration": 3.266581,
   "end_time": "2020-04-18T23:00:05.252017",
   "environment_variables": {},
   "exception": null,
   "input_path": "covid-19-data.ipynb",
   "output_path": "./cron/covid-19-data.ipynb",
   "parameters": {},
   "start_time": "2020-04-18T23:00:01.985436",
   "version": "2.1.0"
  }
 },
 "nbformat": 4,
 "nbformat_minor": 4
}