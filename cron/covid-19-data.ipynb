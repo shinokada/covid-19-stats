{
 "cells": [
  {
   "cell_type": "code",
   "execution_count": 1,
   "metadata": {
    "execution": {
     "iopub.execute_input": "2020-04-20T01:57:18.062989Z",
     "iopub.status.busy": "2020-04-20T01:57:18.062189Z",
     "iopub.status.idle": "2020-04-20T01:57:18.067479Z",
     "shell.execute_reply": "2020-04-20T01:57:18.068779Z"
    },
    "papermill": {
     "duration": 0.018556,
     "end_time": "2020-04-20T01:57:18.069170",
     "exception": false,
     "start_time": "2020-04-20T01:57:18.050614",
     "status": "completed"
    },
    "tags": []
   },
   "outputs": [],
   "source": [
    "import pandas as pd\n",
    "import numpy as np"
   ]
  },
  {
   "cell_type": "code",
   "execution_count": 2,
   "metadata": {
    "execution": {
     "iopub.execute_input": "2020-04-20T01:57:18.086510Z",
     "iopub.status.busy": "2020-04-20T01:57:18.085224Z",
     "iopub.status.idle": "2020-04-20T01:57:18.322003Z",
     "shell.execute_reply": "2020-04-20T01:57:18.322802Z"
    },
    "papermill": {
     "duration": 0.247165,
     "end_time": "2020-04-20T01:57:18.323039",
     "exception": false,
     "start_time": "2020-04-20T01:57:18.075874",
     "status": "completed"
    },
    "tags": []
   },
   "outputs": [],
   "source": [
    "# confirmed_global\n",
    "confirmed_global='https://raw.githubusercontent.com/CSSEGISandData/COVID-19/master/csse_covid_19_data/csse_covid_19_time_series/time_series_covid19_confirmed_global.csv'\n",
    "covid19_confirmed=pd.read_csv(confirmed_global)\n",
    "\n",
    "# confirmed_latest\n",
    "confirmed_latest = covid19_confirmed.T.index.values[-1]\n",
    "\n",
    "# df_confirmed\n",
    "df=covid19_confirmed.groupby('Country/Region').sum().reset_index()\n",
    "df_confirmed=df.sort_values(confirmed_latest,ascending=False).head(10).drop(['Lat', 'Long'],axis=1).set_index(\"Country/Region\").T\n",
    "\n",
    "# df_confirmed_total\n",
    "covid19_confirmed.loc[\"Total\"] = covid19_confirmed.sum()\n",
    "df_confirmed_total=covid19_confirmed.iloc[-1,4:]\n"
   ]
  },
  {
   "cell_type": "code",
   "execution_count": 3,
   "metadata": {
    "execution": {
     "iopub.execute_input": "2020-04-20T01:57:18.355007Z",
     "iopub.status.busy": "2020-04-20T01:57:18.354260Z",
     "iopub.status.idle": "2020-04-20T01:57:18.786663Z",
     "shell.execute_reply": "2020-04-20T01:57:18.787577Z"
    },
    "papermill": {
     "duration": 0.458487,
     "end_time": "2020-04-20T01:57:18.787813",
     "exception": false,
     "start_time": "2020-04-20T01:57:18.329326",
     "status": "completed"
    },
    "tags": []
   },
   "outputs": [],
   "source": [
    "# deaths_global\n",
    "deaths_global='https://raw.githubusercontent.com/CSSEGISandData/COVID-19/master/csse_covid_19_data/csse_covid_19_time_series/time_series_covid19_deaths_global.csv'\n",
    "covid19_deaths=pd.read_csv(deaths_global)\n",
    "\n",
    "# deaths_latest\n",
    "deaths_latest = covid19_deaths.T.index.values[-1]\n",
    "\n",
    "# df_deaths\n",
    "df=covid19_deaths.groupby('Country/Region').sum().reset_index()\n",
    "df_deaths=df.sort_values(deaths_latest,ascending=False).head(10).drop(['Lat', 'Long'],axis=1).set_index(\"Country/Region\").T\n",
    "\n",
    "# df_deaths_total\n",
    "covid19_deaths.loc[\"Total\"] = covid19_deaths.sum()\n",
    "df_deaths_total=covid19_deaths.iloc[-1,4:]\n"
   ]
  },
  {
   "cell_type": "code",
   "execution_count": 4,
   "metadata": {
    "execution": {
     "iopub.execute_input": "2020-04-20T01:57:18.821332Z",
     "iopub.status.busy": "2020-04-20T01:57:18.820551Z",
     "iopub.status.idle": "2020-04-20T01:57:18.971927Z",
     "shell.execute_reply": "2020-04-20T01:57:18.972729Z"
    },
    "papermill": {
     "duration": 0.179425,
     "end_time": "2020-04-20T01:57:18.972959",
     "exception": false,
     "start_time": "2020-04-20T01:57:18.793534",
     "status": "completed"
    },
    "tags": []
   },
   "outputs": [],
   "source": [
    "# recovered_global\n",
    "recovered_global='https://raw.githubusercontent.com/CSSEGISandData/COVID-19/master/csse_covid_19_data/csse_covid_19_time_series/time_series_covid19_recovered_global.csv'\n",
    "covid19_recovered=pd.read_csv(recovered_global)\n",
    "\n",
    "# recovered_latest\n",
    "recovered_latest = covid19_recovered.T.index.values[-1]\n",
    "\n",
    "# df_recovered\n",
    "df=covid19_recovered.groupby('Country/Region').sum().reset_index()\n",
    "df_recovered=df.sort_values(recovered_latest,ascending=False).head(10).drop(['Lat', 'Long'],axis=1).set_index(\"Country/Region\").T\n",
    "\n",
    "# df_recovered_total\n",
    "covid19_recovered.loc[\"Total\"] = covid19_recovered.sum()\n",
    "df_recovered_total=covid19_recovered.iloc[-1,4:]"
   ]
  },
  {
   "cell_type": "code",
   "execution_count": null,
   "metadata": {
    "papermill": {
     "duration": 0.004793,
     "end_time": "2020-04-20T01:57:18.983821",
     "exception": false,
     "start_time": "2020-04-20T01:57:18.979028",
     "status": "completed"
    },
    "tags": []
   },
   "outputs": [],
   "source": []
  }
 ],
 "metadata": {
  "kernelspec": {
   "display_name": "Python 3",
   "language": "python",
   "name": "python3"
  },
  "language_info": {
   "codemirror_mode": {
    "name": "ipython",
    "version": 3
   },
   "file_extension": ".py",
   "mimetype": "text/x-python",
   "name": "python",
   "nbconvert_exporter": "python",
   "pygments_lexer": "ipython3",
   "version": "3.7.7"
  },
  "papermill": {
   "duration": 3.095604,
   "end_time": "2020-04-20T01:57:19.170983",
   "environment_variables": {},
   "exception": null,
   "input_path": "covid-19-data.ipynb",
   "output_path": "./cron/covid-19-data.ipynb",
   "parameters": {},
   "start_time": "2020-04-20T01:57:16.075379",
   "version": "2.1.0"
  }
 },
 "nbformat": 4,
 "nbformat_minor": 4
}