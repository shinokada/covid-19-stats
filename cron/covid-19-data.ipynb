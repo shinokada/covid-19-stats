{
 "cells": [
  {
   "cell_type": "code",
   "execution_count": 1,
   "metadata": {
    "execution": {
     "iopub.execute_input": "2020-04-19T23:00:04.048805Z",
     "iopub.status.busy": "2020-04-19T23:00:04.047832Z",
     "iopub.status.idle": "2020-04-19T23:00:04.054785Z",
     "shell.execute_reply": "2020-04-19T23:00:04.056244Z"
    },
    "papermill": {
     "duration": 0.019488,
     "end_time": "2020-04-19T23:00:04.056833",
     "exception": false,
     "start_time": "2020-04-19T23:00:04.037345",
     "status": "completed"
    },
    "tags": []
   },
   "outputs": [],
   "source": [
    "import pandas as pd\n",
    "import numpy as np"
   ]
  },
  {
   "cell_type": "code",
   "execution_count": 2,
   "metadata": {
    "execution": {
     "iopub.execute_input": "2020-04-19T23:00:04.073356Z",
     "iopub.status.busy": "2020-04-19T23:00:04.072054Z",
     "iopub.status.idle": "2020-04-19T23:00:04.607879Z",
     "shell.execute_reply": "2020-04-19T23:00:04.607019Z"
    },
    "papermill": {
     "duration": 0.546169,
     "end_time": "2020-04-19T23:00:04.608080",
     "exception": false,
     "start_time": "2020-04-19T23:00:04.061911",
     "status": "completed"
    },
    "tags": []
   },
   "outputs": [],
   "source": [
    "confirmed_global='https://raw.githubusercontent.com/CSSEGISandData/COVID-19/master/csse_covid_19_data/csse_covid_19_time_series/time_series_covid19_confirmed_global.csv'\n",
    "covid19_confirmed=pd.read_csv(confirmed_global)\n",
    "\n",
    "deaths_global='https://raw.githubusercontent.com/CSSEGISandData/COVID-19/master/csse_covid_19_data/csse_covid_19_time_series/time_series_covid19_deaths_global.csv'\n",
    "covid19_deaths=pd.read_csv(deaths_global)\n",
    "\n",
    "recovered_global='https://raw.githubusercontent.com/CSSEGISandData/COVID-19/master/csse_covid_19_data/csse_covid_19_time_series/time_series_covid19_recovered_global.csv'\n",
    "covid19_recovered=pd.read_csv(recovered_global)\n"
   ]
  },
  {
   "cell_type": "code",
   "execution_count": 3,
   "metadata": {
    "execution": {
     "iopub.execute_input": "2020-04-19T23:00:04.667185Z",
     "iopub.status.busy": "2020-04-19T23:00:04.666507Z",
     "iopub.status.idle": "2020-04-19T23:00:04.671390Z",
     "shell.execute_reply": "2020-04-19T23:00:04.671872Z"
    },
    "papermill": {
     "duration": 0.058897,
     "end_time": "2020-04-19T23:00:04.672030",
     "exception": false,
     "start_time": "2020-04-19T23:00:04.613133",
     "status": "completed"
    },
    "tags": []
   },
   "outputs": [],
   "source": [
    "confirmed_latest = covid19_confirmed.T.index.values[-1]\n",
    "deaths_latest = covid19_deaths.T.index.values[-1]\n",
    "recovered_latest = covid19_recovered.T.index.values[-1]"
   ]
  },
  {
   "cell_type": "code",
   "execution_count": null,
   "metadata": {
    "papermill": {
     "duration": 0.003131,
     "end_time": "2020-04-19T23:00:04.678381",
     "exception": false,
     "start_time": "2020-04-19T23:00:04.675250",
     "status": "completed"
    },
    "tags": []
   },
   "outputs": [],
   "source": []
  }
 ],
 "metadata": {
  "kernelspec": {
   "display_name": "Python 3",
   "language": "python",
   "name": "python3"
  },
  "language_info": {
   "codemirror_mode": {
    "name": "ipython",
    "version": 3
   },
   "file_extension": ".py",
   "mimetype": "text/x-python",
   "name": "python",
   "nbconvert_exporter": "python",
   "pygments_lexer": "ipython3",
   "version": "3.7.7"
  },
  "papermill": {
   "duration": 2.806153,
   "end_time": "2020-04-19T23:00:04.856425",
   "environment_variables": {},
   "exception": null,
   "input_path": "covid-19-data.ipynb",
   "output_path": "./cron/covid-19-data.ipynb",
   "parameters": {},
   "start_time": "2020-04-19T23:00:02.050272",
   "version": "2.1.0"
  }
 },
 "nbformat": 4,
 "nbformat_minor": 4
}