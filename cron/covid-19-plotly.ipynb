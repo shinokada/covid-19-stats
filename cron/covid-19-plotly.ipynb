{
 "cells": [
  {
   "cell_type": "markdown",
   "metadata": {
    "papermill": {
     "duration": null,
     "end_time": null,
     "exception": null,
     "start_time": null,
     "status": "completed"
    },
    "tags": []
   },
   "source": [
    "# See this in [nbviewer](https://nbviewer.jupyter.org/github/shinokada/covid-19-stats/blob/master/cron/covid-19-plotly.ipynb).\n",
    "\n",
    "# See this in [Binder](https://mybinder.org/v2/gh/shinokada/covid-19-stats/master)\n",
    "\n",
    "[![Binder](https://mybinder.org/badge_logo.svg)](https://mybinder.org/v2/gh/shinokada/covid-19-stats/master)"
   ]
  },
  {
   "cell_type": "code",
   "execution_count": null,
   "metadata": {
    "papermill": {
     "duration": null,
     "end_time": null,
     "exception": null,
     "start_time": null,
     "status": "completed"
    },
    "tags": []
   },
   "outputs": [],
   "source": [
    "# %run covid-19-data.ipynb\n",
    "\n",
    "import pandas as pd\n",
    "import numpy as np\n",
    "\n",
    "confirmed_global='https://raw.githubusercontent.com/CSSEGISandData/COVID-19/master/csse_covid_19_data/csse_covid_19_time_series/time_series_covid19_confirmed_global.csv'\n",
    "covid19_confirmed=pd.read_csv(confirmed_global)\n",
    "\n",
    "deaths_global='https://raw.githubusercontent.com/CSSEGISandData/COVID-19/master/csse_covid_19_data/csse_covid_19_time_series/time_series_covid19_deaths_global.csv'\n",
    "covid19_deaths=pd.read_csv(deaths_global)\n",
    "\n",
    "recovered_global='https://raw.githubusercontent.com/CSSEGISandData/COVID-19/master/csse_covid_19_data/csse_covid_19_time_series/time_series_covid19_recovered_global.csv'\n",
    "covid19_recovered=pd.read_csv(recovered_global)\n",
    "\n",
    "confirmed_latest = covid19_confirmed.T.index.values[-1]\n",
    "deaths_latest = covid19_deaths.T.index.values[-1]\n",
    "recovered_latest = covid19_recovered.T.index.values[-1]"
   ]
  },
  {
   "cell_type": "code",
   "execution_count": null,
   "metadata": {
    "papermill": {
     "duration": null,
     "end_time": null,
     "exception": null,
     "start_time": null,
     "status": "completed"
    },
    "tags": []
   },
   "outputs": [],
   "source": [
    "import cufflinks as cf"
   ]
  },
  {
   "cell_type": "code",
   "execution_count": null,
   "metadata": {
    "papermill": {
     "duration": null,
     "end_time": null,
     "exception": null,
     "start_time": null,
     "status": "completed"
    },
    "tags": []
   },
   "outputs": [],
   "source": [
    "# Time series total confirmed by country\n",
    "\n",
    "df=covid19_confirmed.groupby('Country/Region').sum().reset_index()\n",
    "df_confirmed=df.sort_values(confirmed_latest,ascending=False).head(30).drop(['Lat', 'Long'],axis=1).set_index(\"Country/Region\").T\n",
    "fig = df_confirmed.iplot(asFigure=True, xTitle=\"Date\", yTitle=\"Number\", title=f'COVID-19 time series total confirmed by country as of {confirmed_latest}')\n",
    "fig.show()"
   ]
  },
  {
   "cell_type": "code",
   "execution_count": null,
   "metadata": {
    "papermill": {
     "duration": null,
     "end_time": null,
     "exception": null,
     "start_time": null,
     "status": "completed"
    },
    "scrolled": true,
    "tags": []
   },
   "outputs": [],
   "source": [
    "# Time series total deaths by country\n",
    "\n",
    "df=covid19_deaths.groupby('Country/Region').sum().reset_index()\n",
    "df_deaths=df.sort_values(deaths_latest,ascending=False).head(20).drop(['Lat', 'Long'],axis=1).set_index(\"Country/Region\").T\n",
    "fig = df_deaths.iplot(asFigure=True, xTitle=\"Date\", yTitle=\"Number\", title=f'COVID-19 time series total deaths by country as of {deaths_latest}')\n",
    "fig.show()"
   ]
  },
  {
   "cell_type": "code",
   "execution_count": null,
   "metadata": {
    "papermill": {
     "duration": null,
     "end_time": null,
     "exception": null,
     "start_time": null,
     "status": "completed"
    },
    "tags": []
   },
   "outputs": [],
   "source": [
    "# Time series total recovered by country\n",
    "\n",
    "df=covid19_recovered.groupby('Country/Region').sum().reset_index()\n",
    "df_recovered=df.sort_values(recovered_latest,ascending=False).head(20).drop(['Lat', 'Long'],axis=1).set_index(\"Country/Region\").T\n",
    "fig = df_recovered.iplot(asFigure=True, xTitle=\"Date\", yTitle=\"Number\", title=f'COVID-19 time series total recovered by country as of {recovered_latest}')\n",
    "fig.show()"
   ]
  },
  {
   "cell_type": "code",
   "execution_count": null,
   "metadata": {
    "papermill": {
     "duration": null,
     "end_time": null,
     "exception": null,
     "start_time": null,
     "status": "completed"
    },
    "tags": []
   },
   "outputs": [],
   "source": [
    "# Total confirmed by date\n",
    "\n",
    "covid19_confirmed.loc[\"Total\"] = covid19_confirmed.sum()\n",
    "df_confirmed_total=covid19_confirmed.iloc[-1,4:]\n",
    "fig = df_confirmed_total.iplot(asFigure=True, xTitle=\"Date\", yTitle=\"Number\", title=f'COVID-19 time series total confirmed as of {confirmed_latest}')\n",
    "fig.show()"
   ]
  },
  {
   "cell_type": "code",
   "execution_count": null,
   "metadata": {
    "papermill": {
     "duration": null,
     "end_time": null,
     "exception": null,
     "start_time": null,
     "status": "completed"
    },
    "tags": []
   },
   "outputs": [],
   "source": [
    "# Total deaths by date\n",
    "\n",
    "covid19_deaths.loc[\"Total\"] = covid19_deaths.sum()\n",
    "df_deaths_total=covid19_deaths.iloc[-1,4:]\n",
    "fig = df_deaths_total.iplot(asFigure=True, xTitle=\"Date\", yTitle=\"Number\", title=f'COVID-19 time series total deaths as of {deaths_latest}')\n",
    "fig.show()"
   ]
  },
  {
   "cell_type": "code",
   "execution_count": null,
   "metadata": {
    "papermill": {
     "duration": null,
     "end_time": null,
     "exception": null,
     "start_time": null,
     "status": "completed"
    },
    "tags": []
   },
   "outputs": [],
   "source": [
    "# Total recovered by date\n",
    "\n",
    "covid19_recovered.loc[\"Total\"] = covid19_recovered.sum()\n",
    "df_recovered_total=covid19_recovered.iloc[-1,4:]\n",
    "fig = df_recovered_total.iplot(asFigure=True, xTitle=\"Date\", yTitle=\"Number\", title=f'new COVID-19 time series total recovered as of {recovered_latest}')\n",
    "fig.show()"
   ]
  },
  {
   "cell_type": "code",
   "execution_count": null,
   "metadata": {
    "papermill": {
     "duration": null,
     "end_time": null,
     "exception": null,
     "start_time": null,
     "status": "completed"
    },
    "tags": []
   },
   "outputs": [],
   "source": []
  }
 ],
 "metadata": {
  "kernelspec": {
   "display_name": "Python 3",
   "language": "python",
   "name": "python3"
  },
  "language_info": {
   "codemirror_mode": {
    "name": "ipython",
    "version": 3
   },
   "file_extension": ".py",
   "mimetype": "text/x-python",
   "name": "python",
   "nbconvert_exporter": "python",
   "pygments_lexer": "ipython3",
   "version": "3.7.7"
  },
  "papermill": {
   "duration": 393.645649,
   "end_time": "2020-04-07T11:10:38.059096",
   "environment_variables": {},
   "exception": null,
   "input_path": "covid-19-plotly.ipynb",
   "output_path": "./cron/covid-19-plotly.ipynb",
   "parameters": {},
   "start_time": "2020-04-07T11:04:04.413447",
   "version": "2.1.0"
  }
 },
 "nbformat": 4,
 "nbformat_minor": 4
}