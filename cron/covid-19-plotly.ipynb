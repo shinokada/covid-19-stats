{
 "cells": [
  {
   "cell_type": "markdown",
   "metadata": {},
   "source": [
    "<span style=\"color:red; font-family:Helvetica Neue, Helvetica, Arial, sans-serif; font-size:2em;\">An Exception was encountered at 'In [2]'.</span>"
   ]
  },
  {
   "cell_type": "markdown",
   "metadata": {
    "papermill": {
     "duration": 0.007775,
     "end_time": "2020-04-20T03:53:35.189423",
     "exception": false,
     "start_time": "2020-04-20T03:53:35.181648",
     "status": "completed"
    },
    "tags": []
   },
   "source": [
    "# See this in [nbviewer](https://nbviewer.jupyter.org/github/shinokada/covid-19-stats/blob/master/cron/covid-19-plotly.ipynb).\n",
    "\n",
    "# See this in [Binder](https://mybinder.org/v2/gh/shinokada/covid-19-stats/master)\n",
    "\n",
    "<a href=\"https://mybinder.org/v2/gh/shinokada/covid-19-stats/master\" target=\"_blank\"><img src=\"https://mybinder.org/badge_logo.svg\"/></a>"
   ]
  },
  {
   "cell_type": "code",
   "execution_count": 1,
   "metadata": {
    "execution": {
     "iopub.execute_input": "2020-04-20T03:53:35.209747Z",
     "iopub.status.busy": "2020-04-20T03:53:35.208644Z",
     "iopub.status.idle": "2020-04-20T03:53:37.404512Z",
     "shell.execute_reply": "2020-04-20T03:53:37.405019Z"
    },
    "papermill": {
     "duration": 2.209795,
     "end_time": "2020-04-20T03:53:37.405248",
     "exception": false,
     "start_time": "2020-04-20T03:53:35.195453",
     "status": "completed"
    },
    "tags": []
   },
   "outputs": [
    {
     "name": "stderr",
     "output_type": "stream",
     "text": [
      "ERROR:root:File `'covid-19-data.ipynb.py'` not found.\n"
     ]
    }
   ],
   "source": [
    "%run covid-19-data.ipynb\n",
    "\n",
    "import pandas as pd\n",
    "import numpy as np\n",
    "import cufflinks as cf"
   ]
  },
  {
   "cell_type": "code",
   "execution_count": 2,
   "metadata": {
    "execution": {
     "iopub.execute_input": "2020-04-20T03:53:37.424112Z",
     "iopub.status.busy": "2020-04-20T03:53:37.422892Z",
     "iopub.status.idle": "2020-04-20T03:53:38.250548Z",
     "shell.execute_reply": "2020-04-20T03:53:38.240134Z"
    },
    "papermill": {
     "duration": 0.839006,
     "end_time": "2020-04-20T03:53:38.250979",
     "exception": true,
     "start_time": "2020-04-20T03:53:37.411973",
     "status": "failed"
    },
    "tags": []
   },
   "outputs": [
    {
     "ename": "NameError",
     "evalue": "name 'df_confirmed' is not defined",
     "output_type": "error",
     "traceback": [
      "\u001b[0;31m---------------------------------------------------------------------------\u001b[0m",
      "\u001b[0;31mNameError\u001b[0m                                 Traceback (most recent call last)",
      "\u001b[0;32m<ipython-input-2-5520520b91cc>\u001b[0m in \u001b[0;36m<module>\u001b[0;34m\u001b[0m\n\u001b[1;32m      1\u001b[0m \u001b[0;31m# Time series total confirmed by country\u001b[0m\u001b[0;34m\u001b[0m\u001b[0;34m\u001b[0m\u001b[0;34m\u001b[0m\u001b[0m\n\u001b[0;32m----> 2\u001b[0;31m \u001b[0mfig\u001b[0m \u001b[0;34m=\u001b[0m \u001b[0mdf_confirmed\u001b[0m\u001b[0;34m.\u001b[0m\u001b[0miplot\u001b[0m\u001b[0;34m(\u001b[0m\u001b[0masFigure\u001b[0m\u001b[0;34m=\u001b[0m\u001b[0;32mTrue\u001b[0m\u001b[0;34m,\u001b[0m \u001b[0mxTitle\u001b[0m\u001b[0;34m=\u001b[0m\u001b[0;34m\"Date\"\u001b[0m\u001b[0;34m,\u001b[0m \u001b[0myTitle\u001b[0m\u001b[0;34m=\u001b[0m\u001b[0;34m\"Number\"\u001b[0m\u001b[0;34m,\u001b[0m \u001b[0mtitle\u001b[0m\u001b[0;34m=\u001b[0m\u001b[0;34mf'COVID-19 time series total confirmed by country as of {confirmed_latest}'\u001b[0m\u001b[0;34m)\u001b[0m\u001b[0;34m\u001b[0m\u001b[0;34m\u001b[0m\u001b[0m\n\u001b[0m\u001b[1;32m      3\u001b[0m \u001b[0mfig\u001b[0m\u001b[0;34m.\u001b[0m\u001b[0mshow\u001b[0m\u001b[0;34m(\u001b[0m\u001b[0;34m)\u001b[0m\u001b[0;34m\u001b[0m\u001b[0;34m\u001b[0m\u001b[0m\n",
      "\u001b[0;31mNameError\u001b[0m: name 'df_confirmed' is not defined"
     ]
    }
   ],
   "source": [
    "# Time series total confirmed by country\n",
    "fig = df_confirmed.iplot(asFigure=True, xTitle=\"Date\", yTitle=\"Number\", title=f'COVID-19 time series total confirmed by country as of {confirmed_latest}')\n",
    "fig.show()"
   ]
  },
  {
   "cell_type": "code",
   "execution_count": null,
   "metadata": {
    "papermill": {
     "duration": null,
     "end_time": null,
     "exception": null,
     "start_time": null,
     "status": "pending"
    },
    "scrolled": true,
    "tags": []
   },
   "outputs": [],
   "source": [
    "# Time series total deaths by country\n",
    "fig = df_deaths.iplot(asFigure=True, xTitle=\"Date\", yTitle=\"Number\", title=f'COVID-19 time series total deaths by country as of {deaths_latest}')\n",
    "fig.show()"
   ]
  },
  {
   "cell_type": "code",
   "execution_count": null,
   "metadata": {
    "papermill": {
     "duration": null,
     "end_time": null,
     "exception": null,
     "start_time": null,
     "status": "pending"
    },
    "tags": []
   },
   "outputs": [],
   "source": [
    "# Time series total recovered by country\n",
    "fig = df_recovered.iplot(asFigure=True, xTitle=\"Date\", yTitle=\"Number\", title=f'COVID-19 time series total recovered by country as of {recovered_latest}')\n",
    "fig.show()"
   ]
  },
  {
   "cell_type": "code",
   "execution_count": null,
   "metadata": {
    "papermill": {
     "duration": null,
     "end_time": null,
     "exception": null,
     "start_time": null,
     "status": "pending"
    },
    "scrolled": false,
    "tags": []
   },
   "outputs": [],
   "source": [
    "# Total confirmed by date\n",
    "fig = df_confirmed_total.iplot(asFigure=True, xTitle=\"Date\", yTitle=\"Number\", title=f'COVID-19 time series total confirmed as of {confirmed_latest}')\n",
    "fig.show()"
   ]
  },
  {
   "cell_type": "code",
   "execution_count": null,
   "metadata": {
    "papermill": {
     "duration": null,
     "end_time": null,
     "exception": null,
     "start_time": null,
     "status": "pending"
    },
    "tags": []
   },
   "outputs": [],
   "source": [
    "# Total death by date\n",
    "fig = df_deaths_total.iplot(asFigure=True, xTitle=\"Date\", yTitle=\"Number\", title=f'COVID-19 time series total confirmed as of {deaths_latest}')\n",
    "fig.show()"
   ]
  },
  {
   "cell_type": "code",
   "execution_count": null,
   "metadata": {
    "papermill": {
     "duration": null,
     "end_time": null,
     "exception": null,
     "start_time": null,
     "status": "pending"
    },
    "tags": []
   },
   "outputs": [],
   "source": [
    "# Total recovered by date\n",
    "fig = df_recovered_total.iplot(asFigure=True, xTitle=\"Date\", yTitle=\"Number\", title=f'COVID-19 time series total confirmed as of {recovered_latest}')\n",
    "fig.show()"
   ]
  },
  {
   "cell_type": "code",
   "execution_count": null,
   "metadata": {
    "papermill": {
     "duration": null,
     "end_time": null,
     "exception": null,
     "start_time": null,
     "status": "pending"
    },
    "tags": []
   },
   "outputs": [],
   "source": []
  }
 ],
 "metadata": {
  "kernelspec": {
   "display_name": "Python 3",
   "language": "python",
   "name": "python3"
  },
  "language_info": {
   "codemirror_mode": {
    "name": "ipython",
    "version": 3
   },
   "file_extension": ".py",
   "mimetype": "text/x-python",
   "name": "python",
   "nbconvert_exporter": "python",
   "pygments_lexer": "ipython3",
   "version": "3.7.7"
  },
  "papermill": {
   "duration": 4.835481,
   "end_time": "2020-04-20T03:53:38.600068",
   "environment_variables": {},
   "exception": true,
   "input_path": "covid-19-plotly.ipynb",
   "output_path": "./cron/covid-19-plotly.ipynb",
   "parameters": {},
   "start_time": "2020-04-20T03:53:33.764587",
   "version": "2.1.0"
  }
 },
 "nbformat": 4,
 "nbformat_minor": 4
}