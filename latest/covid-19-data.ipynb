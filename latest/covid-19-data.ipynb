{
 "cells": [
  {
   "cell_type": "code",
   "execution_count": 1,
   "metadata": {
    "execution": {
     "iopub.execute_input": "2020-08-25T04:00:06.591130Z",
     "iopub.status.busy": "2020-08-25T04:00:06.590347Z",
     "iopub.status.idle": "2020-08-25T04:00:06.609720Z",
     "shell.execute_reply": "2020-08-25T04:00:06.610203Z"
    },
    "papermill": {
     "duration": 0.030141,
     "end_time": "2020-08-25T04:00:06.610435",
     "exception": false,
     "start_time": "2020-08-25T04:00:06.580294",
     "status": "completed"
    },
    "tags": []
   },
   "outputs": [],
   "source": [
    "import pandas as pd\n",
    "import numpy as np"
   ]
  },
  {
   "cell_type": "code",
   "execution_count": 2,
   "metadata": {
    "execution": {
     "iopub.execute_input": "2020-08-25T04:00:06.623045Z",
     "iopub.status.busy": "2020-08-25T04:00:06.622392Z",
     "iopub.status.idle": "2020-08-25T04:00:07.464536Z",
     "shell.execute_reply": "2020-08-25T04:00:07.463968Z"
    },
    "papermill": {
     "duration": 0.850309,
     "end_time": "2020-08-25T04:00:07.464709",
     "exception": false,
     "start_time": "2020-08-25T04:00:06.614400",
     "status": "completed"
    },
    "tags": []
   },
   "outputs": [
    {
     "data": {
      "text/html": [
       "<div>\n",
       "<style scoped>\n",
       "    .dataframe tbody tr th:only-of-type {\n",
       "        vertical-align: middle;\n",
       "    }\n",
       "\n",
       "    .dataframe tbody tr th {\n",
       "        vertical-align: top;\n",
       "    }\n",
       "\n",
       "    .dataframe thead th {\n",
       "        text-align: right;\n",
       "    }\n",
       "</style>\n",
       "<table border=\"1\" class=\"dataframe\">\n",
       "  <thead>\n",
       "    <tr style=\"text-align: right;\">\n",
       "      <th>Country/Region</th>\n",
       "      <th>US</th>\n",
       "      <th>Brazil</th>\n",
       "      <th>India</th>\n",
       "      <th>Russia</th>\n",
       "      <th>South Africa</th>\n",
       "      <th>Peru</th>\n",
       "      <th>Mexico</th>\n",
       "      <th>Colombia</th>\n",
       "      <th>Chile</th>\n",
       "      <th>Spain</th>\n",
       "    </tr>\n",
       "  </thead>\n",
       "  <tbody>\n",
       "    <tr>\n",
       "      <th>1/22/20</th>\n",
       "      <td>1</td>\n",
       "      <td>0</td>\n",
       "      <td>0</td>\n",
       "      <td>0</td>\n",
       "      <td>0</td>\n",
       "      <td>0</td>\n",
       "      <td>0</td>\n",
       "      <td>0</td>\n",
       "      <td>0</td>\n",
       "      <td>0</td>\n",
       "    </tr>\n",
       "    <tr>\n",
       "      <th>1/23/20</th>\n",
       "      <td>1</td>\n",
       "      <td>0</td>\n",
       "      <td>0</td>\n",
       "      <td>0</td>\n",
       "      <td>0</td>\n",
       "      <td>0</td>\n",
       "      <td>0</td>\n",
       "      <td>0</td>\n",
       "      <td>0</td>\n",
       "      <td>0</td>\n",
       "    </tr>\n",
       "    <tr>\n",
       "      <th>1/24/20</th>\n",
       "      <td>2</td>\n",
       "      <td>0</td>\n",
       "      <td>0</td>\n",
       "      <td>0</td>\n",
       "      <td>0</td>\n",
       "      <td>0</td>\n",
       "      <td>0</td>\n",
       "      <td>0</td>\n",
       "      <td>0</td>\n",
       "      <td>0</td>\n",
       "    </tr>\n",
       "    <tr>\n",
       "      <th>1/25/20</th>\n",
       "      <td>2</td>\n",
       "      <td>0</td>\n",
       "      <td>0</td>\n",
       "      <td>0</td>\n",
       "      <td>0</td>\n",
       "      <td>0</td>\n",
       "      <td>0</td>\n",
       "      <td>0</td>\n",
       "      <td>0</td>\n",
       "      <td>0</td>\n",
       "    </tr>\n",
       "    <tr>\n",
       "      <th>1/26/20</th>\n",
       "      <td>5</td>\n",
       "      <td>0</td>\n",
       "      <td>0</td>\n",
       "      <td>0</td>\n",
       "      <td>0</td>\n",
       "      <td>0</td>\n",
       "      <td>0</td>\n",
       "      <td>0</td>\n",
       "      <td>0</td>\n",
       "      <td>0</td>\n",
       "    </tr>\n",
       "    <tr>\n",
       "      <th>...</th>\n",
       "      <td>...</td>\n",
       "      <td>...</td>\n",
       "      <td>...</td>\n",
       "      <td>...</td>\n",
       "      <td>...</td>\n",
       "      <td>...</td>\n",
       "      <td>...</td>\n",
       "      <td>...</td>\n",
       "      <td>...</td>\n",
       "      <td>...</td>\n",
       "    </tr>\n",
       "    <tr>\n",
       "      <th>8/19/20</th>\n",
       "      <td>5529824</td>\n",
       "      <td>3456652</td>\n",
       "      <td>2836925</td>\n",
       "      <td>935066</td>\n",
       "      <td>596060</td>\n",
       "      <td>549321</td>\n",
       "      <td>537031</td>\n",
       "      <td>502178</td>\n",
       "      <td>390037</td>\n",
       "      <td>370867</td>\n",
       "    </tr>\n",
       "    <tr>\n",
       "      <th>8/20/20</th>\n",
       "      <td>5573847</td>\n",
       "      <td>3501975</td>\n",
       "      <td>2905825</td>\n",
       "      <td>939833</td>\n",
       "      <td>599940</td>\n",
       "      <td>558420</td>\n",
       "      <td>543806</td>\n",
       "      <td>513719</td>\n",
       "      <td>391849</td>\n",
       "      <td>377906</td>\n",
       "    </tr>\n",
       "    <tr>\n",
       "      <th>8/21/20</th>\n",
       "      <td>5622540</td>\n",
       "      <td>3532330</td>\n",
       "      <td>2975701</td>\n",
       "      <td>944671</td>\n",
       "      <td>603338</td>\n",
       "      <td>567059</td>\n",
       "      <td>549734</td>\n",
       "      <td>522138</td>\n",
       "      <td>393769</td>\n",
       "      <td>386054</td>\n",
       "    </tr>\n",
       "    <tr>\n",
       "      <th>8/22/20</th>\n",
       "      <td>5667112</td>\n",
       "      <td>3582362</td>\n",
       "      <td>3044940</td>\n",
       "      <td>949531</td>\n",
       "      <td>607045</td>\n",
       "      <td>576067</td>\n",
       "      <td>556216</td>\n",
       "      <td>522138</td>\n",
       "      <td>395708</td>\n",
       "      <td>386054</td>\n",
       "    </tr>\n",
       "    <tr>\n",
       "      <th>8/23/20</th>\n",
       "      <td>5701679</td>\n",
       "      <td>3605783</td>\n",
       "      <td>3106348</td>\n",
       "      <td>954328</td>\n",
       "      <td>609773</td>\n",
       "      <td>585236</td>\n",
       "      <td>560164</td>\n",
       "      <td>541139</td>\n",
       "      <td>397665</td>\n",
       "      <td>386054</td>\n",
       "    </tr>\n",
       "  </tbody>\n",
       "</table>\n",
       "<p>215 rows × 10 columns</p>\n",
       "</div>"
      ],
      "text/plain": [
       "Country/Region       US   Brazil    India  Russia  South Africa    Peru  \\\n",
       "1/22/20               1        0        0       0             0       0   \n",
       "1/23/20               1        0        0       0             0       0   \n",
       "1/24/20               2        0        0       0             0       0   \n",
       "1/25/20               2        0        0       0             0       0   \n",
       "1/26/20               5        0        0       0             0       0   \n",
       "...                 ...      ...      ...     ...           ...     ...   \n",
       "8/19/20         5529824  3456652  2836925  935066        596060  549321   \n",
       "8/20/20         5573847  3501975  2905825  939833        599940  558420   \n",
       "8/21/20         5622540  3532330  2975701  944671        603338  567059   \n",
       "8/22/20         5667112  3582362  3044940  949531        607045  576067   \n",
       "8/23/20         5701679  3605783  3106348  954328        609773  585236   \n",
       "\n",
       "Country/Region  Mexico  Colombia   Chile   Spain  \n",
       "1/22/20              0         0       0       0  \n",
       "1/23/20              0         0       0       0  \n",
       "1/24/20              0         0       0       0  \n",
       "1/25/20              0         0       0       0  \n",
       "1/26/20              0         0       0       0  \n",
       "...                ...       ...     ...     ...  \n",
       "8/19/20         537031    502178  390037  370867  \n",
       "8/20/20         543806    513719  391849  377906  \n",
       "8/21/20         549734    522138  393769  386054  \n",
       "8/22/20         556216    522138  395708  386054  \n",
       "8/23/20         560164    541139  397665  386054  \n",
       "\n",
       "[215 rows x 10 columns]"
      ]
     },
     "metadata": {},
     "output_type": "display_data"
    }
   ],
   "source": [
    "# confirmed_global\n",
    "confirmed_global='https://raw.githubusercontent.com/CSSEGISandData/COVID-19/master/csse_covid_19_data/csse_covid_19_time_series/time_series_covid19_confirmed_global.csv'\n",
    "covid19_confirmed=pd.read_csv(confirmed_global,index_col='Country/Region')\n",
    "\n",
    "\n",
    "# confirmed_latest\n",
    "confirmed_latest = covid19_confirmed.T.index.values[-1]\n",
    "# display(confirmed_latest)\n",
    "\n",
    "# df_confirmed\n",
    "df_grouped_conf=covid19_confirmed.groupby('Country/Region').sum()\n",
    "\n",
    "# display(df_grouped_conf.head(10))\n",
    "df_confirmed=df_grouped_conf.sort_values(by=confirmed_latest,ascending=False).head(10).drop(['Lat', 'Long'],axis=1).T\n",
    "# display(df_grouped_conf)\n",
    "display(df_confirmed)\n",
    "\n",
    "# display(df_confirmed)\n",
    "# df_confirmed_total\n",
    "covid19_confirmed.loc[\"Total\"] = covid19_confirmed.sum()\n",
    "df_confirmed_total=covid19_confirmed.iloc[-1,4:]\n",
    "\n",
    "# confirmed_latest"
   ]
  },
  {
   "cell_type": "code",
   "execution_count": 3,
   "metadata": {
    "execution": {
     "iopub.execute_input": "2020-08-25T04:00:07.478987Z",
     "iopub.status.busy": "2020-08-25T04:00:07.478329Z",
     "iopub.status.idle": "2020-08-25T04:00:07.684458Z",
     "shell.execute_reply": "2020-08-25T04:00:07.685008Z"
    },
    "papermill": {
     "duration": 0.215888,
     "end_time": "2020-08-25T04:00:07.685226",
     "exception": false,
     "start_time": "2020-08-25T04:00:07.469338",
     "status": "completed"
    },
    "tags": []
   },
   "outputs": [
    {
     "data": {
      "text/plain": [
       "'8/23/20'"
      ]
     },
     "execution_count": 3,
     "metadata": {},
     "output_type": "execute_result"
    }
   ],
   "source": [
    "# deaths_global\n",
    "deaths_global='https://raw.githubusercontent.com/CSSEGISandData/COVID-19/master/csse_covid_19_data/csse_covid_19_time_series/time_series_covid19_deaths_global.csv'\n",
    "covid19_deaths=pd.read_csv(deaths_global,index_col='Country/Region')\n",
    "\n",
    "# deaths_latest\n",
    "deaths_latest = covid19_deaths.T.index.values[-1]\n",
    "\n",
    "# df_deaths\n",
    "df_grouped_deaths=covid19_deaths.groupby('Country/Region').sum()\n",
    "df_deaths=df_grouped_deaths.sort_values(deaths_latest,ascending=False).head(10).drop(['Lat', 'Long'],axis=1).T\n",
    "\n",
    "# df_deaths_total\n",
    "covid19_deaths.loc[\"Total\"] = covid19_deaths.sum()\n",
    "df_deaths_total=covid19_deaths.iloc[-1,4:]\n",
    "\n",
    "deaths_latest"
   ]
  },
  {
   "cell_type": "code",
   "execution_count": 4,
   "metadata": {
    "execution": {
     "iopub.execute_input": "2020-08-25T04:00:07.699203Z",
     "iopub.status.busy": "2020-08-25T04:00:07.698552Z",
     "iopub.status.idle": "2020-08-25T04:00:08.010632Z",
     "shell.execute_reply": "2020-08-25T04:00:08.011095Z"
    },
    "papermill": {
     "duration": 0.320912,
     "end_time": "2020-08-25T04:00:08.011291",
     "exception": false,
     "start_time": "2020-08-25T04:00:07.690379",
     "status": "completed"
    },
    "tags": []
   },
   "outputs": [
    {
     "data": {
      "text/plain": [
       "'8/23/20'"
      ]
     },
     "execution_count": 4,
     "metadata": {},
     "output_type": "execute_result"
    }
   ],
   "source": [
    "# recovered_global\n",
    "recovered_global='https://raw.githubusercontent.com/CSSEGISandData/COVID-19/master/csse_covid_19_data/csse_covid_19_time_series/time_series_covid19_recovered_global.csv'\n",
    "covid19_recovered=pd.read_csv(recovered_global,index_col='Country/Region')\n",
    "\n",
    "# recovered_latest\n",
    "recovered_latest = covid19_recovered.T.index.values[-1]\n",
    "\n",
    "# df_recovered\n",
    "df_grouped_recv=covid19_recovered.groupby('Country/Region').sum()\n",
    "df_recovered=df_grouped_recv.sort_values(recovered_latest,ascending=False).head(10).drop(['Lat', 'Long'],axis=1).T\n",
    "\n",
    "# df_recovered_total\n",
    "covid19_recovered.loc[\"Total\"] = covid19_recovered.sum()\n",
    "df_recovered_total=covid19_recovered.iloc[-1,4:]\n",
    "\n",
    "recovered_latest"
   ]
  },
  {
   "cell_type": "code",
   "execution_count": null,
   "metadata": {
    "papermill": {
     "duration": 0.005379,
     "end_time": "2020-08-25T04:00:08.021920",
     "exception": false,
     "start_time": "2020-08-25T04:00:08.016541",
     "status": "completed"
    },
    "tags": []
   },
   "outputs": [],
   "source": []
  }
 ],
 "metadata": {
  "kernelspec": {
   "display_name": "Python 3",
   "language": "python",
   "name": "python3"
  },
  "language_info": {
   "codemirror_mode": {
    "name": "ipython",
    "version": 3
   },
   "file_extension": ".py",
   "mimetype": "text/x-python",
   "name": "python",
   "nbconvert_exporter": "python",
   "pygments_lexer": "ipython3",
   "version": "3.8.2"
  },
  "papermill": {
   "duration": 5.996223,
   "end_time": "2020-08-25T04:00:09.392198",
   "environment_variables": {},
   "exception": null,
   "input_path": "covid-19-data.ipynb",
   "output_path": "./latest/covid-19-data.ipynb",
   "parameters": {},
   "start_time": "2020-08-25T04:00:03.395975",
   "version": "2.1.2"
  }
 },
 "nbformat": 4,
 "nbformat_minor": 4
}