{
 "cells": [
  {
   "cell_type": "code",
   "execution_count": 1,
   "metadata": {
    "execution": {
     "iopub.execute_input": "2020-08-18T04:00:05.373815Z",
     "iopub.status.busy": "2020-08-18T04:00:05.373171Z",
     "iopub.status.idle": "2020-08-18T04:00:05.390853Z",
     "shell.execute_reply": "2020-08-18T04:00:05.391845Z"
    },
    "papermill": {
     "duration": 0.029221,
     "end_time": "2020-08-18T04:00:05.392226",
     "exception": false,
     "start_time": "2020-08-18T04:00:05.363005",
     "status": "completed"
    },
    "tags": []
   },
   "outputs": [],
   "source": [
    "import pandas as pd\n",
    "import numpy as np"
   ]
  },
  {
   "cell_type": "code",
   "execution_count": 2,
   "metadata": {
    "execution": {
     "iopub.execute_input": "2020-08-18T04:00:05.404728Z",
     "iopub.status.busy": "2020-08-18T04:00:05.404082Z",
     "iopub.status.idle": "2020-08-18T04:00:06.573281Z",
     "shell.execute_reply": "2020-08-18T04:00:06.573979Z"
    },
    "papermill": {
     "duration": 1.178109,
     "end_time": "2020-08-18T04:00:06.574223",
     "exception": false,
     "start_time": "2020-08-18T04:00:05.396114",
     "status": "completed"
    },
    "tags": []
   },
   "outputs": [
    {
     "data": {
      "text/html": [
       "<div>\n",
       "<style scoped>\n",
       "    .dataframe tbody tr th:only-of-type {\n",
       "        vertical-align: middle;\n",
       "    }\n",
       "\n",
       "    .dataframe tbody tr th {\n",
       "        vertical-align: top;\n",
       "    }\n",
       "\n",
       "    .dataframe thead th {\n",
       "        text-align: right;\n",
       "    }\n",
       "</style>\n",
       "<table border=\"1\" class=\"dataframe\">\n",
       "  <thead>\n",
       "    <tr style=\"text-align: right;\">\n",
       "      <th>Country/Region</th>\n",
       "      <th>US</th>\n",
       "      <th>Brazil</th>\n",
       "      <th>India</th>\n",
       "      <th>Russia</th>\n",
       "      <th>South Africa</th>\n",
       "      <th>Peru</th>\n",
       "      <th>Mexico</th>\n",
       "      <th>Colombia</th>\n",
       "      <th>Chile</th>\n",
       "      <th>Iran</th>\n",
       "    </tr>\n",
       "  </thead>\n",
       "  <tbody>\n",
       "    <tr>\n",
       "      <th>1/22/20</th>\n",
       "      <td>1</td>\n",
       "      <td>0</td>\n",
       "      <td>0</td>\n",
       "      <td>0</td>\n",
       "      <td>0</td>\n",
       "      <td>0</td>\n",
       "      <td>0</td>\n",
       "      <td>0</td>\n",
       "      <td>0</td>\n",
       "      <td>0</td>\n",
       "    </tr>\n",
       "    <tr>\n",
       "      <th>1/23/20</th>\n",
       "      <td>1</td>\n",
       "      <td>0</td>\n",
       "      <td>0</td>\n",
       "      <td>0</td>\n",
       "      <td>0</td>\n",
       "      <td>0</td>\n",
       "      <td>0</td>\n",
       "      <td>0</td>\n",
       "      <td>0</td>\n",
       "      <td>0</td>\n",
       "    </tr>\n",
       "    <tr>\n",
       "      <th>1/24/20</th>\n",
       "      <td>2</td>\n",
       "      <td>0</td>\n",
       "      <td>0</td>\n",
       "      <td>0</td>\n",
       "      <td>0</td>\n",
       "      <td>0</td>\n",
       "      <td>0</td>\n",
       "      <td>0</td>\n",
       "      <td>0</td>\n",
       "      <td>0</td>\n",
       "    </tr>\n",
       "    <tr>\n",
       "      <th>1/25/20</th>\n",
       "      <td>2</td>\n",
       "      <td>0</td>\n",
       "      <td>0</td>\n",
       "      <td>0</td>\n",
       "      <td>0</td>\n",
       "      <td>0</td>\n",
       "      <td>0</td>\n",
       "      <td>0</td>\n",
       "      <td>0</td>\n",
       "      <td>0</td>\n",
       "    </tr>\n",
       "    <tr>\n",
       "      <th>1/26/20</th>\n",
       "      <td>5</td>\n",
       "      <td>0</td>\n",
       "      <td>0</td>\n",
       "      <td>0</td>\n",
       "      <td>0</td>\n",
       "      <td>0</td>\n",
       "      <td>0</td>\n",
       "      <td>0</td>\n",
       "      <td>0</td>\n",
       "      <td>0</td>\n",
       "    </tr>\n",
       "    <tr>\n",
       "      <th>...</th>\n",
       "      <td>...</td>\n",
       "      <td>...</td>\n",
       "      <td>...</td>\n",
       "      <td>...</td>\n",
       "      <td>...</td>\n",
       "      <td>...</td>\n",
       "      <td>...</td>\n",
       "      <td>...</td>\n",
       "      <td>...</td>\n",
       "      <td>...</td>\n",
       "    </tr>\n",
       "    <tr>\n",
       "      <th>8/12/20</th>\n",
       "      <td>5197411</td>\n",
       "      <td>3164785</td>\n",
       "      <td>2396637</td>\n",
       "      <td>900745</td>\n",
       "      <td>568919</td>\n",
       "      <td>489680</td>\n",
       "      <td>498380</td>\n",
       "      <td>422519</td>\n",
       "      <td>378168</td>\n",
       "      <td>333699</td>\n",
       "    </tr>\n",
       "    <tr>\n",
       "      <th>8/13/20</th>\n",
       "      <td>5248958</td>\n",
       "      <td>3224876</td>\n",
       "      <td>2461190</td>\n",
       "      <td>905762</td>\n",
       "      <td>572865</td>\n",
       "      <td>498555</td>\n",
       "      <td>505751</td>\n",
       "      <td>433805</td>\n",
       "      <td>380034</td>\n",
       "      <td>336324</td>\n",
       "    </tr>\n",
       "    <tr>\n",
       "      <th>8/14/20</th>\n",
       "      <td>5313252</td>\n",
       "      <td>3275520</td>\n",
       "      <td>2525922</td>\n",
       "      <td>910778</td>\n",
       "      <td>579140</td>\n",
       "      <td>516296</td>\n",
       "      <td>511369</td>\n",
       "      <td>445111</td>\n",
       "      <td>382111</td>\n",
       "      <td>338825</td>\n",
       "    </tr>\n",
       "    <tr>\n",
       "      <th>8/15/20</th>\n",
       "      <td>5361165</td>\n",
       "      <td>3317096</td>\n",
       "      <td>2589952</td>\n",
       "      <td>915808</td>\n",
       "      <td>583653</td>\n",
       "      <td>516296</td>\n",
       "      <td>517714</td>\n",
       "      <td>456689</td>\n",
       "      <td>383902</td>\n",
       "      <td>341070</td>\n",
       "    </tr>\n",
       "    <tr>\n",
       "      <th>8/16/20</th>\n",
       "      <td>5403213</td>\n",
       "      <td>3340197</td>\n",
       "      <td>2647663</td>\n",
       "      <td>920719</td>\n",
       "      <td>587345</td>\n",
       "      <td>525803</td>\n",
       "      <td>522162</td>\n",
       "      <td>468332</td>\n",
       "      <td>385946</td>\n",
       "      <td>343203</td>\n",
       "    </tr>\n",
       "  </tbody>\n",
       "</table>\n",
       "<p>208 rows × 10 columns</p>\n",
       "</div>"
      ],
      "text/plain": [
       "Country/Region       US   Brazil    India  Russia  South Africa    Peru  \\\n",
       "1/22/20               1        0        0       0             0       0   \n",
       "1/23/20               1        0        0       0             0       0   \n",
       "1/24/20               2        0        0       0             0       0   \n",
       "1/25/20               2        0        0       0             0       0   \n",
       "1/26/20               5        0        0       0             0       0   \n",
       "...                 ...      ...      ...     ...           ...     ...   \n",
       "8/12/20         5197411  3164785  2396637  900745        568919  489680   \n",
       "8/13/20         5248958  3224876  2461190  905762        572865  498555   \n",
       "8/14/20         5313252  3275520  2525922  910778        579140  516296   \n",
       "8/15/20         5361165  3317096  2589952  915808        583653  516296   \n",
       "8/16/20         5403213  3340197  2647663  920719        587345  525803   \n",
       "\n",
       "Country/Region  Mexico  Colombia   Chile    Iran  \n",
       "1/22/20              0         0       0       0  \n",
       "1/23/20              0         0       0       0  \n",
       "1/24/20              0         0       0       0  \n",
       "1/25/20              0         0       0       0  \n",
       "1/26/20              0         0       0       0  \n",
       "...                ...       ...     ...     ...  \n",
       "8/12/20         498380    422519  378168  333699  \n",
       "8/13/20         505751    433805  380034  336324  \n",
       "8/14/20         511369    445111  382111  338825  \n",
       "8/15/20         517714    456689  383902  341070  \n",
       "8/16/20         522162    468332  385946  343203  \n",
       "\n",
       "[208 rows x 10 columns]"
      ]
     },
     "metadata": {},
     "output_type": "display_data"
    }
   ],
   "source": [
    "# confirmed_global\n",
    "confirmed_global='https://raw.githubusercontent.com/CSSEGISandData/COVID-19/master/csse_covid_19_data/csse_covid_19_time_series/time_series_covid19_confirmed_global.csv'\n",
    "covid19_confirmed=pd.read_csv(confirmed_global,index_col='Country/Region')\n",
    "\n",
    "\n",
    "# confirmed_latest\n",
    "confirmed_latest = covid19_confirmed.T.index.values[-1]\n",
    "# display(confirmed_latest)\n",
    "\n",
    "# df_confirmed\n",
    "df_grouped_conf=covid19_confirmed.groupby('Country/Region').sum()\n",
    "\n",
    "# display(df_grouped_conf.head(10))\n",
    "df_confirmed=df_grouped_conf.sort_values(by=confirmed_latest,ascending=False).head(10).drop(['Lat', 'Long'],axis=1).T\n",
    "# display(df_grouped_conf)\n",
    "display(df_confirmed)\n",
    "\n",
    "# display(df_confirmed)\n",
    "# df_confirmed_total\n",
    "covid19_confirmed.loc[\"Total\"] = covid19_confirmed.sum()\n",
    "df_confirmed_total=covid19_confirmed.iloc[-1,4:]\n",
    "\n",
    "# confirmed_latest"
   ]
  },
  {
   "cell_type": "code",
   "execution_count": 3,
   "metadata": {
    "execution": {
     "iopub.execute_input": "2020-08-18T04:00:06.591206Z",
     "iopub.status.busy": "2020-08-18T04:00:06.590431Z",
     "iopub.status.idle": "2020-08-18T04:00:07.038377Z",
     "shell.execute_reply": "2020-08-18T04:00:07.038905Z"
    },
    "papermill": {
     "duration": 0.459338,
     "end_time": "2020-08-18T04:00:07.039122",
     "exception": false,
     "start_time": "2020-08-18T04:00:06.579784",
     "status": "completed"
    },
    "tags": []
   },
   "outputs": [
    {
     "data": {
      "text/plain": [
       "'8/16/20'"
      ]
     },
     "execution_count": 3,
     "metadata": {},
     "output_type": "execute_result"
    }
   ],
   "source": [
    "# deaths_global\n",
    "deaths_global='https://raw.githubusercontent.com/CSSEGISandData/COVID-19/master/csse_covid_19_data/csse_covid_19_time_series/time_series_covid19_deaths_global.csv'\n",
    "covid19_deaths=pd.read_csv(deaths_global,index_col='Country/Region')\n",
    "\n",
    "# deaths_latest\n",
    "deaths_latest = covid19_deaths.T.index.values[-1]\n",
    "\n",
    "# df_deaths\n",
    "df_grouped_deaths=covid19_deaths.groupby('Country/Region').sum()\n",
    "df_deaths=df_grouped_deaths.sort_values(deaths_latest,ascending=False).head(10).drop(['Lat', 'Long'],axis=1).T\n",
    "\n",
    "# df_deaths_total\n",
    "covid19_deaths.loc[\"Total\"] = covid19_deaths.sum()\n",
    "df_deaths_total=covid19_deaths.iloc[-1,4:]\n",
    "\n",
    "deaths_latest"
   ]
  },
  {
   "cell_type": "code",
   "execution_count": 4,
   "metadata": {
    "execution": {
     "iopub.execute_input": "2020-08-18T04:00:07.053545Z",
     "iopub.status.busy": "2020-08-18T04:00:07.052766Z",
     "iopub.status.idle": "2020-08-18T04:00:07.828023Z",
     "shell.execute_reply": "2020-08-18T04:00:07.828480Z"
    },
    "papermill": {
     "duration": 0.784899,
     "end_time": "2020-08-18T04:00:07.828679",
     "exception": false,
     "start_time": "2020-08-18T04:00:07.043780",
     "status": "completed"
    },
    "tags": []
   },
   "outputs": [
    {
     "data": {
      "text/plain": [
       "'8/16/20'"
      ]
     },
     "execution_count": 4,
     "metadata": {},
     "output_type": "execute_result"
    }
   ],
   "source": [
    "# recovered_global\n",
    "recovered_global='https://raw.githubusercontent.com/CSSEGISandData/COVID-19/master/csse_covid_19_data/csse_covid_19_time_series/time_series_covid19_recovered_global.csv'\n",
    "covid19_recovered=pd.read_csv(recovered_global,index_col='Country/Region')\n",
    "\n",
    "# recovered_latest\n",
    "recovered_latest = covid19_recovered.T.index.values[-1]\n",
    "\n",
    "# df_recovered\n",
    "df_grouped_recv=covid19_recovered.groupby('Country/Region').sum()\n",
    "df_recovered=df_grouped_recv.sort_values(recovered_latest,ascending=False).head(10).drop(['Lat', 'Long'],axis=1).T\n",
    "\n",
    "# df_recovered_total\n",
    "covid19_recovered.loc[\"Total\"] = covid19_recovered.sum()\n",
    "df_recovered_total=covid19_recovered.iloc[-1,4:]\n",
    "\n",
    "recovered_latest"
   ]
  },
  {
   "cell_type": "code",
   "execution_count": null,
   "metadata": {
    "papermill": {
     "duration": 0.005038,
     "end_time": "2020-08-18T04:00:07.839841",
     "exception": false,
     "start_time": "2020-08-18T04:00:07.834803",
     "status": "completed"
    },
    "tags": []
   },
   "outputs": [],
   "source": []
  }
 ],
 "metadata": {
  "kernelspec": {
   "display_name": "Python 3",
   "language": "python",
   "name": "python3"
  },
  "language_info": {
   "codemirror_mode": {
    "name": "ipython",
    "version": 3
   },
   "file_extension": ".py",
   "mimetype": "text/x-python",
   "name": "python",
   "nbconvert_exporter": "python",
   "pygments_lexer": "ipython3",
   "version": "3.8.2"
  },
  "papermill": {
   "duration": 6.314223,
   "end_time": "2020-08-18T04:00:08.294035",
   "environment_variables": {},
   "exception": null,
   "input_path": "covid-19-data.ipynb",
   "output_path": "./latest/covid-19-data.ipynb",
   "parameters": {},
   "start_time": "2020-08-18T04:00:01.979812",
   "version": "2.1.2"
  }
 },
 "nbformat": 4,
 "nbformat_minor": 4
}