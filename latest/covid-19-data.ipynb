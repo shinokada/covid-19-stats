{
 "cells": [
  {
   "cell_type": "code",
   "execution_count": 1,
   "metadata": {
    "execution": {
     "iopub.execute_input": "2020-09-15T04:00:06.413011Z",
     "iopub.status.busy": "2020-09-15T04:00:06.412022Z",
     "iopub.status.idle": "2020-09-15T04:00:06.429680Z",
     "shell.execute_reply": "2020-09-15T04:00:06.430105Z"
    },
    "papermill": {
     "duration": 0.029957,
     "end_time": "2020-09-15T04:00:06.430355",
     "exception": false,
     "start_time": "2020-09-15T04:00:06.400398",
     "status": "completed"
    },
    "tags": []
   },
   "outputs": [],
   "source": [
    "import pandas as pd\n",
    "import numpy as np"
   ]
  },
  {
   "cell_type": "code",
   "execution_count": 2,
   "metadata": {
    "execution": {
     "iopub.execute_input": "2020-09-15T04:00:06.445141Z",
     "iopub.status.busy": "2020-09-15T04:00:06.443850Z",
     "iopub.status.idle": "2020-09-15T04:00:06.879820Z",
     "shell.execute_reply": "2020-09-15T04:00:06.880306Z"
    },
    "papermill": {
     "duration": 0.444752,
     "end_time": "2020-09-15T04:00:06.880567",
     "exception": false,
     "start_time": "2020-09-15T04:00:06.435815",
     "status": "completed"
    },
    "tags": []
   },
   "outputs": [
    {
     "data": {
      "text/html": [
       "<div>\n",
       "<style scoped>\n",
       "    .dataframe tbody tr th:only-of-type {\n",
       "        vertical-align: middle;\n",
       "    }\n",
       "\n",
       "    .dataframe tbody tr th {\n",
       "        vertical-align: top;\n",
       "    }\n",
       "\n",
       "    .dataframe thead th {\n",
       "        text-align: right;\n",
       "    }\n",
       "</style>\n",
       "<table border=\"1\" class=\"dataframe\">\n",
       "  <thead>\n",
       "    <tr style=\"text-align: right;\">\n",
       "      <th>Country/Region</th>\n",
       "      <th>US</th>\n",
       "      <th>India</th>\n",
       "      <th>Brazil</th>\n",
       "      <th>Russia</th>\n",
       "      <th>Peru</th>\n",
       "      <th>Colombia</th>\n",
       "      <th>Mexico</th>\n",
       "      <th>South Africa</th>\n",
       "      <th>Spain</th>\n",
       "      <th>Argentina</th>\n",
       "    </tr>\n",
       "  </thead>\n",
       "  <tbody>\n",
       "    <tr>\n",
       "      <th>1/22/20</th>\n",
       "      <td>1</td>\n",
       "      <td>0</td>\n",
       "      <td>0</td>\n",
       "      <td>0</td>\n",
       "      <td>0</td>\n",
       "      <td>0</td>\n",
       "      <td>0</td>\n",
       "      <td>0</td>\n",
       "      <td>0</td>\n",
       "      <td>0</td>\n",
       "    </tr>\n",
       "    <tr>\n",
       "      <th>1/23/20</th>\n",
       "      <td>1</td>\n",
       "      <td>0</td>\n",
       "      <td>0</td>\n",
       "      <td>0</td>\n",
       "      <td>0</td>\n",
       "      <td>0</td>\n",
       "      <td>0</td>\n",
       "      <td>0</td>\n",
       "      <td>0</td>\n",
       "      <td>0</td>\n",
       "    </tr>\n",
       "    <tr>\n",
       "      <th>1/24/20</th>\n",
       "      <td>2</td>\n",
       "      <td>0</td>\n",
       "      <td>0</td>\n",
       "      <td>0</td>\n",
       "      <td>0</td>\n",
       "      <td>0</td>\n",
       "      <td>0</td>\n",
       "      <td>0</td>\n",
       "      <td>0</td>\n",
       "      <td>0</td>\n",
       "    </tr>\n",
       "    <tr>\n",
       "      <th>1/25/20</th>\n",
       "      <td>2</td>\n",
       "      <td>0</td>\n",
       "      <td>0</td>\n",
       "      <td>0</td>\n",
       "      <td>0</td>\n",
       "      <td>0</td>\n",
       "      <td>0</td>\n",
       "      <td>0</td>\n",
       "      <td>0</td>\n",
       "      <td>0</td>\n",
       "    </tr>\n",
       "    <tr>\n",
       "      <th>1/26/20</th>\n",
       "      <td>5</td>\n",
       "      <td>0</td>\n",
       "      <td>0</td>\n",
       "      <td>0</td>\n",
       "      <td>0</td>\n",
       "      <td>0</td>\n",
       "      <td>0</td>\n",
       "      <td>0</td>\n",
       "      <td>0</td>\n",
       "      <td>0</td>\n",
       "    </tr>\n",
       "    <tr>\n",
       "      <th>...</th>\n",
       "      <td>...</td>\n",
       "      <td>...</td>\n",
       "      <td>...</td>\n",
       "      <td>...</td>\n",
       "      <td>...</td>\n",
       "      <td>...</td>\n",
       "      <td>...</td>\n",
       "      <td>...</td>\n",
       "      <td>...</td>\n",
       "      <td>...</td>\n",
       "    </tr>\n",
       "    <tr>\n",
       "      <th>9/9/20</th>\n",
       "      <td>6360212</td>\n",
       "      <td>4465863</td>\n",
       "      <td>4197889</td>\n",
       "      <td>1037526</td>\n",
       "      <td>696190</td>\n",
       "      <td>686851</td>\n",
       "      <td>647321</td>\n",
       "      <td>642431</td>\n",
       "      <td>543379</td>\n",
       "      <td>512293</td>\n",
       "    </tr>\n",
       "    <tr>\n",
       "      <th>9/10/20</th>\n",
       "      <td>6396100</td>\n",
       "      <td>4562414</td>\n",
       "      <td>4238446</td>\n",
       "      <td>1042836</td>\n",
       "      <td>702776</td>\n",
       "      <td>694664</td>\n",
       "      <td>652364</td>\n",
       "      <td>644438</td>\n",
       "      <td>554143</td>\n",
       "      <td>524198</td>\n",
       "    </tr>\n",
       "    <tr>\n",
       "      <th>9/11/20</th>\n",
       "      <td>6443652</td>\n",
       "      <td>4659984</td>\n",
       "      <td>4282164</td>\n",
       "      <td>1048257</td>\n",
       "      <td>710067</td>\n",
       "      <td>702088</td>\n",
       "      <td>658299</td>\n",
       "      <td>646398</td>\n",
       "      <td>566326</td>\n",
       "      <td>535705</td>\n",
       "    </tr>\n",
       "    <tr>\n",
       "      <th>9/12/20</th>\n",
       "      <td>6485123</td>\n",
       "      <td>4754356</td>\n",
       "      <td>4315687</td>\n",
       "      <td>1053663</td>\n",
       "      <td>716670</td>\n",
       "      <td>708964</td>\n",
       "      <td>663973</td>\n",
       "      <td>648214</td>\n",
       "      <td>566326</td>\n",
       "      <td>546481</td>\n",
       "    </tr>\n",
       "    <tr>\n",
       "      <th>9/13/20</th>\n",
       "      <td>6519573</td>\n",
       "      <td>4846427</td>\n",
       "      <td>4330455</td>\n",
       "      <td>1059024</td>\n",
       "      <td>722832</td>\n",
       "      <td>716319</td>\n",
       "      <td>668381</td>\n",
       "      <td>649793</td>\n",
       "      <td>566326</td>\n",
       "      <td>555537</td>\n",
       "    </tr>\n",
       "  </tbody>\n",
       "</table>\n",
       "<p>236 rows × 10 columns</p>\n",
       "</div>"
      ],
      "text/plain": [
       "Country/Region       US    India   Brazil   Russia    Peru  Colombia  Mexico  \\\n",
       "1/22/20               1        0        0        0       0         0       0   \n",
       "1/23/20               1        0        0        0       0         0       0   \n",
       "1/24/20               2        0        0        0       0         0       0   \n",
       "1/25/20               2        0        0        0       0         0       0   \n",
       "1/26/20               5        0        0        0       0         0       0   \n",
       "...                 ...      ...      ...      ...     ...       ...     ...   \n",
       "9/9/20          6360212  4465863  4197889  1037526  696190    686851  647321   \n",
       "9/10/20         6396100  4562414  4238446  1042836  702776    694664  652364   \n",
       "9/11/20         6443652  4659984  4282164  1048257  710067    702088  658299   \n",
       "9/12/20         6485123  4754356  4315687  1053663  716670    708964  663973   \n",
       "9/13/20         6519573  4846427  4330455  1059024  722832    716319  668381   \n",
       "\n",
       "Country/Region  South Africa   Spain  Argentina  \n",
       "1/22/20                    0       0          0  \n",
       "1/23/20                    0       0          0  \n",
       "1/24/20                    0       0          0  \n",
       "1/25/20                    0       0          0  \n",
       "1/26/20                    0       0          0  \n",
       "...                      ...     ...        ...  \n",
       "9/9/20                642431  543379     512293  \n",
       "9/10/20               644438  554143     524198  \n",
       "9/11/20               646398  566326     535705  \n",
       "9/12/20               648214  566326     546481  \n",
       "9/13/20               649793  566326     555537  \n",
       "\n",
       "[236 rows x 10 columns]"
      ]
     },
     "metadata": {},
     "output_type": "display_data"
    }
   ],
   "source": [
    "# confirmed_global\n",
    "confirmed_global='https://raw.githubusercontent.com/CSSEGISandData/COVID-19/master/csse_covid_19_data/csse_covid_19_time_series/time_series_covid19_confirmed_global.csv'\n",
    "covid19_confirmed=pd.read_csv(confirmed_global,index_col='Country/Region')\n",
    "\n",
    "\n",
    "# confirmed_latest\n",
    "confirmed_latest = covid19_confirmed.T.index.values[-1]\n",
    "# display(confirmed_latest)\n",
    "\n",
    "# df_confirmed\n",
    "df_grouped_conf=covid19_confirmed.groupby('Country/Region').sum()\n",
    "\n",
    "# display(df_grouped_conf.head(10))\n",
    "df_confirmed=df_grouped_conf.sort_values(by=confirmed_latest,ascending=False).head(10).drop(['Lat', 'Long'],axis=1).T\n",
    "# display(df_grouped_conf)\n",
    "display(df_confirmed)\n",
    "\n",
    "# display(df_confirmed)\n",
    "# df_confirmed_total\n",
    "covid19_confirmed.loc[\"Total\"] = covid19_confirmed.sum()\n",
    "df_confirmed_total=covid19_confirmed.iloc[-1,4:]\n",
    "\n",
    "# confirmed_latest"
   ]
  },
  {
   "cell_type": "code",
   "execution_count": 3,
   "metadata": {
    "execution": {
     "iopub.execute_input": "2020-09-15T04:00:06.986108Z",
     "iopub.status.busy": "2020-09-15T04:00:06.984330Z",
     "iopub.status.idle": "2020-09-15T04:00:07.190983Z",
     "shell.execute_reply": "2020-09-15T04:00:07.190300Z"
    },
    "papermill": {
     "duration": 0.302963,
     "end_time": "2020-09-15T04:00:07.191233",
     "exception": false,
     "start_time": "2020-09-15T04:00:06.888270",
     "status": "completed"
    },
    "tags": []
   },
   "outputs": [
    {
     "data": {
      "text/plain": [
       "'9/13/20'"
      ]
     },
     "execution_count": 3,
     "metadata": {},
     "output_type": "execute_result"
    }
   ],
   "source": [
    "# deaths_global\n",
    "deaths_global='https://raw.githubusercontent.com/CSSEGISandData/COVID-19/master/csse_covid_19_data/csse_covid_19_time_series/time_series_covid19_deaths_global.csv'\n",
    "covid19_deaths=pd.read_csv(deaths_global,index_col='Country/Region')\n",
    "\n",
    "# deaths_latest\n",
    "deaths_latest = covid19_deaths.T.index.values[-1]\n",
    "\n",
    "# df_deaths\n",
    "df_grouped_deaths=covid19_deaths.groupby('Country/Region').sum()\n",
    "df_deaths=df_grouped_deaths.sort_values(deaths_latest,ascending=False).head(10).drop(['Lat', 'Long'],axis=1).T\n",
    "\n",
    "# df_deaths_total\n",
    "covid19_deaths.loc[\"Total\"] = covid19_deaths.sum()\n",
    "df_deaths_total=covid19_deaths.iloc[-1,4:]\n",
    "\n",
    "deaths_latest"
   ]
  },
  {
   "cell_type": "code",
   "execution_count": 4,
   "metadata": {
    "execution": {
     "iopub.execute_input": "2020-09-15T04:00:07.212861Z",
     "iopub.status.busy": "2020-09-15T04:00:07.211884Z",
     "iopub.status.idle": "2020-09-15T04:00:07.464587Z",
     "shell.execute_reply": "2020-09-15T04:00:07.465289Z"
    },
    "papermill": {
     "duration": 0.266694,
     "end_time": "2020-09-15T04:00:07.465559",
     "exception": false,
     "start_time": "2020-09-15T04:00:07.198865",
     "status": "completed"
    },
    "tags": []
   },
   "outputs": [
    {
     "data": {
      "text/plain": [
       "'9/13/20'"
      ]
     },
     "execution_count": 4,
     "metadata": {},
     "output_type": "execute_result"
    }
   ],
   "source": [
    "# recovered_global\n",
    "recovered_global='https://raw.githubusercontent.com/CSSEGISandData/COVID-19/master/csse_covid_19_data/csse_covid_19_time_series/time_series_covid19_recovered_global.csv'\n",
    "covid19_recovered=pd.read_csv(recovered_global,index_col='Country/Region')\n",
    "\n",
    "# recovered_latest\n",
    "recovered_latest = covid19_recovered.T.index.values[-1]\n",
    "\n",
    "# df_recovered\n",
    "df_grouped_recv=covid19_recovered.groupby('Country/Region').sum()\n",
    "df_recovered=df_grouped_recv.sort_values(recovered_latest,ascending=False).head(10).drop(['Lat', 'Long'],axis=1).T\n",
    "\n",
    "# df_recovered_total\n",
    "covid19_recovered.loc[\"Total\"] = covid19_recovered.sum()\n",
    "df_recovered_total=covid19_recovered.iloc[-1,4:]\n",
    "\n",
    "recovered_latest"
   ]
  },
  {
   "cell_type": "code",
   "execution_count": null,
   "metadata": {
    "papermill": {
     "duration": 0.007431,
     "end_time": "2020-09-15T04:00:07.482383",
     "exception": false,
     "start_time": "2020-09-15T04:00:07.474952",
     "status": "completed"
    },
    "tags": []
   },
   "outputs": [],
   "source": []
  }
 ],
 "metadata": {
  "kernelspec": {
   "display_name": "Python 3",
   "language": "python",
   "name": "python3"
  },
  "language_info": {
   "codemirror_mode": {
    "name": "ipython",
    "version": 3
   },
   "file_extension": ".py",
   "mimetype": "text/x-python",
   "name": "python",
   "nbconvert_exporter": "python",
   "pygments_lexer": "ipython3",
   "version": "3.8.2"
  },
  "papermill": {
   "duration": 4.711898,
   "end_time": "2020-09-15T04:00:07.798970",
   "environment_variables": {},
   "exception": null,
   "input_path": "covid-19-data.ipynb",
   "output_path": "./latest/covid-19-data.ipynb",
   "parameters": {},
   "start_time": "2020-09-15T04:00:03.087072",
   "version": "2.1.2"
  }
 },
 "nbformat": 4,
 "nbformat_minor": 4
}