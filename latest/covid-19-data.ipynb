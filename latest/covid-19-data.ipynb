{
 "cells": [
  {
   "cell_type": "code",
   "execution_count": 1,
   "metadata": {
    "execution": {
     "iopub.execute_input": "2020-07-03T04:00:05.018380Z",
     "iopub.status.busy": "2020-07-03T04:00:05.017734Z",
     "iopub.status.idle": "2020-07-03T04:00:05.035554Z",
     "shell.execute_reply": "2020-07-03T04:00:05.036025Z"
    },
    "papermill": {
     "duration": 0.027393,
     "end_time": "2020-07-03T04:00:05.036284",
     "exception": false,
     "start_time": "2020-07-03T04:00:05.008891",
     "status": "completed"
    },
    "tags": []
   },
   "outputs": [],
   "source": [
    "import pandas as pd\n",
    "import numpy as np"
   ]
  },
  {
   "cell_type": "code",
   "execution_count": 2,
   "metadata": {
    "execution": {
     "iopub.execute_input": "2020-07-03T04:00:05.052301Z",
     "iopub.status.busy": "2020-07-03T04:00:05.051160Z",
     "iopub.status.idle": "2020-07-03T04:00:06.330043Z",
     "shell.execute_reply": "2020-07-03T04:00:06.329475Z"
    },
    "papermill": {
     "duration": 1.289096,
     "end_time": "2020-07-03T04:00:06.330182",
     "exception": false,
     "start_time": "2020-07-03T04:00:05.041086",
     "status": "completed"
    },
    "tags": []
   },
   "outputs": [
    {
     "data": {
      "text/html": [
       "<div>\n",
       "<style scoped>\n",
       "    .dataframe tbody tr th:only-of-type {\n",
       "        vertical-align: middle;\n",
       "    }\n",
       "\n",
       "    .dataframe tbody tr th {\n",
       "        vertical-align: top;\n",
       "    }\n",
       "\n",
       "    .dataframe thead th {\n",
       "        text-align: right;\n",
       "    }\n",
       "</style>\n",
       "<table border=\"1\" class=\"dataframe\">\n",
       "  <thead>\n",
       "    <tr style=\"text-align: right;\">\n",
       "      <th>Country/Region</th>\n",
       "      <th>US</th>\n",
       "      <th>Brazil</th>\n",
       "      <th>Russia</th>\n",
       "      <th>India</th>\n",
       "      <th>United Kingdom</th>\n",
       "      <th>Peru</th>\n",
       "      <th>Chile</th>\n",
       "      <th>Spain</th>\n",
       "      <th>Italy</th>\n",
       "      <th>Mexico</th>\n",
       "    </tr>\n",
       "  </thead>\n",
       "  <tbody>\n",
       "    <tr>\n",
       "      <th>1/22/20</th>\n",
       "      <td>1</td>\n",
       "      <td>0</td>\n",
       "      <td>0</td>\n",
       "      <td>0</td>\n",
       "      <td>0</td>\n",
       "      <td>0</td>\n",
       "      <td>0</td>\n",
       "      <td>0</td>\n",
       "      <td>0</td>\n",
       "      <td>0</td>\n",
       "    </tr>\n",
       "    <tr>\n",
       "      <th>1/23/20</th>\n",
       "      <td>1</td>\n",
       "      <td>0</td>\n",
       "      <td>0</td>\n",
       "      <td>0</td>\n",
       "      <td>0</td>\n",
       "      <td>0</td>\n",
       "      <td>0</td>\n",
       "      <td>0</td>\n",
       "      <td>0</td>\n",
       "      <td>0</td>\n",
       "    </tr>\n",
       "    <tr>\n",
       "      <th>1/24/20</th>\n",
       "      <td>2</td>\n",
       "      <td>0</td>\n",
       "      <td>0</td>\n",
       "      <td>0</td>\n",
       "      <td>0</td>\n",
       "      <td>0</td>\n",
       "      <td>0</td>\n",
       "      <td>0</td>\n",
       "      <td>0</td>\n",
       "      <td>0</td>\n",
       "    </tr>\n",
       "    <tr>\n",
       "      <th>1/25/20</th>\n",
       "      <td>2</td>\n",
       "      <td>0</td>\n",
       "      <td>0</td>\n",
       "      <td>0</td>\n",
       "      <td>0</td>\n",
       "      <td>0</td>\n",
       "      <td>0</td>\n",
       "      <td>0</td>\n",
       "      <td>0</td>\n",
       "      <td>0</td>\n",
       "    </tr>\n",
       "    <tr>\n",
       "      <th>1/26/20</th>\n",
       "      <td>5</td>\n",
       "      <td>0</td>\n",
       "      <td>0</td>\n",
       "      <td>0</td>\n",
       "      <td>0</td>\n",
       "      <td>0</td>\n",
       "      <td>0</td>\n",
       "      <td>0</td>\n",
       "      <td>0</td>\n",
       "      <td>0</td>\n",
       "    </tr>\n",
       "    <tr>\n",
       "      <th>...</th>\n",
       "      <td>...</td>\n",
       "      <td>...</td>\n",
       "      <td>...</td>\n",
       "      <td>...</td>\n",
       "      <td>...</td>\n",
       "      <td>...</td>\n",
       "      <td>...</td>\n",
       "      <td>...</td>\n",
       "      <td>...</td>\n",
       "      <td>...</td>\n",
       "    </tr>\n",
       "    <tr>\n",
       "      <th>6/27/20</th>\n",
       "      <td>2510259</td>\n",
       "      <td>1313667</td>\n",
       "      <td>626779</td>\n",
       "      <td>528859</td>\n",
       "      <td>311727</td>\n",
       "      <td>275989</td>\n",
       "      <td>267766</td>\n",
       "      <td>248469</td>\n",
       "      <td>240136</td>\n",
       "      <td>212802</td>\n",
       "    </tr>\n",
       "    <tr>\n",
       "      <th>6/28/20</th>\n",
       "      <td>2549294</td>\n",
       "      <td>1344143</td>\n",
       "      <td>633563</td>\n",
       "      <td>548318</td>\n",
       "      <td>312640</td>\n",
       "      <td>279419</td>\n",
       "      <td>271982</td>\n",
       "      <td>248770</td>\n",
       "      <td>240310</td>\n",
       "      <td>216852</td>\n",
       "    </tr>\n",
       "    <tr>\n",
       "      <th>6/29/20</th>\n",
       "      <td>2590668</td>\n",
       "      <td>1368195</td>\n",
       "      <td>640246</td>\n",
       "      <td>566840</td>\n",
       "      <td>313470</td>\n",
       "      <td>282365</td>\n",
       "      <td>275999</td>\n",
       "      <td>248970</td>\n",
       "      <td>240436</td>\n",
       "      <td>220657</td>\n",
       "    </tr>\n",
       "    <tr>\n",
       "      <th>6/30/20</th>\n",
       "      <td>2636414</td>\n",
       "      <td>1402041</td>\n",
       "      <td>646929</td>\n",
       "      <td>585481</td>\n",
       "      <td>314160</td>\n",
       "      <td>285213</td>\n",
       "      <td>279393</td>\n",
       "      <td>249271</td>\n",
       "      <td>240578</td>\n",
       "      <td>226089</td>\n",
       "    </tr>\n",
       "    <tr>\n",
       "      <th>7/1/20</th>\n",
       "      <td>2687588</td>\n",
       "      <td>1448753</td>\n",
       "      <td>653479</td>\n",
       "      <td>604641</td>\n",
       "      <td>314992</td>\n",
       "      <td>288477</td>\n",
       "      <td>282043</td>\n",
       "      <td>249659</td>\n",
       "      <td>240760</td>\n",
       "      <td>231770</td>\n",
       "    </tr>\n",
       "  </tbody>\n",
       "</table>\n",
       "<p>162 rows × 10 columns</p>\n",
       "</div>"
      ],
      "text/plain": [
       "Country/Region       US   Brazil  Russia   India  United Kingdom    Peru  \\\n",
       "1/22/20               1        0       0       0               0       0   \n",
       "1/23/20               1        0       0       0               0       0   \n",
       "1/24/20               2        0       0       0               0       0   \n",
       "1/25/20               2        0       0       0               0       0   \n",
       "1/26/20               5        0       0       0               0       0   \n",
       "...                 ...      ...     ...     ...             ...     ...   \n",
       "6/27/20         2510259  1313667  626779  528859          311727  275989   \n",
       "6/28/20         2549294  1344143  633563  548318          312640  279419   \n",
       "6/29/20         2590668  1368195  640246  566840          313470  282365   \n",
       "6/30/20         2636414  1402041  646929  585481          314160  285213   \n",
       "7/1/20          2687588  1448753  653479  604641          314992  288477   \n",
       "\n",
       "Country/Region   Chile   Spain   Italy  Mexico  \n",
       "1/22/20              0       0       0       0  \n",
       "1/23/20              0       0       0       0  \n",
       "1/24/20              0       0       0       0  \n",
       "1/25/20              0       0       0       0  \n",
       "1/26/20              0       0       0       0  \n",
       "...                ...     ...     ...     ...  \n",
       "6/27/20         267766  248469  240136  212802  \n",
       "6/28/20         271982  248770  240310  216852  \n",
       "6/29/20         275999  248970  240436  220657  \n",
       "6/30/20         279393  249271  240578  226089  \n",
       "7/1/20          282043  249659  240760  231770  \n",
       "\n",
       "[162 rows x 10 columns]"
      ]
     },
     "metadata": {},
     "output_type": "display_data"
    }
   ],
   "source": [
    "# confirmed_global\n",
    "confirmed_global='https://raw.githubusercontent.com/CSSEGISandData/COVID-19/master/csse_covid_19_data/csse_covid_19_time_series/time_series_covid19_confirmed_global.csv'\n",
    "covid19_confirmed=pd.read_csv(confirmed_global,index_col='Country/Region')\n",
    "\n",
    "\n",
    "# confirmed_latest\n",
    "confirmed_latest = covid19_confirmed.T.index.values[-1]\n",
    "# display(confirmed_latest)\n",
    "\n",
    "# df_confirmed\n",
    "df_grouped_conf=covid19_confirmed.groupby('Country/Region').sum()\n",
    "\n",
    "# display(df_grouped_conf.head(10))\n",
    "df_confirmed=df_grouped_conf.sort_values(by=confirmed_latest,ascending=False).head(10).drop(['Lat', 'Long'],axis=1).T\n",
    "# display(df_grouped_conf)\n",
    "display(df_confirmed)\n",
    "\n",
    "# display(df_confirmed)\n",
    "# df_confirmed_total\n",
    "covid19_confirmed.loc[\"Total\"] = covid19_confirmed.sum()\n",
    "df_confirmed_total=covid19_confirmed.iloc[-1,4:]\n",
    "\n",
    "# confirmed_latest"
   ]
  },
  {
   "cell_type": "code",
   "execution_count": 3,
   "metadata": {
    "execution": {
     "iopub.execute_input": "2020-07-03T04:00:06.344481Z",
     "iopub.status.busy": "2020-07-03T04:00:06.343835Z",
     "iopub.status.idle": "2020-07-03T04:00:06.523906Z",
     "shell.execute_reply": "2020-07-03T04:00:06.524930Z"
    },
    "papermill": {
     "duration": 0.189845,
     "end_time": "2020-07-03T04:00:06.525320",
     "exception": false,
     "start_time": "2020-07-03T04:00:06.335475",
     "status": "completed"
    },
    "tags": []
   },
   "outputs": [
    {
     "data": {
      "text/plain": [
       "'7/1/20'"
      ]
     },
     "execution_count": 3,
     "metadata": {},
     "output_type": "execute_result"
    }
   ],
   "source": [
    "# deaths_global\n",
    "deaths_global='https://raw.githubusercontent.com/CSSEGISandData/COVID-19/master/csse_covid_19_data/csse_covid_19_time_series/time_series_covid19_deaths_global.csv'\n",
    "covid19_deaths=pd.read_csv(deaths_global,index_col='Country/Region')\n",
    "\n",
    "# deaths_latest\n",
    "deaths_latest = covid19_deaths.T.index.values[-1]\n",
    "\n",
    "# df_deaths\n",
    "df_grouped_deaths=covid19_deaths.groupby('Country/Region').sum()\n",
    "df_deaths=df_grouped_deaths.sort_values(deaths_latest,ascending=False).head(10).drop(['Lat', 'Long'],axis=1).T\n",
    "\n",
    "# df_deaths_total\n",
    "covid19_deaths.loc[\"Total\"] = covid19_deaths.sum()\n",
    "df_deaths_total=covid19_deaths.iloc[-1,4:]\n",
    "\n",
    "deaths_latest"
   ]
  },
  {
   "cell_type": "code",
   "execution_count": 4,
   "metadata": {
    "execution": {
     "iopub.execute_input": "2020-07-03T04:00:06.543935Z",
     "iopub.status.busy": "2020-07-03T04:00:06.541523Z",
     "iopub.status.idle": "2020-07-03T04:00:06.834799Z",
     "shell.execute_reply": "2020-07-03T04:00:06.835267Z"
    },
    "papermill": {
     "duration": 0.303022,
     "end_time": "2020-07-03T04:00:06.835429",
     "exception": false,
     "start_time": "2020-07-03T04:00:06.532407",
     "status": "completed"
    },
    "tags": []
   },
   "outputs": [
    {
     "data": {
      "text/plain": [
       "'7/1/20'"
      ]
     },
     "execution_count": 4,
     "metadata": {},
     "output_type": "execute_result"
    }
   ],
   "source": [
    "# recovered_global\n",
    "recovered_global='https://raw.githubusercontent.com/CSSEGISandData/COVID-19/master/csse_covid_19_data/csse_covid_19_time_series/time_series_covid19_recovered_global.csv'\n",
    "covid19_recovered=pd.read_csv(recovered_global,index_col='Country/Region')\n",
    "\n",
    "# recovered_latest\n",
    "recovered_latest = covid19_recovered.T.index.values[-1]\n",
    "\n",
    "# df_recovered\n",
    "df_grouped_recv=covid19_recovered.groupby('Country/Region').sum()\n",
    "df_recovered=df_grouped_recv.sort_values(recovered_latest,ascending=False).head(10).drop(['Lat', 'Long'],axis=1).T\n",
    "\n",
    "# df_recovered_total\n",
    "covid19_recovered.loc[\"Total\"] = covid19_recovered.sum()\n",
    "df_recovered_total=covid19_recovered.iloc[-1,4:]\n",
    "\n",
    "recovered_latest"
   ]
  },
  {
   "cell_type": "code",
   "execution_count": null,
   "metadata": {
    "papermill": {
     "duration": 0.004731,
     "end_time": "2020-07-03T04:00:06.845027",
     "exception": false,
     "start_time": "2020-07-03T04:00:06.840296",
     "status": "completed"
    },
    "tags": []
   },
   "outputs": [],
   "source": []
  }
 ],
 "metadata": {
  "kernelspec": {
   "display_name": "Python 3",
   "language": "python",
   "name": "python3"
  },
  "language_info": {
   "codemirror_mode": {
    "name": "ipython",
    "version": 3
   },
   "file_extension": ".py",
   "mimetype": "text/x-python",
   "name": "python",
   "nbconvert_exporter": "python",
   "pygments_lexer": "ipython3",
   "version": "3.8.2"
  },
  "papermill": {
   "duration": 4.765903,
   "end_time": "2020-07-03T04:00:07.214018",
   "environment_variables": {},
   "exception": null,
   "input_path": "covid-19-data.ipynb",
   "output_path": "./latest/covid-19-data.ipynb",
   "parameters": {},
   "start_time": "2020-07-03T04:00:02.448115",
   "version": "2.1.1"
  }
 },
 "nbformat": 4,
 "nbformat_minor": 4
}