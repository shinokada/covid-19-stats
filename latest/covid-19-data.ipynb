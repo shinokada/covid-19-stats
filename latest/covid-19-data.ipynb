{
 "cells": [
  {
   "cell_type": "code",
   "execution_count": 1,
   "metadata": {
    "execution": {
     "iopub.execute_input": "2020-08-04T04:00:07.958318Z",
     "iopub.status.busy": "2020-08-04T04:00:07.957673Z",
     "iopub.status.idle": "2020-08-04T04:00:07.976717Z",
     "shell.execute_reply": "2020-08-04T04:00:07.977253Z"
    },
    "papermill": {
     "duration": 0.027475,
     "end_time": "2020-08-04T04:00:07.977476",
     "exception": false,
     "start_time": "2020-08-04T04:00:07.950001",
     "status": "completed"
    },
    "tags": []
   },
   "outputs": [],
   "source": [
    "import pandas as pd\n",
    "import numpy as np"
   ]
  },
  {
   "cell_type": "code",
   "execution_count": 2,
   "metadata": {
    "execution": {
     "iopub.execute_input": "2020-08-04T04:00:07.991785Z",
     "iopub.status.busy": "2020-08-04T04:00:07.991137Z",
     "iopub.status.idle": "2020-08-04T04:00:08.313215Z",
     "shell.execute_reply": "2020-08-04T04:00:08.313686Z"
    },
    "papermill": {
     "duration": 0.331443,
     "end_time": "2020-08-04T04:00:08.313964",
     "exception": false,
     "start_time": "2020-08-04T04:00:07.982521",
     "status": "completed"
    },
    "tags": []
   },
   "outputs": [
    {
     "data": {
      "text/html": [
       "<div>\n",
       "<style scoped>\n",
       "    .dataframe tbody tr th:only-of-type {\n",
       "        vertical-align: middle;\n",
       "    }\n",
       "\n",
       "    .dataframe tbody tr th {\n",
       "        vertical-align: top;\n",
       "    }\n",
       "\n",
       "    .dataframe thead th {\n",
       "        text-align: right;\n",
       "    }\n",
       "</style>\n",
       "<table border=\"1\" class=\"dataframe\">\n",
       "  <thead>\n",
       "    <tr style=\"text-align: right;\">\n",
       "      <th>Country/Region</th>\n",
       "      <th>US</th>\n",
       "      <th>Brazil</th>\n",
       "      <th>India</th>\n",
       "      <th>Russia</th>\n",
       "      <th>South Africa</th>\n",
       "      <th>Mexico</th>\n",
       "      <th>Peru</th>\n",
       "      <th>Chile</th>\n",
       "      <th>Colombia</th>\n",
       "      <th>Iran</th>\n",
       "    </tr>\n",
       "  </thead>\n",
       "  <tbody>\n",
       "    <tr>\n",
       "      <th>1/22/20</th>\n",
       "      <td>1</td>\n",
       "      <td>0</td>\n",
       "      <td>0</td>\n",
       "      <td>0</td>\n",
       "      <td>0</td>\n",
       "      <td>0</td>\n",
       "      <td>0</td>\n",
       "      <td>0</td>\n",
       "      <td>0</td>\n",
       "      <td>0</td>\n",
       "    </tr>\n",
       "    <tr>\n",
       "      <th>1/23/20</th>\n",
       "      <td>1</td>\n",
       "      <td>0</td>\n",
       "      <td>0</td>\n",
       "      <td>0</td>\n",
       "      <td>0</td>\n",
       "      <td>0</td>\n",
       "      <td>0</td>\n",
       "      <td>0</td>\n",
       "      <td>0</td>\n",
       "      <td>0</td>\n",
       "    </tr>\n",
       "    <tr>\n",
       "      <th>1/24/20</th>\n",
       "      <td>2</td>\n",
       "      <td>0</td>\n",
       "      <td>0</td>\n",
       "      <td>0</td>\n",
       "      <td>0</td>\n",
       "      <td>0</td>\n",
       "      <td>0</td>\n",
       "      <td>0</td>\n",
       "      <td>0</td>\n",
       "      <td>0</td>\n",
       "    </tr>\n",
       "    <tr>\n",
       "      <th>1/25/20</th>\n",
       "      <td>2</td>\n",
       "      <td>0</td>\n",
       "      <td>0</td>\n",
       "      <td>0</td>\n",
       "      <td>0</td>\n",
       "      <td>0</td>\n",
       "      <td>0</td>\n",
       "      <td>0</td>\n",
       "      <td>0</td>\n",
       "      <td>0</td>\n",
       "    </tr>\n",
       "    <tr>\n",
       "      <th>1/26/20</th>\n",
       "      <td>5</td>\n",
       "      <td>0</td>\n",
       "      <td>0</td>\n",
       "      <td>0</td>\n",
       "      <td>0</td>\n",
       "      <td>0</td>\n",
       "      <td>0</td>\n",
       "      <td>0</td>\n",
       "      <td>0</td>\n",
       "      <td>0</td>\n",
       "    </tr>\n",
       "    <tr>\n",
       "      <th>...</th>\n",
       "      <td>...</td>\n",
       "      <td>...</td>\n",
       "      <td>...</td>\n",
       "      <td>...</td>\n",
       "      <td>...</td>\n",
       "      <td>...</td>\n",
       "      <td>...</td>\n",
       "      <td>...</td>\n",
       "      <td>...</td>\n",
       "      <td>...</td>\n",
       "    </tr>\n",
       "    <tr>\n",
       "      <th>7/29/20</th>\n",
       "      <td>4426982</td>\n",
       "      <td>2552265</td>\n",
       "      <td>1581963</td>\n",
       "      <td>827509</td>\n",
       "      <td>471123</td>\n",
       "      <td>408449</td>\n",
       "      <td>400683</td>\n",
       "      <td>351575</td>\n",
       "      <td>276055</td>\n",
       "      <td>298909</td>\n",
       "    </tr>\n",
       "    <tr>\n",
       "      <th>7/30/20</th>\n",
       "      <td>4495015</td>\n",
       "      <td>2610102</td>\n",
       "      <td>1634746</td>\n",
       "      <td>832993</td>\n",
       "      <td>482169</td>\n",
       "      <td>416179</td>\n",
       "      <td>400683</td>\n",
       "      <td>353536</td>\n",
       "      <td>286020</td>\n",
       "      <td>301530</td>\n",
       "    </tr>\n",
       "    <tr>\n",
       "      <th>7/31/20</th>\n",
       "      <td>4562038</td>\n",
       "      <td>2662485</td>\n",
       "      <td>1695988</td>\n",
       "      <td>838461</td>\n",
       "      <td>493183</td>\n",
       "      <td>424637</td>\n",
       "      <td>407492</td>\n",
       "      <td>355667</td>\n",
       "      <td>295508</td>\n",
       "      <td>304204</td>\n",
       "    </tr>\n",
       "    <tr>\n",
       "      <th>8/1/20</th>\n",
       "      <td>4620444</td>\n",
       "      <td>2707877</td>\n",
       "      <td>1750723</td>\n",
       "      <td>843890</td>\n",
       "      <td>503290</td>\n",
       "      <td>434193</td>\n",
       "      <td>407492</td>\n",
       "      <td>357658</td>\n",
       "      <td>306181</td>\n",
       "      <td>306752</td>\n",
       "    </tr>\n",
       "    <tr>\n",
       "      <th>8/2/20</th>\n",
       "      <td>4667955</td>\n",
       "      <td>2733677</td>\n",
       "      <td>1803695</td>\n",
       "      <td>849277</td>\n",
       "      <td>511485</td>\n",
       "      <td>439046</td>\n",
       "      <td>428850</td>\n",
       "      <td>359731</td>\n",
       "      <td>317651</td>\n",
       "      <td>309437</td>\n",
       "    </tr>\n",
       "  </tbody>\n",
       "</table>\n",
       "<p>194 rows × 10 columns</p>\n",
       "</div>"
      ],
      "text/plain": [
       "Country/Region       US   Brazil    India  Russia  South Africa  Mexico  \\\n",
       "1/22/20               1        0        0       0             0       0   \n",
       "1/23/20               1        0        0       0             0       0   \n",
       "1/24/20               2        0        0       0             0       0   \n",
       "1/25/20               2        0        0       0             0       0   \n",
       "1/26/20               5        0        0       0             0       0   \n",
       "...                 ...      ...      ...     ...           ...     ...   \n",
       "7/29/20         4426982  2552265  1581963  827509        471123  408449   \n",
       "7/30/20         4495015  2610102  1634746  832993        482169  416179   \n",
       "7/31/20         4562038  2662485  1695988  838461        493183  424637   \n",
       "8/1/20          4620444  2707877  1750723  843890        503290  434193   \n",
       "8/2/20          4667955  2733677  1803695  849277        511485  439046   \n",
       "\n",
       "Country/Region    Peru   Chile  Colombia    Iran  \n",
       "1/22/20              0       0         0       0  \n",
       "1/23/20              0       0         0       0  \n",
       "1/24/20              0       0         0       0  \n",
       "1/25/20              0       0         0       0  \n",
       "1/26/20              0       0         0       0  \n",
       "...                ...     ...       ...     ...  \n",
       "7/29/20         400683  351575    276055  298909  \n",
       "7/30/20         400683  353536    286020  301530  \n",
       "7/31/20         407492  355667    295508  304204  \n",
       "8/1/20          407492  357658    306181  306752  \n",
       "8/2/20          428850  359731    317651  309437  \n",
       "\n",
       "[194 rows x 10 columns]"
      ]
     },
     "metadata": {},
     "output_type": "display_data"
    }
   ],
   "source": [
    "# confirmed_global\n",
    "confirmed_global='https://raw.githubusercontent.com/CSSEGISandData/COVID-19/master/csse_covid_19_data/csse_covid_19_time_series/time_series_covid19_confirmed_global.csv'\n",
    "covid19_confirmed=pd.read_csv(confirmed_global,index_col='Country/Region')\n",
    "\n",
    "\n",
    "# confirmed_latest\n",
    "confirmed_latest = covid19_confirmed.T.index.values[-1]\n",
    "# display(confirmed_latest)\n",
    "\n",
    "# df_confirmed\n",
    "df_grouped_conf=covid19_confirmed.groupby('Country/Region').sum()\n",
    "\n",
    "# display(df_grouped_conf.head(10))\n",
    "df_confirmed=df_grouped_conf.sort_values(by=confirmed_latest,ascending=False).head(10).drop(['Lat', 'Long'],axis=1).T\n",
    "# display(df_grouped_conf)\n",
    "display(df_confirmed)\n",
    "\n",
    "# display(df_confirmed)\n",
    "# df_confirmed_total\n",
    "covid19_confirmed.loc[\"Total\"] = covid19_confirmed.sum()\n",
    "df_confirmed_total=covid19_confirmed.iloc[-1,4:]\n",
    "\n",
    "# confirmed_latest"
   ]
  },
  {
   "cell_type": "code",
   "execution_count": 3,
   "metadata": {
    "execution": {
     "iopub.execute_input": "2020-08-04T04:00:08.329765Z",
     "iopub.status.busy": "2020-08-04T04:00:08.328711Z",
     "iopub.status.idle": "2020-08-04T04:00:08.513214Z",
     "shell.execute_reply": "2020-08-04T04:00:08.514424Z"
    },
    "papermill": {
     "duration": 0.195098,
     "end_time": "2020-08-04T04:00:08.514701",
     "exception": false,
     "start_time": "2020-08-04T04:00:08.319603",
     "status": "completed"
    },
    "tags": []
   },
   "outputs": [
    {
     "data": {
      "text/plain": [
       "'8/2/20'"
      ]
     },
     "execution_count": 3,
     "metadata": {},
     "output_type": "execute_result"
    }
   ],
   "source": [
    "# deaths_global\n",
    "deaths_global='https://raw.githubusercontent.com/CSSEGISandData/COVID-19/master/csse_covid_19_data/csse_covid_19_time_series/time_series_covid19_deaths_global.csv'\n",
    "covid19_deaths=pd.read_csv(deaths_global,index_col='Country/Region')\n",
    "\n",
    "# deaths_latest\n",
    "deaths_latest = covid19_deaths.T.index.values[-1]\n",
    "\n",
    "# df_deaths\n",
    "df_grouped_deaths=covid19_deaths.groupby('Country/Region').sum()\n",
    "df_deaths=df_grouped_deaths.sort_values(deaths_latest,ascending=False).head(10).drop(['Lat', 'Long'],axis=1).T\n",
    "\n",
    "# df_deaths_total\n",
    "covid19_deaths.loc[\"Total\"] = covid19_deaths.sum()\n",
    "df_deaths_total=covid19_deaths.iloc[-1,4:]\n",
    "\n",
    "deaths_latest"
   ]
  },
  {
   "cell_type": "code",
   "execution_count": 4,
   "metadata": {
    "execution": {
     "iopub.execute_input": "2020-08-04T04:00:08.529033Z",
     "iopub.status.busy": "2020-08-04T04:00:08.528285Z",
     "iopub.status.idle": "2020-08-04T04:00:08.727231Z",
     "shell.execute_reply": "2020-08-04T04:00:08.727813Z"
    },
    "papermill": {
     "duration": 0.208656,
     "end_time": "2020-08-04T04:00:08.728009",
     "exception": false,
     "start_time": "2020-08-04T04:00:08.519353",
     "status": "completed"
    },
    "tags": []
   },
   "outputs": [
    {
     "data": {
      "text/plain": [
       "'8/2/20'"
      ]
     },
     "execution_count": 4,
     "metadata": {},
     "output_type": "execute_result"
    }
   ],
   "source": [
    "# recovered_global\n",
    "recovered_global='https://raw.githubusercontent.com/CSSEGISandData/COVID-19/master/csse_covid_19_data/csse_covid_19_time_series/time_series_covid19_recovered_global.csv'\n",
    "covid19_recovered=pd.read_csv(recovered_global,index_col='Country/Region')\n",
    "\n",
    "# recovered_latest\n",
    "recovered_latest = covid19_recovered.T.index.values[-1]\n",
    "\n",
    "# df_recovered\n",
    "df_grouped_recv=covid19_recovered.groupby('Country/Region').sum()\n",
    "df_recovered=df_grouped_recv.sort_values(recovered_latest,ascending=False).head(10).drop(['Lat', 'Long'],axis=1).T\n",
    "\n",
    "# df_recovered_total\n",
    "covid19_recovered.loc[\"Total\"] = covid19_recovered.sum()\n",
    "df_recovered_total=covid19_recovered.iloc[-1,4:]\n",
    "\n",
    "recovered_latest"
   ]
  },
  {
   "cell_type": "code",
   "execution_count": null,
   "metadata": {
    "papermill": {
     "duration": 0.004558,
     "end_time": "2020-08-04T04:00:08.737377",
     "exception": false,
     "start_time": "2020-08-04T04:00:08.732819",
     "status": "completed"
    },
    "tags": []
   },
   "outputs": [],
   "source": []
  }
 ],
 "metadata": {
  "kernelspec": {
   "display_name": "Python 3",
   "language": "python",
   "name": "python3"
  },
  "language_info": {
   "codemirror_mode": {
    "name": "ipython",
    "version": 3
   },
   "file_extension": ".py",
   "mimetype": "text/x-python",
   "name": "python",
   "nbconvert_exporter": "python",
   "pygments_lexer": "ipython3",
   "version": "3.8.2"
  },
  "papermill": {
   "duration": 4.060399,
   "end_time": "2020-08-04T04:00:09.185591",
   "environment_variables": {},
   "exception": null,
   "input_path": "covid-19-data.ipynb",
   "output_path": "./latest/covid-19-data.ipynb",
   "parameters": {},
   "start_time": "2020-08-04T04:00:05.125192",
   "version": "2.1.2"
  }
 },
 "nbformat": 4,
 "nbformat_minor": 4
}