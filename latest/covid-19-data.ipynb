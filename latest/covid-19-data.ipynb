{
 "cells": [
  {
   "cell_type": "code",
   "execution_count": 1,
   "metadata": {
    "execution": {
     "iopub.execute_input": "2020-06-26T04:00:06.476406Z",
     "iopub.status.busy": "2020-06-26T04:00:06.475435Z",
     "iopub.status.idle": "2020-06-26T04:00:06.497496Z",
     "shell.execute_reply": "2020-06-26T04:00:06.498570Z"
    },
    "papermill": {
     "duration": 0.04192,
     "end_time": "2020-06-26T04:00:06.498948",
     "exception": false,
     "start_time": "2020-06-26T04:00:06.457028",
     "status": "completed"
    },
    "tags": []
   },
   "outputs": [],
   "source": [
    "import pandas as pd\n",
    "import numpy as np"
   ]
  },
  {
   "cell_type": "code",
   "execution_count": 2,
   "metadata": {
    "execution": {
     "iopub.execute_input": "2020-06-26T04:00:06.518312Z",
     "iopub.status.busy": "2020-06-26T04:00:06.517355Z",
     "iopub.status.idle": "2020-06-26T04:00:06.860801Z",
     "shell.execute_reply": "2020-06-26T04:00:06.861532Z"
    },
    "papermill": {
     "duration": 0.356618,
     "end_time": "2020-06-26T04:00:06.861762",
     "exception": false,
     "start_time": "2020-06-26T04:00:06.505144",
     "status": "completed"
    },
    "tags": []
   },
   "outputs": [
    {
     "data": {
      "text/html": [
       "<div>\n",
       "<style scoped>\n",
       "    .dataframe tbody tr th:only-of-type {\n",
       "        vertical-align: middle;\n",
       "    }\n",
       "\n",
       "    .dataframe tbody tr th {\n",
       "        vertical-align: top;\n",
       "    }\n",
       "\n",
       "    .dataframe thead th {\n",
       "        text-align: right;\n",
       "    }\n",
       "</style>\n",
       "<table border=\"1\" class=\"dataframe\">\n",
       "  <thead>\n",
       "    <tr style=\"text-align: right;\">\n",
       "      <th>Country/Region</th>\n",
       "      <th>US</th>\n",
       "      <th>Brazil</th>\n",
       "      <th>Russia</th>\n",
       "      <th>India</th>\n",
       "      <th>United Kingdom</th>\n",
       "      <th>Peru</th>\n",
       "      <th>Chile</th>\n",
       "      <th>Spain</th>\n",
       "      <th>Italy</th>\n",
       "      <th>Iran</th>\n",
       "    </tr>\n",
       "  </thead>\n",
       "  <tbody>\n",
       "    <tr>\n",
       "      <th>1/22/20</th>\n",
       "      <td>1</td>\n",
       "      <td>0</td>\n",
       "      <td>0</td>\n",
       "      <td>0</td>\n",
       "      <td>0</td>\n",
       "      <td>0</td>\n",
       "      <td>0</td>\n",
       "      <td>0</td>\n",
       "      <td>0</td>\n",
       "      <td>0</td>\n",
       "    </tr>\n",
       "    <tr>\n",
       "      <th>1/23/20</th>\n",
       "      <td>1</td>\n",
       "      <td>0</td>\n",
       "      <td>0</td>\n",
       "      <td>0</td>\n",
       "      <td>0</td>\n",
       "      <td>0</td>\n",
       "      <td>0</td>\n",
       "      <td>0</td>\n",
       "      <td>0</td>\n",
       "      <td>0</td>\n",
       "    </tr>\n",
       "    <tr>\n",
       "      <th>1/24/20</th>\n",
       "      <td>2</td>\n",
       "      <td>0</td>\n",
       "      <td>0</td>\n",
       "      <td>0</td>\n",
       "      <td>0</td>\n",
       "      <td>0</td>\n",
       "      <td>0</td>\n",
       "      <td>0</td>\n",
       "      <td>0</td>\n",
       "      <td>0</td>\n",
       "    </tr>\n",
       "    <tr>\n",
       "      <th>1/25/20</th>\n",
       "      <td>2</td>\n",
       "      <td>0</td>\n",
       "      <td>0</td>\n",
       "      <td>0</td>\n",
       "      <td>0</td>\n",
       "      <td>0</td>\n",
       "      <td>0</td>\n",
       "      <td>0</td>\n",
       "      <td>0</td>\n",
       "      <td>0</td>\n",
       "    </tr>\n",
       "    <tr>\n",
       "      <th>1/26/20</th>\n",
       "      <td>5</td>\n",
       "      <td>0</td>\n",
       "      <td>0</td>\n",
       "      <td>0</td>\n",
       "      <td>0</td>\n",
       "      <td>0</td>\n",
       "      <td>0</td>\n",
       "      <td>0</td>\n",
       "      <td>0</td>\n",
       "      <td>0</td>\n",
       "    </tr>\n",
       "    <tr>\n",
       "      <th>...</th>\n",
       "      <td>...</td>\n",
       "      <td>...</td>\n",
       "      <td>...</td>\n",
       "      <td>...</td>\n",
       "      <td>...</td>\n",
       "      <td>...</td>\n",
       "      <td>...</td>\n",
       "      <td>...</td>\n",
       "      <td>...</td>\n",
       "      <td>...</td>\n",
       "    </tr>\n",
       "    <tr>\n",
       "      <th>6/20/20</th>\n",
       "      <td>2255297</td>\n",
       "      <td>1067579</td>\n",
       "      <td>576162</td>\n",
       "      <td>410451</td>\n",
       "      <td>304580</td>\n",
       "      <td>251338</td>\n",
       "      <td>236748</td>\n",
       "      <td>245938</td>\n",
       "      <td>238275</td>\n",
       "      <td>202584</td>\n",
       "    </tr>\n",
       "    <tr>\n",
       "      <th>6/21/20</th>\n",
       "      <td>2281655</td>\n",
       "      <td>1083341</td>\n",
       "      <td>583879</td>\n",
       "      <td>425282</td>\n",
       "      <td>305803</td>\n",
       "      <td>254936</td>\n",
       "      <td>242355</td>\n",
       "      <td>246272</td>\n",
       "      <td>238499</td>\n",
       "      <td>204952</td>\n",
       "    </tr>\n",
       "    <tr>\n",
       "      <th>6/22/20</th>\n",
       "      <td>2312302</td>\n",
       "      <td>1106470</td>\n",
       "      <td>591465</td>\n",
       "      <td>440215</td>\n",
       "      <td>306761</td>\n",
       "      <td>257447</td>\n",
       "      <td>246963</td>\n",
       "      <td>246504</td>\n",
       "      <td>238720</td>\n",
       "      <td>207525</td>\n",
       "    </tr>\n",
       "    <tr>\n",
       "      <th>6/23/20</th>\n",
       "      <td>2347491</td>\n",
       "      <td>1145906</td>\n",
       "      <td>598878</td>\n",
       "      <td>456183</td>\n",
       "      <td>307682</td>\n",
       "      <td>260810</td>\n",
       "      <td>250767</td>\n",
       "      <td>246752</td>\n",
       "      <td>238833</td>\n",
       "      <td>209970</td>\n",
       "    </tr>\n",
       "    <tr>\n",
       "      <th>6/24/20</th>\n",
       "      <td>2382327</td>\n",
       "      <td>1188631</td>\n",
       "      <td>606043</td>\n",
       "      <td>473105</td>\n",
       "      <td>308337</td>\n",
       "      <td>264689</td>\n",
       "      <td>254416</td>\n",
       "      <td>247086</td>\n",
       "      <td>239410</td>\n",
       "      <td>212501</td>\n",
       "    </tr>\n",
       "  </tbody>\n",
       "</table>\n",
       "<p>155 rows × 10 columns</p>\n",
       "</div>"
      ],
      "text/plain": [
       "Country/Region       US   Brazil  Russia   India  United Kingdom    Peru  \\\n",
       "1/22/20               1        0       0       0               0       0   \n",
       "1/23/20               1        0       0       0               0       0   \n",
       "1/24/20               2        0       0       0               0       0   \n",
       "1/25/20               2        0       0       0               0       0   \n",
       "1/26/20               5        0       0       0               0       0   \n",
       "...                 ...      ...     ...     ...             ...     ...   \n",
       "6/20/20         2255297  1067579  576162  410451          304580  251338   \n",
       "6/21/20         2281655  1083341  583879  425282          305803  254936   \n",
       "6/22/20         2312302  1106470  591465  440215          306761  257447   \n",
       "6/23/20         2347491  1145906  598878  456183          307682  260810   \n",
       "6/24/20         2382327  1188631  606043  473105          308337  264689   \n",
       "\n",
       "Country/Region   Chile   Spain   Italy    Iran  \n",
       "1/22/20              0       0       0       0  \n",
       "1/23/20              0       0       0       0  \n",
       "1/24/20              0       0       0       0  \n",
       "1/25/20              0       0       0       0  \n",
       "1/26/20              0       0       0       0  \n",
       "...                ...     ...     ...     ...  \n",
       "6/20/20         236748  245938  238275  202584  \n",
       "6/21/20         242355  246272  238499  204952  \n",
       "6/22/20         246963  246504  238720  207525  \n",
       "6/23/20         250767  246752  238833  209970  \n",
       "6/24/20         254416  247086  239410  212501  \n",
       "\n",
       "[155 rows x 10 columns]"
      ]
     },
     "metadata": {},
     "output_type": "display_data"
    }
   ],
   "source": [
    "# confirmed_global\n",
    "confirmed_global='https://raw.githubusercontent.com/CSSEGISandData/COVID-19/master/csse_covid_19_data/csse_covid_19_time_series/time_series_covid19_confirmed_global.csv'\n",
    "covid19_confirmed=pd.read_csv(confirmed_global,index_col='Country/Region')\n",
    "\n",
    "\n",
    "# confirmed_latest\n",
    "confirmed_latest = covid19_confirmed.T.index.values[-1]\n",
    "# display(confirmed_latest)\n",
    "\n",
    "# df_confirmed\n",
    "df_grouped_conf=covid19_confirmed.groupby('Country/Region').sum()\n",
    "\n",
    "# display(df_grouped_conf.head(10))\n",
    "df_confirmed=df_grouped_conf.sort_values(by=confirmed_latest,ascending=False).head(10).drop(['Lat', 'Long'],axis=1).T\n",
    "# display(df_grouped_conf)\n",
    "display(df_confirmed)\n",
    "\n",
    "# display(df_confirmed)\n",
    "# df_confirmed_total\n",
    "covid19_confirmed.loc[\"Total\"] = covid19_confirmed.sum()\n",
    "df_confirmed_total=covid19_confirmed.iloc[-1,4:]\n",
    "\n",
    "# confirmed_latest"
   ]
  },
  {
   "cell_type": "code",
   "execution_count": 3,
   "metadata": {
    "execution": {
     "iopub.execute_input": "2020-06-26T04:00:06.881657Z",
     "iopub.status.busy": "2020-06-26T04:00:06.880691Z",
     "iopub.status.idle": "2020-06-26T04:00:07.124423Z",
     "shell.execute_reply": "2020-06-26T04:00:07.125120Z"
    },
    "papermill": {
     "duration": 0.25713,
     "end_time": "2020-06-26T04:00:07.125346",
     "exception": false,
     "start_time": "2020-06-26T04:00:06.868216",
     "status": "completed"
    },
    "tags": []
   },
   "outputs": [
    {
     "data": {
      "text/plain": [
       "'6/24/20'"
      ]
     },
     "execution_count": 3,
     "metadata": {},
     "output_type": "execute_result"
    }
   ],
   "source": [
    "# deaths_global\n",
    "deaths_global='https://raw.githubusercontent.com/CSSEGISandData/COVID-19/master/csse_covid_19_data/csse_covid_19_time_series/time_series_covid19_deaths_global.csv'\n",
    "covid19_deaths=pd.read_csv(deaths_global,index_col='Country/Region')\n",
    "\n",
    "# deaths_latest\n",
    "deaths_latest = covid19_deaths.T.index.values[-1]\n",
    "\n",
    "# df_deaths\n",
    "df_grouped_deaths=covid19_deaths.groupby('Country/Region').sum()\n",
    "df_deaths=df_grouped_deaths.sort_values(deaths_latest,ascending=False).head(10).drop(['Lat', 'Long'],axis=1).T\n",
    "\n",
    "# df_deaths_total\n",
    "covid19_deaths.loc[\"Total\"] = covid19_deaths.sum()\n",
    "df_deaths_total=covid19_deaths.iloc[-1,4:]\n",
    "\n",
    "deaths_latest"
   ]
  },
  {
   "cell_type": "code",
   "execution_count": 4,
   "metadata": {
    "execution": {
     "iopub.execute_input": "2020-06-26T04:00:07.146983Z",
     "iopub.status.busy": "2020-06-26T04:00:07.145632Z",
     "iopub.status.idle": "2020-06-26T04:00:07.361717Z",
     "shell.execute_reply": "2020-06-26T04:00:07.362654Z"
    },
    "papermill": {
     "duration": 0.231164,
     "end_time": "2020-06-26T04:00:07.362917",
     "exception": false,
     "start_time": "2020-06-26T04:00:07.131753",
     "status": "completed"
    },
    "tags": []
   },
   "outputs": [
    {
     "data": {
      "text/plain": [
       "'6/24/20'"
      ]
     },
     "execution_count": 4,
     "metadata": {},
     "output_type": "execute_result"
    }
   ],
   "source": [
    "# recovered_global\n",
    "recovered_global='https://raw.githubusercontent.com/CSSEGISandData/COVID-19/master/csse_covid_19_data/csse_covid_19_time_series/time_series_covid19_recovered_global.csv'\n",
    "covid19_recovered=pd.read_csv(recovered_global,index_col='Country/Region')\n",
    "\n",
    "# recovered_latest\n",
    "recovered_latest = covid19_recovered.T.index.values[-1]\n",
    "\n",
    "# df_recovered\n",
    "df_grouped_recv=covid19_recovered.groupby('Country/Region').sum()\n",
    "df_recovered=df_grouped_recv.sort_values(recovered_latest,ascending=False).head(10).drop(['Lat', 'Long'],axis=1).T\n",
    "\n",
    "# df_recovered_total\n",
    "covid19_recovered.loc[\"Total\"] = covid19_recovered.sum()\n",
    "df_recovered_total=covid19_recovered.iloc[-1,4:]\n",
    "\n",
    "recovered_latest"
   ]
  },
  {
   "cell_type": "code",
   "execution_count": null,
   "metadata": {
    "papermill": {
     "duration": 0.006107,
     "end_time": "2020-06-26T04:00:07.377084",
     "exception": false,
     "start_time": "2020-06-26T04:00:07.370977",
     "status": "completed"
    },
    "tags": []
   },
   "outputs": [],
   "source": []
  }
 ],
 "metadata": {
  "kernelspec": {
   "display_name": "Python 3",
   "language": "python",
   "name": "python3"
  },
  "language_info": {
   "codemirror_mode": {
    "name": "ipython",
    "version": 3
   },
   "file_extension": ".py",
   "mimetype": "text/x-python",
   "name": "python",
   "nbconvert_exporter": "python",
   "pygments_lexer": "ipython3",
   "version": "3.8.2"
  },
  "papermill": {
   "duration": 5.515457,
   "end_time": "2020-06-26T04:00:07.918270",
   "environment_variables": {},
   "exception": null,
   "input_path": "covid-19-data.ipynb",
   "output_path": "./latest/covid-19-data.ipynb",
   "parameters": {},
   "start_time": "2020-06-26T04:00:02.402813",
   "version": "2.1.1"
  }
 },
 "nbformat": 4,
 "nbformat_minor": 4
}