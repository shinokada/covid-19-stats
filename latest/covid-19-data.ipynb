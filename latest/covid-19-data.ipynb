{
 "cells": [
  {
   "cell_type": "code",
   "execution_count": 1,
   "metadata": {
    "execution": {
     "iopub.execute_input": "2020-06-13T04:00:06.408337Z",
     "iopub.status.busy": "2020-06-13T04:00:06.407229Z",
     "iopub.status.idle": "2020-06-13T04:00:06.445605Z",
     "shell.execute_reply": "2020-06-13T04:00:06.444637Z"
    },
    "papermill": {
     "duration": 0.050871,
     "end_time": "2020-06-13T04:00:06.445913",
     "exception": false,
     "start_time": "2020-06-13T04:00:06.395042",
     "status": "completed"
    },
    "tags": []
   },
   "outputs": [],
   "source": [
    "import pandas as pd\n",
    "import numpy as np"
   ]
  },
  {
   "cell_type": "code",
   "execution_count": 2,
   "metadata": {
    "execution": {
     "iopub.execute_input": "2020-06-13T04:00:06.469540Z",
     "iopub.status.busy": "2020-06-13T04:00:06.468489Z",
     "iopub.status.idle": "2020-06-13T04:00:06.740251Z",
     "shell.execute_reply": "2020-06-13T04:00:06.740945Z"
    },
    "papermill": {
     "duration": 0.285657,
     "end_time": "2020-06-13T04:00:06.741171",
     "exception": false,
     "start_time": "2020-06-13T04:00:06.455514",
     "status": "completed"
    },
    "tags": []
   },
   "outputs": [
    {
     "data": {
      "text/html": [
       "<div>\n",
       "<style scoped>\n",
       "    .dataframe tbody tr th:only-of-type {\n",
       "        vertical-align: middle;\n",
       "    }\n",
       "\n",
       "    .dataframe tbody tr th {\n",
       "        vertical-align: top;\n",
       "    }\n",
       "\n",
       "    .dataframe thead th {\n",
       "        text-align: right;\n",
       "    }\n",
       "</style>\n",
       "<table border=\"1\" class=\"dataframe\">\n",
       "  <thead>\n",
       "    <tr style=\"text-align: right;\">\n",
       "      <th>Country/Region</th>\n",
       "      <th>US</th>\n",
       "      <th>Brazil</th>\n",
       "      <th>Russia</th>\n",
       "      <th>India</th>\n",
       "      <th>United Kingdom</th>\n",
       "      <th>Spain</th>\n",
       "      <th>Italy</th>\n",
       "      <th>Peru</th>\n",
       "      <th>France</th>\n",
       "      <th>Germany</th>\n",
       "    </tr>\n",
       "  </thead>\n",
       "  <tbody>\n",
       "    <tr>\n",
       "      <th>1/22/20</th>\n",
       "      <td>1</td>\n",
       "      <td>0</td>\n",
       "      <td>0</td>\n",
       "      <td>0</td>\n",
       "      <td>0</td>\n",
       "      <td>0</td>\n",
       "      <td>0</td>\n",
       "      <td>0</td>\n",
       "      <td>0</td>\n",
       "      <td>0</td>\n",
       "    </tr>\n",
       "    <tr>\n",
       "      <th>1/23/20</th>\n",
       "      <td>1</td>\n",
       "      <td>0</td>\n",
       "      <td>0</td>\n",
       "      <td>0</td>\n",
       "      <td>0</td>\n",
       "      <td>0</td>\n",
       "      <td>0</td>\n",
       "      <td>0</td>\n",
       "      <td>0</td>\n",
       "      <td>0</td>\n",
       "    </tr>\n",
       "    <tr>\n",
       "      <th>1/24/20</th>\n",
       "      <td>2</td>\n",
       "      <td>0</td>\n",
       "      <td>0</td>\n",
       "      <td>0</td>\n",
       "      <td>0</td>\n",
       "      <td>0</td>\n",
       "      <td>0</td>\n",
       "      <td>0</td>\n",
       "      <td>2</td>\n",
       "      <td>0</td>\n",
       "    </tr>\n",
       "    <tr>\n",
       "      <th>1/25/20</th>\n",
       "      <td>2</td>\n",
       "      <td>0</td>\n",
       "      <td>0</td>\n",
       "      <td>0</td>\n",
       "      <td>0</td>\n",
       "      <td>0</td>\n",
       "      <td>0</td>\n",
       "      <td>0</td>\n",
       "      <td>3</td>\n",
       "      <td>0</td>\n",
       "    </tr>\n",
       "    <tr>\n",
       "      <th>1/26/20</th>\n",
       "      <td>5</td>\n",
       "      <td>0</td>\n",
       "      <td>0</td>\n",
       "      <td>0</td>\n",
       "      <td>0</td>\n",
       "      <td>0</td>\n",
       "      <td>0</td>\n",
       "      <td>0</td>\n",
       "      <td>3</td>\n",
       "      <td>0</td>\n",
       "    </tr>\n",
       "    <tr>\n",
       "      <th>...</th>\n",
       "      <td>...</td>\n",
       "      <td>...</td>\n",
       "      <td>...</td>\n",
       "      <td>...</td>\n",
       "      <td>...</td>\n",
       "      <td>...</td>\n",
       "      <td>...</td>\n",
       "      <td>...</td>\n",
       "      <td>...</td>\n",
       "      <td>...</td>\n",
       "    </tr>\n",
       "    <tr>\n",
       "      <th>6/8/20</th>\n",
       "      <td>1961621</td>\n",
       "      <td>707412</td>\n",
       "      <td>476043</td>\n",
       "      <td>265928</td>\n",
       "      <td>288834</td>\n",
       "      <td>241717</td>\n",
       "      <td>235278</td>\n",
       "      <td>199696</td>\n",
       "      <td>191313</td>\n",
       "      <td>186109</td>\n",
       "    </tr>\n",
       "    <tr>\n",
       "      <th>6/9/20</th>\n",
       "      <td>1979699</td>\n",
       "      <td>739503</td>\n",
       "      <td>484630</td>\n",
       "      <td>276146</td>\n",
       "      <td>290581</td>\n",
       "      <td>241966</td>\n",
       "      <td>235561</td>\n",
       "      <td>203736</td>\n",
       "      <td>191523</td>\n",
       "      <td>186506</td>\n",
       "    </tr>\n",
       "    <tr>\n",
       "      <th>6/10/20</th>\n",
       "      <td>2000702</td>\n",
       "      <td>772416</td>\n",
       "      <td>493023</td>\n",
       "      <td>286605</td>\n",
       "      <td>291588</td>\n",
       "      <td>242280</td>\n",
       "      <td>235763</td>\n",
       "      <td>208823</td>\n",
       "      <td>192068</td>\n",
       "      <td>186522</td>\n",
       "    </tr>\n",
       "    <tr>\n",
       "      <th>6/11/20</th>\n",
       "      <td>2023590</td>\n",
       "      <td>802828</td>\n",
       "      <td>501800</td>\n",
       "      <td>297535</td>\n",
       "      <td>292860</td>\n",
       "      <td>242707</td>\n",
       "      <td>236142</td>\n",
       "      <td>214788</td>\n",
       "      <td>192493</td>\n",
       "      <td>186691</td>\n",
       "    </tr>\n",
       "    <tr>\n",
       "      <th>6/12/20</th>\n",
       "      <td>2048986</td>\n",
       "      <td>828810</td>\n",
       "      <td>510761</td>\n",
       "      <td>297535</td>\n",
       "      <td>294402</td>\n",
       "      <td>243209</td>\n",
       "      <td>236305</td>\n",
       "      <td>214788</td>\n",
       "      <td>193220</td>\n",
       "      <td>187226</td>\n",
       "    </tr>\n",
       "  </tbody>\n",
       "</table>\n",
       "<p>143 rows × 10 columns</p>\n",
       "</div>"
      ],
      "text/plain": [
       "Country/Region       US  Brazil  Russia   India  United Kingdom   Spain  \\\n",
       "1/22/20               1       0       0       0               0       0   \n",
       "1/23/20               1       0       0       0               0       0   \n",
       "1/24/20               2       0       0       0               0       0   \n",
       "1/25/20               2       0       0       0               0       0   \n",
       "1/26/20               5       0       0       0               0       0   \n",
       "...                 ...     ...     ...     ...             ...     ...   \n",
       "6/8/20          1961621  707412  476043  265928          288834  241717   \n",
       "6/9/20          1979699  739503  484630  276146          290581  241966   \n",
       "6/10/20         2000702  772416  493023  286605          291588  242280   \n",
       "6/11/20         2023590  802828  501800  297535          292860  242707   \n",
       "6/12/20         2048986  828810  510761  297535          294402  243209   \n",
       "\n",
       "Country/Region   Italy    Peru  France  Germany  \n",
       "1/22/20              0       0       0        0  \n",
       "1/23/20              0       0       0        0  \n",
       "1/24/20              0       0       2        0  \n",
       "1/25/20              0       0       3        0  \n",
       "1/26/20              0       0       3        0  \n",
       "...                ...     ...     ...      ...  \n",
       "6/8/20          235278  199696  191313   186109  \n",
       "6/9/20          235561  203736  191523   186506  \n",
       "6/10/20         235763  208823  192068   186522  \n",
       "6/11/20         236142  214788  192493   186691  \n",
       "6/12/20         236305  214788  193220   187226  \n",
       "\n",
       "[143 rows x 10 columns]"
      ]
     },
     "metadata": {},
     "output_type": "display_data"
    }
   ],
   "source": [
    "# confirmed_global\n",
    "confirmed_global='https://raw.githubusercontent.com/CSSEGISandData/COVID-19/master/csse_covid_19_data/csse_covid_19_time_series/time_series_covid19_confirmed_global.csv'\n",
    "covid19_confirmed=pd.read_csv(confirmed_global,index_col='Country/Region')\n",
    "\n",
    "\n",
    "# confirmed_latest\n",
    "confirmed_latest = covid19_confirmed.T.index.values[-1]\n",
    "# display(confirmed_latest)\n",
    "\n",
    "# df_confirmed\n",
    "df_grouped_conf=covid19_confirmed.groupby('Country/Region').sum()\n",
    "\n",
    "# display(df_grouped_conf.head(10))\n",
    "df_confirmed=df_grouped_conf.sort_values(by=confirmed_latest,ascending=False).head(10).drop(['Lat', 'Long'],axis=1).T\n",
    "# display(df_grouped_conf)\n",
    "display(df_confirmed)\n",
    "\n",
    "# display(df_confirmed)\n",
    "# df_confirmed_total\n",
    "covid19_confirmed.loc[\"Total\"] = covid19_confirmed.sum()\n",
    "df_confirmed_total=covid19_confirmed.iloc[-1,4:]\n",
    "\n",
    "# confirmed_latest"
   ]
  },
  {
   "cell_type": "code",
   "execution_count": 3,
   "metadata": {
    "execution": {
     "iopub.execute_input": "2020-06-13T04:00:06.763846Z",
     "iopub.status.busy": "2020-06-13T04:00:06.762833Z",
     "iopub.status.idle": "2020-06-13T04:00:06.966422Z",
     "shell.execute_reply": "2020-06-13T04:00:06.967057Z"
    },
    "papermill": {
     "duration": 0.220832,
     "end_time": "2020-06-13T04:00:06.967288",
     "exception": false,
     "start_time": "2020-06-13T04:00:06.746456",
     "status": "completed"
    },
    "tags": []
   },
   "outputs": [
    {
     "data": {
      "text/plain": [
       "'6/12/20'"
      ]
     },
     "execution_count": 3,
     "metadata": {},
     "output_type": "execute_result"
    }
   ],
   "source": [
    "# deaths_global\n",
    "deaths_global='https://raw.githubusercontent.com/CSSEGISandData/COVID-19/master/csse_covid_19_data/csse_covid_19_time_series/time_series_covid19_deaths_global.csv'\n",
    "covid19_deaths=pd.read_csv(deaths_global,index_col='Country/Region')\n",
    "\n",
    "# deaths_latest\n",
    "deaths_latest = covid19_deaths.T.index.values[-1]\n",
    "\n",
    "# df_deaths\n",
    "df_grouped_deaths=covid19_deaths.groupby('Country/Region').sum()\n",
    "df_deaths=df_grouped_deaths.sort_values(deaths_latest,ascending=False).head(10).drop(['Lat', 'Long'],axis=1).T\n",
    "\n",
    "# df_deaths_total\n",
    "covid19_deaths.loc[\"Total\"] = covid19_deaths.sum()\n",
    "df_deaths_total=covid19_deaths.iloc[-1,4:]\n",
    "\n",
    "deaths_latest"
   ]
  },
  {
   "cell_type": "code",
   "execution_count": 4,
   "metadata": {
    "execution": {
     "iopub.execute_input": "2020-06-13T04:00:06.988834Z",
     "iopub.status.busy": "2020-06-13T04:00:06.985220Z",
     "iopub.status.idle": "2020-06-13T04:00:07.193973Z",
     "shell.execute_reply": "2020-06-13T04:00:07.195006Z"
    },
    "papermill": {
     "duration": 0.221328,
     "end_time": "2020-06-13T04:00:07.195245",
     "exception": false,
     "start_time": "2020-06-13T04:00:06.973917",
     "status": "completed"
    },
    "tags": []
   },
   "outputs": [
    {
     "data": {
      "text/plain": [
       "'6/12/20'"
      ]
     },
     "execution_count": 4,
     "metadata": {},
     "output_type": "execute_result"
    }
   ],
   "source": [
    "# recovered_global\n",
    "recovered_global='https://raw.githubusercontent.com/CSSEGISandData/COVID-19/master/csse_covid_19_data/csse_covid_19_time_series/time_series_covid19_recovered_global.csv'\n",
    "covid19_recovered=pd.read_csv(recovered_global,index_col='Country/Region')\n",
    "\n",
    "# recovered_latest\n",
    "recovered_latest = covid19_recovered.T.index.values[-1]\n",
    "\n",
    "# df_recovered\n",
    "df_grouped_recv=covid19_recovered.groupby('Country/Region').sum()\n",
    "df_recovered=df_grouped_recv.sort_values(recovered_latest,ascending=False).head(10).drop(['Lat', 'Long'],axis=1).T\n",
    "\n",
    "# df_recovered_total\n",
    "covid19_recovered.loc[\"Total\"] = covid19_recovered.sum()\n",
    "df_recovered_total=covid19_recovered.iloc[-1,4:]\n",
    "\n",
    "recovered_latest"
   ]
  },
  {
   "cell_type": "code",
   "execution_count": null,
   "metadata": {
    "papermill": {
     "duration": 0.006077,
     "end_time": "2020-06-13T04:00:07.209420",
     "exception": false,
     "start_time": "2020-06-13T04:00:07.203343",
     "status": "completed"
    },
    "tags": []
   },
   "outputs": [],
   "source": []
  }
 ],
 "metadata": {
  "kernelspec": {
   "display_name": "Python 3",
   "language": "python",
   "name": "python3"
  },
  "language_info": {
   "codemirror_mode": {
    "name": "ipython",
    "version": 3
   },
   "file_extension": ".py",
   "mimetype": "text/x-python",
   "name": "python",
   "nbconvert_exporter": "python",
   "pygments_lexer": "ipython3",
   "version": "3.8.2"
  },
  "papermill": {
   "duration": 4.740489,
   "end_time": "2020-06-13T04:00:07.395817",
   "environment_variables": {},
   "exception": null,
   "input_path": "covid-19-data.ipynb",
   "output_path": "./latest/covid-19-data.ipynb",
   "parameters": {},
   "start_time": "2020-06-13T04:00:02.655328",
   "version": "2.1.1"
  }
 },
 "nbformat": 4,
 "nbformat_minor": 4
}