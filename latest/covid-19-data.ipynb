{
 "cells": [
  {
   "cell_type": "code",
   "execution_count": 1,
   "metadata": {
    "execution": {
     "iopub.execute_input": "2020-06-19T05:37:26.108879Z",
     "iopub.status.busy": "2020-06-19T05:37:26.108237Z",
     "iopub.status.idle": "2020-06-19T05:37:26.126819Z",
     "shell.execute_reply": "2020-06-19T05:37:26.127389Z"
    },
    "papermill": {
     "duration": 0.027345,
     "end_time": "2020-06-19T05:37:26.127604",
     "exception": false,
     "start_time": "2020-06-19T05:37:26.100259",
     "status": "completed"
    },
    "tags": []
   },
   "outputs": [],
   "source": [
    "import pandas as pd\n",
    "import numpy as np"
   ]
  },
  {
   "cell_type": "code",
   "execution_count": 2,
   "metadata": {
    "execution": {
     "iopub.execute_input": "2020-06-19T05:37:26.141766Z",
     "iopub.status.busy": "2020-06-19T05:37:26.141112Z",
     "iopub.status.idle": "2020-06-19T05:37:26.582638Z",
     "shell.execute_reply": "2020-06-19T05:37:26.583219Z"
    },
    "papermill": {
     "duration": 0.451105,
     "end_time": "2020-06-19T05:37:26.583390",
     "exception": false,
     "start_time": "2020-06-19T05:37:26.132285",
     "status": "completed"
    },
    "tags": []
   },
   "outputs": [
    {
     "data": {
      "text/html": [
       "<div>\n",
       "<style scoped>\n",
       "    .dataframe tbody tr th:only-of-type {\n",
       "        vertical-align: middle;\n",
       "    }\n",
       "\n",
       "    .dataframe tbody tr th {\n",
       "        vertical-align: top;\n",
       "    }\n",
       "\n",
       "    .dataframe thead th {\n",
       "        text-align: right;\n",
       "    }\n",
       "</style>\n",
       "<table border=\"1\" class=\"dataframe\">\n",
       "  <thead>\n",
       "    <tr style=\"text-align: right;\">\n",
       "      <th>Country/Region</th>\n",
       "      <th>US</th>\n",
       "      <th>Brazil</th>\n",
       "      <th>Russia</th>\n",
       "      <th>India</th>\n",
       "      <th>United Kingdom</th>\n",
       "      <th>Spain</th>\n",
       "      <th>Peru</th>\n",
       "      <th>Italy</th>\n",
       "      <th>Chile</th>\n",
       "      <th>Iran</th>\n",
       "    </tr>\n",
       "  </thead>\n",
       "  <tbody>\n",
       "    <tr>\n",
       "      <th>1/22/20</th>\n",
       "      <td>1</td>\n",
       "      <td>0</td>\n",
       "      <td>0</td>\n",
       "      <td>0</td>\n",
       "      <td>0</td>\n",
       "      <td>0</td>\n",
       "      <td>0</td>\n",
       "      <td>0</td>\n",
       "      <td>0</td>\n",
       "      <td>0</td>\n",
       "    </tr>\n",
       "    <tr>\n",
       "      <th>1/23/20</th>\n",
       "      <td>1</td>\n",
       "      <td>0</td>\n",
       "      <td>0</td>\n",
       "      <td>0</td>\n",
       "      <td>0</td>\n",
       "      <td>0</td>\n",
       "      <td>0</td>\n",
       "      <td>0</td>\n",
       "      <td>0</td>\n",
       "      <td>0</td>\n",
       "    </tr>\n",
       "    <tr>\n",
       "      <th>1/24/20</th>\n",
       "      <td>2</td>\n",
       "      <td>0</td>\n",
       "      <td>0</td>\n",
       "      <td>0</td>\n",
       "      <td>0</td>\n",
       "      <td>0</td>\n",
       "      <td>0</td>\n",
       "      <td>0</td>\n",
       "      <td>0</td>\n",
       "      <td>0</td>\n",
       "    </tr>\n",
       "    <tr>\n",
       "      <th>1/25/20</th>\n",
       "      <td>2</td>\n",
       "      <td>0</td>\n",
       "      <td>0</td>\n",
       "      <td>0</td>\n",
       "      <td>0</td>\n",
       "      <td>0</td>\n",
       "      <td>0</td>\n",
       "      <td>0</td>\n",
       "      <td>0</td>\n",
       "      <td>0</td>\n",
       "    </tr>\n",
       "    <tr>\n",
       "      <th>1/26/20</th>\n",
       "      <td>5</td>\n",
       "      <td>0</td>\n",
       "      <td>0</td>\n",
       "      <td>0</td>\n",
       "      <td>0</td>\n",
       "      <td>0</td>\n",
       "      <td>0</td>\n",
       "      <td>0</td>\n",
       "      <td>0</td>\n",
       "      <td>0</td>\n",
       "    </tr>\n",
       "    <tr>\n",
       "      <th>...</th>\n",
       "      <td>...</td>\n",
       "      <td>...</td>\n",
       "      <td>...</td>\n",
       "      <td>...</td>\n",
       "      <td>...</td>\n",
       "      <td>...</td>\n",
       "      <td>...</td>\n",
       "      <td>...</td>\n",
       "      <td>...</td>\n",
       "      <td>...</td>\n",
       "    </tr>\n",
       "    <tr>\n",
       "      <th>6/14/20</th>\n",
       "      <td>2094058</td>\n",
       "      <td>867624</td>\n",
       "      <td>528267</td>\n",
       "      <td>332424</td>\n",
       "      <td>297342</td>\n",
       "      <td>243928</td>\n",
       "      <td>229736</td>\n",
       "      <td>236989</td>\n",
       "      <td>174293</td>\n",
       "      <td>187427</td>\n",
       "    </tr>\n",
       "    <tr>\n",
       "      <th>6/15/20</th>\n",
       "      <td>2114026</td>\n",
       "      <td>888271</td>\n",
       "      <td>536484</td>\n",
       "      <td>343091</td>\n",
       "      <td>298315</td>\n",
       "      <td>244109</td>\n",
       "      <td>232992</td>\n",
       "      <td>237290</td>\n",
       "      <td>179436</td>\n",
       "      <td>189876</td>\n",
       "    </tr>\n",
       "    <tr>\n",
       "      <th>6/16/20</th>\n",
       "      <td>2137731</td>\n",
       "      <td>923189</td>\n",
       "      <td>544725</td>\n",
       "      <td>354065</td>\n",
       "      <td>299600</td>\n",
       "      <td>244328</td>\n",
       "      <td>237156</td>\n",
       "      <td>237500</td>\n",
       "      <td>184449</td>\n",
       "      <td>192439</td>\n",
       "    </tr>\n",
       "    <tr>\n",
       "      <th>6/17/20</th>\n",
       "      <td>2163290</td>\n",
       "      <td>955377</td>\n",
       "      <td>552549</td>\n",
       "      <td>366946</td>\n",
       "      <td>300717</td>\n",
       "      <td>244683</td>\n",
       "      <td>240908</td>\n",
       "      <td>237828</td>\n",
       "      <td>220628</td>\n",
       "      <td>195051</td>\n",
       "    </tr>\n",
       "    <tr>\n",
       "      <th>6/18/20</th>\n",
       "      <td>2191052</td>\n",
       "      <td>978142</td>\n",
       "      <td>560321</td>\n",
       "      <td>380532</td>\n",
       "      <td>301935</td>\n",
       "      <td>245268</td>\n",
       "      <td>244388</td>\n",
       "      <td>238159</td>\n",
       "      <td>225103</td>\n",
       "      <td>197647</td>\n",
       "    </tr>\n",
       "  </tbody>\n",
       "</table>\n",
       "<p>149 rows × 10 columns</p>\n",
       "</div>"
      ],
      "text/plain": [
       "Country/Region       US  Brazil  Russia   India  United Kingdom   Spain  \\\n",
       "1/22/20               1       0       0       0               0       0   \n",
       "1/23/20               1       0       0       0               0       0   \n",
       "1/24/20               2       0       0       0               0       0   \n",
       "1/25/20               2       0       0       0               0       0   \n",
       "1/26/20               5       0       0       0               0       0   \n",
       "...                 ...     ...     ...     ...             ...     ...   \n",
       "6/14/20         2094058  867624  528267  332424          297342  243928   \n",
       "6/15/20         2114026  888271  536484  343091          298315  244109   \n",
       "6/16/20         2137731  923189  544725  354065          299600  244328   \n",
       "6/17/20         2163290  955377  552549  366946          300717  244683   \n",
       "6/18/20         2191052  978142  560321  380532          301935  245268   \n",
       "\n",
       "Country/Region    Peru   Italy   Chile    Iran  \n",
       "1/22/20              0       0       0       0  \n",
       "1/23/20              0       0       0       0  \n",
       "1/24/20              0       0       0       0  \n",
       "1/25/20              0       0       0       0  \n",
       "1/26/20              0       0       0       0  \n",
       "...                ...     ...     ...     ...  \n",
       "6/14/20         229736  236989  174293  187427  \n",
       "6/15/20         232992  237290  179436  189876  \n",
       "6/16/20         237156  237500  184449  192439  \n",
       "6/17/20         240908  237828  220628  195051  \n",
       "6/18/20         244388  238159  225103  197647  \n",
       "\n",
       "[149 rows x 10 columns]"
      ]
     },
     "metadata": {},
     "output_type": "display_data"
    }
   ],
   "source": [
    "# confirmed_global\n",
    "confirmed_global='https://raw.githubusercontent.com/CSSEGISandData/COVID-19/master/csse_covid_19_data/csse_covid_19_time_series/time_series_covid19_confirmed_global.csv'\n",
    "covid19_confirmed=pd.read_csv(confirmed_global,index_col='Country/Region')\n",
    "\n",
    "\n",
    "# confirmed_latest\n",
    "confirmed_latest = covid19_confirmed.T.index.values[-1]\n",
    "# display(confirmed_latest)\n",
    "\n",
    "# df_confirmed\n",
    "df_grouped_conf=covid19_confirmed.groupby('Country/Region').sum()\n",
    "\n",
    "# display(df_grouped_conf.head(10))\n",
    "df_confirmed=df_grouped_conf.sort_values(by=confirmed_latest,ascending=False).head(10).drop(['Lat', 'Long'],axis=1).T\n",
    "# display(df_grouped_conf)\n",
    "display(df_confirmed)\n",
    "\n",
    "# display(df_confirmed)\n",
    "# df_confirmed_total\n",
    "covid19_confirmed.loc[\"Total\"] = covid19_confirmed.sum()\n",
    "df_confirmed_total=covid19_confirmed.iloc[-1,4:]\n",
    "\n",
    "# confirmed_latest"
   ]
  },
  {
   "cell_type": "code",
   "execution_count": 3,
   "metadata": {
    "execution": {
     "iopub.execute_input": "2020-06-19T05:37:26.596235Z",
     "iopub.status.busy": "2020-06-19T05:37:26.595588Z",
     "iopub.status.idle": "2020-06-19T05:37:26.928616Z",
     "shell.execute_reply": "2020-06-19T05:37:26.929311Z"
    },
    "papermill": {
     "duration": 0.341959,
     "end_time": "2020-06-19T05:37:26.929575",
     "exception": false,
     "start_time": "2020-06-19T05:37:26.587616",
     "status": "completed"
    },
    "tags": []
   },
   "outputs": [
    {
     "data": {
      "text/plain": [
       "'6/18/20'"
      ]
     },
     "execution_count": 3,
     "metadata": {},
     "output_type": "execute_result"
    }
   ],
   "source": [
    "# deaths_global\n",
    "deaths_global='https://raw.githubusercontent.com/CSSEGISandData/COVID-19/master/csse_covid_19_data/csse_covid_19_time_series/time_series_covid19_deaths_global.csv'\n",
    "covid19_deaths=pd.read_csv(deaths_global,index_col='Country/Region')\n",
    "\n",
    "# deaths_latest\n",
    "deaths_latest = covid19_deaths.T.index.values[-1]\n",
    "\n",
    "# df_deaths\n",
    "df_grouped_deaths=covid19_deaths.groupby('Country/Region').sum()\n",
    "df_deaths=df_grouped_deaths.sort_values(deaths_latest,ascending=False).head(10).drop(['Lat', 'Long'],axis=1).T\n",
    "\n",
    "# df_deaths_total\n",
    "covid19_deaths.loc[\"Total\"] = covid19_deaths.sum()\n",
    "df_deaths_total=covid19_deaths.iloc[-1,4:]\n",
    "\n",
    "deaths_latest"
   ]
  },
  {
   "cell_type": "code",
   "execution_count": 4,
   "metadata": {
    "execution": {
     "iopub.execute_input": "2020-06-19T05:37:26.947464Z",
     "iopub.status.busy": "2020-06-19T05:37:26.946686Z",
     "iopub.status.idle": "2020-06-19T05:37:28.240135Z",
     "shell.execute_reply": "2020-06-19T05:37:28.240834Z"
    },
    "papermill": {
     "duration": 1.304673,
     "end_time": "2020-06-19T05:37:28.241097",
     "exception": false,
     "start_time": "2020-06-19T05:37:26.936424",
     "status": "completed"
    },
    "tags": []
   },
   "outputs": [
    {
     "data": {
      "text/plain": [
       "'6/18/20'"
      ]
     },
     "execution_count": 4,
     "metadata": {},
     "output_type": "execute_result"
    }
   ],
   "source": [
    "# recovered_global\n",
    "recovered_global='https://raw.githubusercontent.com/CSSEGISandData/COVID-19/master/csse_covid_19_data/csse_covid_19_time_series/time_series_covid19_recovered_global.csv'\n",
    "covid19_recovered=pd.read_csv(recovered_global,index_col='Country/Region')\n",
    "\n",
    "# recovered_latest\n",
    "recovered_latest = covid19_recovered.T.index.values[-1]\n",
    "\n",
    "# df_recovered\n",
    "df_grouped_recv=covid19_recovered.groupby('Country/Region').sum()\n",
    "df_recovered=df_grouped_recv.sort_values(recovered_latest,ascending=False).head(10).drop(['Lat', 'Long'],axis=1).T\n",
    "\n",
    "# df_recovered_total\n",
    "covid19_recovered.loc[\"Total\"] = covid19_recovered.sum()\n",
    "df_recovered_total=covid19_recovered.iloc[-1,4:]\n",
    "\n",
    "recovered_latest"
   ]
  },
  {
   "cell_type": "code",
   "execution_count": null,
   "metadata": {
    "papermill": {
     "duration": 0.007064,
     "end_time": "2020-06-19T05:37:28.255451",
     "exception": false,
     "start_time": "2020-06-19T05:37:28.248387",
     "status": "completed"
    },
    "tags": []
   },
   "outputs": [],
   "source": []
  }
 ],
 "metadata": {
  "kernelspec": {
   "display_name": "Python 3",
   "language": "python",
   "name": "python3"
  },
  "language_info": {
   "codemirror_mode": {
    "name": "ipython",
    "version": 3
   },
   "file_extension": ".py",
   "mimetype": "text/x-python",
   "name": "python",
   "nbconvert_exporter": "python",
   "pygments_lexer": "ipython3",
   "version": "3.8.2"
  },
  "papermill": {
   "duration": 5.867574,
   "end_time": "2020-06-19T05:37:29.750031",
   "environment_variables": {},
   "exception": null,
   "input_path": "covid-19-data.ipynb",
   "output_path": "./latest/covid-19-data.ipynb",
   "parameters": {},
   "start_time": "2020-06-19T05:37:23.882457",
   "version": "2.1.1"
  }
 },
 "nbformat": 4,
 "nbformat_minor": 4
}