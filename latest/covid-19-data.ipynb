{
 "cells": [
  {
   "cell_type": "code",
   "execution_count": 1,
   "metadata": {
    "execution": {
     "iopub.execute_input": "2020-06-30T04:00:04.621407Z",
     "iopub.status.busy": "2020-06-30T04:00:04.620457Z",
     "iopub.status.idle": "2020-06-30T04:00:04.646995Z",
     "shell.execute_reply": "2020-06-30T04:00:04.647922Z"
    },
    "papermill": {
     "duration": 0.03855,
     "end_time": "2020-06-30T04:00:04.648226",
     "exception": false,
     "start_time": "2020-06-30T04:00:04.609676",
     "status": "completed"
    },
    "tags": []
   },
   "outputs": [],
   "source": [
    "import pandas as pd\n",
    "import numpy as np"
   ]
  },
  {
   "cell_type": "code",
   "execution_count": 2,
   "metadata": {
    "execution": {
     "iopub.execute_input": "2020-06-30T04:00:04.668348Z",
     "iopub.status.busy": "2020-06-30T04:00:04.667398Z",
     "iopub.status.idle": "2020-06-30T04:00:04.955200Z",
     "shell.execute_reply": "2020-06-30T04:00:04.955895Z"
    },
    "papermill": {
     "duration": 0.30075,
     "end_time": "2020-06-30T04:00:04.956119",
     "exception": false,
     "start_time": "2020-06-30T04:00:04.655369",
     "status": "completed"
    },
    "tags": []
   },
   "outputs": [
    {
     "data": {
      "text/html": [
       "<div>\n",
       "<style scoped>\n",
       "    .dataframe tbody tr th:only-of-type {\n",
       "        vertical-align: middle;\n",
       "    }\n",
       "\n",
       "    .dataframe tbody tr th {\n",
       "        vertical-align: top;\n",
       "    }\n",
       "\n",
       "    .dataframe thead th {\n",
       "        text-align: right;\n",
       "    }\n",
       "</style>\n",
       "<table border=\"1\" class=\"dataframe\">\n",
       "  <thead>\n",
       "    <tr style=\"text-align: right;\">\n",
       "      <th>Country/Region</th>\n",
       "      <th>US</th>\n",
       "      <th>Brazil</th>\n",
       "      <th>Russia</th>\n",
       "      <th>India</th>\n",
       "      <th>United Kingdom</th>\n",
       "      <th>Peru</th>\n",
       "      <th>Chile</th>\n",
       "      <th>Spain</th>\n",
       "      <th>Italy</th>\n",
       "      <th>Iran</th>\n",
       "    </tr>\n",
       "  </thead>\n",
       "  <tbody>\n",
       "    <tr>\n",
       "      <th>1/22/20</th>\n",
       "      <td>1</td>\n",
       "      <td>0</td>\n",
       "      <td>0</td>\n",
       "      <td>0</td>\n",
       "      <td>0</td>\n",
       "      <td>0</td>\n",
       "      <td>0</td>\n",
       "      <td>0</td>\n",
       "      <td>0</td>\n",
       "      <td>0</td>\n",
       "    </tr>\n",
       "    <tr>\n",
       "      <th>1/23/20</th>\n",
       "      <td>1</td>\n",
       "      <td>0</td>\n",
       "      <td>0</td>\n",
       "      <td>0</td>\n",
       "      <td>0</td>\n",
       "      <td>0</td>\n",
       "      <td>0</td>\n",
       "      <td>0</td>\n",
       "      <td>0</td>\n",
       "      <td>0</td>\n",
       "    </tr>\n",
       "    <tr>\n",
       "      <th>1/24/20</th>\n",
       "      <td>2</td>\n",
       "      <td>0</td>\n",
       "      <td>0</td>\n",
       "      <td>0</td>\n",
       "      <td>0</td>\n",
       "      <td>0</td>\n",
       "      <td>0</td>\n",
       "      <td>0</td>\n",
       "      <td>0</td>\n",
       "      <td>0</td>\n",
       "    </tr>\n",
       "    <tr>\n",
       "      <th>1/25/20</th>\n",
       "      <td>2</td>\n",
       "      <td>0</td>\n",
       "      <td>0</td>\n",
       "      <td>0</td>\n",
       "      <td>0</td>\n",
       "      <td>0</td>\n",
       "      <td>0</td>\n",
       "      <td>0</td>\n",
       "      <td>0</td>\n",
       "      <td>0</td>\n",
       "    </tr>\n",
       "    <tr>\n",
       "      <th>1/26/20</th>\n",
       "      <td>5</td>\n",
       "      <td>0</td>\n",
       "      <td>0</td>\n",
       "      <td>0</td>\n",
       "      <td>0</td>\n",
       "      <td>0</td>\n",
       "      <td>0</td>\n",
       "      <td>0</td>\n",
       "      <td>0</td>\n",
       "      <td>0</td>\n",
       "    </tr>\n",
       "    <tr>\n",
       "      <th>...</th>\n",
       "      <td>...</td>\n",
       "      <td>...</td>\n",
       "      <td>...</td>\n",
       "      <td>...</td>\n",
       "      <td>...</td>\n",
       "      <td>...</td>\n",
       "      <td>...</td>\n",
       "      <td>...</td>\n",
       "      <td>...</td>\n",
       "      <td>...</td>\n",
       "    </tr>\n",
       "    <tr>\n",
       "      <th>6/24/20</th>\n",
       "      <td>2382327</td>\n",
       "      <td>1188631</td>\n",
       "      <td>606043</td>\n",
       "      <td>473105</td>\n",
       "      <td>308337</td>\n",
       "      <td>264689</td>\n",
       "      <td>254416</td>\n",
       "      <td>247086</td>\n",
       "      <td>239410</td>\n",
       "      <td>212501</td>\n",
       "    </tr>\n",
       "    <tr>\n",
       "      <th>6/25/20</th>\n",
       "      <td>2422299</td>\n",
       "      <td>1228114</td>\n",
       "      <td>613148</td>\n",
       "      <td>490401</td>\n",
       "      <td>309455</td>\n",
       "      <td>268602</td>\n",
       "      <td>259064</td>\n",
       "      <td>247486</td>\n",
       "      <td>239706</td>\n",
       "      <td>215096</td>\n",
       "    </tr>\n",
       "    <tr>\n",
       "      <th>6/26/20</th>\n",
       "      <td>2467554</td>\n",
       "      <td>1274974</td>\n",
       "      <td>619936</td>\n",
       "      <td>508953</td>\n",
       "      <td>310836</td>\n",
       "      <td>272364</td>\n",
       "      <td>263360</td>\n",
       "      <td>247905</td>\n",
       "      <td>239961</td>\n",
       "      <td>217724</td>\n",
       "    </tr>\n",
       "    <tr>\n",
       "      <th>6/27/20</th>\n",
       "      <td>2510151</td>\n",
       "      <td>1313667</td>\n",
       "      <td>626779</td>\n",
       "      <td>528859</td>\n",
       "      <td>311727</td>\n",
       "      <td>275989</td>\n",
       "      <td>267766</td>\n",
       "      <td>248469</td>\n",
       "      <td>240136</td>\n",
       "      <td>220180</td>\n",
       "    </tr>\n",
       "    <tr>\n",
       "      <th>6/28/20</th>\n",
       "      <td>2548996</td>\n",
       "      <td>1344143</td>\n",
       "      <td>633563</td>\n",
       "      <td>548318</td>\n",
       "      <td>312640</td>\n",
       "      <td>279419</td>\n",
       "      <td>271982</td>\n",
       "      <td>248770</td>\n",
       "      <td>240310</td>\n",
       "      <td>222669</td>\n",
       "    </tr>\n",
       "  </tbody>\n",
       "</table>\n",
       "<p>159 rows × 10 columns</p>\n",
       "</div>"
      ],
      "text/plain": [
       "Country/Region       US   Brazil  Russia   India  United Kingdom    Peru  \\\n",
       "1/22/20               1        0       0       0               0       0   \n",
       "1/23/20               1        0       0       0               0       0   \n",
       "1/24/20               2        0       0       0               0       0   \n",
       "1/25/20               2        0       0       0               0       0   \n",
       "1/26/20               5        0       0       0               0       0   \n",
       "...                 ...      ...     ...     ...             ...     ...   \n",
       "6/24/20         2382327  1188631  606043  473105          308337  264689   \n",
       "6/25/20         2422299  1228114  613148  490401          309455  268602   \n",
       "6/26/20         2467554  1274974  619936  508953          310836  272364   \n",
       "6/27/20         2510151  1313667  626779  528859          311727  275989   \n",
       "6/28/20         2548996  1344143  633563  548318          312640  279419   \n",
       "\n",
       "Country/Region   Chile   Spain   Italy    Iran  \n",
       "1/22/20              0       0       0       0  \n",
       "1/23/20              0       0       0       0  \n",
       "1/24/20              0       0       0       0  \n",
       "1/25/20              0       0       0       0  \n",
       "1/26/20              0       0       0       0  \n",
       "...                ...     ...     ...     ...  \n",
       "6/24/20         254416  247086  239410  212501  \n",
       "6/25/20         259064  247486  239706  215096  \n",
       "6/26/20         263360  247905  239961  217724  \n",
       "6/27/20         267766  248469  240136  220180  \n",
       "6/28/20         271982  248770  240310  222669  \n",
       "\n",
       "[159 rows x 10 columns]"
      ]
     },
     "metadata": {},
     "output_type": "display_data"
    }
   ],
   "source": [
    "# confirmed_global\n",
    "confirmed_global='https://raw.githubusercontent.com/CSSEGISandData/COVID-19/master/csse_covid_19_data/csse_covid_19_time_series/time_series_covid19_confirmed_global.csv'\n",
    "covid19_confirmed=pd.read_csv(confirmed_global,index_col='Country/Region')\n",
    "\n",
    "\n",
    "# confirmed_latest\n",
    "confirmed_latest = covid19_confirmed.T.index.values[-1]\n",
    "# display(confirmed_latest)\n",
    "\n",
    "# df_confirmed\n",
    "df_grouped_conf=covid19_confirmed.groupby('Country/Region').sum()\n",
    "\n",
    "# display(df_grouped_conf.head(10))\n",
    "df_confirmed=df_grouped_conf.sort_values(by=confirmed_latest,ascending=False).head(10).drop(['Lat', 'Long'],axis=1).T\n",
    "# display(df_grouped_conf)\n",
    "display(df_confirmed)\n",
    "\n",
    "# display(df_confirmed)\n",
    "# df_confirmed_total\n",
    "covid19_confirmed.loc[\"Total\"] = covid19_confirmed.sum()\n",
    "df_confirmed_total=covid19_confirmed.iloc[-1,4:]\n",
    "\n",
    "# confirmed_latest"
   ]
  },
  {
   "cell_type": "code",
   "execution_count": 3,
   "metadata": {
    "execution": {
     "iopub.execute_input": "2020-06-30T04:00:04.980307Z",
     "iopub.status.busy": "2020-06-30T04:00:04.979005Z",
     "iopub.status.idle": "2020-06-30T04:00:05.206008Z",
     "shell.execute_reply": "2020-06-30T04:00:05.206624Z"
    },
    "papermill": {
     "duration": 0.241686,
     "end_time": "2020-06-30T04:00:05.206943",
     "exception": false,
     "start_time": "2020-06-30T04:00:04.965257",
     "status": "completed"
    },
    "tags": []
   },
   "outputs": [
    {
     "data": {
      "text/plain": [
       "'6/28/20'"
      ]
     },
     "execution_count": 3,
     "metadata": {},
     "output_type": "execute_result"
    }
   ],
   "source": [
    "# deaths_global\n",
    "deaths_global='https://raw.githubusercontent.com/CSSEGISandData/COVID-19/master/csse_covid_19_data/csse_covid_19_time_series/time_series_covid19_deaths_global.csv'\n",
    "covid19_deaths=pd.read_csv(deaths_global,index_col='Country/Region')\n",
    "\n",
    "# deaths_latest\n",
    "deaths_latest = covid19_deaths.T.index.values[-1]\n",
    "\n",
    "# df_deaths\n",
    "df_grouped_deaths=covid19_deaths.groupby('Country/Region').sum()\n",
    "df_deaths=df_grouped_deaths.sort_values(deaths_latest,ascending=False).head(10).drop(['Lat', 'Long'],axis=1).T\n",
    "\n",
    "# df_deaths_total\n",
    "covid19_deaths.loc[\"Total\"] = covid19_deaths.sum()\n",
    "df_deaths_total=covid19_deaths.iloc[-1,4:]\n",
    "\n",
    "deaths_latest"
   ]
  },
  {
   "cell_type": "code",
   "execution_count": 4,
   "metadata": {
    "execution": {
     "iopub.execute_input": "2020-06-30T04:00:05.228340Z",
     "iopub.status.busy": "2020-06-30T04:00:05.227368Z",
     "iopub.status.idle": "2020-06-30T04:00:05.444079Z",
     "shell.execute_reply": "2020-06-30T04:00:05.444783Z"
    },
    "papermill": {
     "duration": 0.230838,
     "end_time": "2020-06-30T04:00:05.445005",
     "exception": false,
     "start_time": "2020-06-30T04:00:05.214167",
     "status": "completed"
    },
    "tags": []
   },
   "outputs": [
    {
     "data": {
      "text/plain": [
       "'6/28/20'"
      ]
     },
     "execution_count": 4,
     "metadata": {},
     "output_type": "execute_result"
    }
   ],
   "source": [
    "# recovered_global\n",
    "recovered_global='https://raw.githubusercontent.com/CSSEGISandData/COVID-19/master/csse_covid_19_data/csse_covid_19_time_series/time_series_covid19_recovered_global.csv'\n",
    "covid19_recovered=pd.read_csv(recovered_global,index_col='Country/Region')\n",
    "\n",
    "# recovered_latest\n",
    "recovered_latest = covid19_recovered.T.index.values[-1]\n",
    "\n",
    "# df_recovered\n",
    "df_grouped_recv=covid19_recovered.groupby('Country/Region').sum()\n",
    "df_recovered=df_grouped_recv.sort_values(recovered_latest,ascending=False).head(10).drop(['Lat', 'Long'],axis=1).T\n",
    "\n",
    "# df_recovered_total\n",
    "covid19_recovered.loc[\"Total\"] = covid19_recovered.sum()\n",
    "df_recovered_total=covid19_recovered.iloc[-1,4:]\n",
    "\n",
    "recovered_latest"
   ]
  },
  {
   "cell_type": "code",
   "execution_count": null,
   "metadata": {
    "papermill": {
     "duration": 0.007375,
     "end_time": "2020-06-30T04:00:05.459928",
     "exception": false,
     "start_time": "2020-06-30T04:00:05.452553",
     "status": "completed"
    },
    "tags": []
   },
   "outputs": [],
   "source": []
  }
 ],
 "metadata": {
  "kernelspec": {
   "display_name": "Python 3",
   "language": "python",
   "name": "python3"
  },
  "language_info": {
   "codemirror_mode": {
    "name": "ipython",
    "version": 3
   },
   "file_extension": ".py",
   "mimetype": "text/x-python",
   "name": "python",
   "nbconvert_exporter": "python",
   "pygments_lexer": "ipython3",
   "version": "3.8.2"
  },
  "papermill": {
   "duration": 3.892465,
   "end_time": "2020-06-30T04:00:05.933346",
   "environment_variables": {},
   "exception": null,
   "input_path": "covid-19-data.ipynb",
   "output_path": "./latest/covid-19-data.ipynb",
   "parameters": {},
   "start_time": "2020-06-30T04:00:02.040881",
   "version": "2.1.1"
  }
 },
 "nbformat": 4,
 "nbformat_minor": 4
}