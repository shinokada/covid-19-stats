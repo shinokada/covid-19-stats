{
 "cells": [
  {
   "cell_type": "code",
   "execution_count": 1,
   "metadata": {
    "execution": {
     "iopub.execute_input": "2020-04-24T23:06:23.948761Z",
     "iopub.status.busy": "2020-04-24T23:06:23.947595Z",
     "iopub.status.idle": "2020-04-24T23:06:23.980729Z",
     "shell.execute_reply": "2020-04-24T23:06:23.979673Z"
    },
    "papermill": {
     "duration": 0.047973,
     "end_time": "2020-04-24T23:06:23.981233",
     "exception": false,
     "start_time": "2020-04-24T23:06:23.933260",
     "status": "completed"
    },
    "tags": []
   },
   "outputs": [],
   "source": [
    "import pandas as pd\n",
    "import numpy as np"
   ]
  },
  {
   "cell_type": "code",
   "execution_count": 2,
   "metadata": {
    "execution": {
     "iopub.execute_input": "2020-04-24T23:06:24.004184Z",
     "iopub.status.busy": "2020-04-24T23:06:24.003202Z",
     "iopub.status.idle": "2020-04-24T23:06:24.495190Z",
     "shell.execute_reply": "2020-04-24T23:06:24.495958Z"
    },
    "papermill": {
     "duration": 0.504485,
     "end_time": "2020-04-24T23:06:24.496220",
     "exception": false,
     "start_time": "2020-04-24T23:06:23.991735",
     "status": "completed"
    },
    "tags": []
   },
   "outputs": [],
   "source": [
    "# confirmed_global\n",
    "confirmed_global='https://raw.githubusercontent.com/CSSEGISandData/COVID-19/master/csse_covid_19_data/csse_covid_19_time_series/time_series_covid19_confirmed_global.csv'\n",
    "covid19_confirmed=pd.read_csv(confirmed_global,index_col='Country/Region')\n",
    "\n",
    "# confirmed_latest\n",
    "confirmed_latest = covid19_confirmed.T.index.values[-1]\n",
    "\n",
    "# df_confirmed\n",
    "df_grouped_conf=covid19_confirmed.groupby('Country/Region').sum()\n",
    "\n",
    "df_confirmed=df_grouped_conf.sort_values(confirmed_latest,ascending=False).head(10).drop(['Lat', 'Long'],axis=1).T\n",
    "\n",
    "# df_confirmed_total\n",
    "covid19_confirmed.loc[\"Total\"] = covid19_confirmed.sum()\n",
    "df_confirmed_total=covid19_confirmed.iloc[-1,4:]\n"
   ]
  },
  {
   "cell_type": "code",
   "execution_count": 3,
   "metadata": {
    "execution": {
     "iopub.execute_input": "2020-04-24T23:06:24.512138Z",
     "iopub.status.busy": "2020-04-24T23:06:24.510838Z",
     "iopub.status.idle": "2020-04-24T23:06:24.875144Z",
     "shell.execute_reply": "2020-04-24T23:06:24.875892Z"
    },
    "papermill": {
     "duration": 0.37581,
     "end_time": "2020-04-24T23:06:24.876124",
     "exception": false,
     "start_time": "2020-04-24T23:06:24.500314",
     "status": "completed"
    },
    "tags": []
   },
   "outputs": [],
   "source": [
    "# deaths_global\n",
    "deaths_global='https://raw.githubusercontent.com/CSSEGISandData/COVID-19/master/csse_covid_19_data/csse_covid_19_time_series/time_series_covid19_deaths_global.csv'\n",
    "covid19_deaths=pd.read_csv(deaths_global,index_col='Country/Region')\n",
    "\n",
    "# deaths_latest\n",
    "deaths_latest = covid19_deaths.T.index.values[-1]\n",
    "\n",
    "# df_deaths\n",
    "df_grouped_deaths=covid19_deaths.groupby('Country/Region').sum()\n",
    "df_deaths=df_grouped_deaths.sort_values(deaths_latest,ascending=False).head(10).drop(['Lat', 'Long'],axis=1).T\n",
    "\n",
    "# df_deaths_total\n",
    "covid19_deaths.loc[\"Total\"] = covid19_deaths.sum()\n",
    "df_deaths_total=covid19_deaths.iloc[-1,4:]\n"
   ]
  },
  {
   "cell_type": "code",
   "execution_count": 4,
   "metadata": {
    "execution": {
     "iopub.execute_input": "2020-04-24T23:06:24.898451Z",
     "iopub.status.busy": "2020-04-24T23:06:24.897045Z",
     "iopub.status.idle": "2020-04-24T23:06:25.271347Z",
     "shell.execute_reply": "2020-04-24T23:06:25.272420Z"
    },
    "papermill": {
     "duration": 0.390116,
     "end_time": "2020-04-24T23:06:25.272691",
     "exception": false,
     "start_time": "2020-04-24T23:06:24.882575",
     "status": "completed"
    },
    "tags": []
   },
   "outputs": [],
   "source": [
    "# recovered_global\n",
    "recovered_global='https://raw.githubusercontent.com/CSSEGISandData/COVID-19/master/csse_covid_19_data/csse_covid_19_time_series/time_series_covid19_recovered_global.csv'\n",
    "covid19_recovered=pd.read_csv(recovered_global,index_col='Country/Region')\n",
    "\n",
    "# recovered_latest\n",
    "recovered_latest = covid19_recovered.T.index.values[-1]\n",
    "\n",
    "# df_recovered\n",
    "df_grouped_recv=covid19_recovered.groupby('Country/Region').sum()\n",
    "df_recovered=df_grouped_recv.sort_values(recovered_latest,ascending=False).head(10).drop(['Lat', 'Long'],axis=1).T\n",
    "\n",
    "# df_recovered_total\n",
    "covid19_recovered.loc[\"Total\"] = covid19_recovered.sum()\n",
    "df_recovered_total=covid19_recovered.iloc[-1,4:]"
   ]
  },
  {
   "cell_type": "code",
   "execution_count": null,
   "metadata": {
    "papermill": {
     "duration": 0.005088,
     "end_time": "2020-04-24T23:06:25.284913",
     "exception": false,
     "start_time": "2020-04-24T23:06:25.279825",
     "status": "completed"
    },
    "tags": []
   },
   "outputs": [],
   "source": []
  }
 ],
 "metadata": {
  "kernelspec": {
   "display_name": "Python 3",
   "language": "python",
   "name": "python3"
  },
  "language_info": {
   "codemirror_mode": {
    "name": "ipython",
    "version": 3
   },
   "file_extension": ".py",
   "mimetype": "text/x-python",
   "name": "python",
   "nbconvert_exporter": "python",
   "pygments_lexer": "ipython3",
   "version": "3.7.7"
  },
  "papermill": {
   "duration": 4.25128,
   "end_time": "2020-04-24T23:06:25.417829",
   "environment_variables": {},
   "exception": null,
   "input_path": "covid-19-data.ipynb",
   "output_path": "./latest/covid-19-data.ipynb",
   "parameters": {},
   "start_time": "2020-04-24T23:06:21.166549",
   "version": "2.1.0"
  }
 },
 "nbformat": 4,
 "nbformat_minor": 4
}