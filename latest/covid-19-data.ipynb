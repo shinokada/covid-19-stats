{
 "cells": [
  {
   "cell_type": "code",
   "execution_count": 1,
   "metadata": {
    "execution": {
     "iopub.execute_input": "2020-09-08T04:00:04.745780Z",
     "iopub.status.busy": "2020-09-08T04:00:04.745001Z",
     "iopub.status.idle": "2020-09-08T04:00:04.765138Z",
     "shell.execute_reply": "2020-09-08T04:00:04.765677Z"
    },
    "papermill": {
     "duration": 0.030974,
     "end_time": "2020-09-08T04:00:04.765912",
     "exception": false,
     "start_time": "2020-09-08T04:00:04.734938",
     "status": "completed"
    },
    "tags": []
   },
   "outputs": [],
   "source": [
    "import pandas as pd\n",
    "import numpy as np"
   ]
  },
  {
   "cell_type": "code",
   "execution_count": 2,
   "metadata": {
    "execution": {
     "iopub.execute_input": "2020-09-08T04:00:04.778742Z",
     "iopub.status.busy": "2020-09-08T04:00:04.777972Z",
     "iopub.status.idle": "2020-09-08T04:00:05.042225Z",
     "shell.execute_reply": "2020-09-08T04:00:05.043093Z"
    },
    "papermill": {
     "duration": 0.273307,
     "end_time": "2020-09-08T04:00:05.043410",
     "exception": false,
     "start_time": "2020-09-08T04:00:04.770103",
     "status": "completed"
    },
    "tags": []
   },
   "outputs": [
    {
     "data": {
      "text/html": [
       "<div>\n",
       "<style scoped>\n",
       "    .dataframe tbody tr th:only-of-type {\n",
       "        vertical-align: middle;\n",
       "    }\n",
       "\n",
       "    .dataframe tbody tr th {\n",
       "        vertical-align: top;\n",
       "    }\n",
       "\n",
       "    .dataframe thead th {\n",
       "        text-align: right;\n",
       "    }\n",
       "</style>\n",
       "<table border=\"1\" class=\"dataframe\">\n",
       "  <thead>\n",
       "    <tr style=\"text-align: right;\">\n",
       "      <th>Country/Region</th>\n",
       "      <th>US</th>\n",
       "      <th>India</th>\n",
       "      <th>Brazil</th>\n",
       "      <th>Russia</th>\n",
       "      <th>Peru</th>\n",
       "      <th>Colombia</th>\n",
       "      <th>South Africa</th>\n",
       "      <th>Mexico</th>\n",
       "      <th>Spain</th>\n",
       "      <th>Argentina</th>\n",
       "    </tr>\n",
       "  </thead>\n",
       "  <tbody>\n",
       "    <tr>\n",
       "      <th>1/22/20</th>\n",
       "      <td>1</td>\n",
       "      <td>0</td>\n",
       "      <td>0</td>\n",
       "      <td>0</td>\n",
       "      <td>0</td>\n",
       "      <td>0</td>\n",
       "      <td>0</td>\n",
       "      <td>0</td>\n",
       "      <td>0</td>\n",
       "      <td>0</td>\n",
       "    </tr>\n",
       "    <tr>\n",
       "      <th>1/23/20</th>\n",
       "      <td>1</td>\n",
       "      <td>0</td>\n",
       "      <td>0</td>\n",
       "      <td>0</td>\n",
       "      <td>0</td>\n",
       "      <td>0</td>\n",
       "      <td>0</td>\n",
       "      <td>0</td>\n",
       "      <td>0</td>\n",
       "      <td>0</td>\n",
       "    </tr>\n",
       "    <tr>\n",
       "      <th>1/24/20</th>\n",
       "      <td>2</td>\n",
       "      <td>0</td>\n",
       "      <td>0</td>\n",
       "      <td>0</td>\n",
       "      <td>0</td>\n",
       "      <td>0</td>\n",
       "      <td>0</td>\n",
       "      <td>0</td>\n",
       "      <td>0</td>\n",
       "      <td>0</td>\n",
       "    </tr>\n",
       "    <tr>\n",
       "      <th>1/25/20</th>\n",
       "      <td>2</td>\n",
       "      <td>0</td>\n",
       "      <td>0</td>\n",
       "      <td>0</td>\n",
       "      <td>0</td>\n",
       "      <td>0</td>\n",
       "      <td>0</td>\n",
       "      <td>0</td>\n",
       "      <td>0</td>\n",
       "      <td>0</td>\n",
       "    </tr>\n",
       "    <tr>\n",
       "      <th>1/26/20</th>\n",
       "      <td>5</td>\n",
       "      <td>0</td>\n",
       "      <td>0</td>\n",
       "      <td>0</td>\n",
       "      <td>0</td>\n",
       "      <td>0</td>\n",
       "      <td>0</td>\n",
       "      <td>0</td>\n",
       "      <td>0</td>\n",
       "      <td>0</td>\n",
       "    </tr>\n",
       "    <tr>\n",
       "      <th>...</th>\n",
       "      <td>...</td>\n",
       "      <td>...</td>\n",
       "      <td>...</td>\n",
       "      <td>...</td>\n",
       "      <td>...</td>\n",
       "      <td>...</td>\n",
       "      <td>...</td>\n",
       "      <td>...</td>\n",
       "      <td>...</td>\n",
       "      <td>...</td>\n",
       "    </tr>\n",
       "    <tr>\n",
       "      <th>9/2/20</th>\n",
       "      <td>6113510</td>\n",
       "      <td>3853406</td>\n",
       "      <td>3997865</td>\n",
       "      <td>1001965</td>\n",
       "      <td>657129</td>\n",
       "      <td>633321</td>\n",
       "      <td>630595</td>\n",
       "      <td>610957</td>\n",
       "      <td>479554</td>\n",
       "      <td>439172</td>\n",
       "    </tr>\n",
       "    <tr>\n",
       "      <th>9/3/20</th>\n",
       "      <td>6150016</td>\n",
       "      <td>3936747</td>\n",
       "      <td>4041638</td>\n",
       "      <td>1006923</td>\n",
       "      <td>657129</td>\n",
       "      <td>641574</td>\n",
       "      <td>633015</td>\n",
       "      <td>616894</td>\n",
       "      <td>488513</td>\n",
       "      <td>451198</td>\n",
       "    </tr>\n",
       "    <tr>\n",
       "      <th>9/4/20</th>\n",
       "      <td>6200518</td>\n",
       "      <td>4023179</td>\n",
       "      <td>4091801</td>\n",
       "      <td>1011987</td>\n",
       "      <td>670145</td>\n",
       "      <td>641574</td>\n",
       "      <td>635078</td>\n",
       "      <td>623090</td>\n",
       "      <td>498989</td>\n",
       "      <td>461882</td>\n",
       "    </tr>\n",
       "    <tr>\n",
       "      <th>9/5/20</th>\n",
       "      <td>6244970</td>\n",
       "      <td>4113811</td>\n",
       "      <td>4123000</td>\n",
       "      <td>1017131</td>\n",
       "      <td>676848</td>\n",
       "      <td>650055</td>\n",
       "      <td>636884</td>\n",
       "      <td>629409</td>\n",
       "      <td>498989</td>\n",
       "      <td>471806</td>\n",
       "    </tr>\n",
       "    <tr>\n",
       "      <th>9/6/20</th>\n",
       "      <td>6276365</td>\n",
       "      <td>4204613</td>\n",
       "      <td>4137521</td>\n",
       "      <td>1022228</td>\n",
       "      <td>683702</td>\n",
       "      <td>666521</td>\n",
       "      <td>638517</td>\n",
       "      <td>634023</td>\n",
       "      <td>498989</td>\n",
       "      <td>478792</td>\n",
       "    </tr>\n",
       "  </tbody>\n",
       "</table>\n",
       "<p>229 rows × 10 columns</p>\n",
       "</div>"
      ],
      "text/plain": [
       "Country/Region       US    India   Brazil   Russia    Peru  Colombia  \\\n",
       "1/22/20               1        0        0        0       0         0   \n",
       "1/23/20               1        0        0        0       0         0   \n",
       "1/24/20               2        0        0        0       0         0   \n",
       "1/25/20               2        0        0        0       0         0   \n",
       "1/26/20               5        0        0        0       0         0   \n",
       "...                 ...      ...      ...      ...     ...       ...   \n",
       "9/2/20          6113510  3853406  3997865  1001965  657129    633321   \n",
       "9/3/20          6150016  3936747  4041638  1006923  657129    641574   \n",
       "9/4/20          6200518  4023179  4091801  1011987  670145    641574   \n",
       "9/5/20          6244970  4113811  4123000  1017131  676848    650055   \n",
       "9/6/20          6276365  4204613  4137521  1022228  683702    666521   \n",
       "\n",
       "Country/Region  South Africa  Mexico   Spain  Argentina  \n",
       "1/22/20                    0       0       0          0  \n",
       "1/23/20                    0       0       0          0  \n",
       "1/24/20                    0       0       0          0  \n",
       "1/25/20                    0       0       0          0  \n",
       "1/26/20                    0       0       0          0  \n",
       "...                      ...     ...     ...        ...  \n",
       "9/2/20                630595  610957  479554     439172  \n",
       "9/3/20                633015  616894  488513     451198  \n",
       "9/4/20                635078  623090  498989     461882  \n",
       "9/5/20                636884  629409  498989     471806  \n",
       "9/6/20                638517  634023  498989     478792  \n",
       "\n",
       "[229 rows x 10 columns]"
      ]
     },
     "metadata": {},
     "output_type": "display_data"
    }
   ],
   "source": [
    "# confirmed_global\n",
    "confirmed_global='https://raw.githubusercontent.com/CSSEGISandData/COVID-19/master/csse_covid_19_data/csse_covid_19_time_series/time_series_covid19_confirmed_global.csv'\n",
    "covid19_confirmed=pd.read_csv(confirmed_global,index_col='Country/Region')\n",
    "\n",
    "\n",
    "# confirmed_latest\n",
    "confirmed_latest = covid19_confirmed.T.index.values[-1]\n",
    "# display(confirmed_latest)\n",
    "\n",
    "# df_confirmed\n",
    "df_grouped_conf=covid19_confirmed.groupby('Country/Region').sum()\n",
    "\n",
    "# display(df_grouped_conf.head(10))\n",
    "df_confirmed=df_grouped_conf.sort_values(by=confirmed_latest,ascending=False).head(10).drop(['Lat', 'Long'],axis=1).T\n",
    "# display(df_grouped_conf)\n",
    "display(df_confirmed)\n",
    "\n",
    "# display(df_confirmed)\n",
    "# df_confirmed_total\n",
    "covid19_confirmed.loc[\"Total\"] = covid19_confirmed.sum()\n",
    "df_confirmed_total=covid19_confirmed.iloc[-1,4:]\n",
    "\n",
    "# confirmed_latest"
   ]
  },
  {
   "cell_type": "code",
   "execution_count": 3,
   "metadata": {
    "execution": {
     "iopub.execute_input": "2020-09-08T04:00:05.062833Z",
     "iopub.status.busy": "2020-09-08T04:00:05.062021Z",
     "iopub.status.idle": "2020-09-08T04:00:05.453661Z",
     "shell.execute_reply": "2020-09-08T04:00:05.454125Z"
    },
    "papermill": {
     "duration": 0.402257,
     "end_time": "2020-09-08T04:00:05.454375",
     "exception": false,
     "start_time": "2020-09-08T04:00:05.052118",
     "status": "completed"
    },
    "tags": []
   },
   "outputs": [
    {
     "data": {
      "text/plain": [
       "'9/6/20'"
      ]
     },
     "execution_count": 3,
     "metadata": {},
     "output_type": "execute_result"
    }
   ],
   "source": [
    "# deaths_global\n",
    "deaths_global='https://raw.githubusercontent.com/CSSEGISandData/COVID-19/master/csse_covid_19_data/csse_covid_19_time_series/time_series_covid19_deaths_global.csv'\n",
    "covid19_deaths=pd.read_csv(deaths_global,index_col='Country/Region')\n",
    "\n",
    "# deaths_latest\n",
    "deaths_latest = covid19_deaths.T.index.values[-1]\n",
    "\n",
    "# df_deaths\n",
    "df_grouped_deaths=covid19_deaths.groupby('Country/Region').sum()\n",
    "df_deaths=df_grouped_deaths.sort_values(deaths_latest,ascending=False).head(10).drop(['Lat', 'Long'],axis=1).T\n",
    "\n",
    "# df_deaths_total\n",
    "covid19_deaths.loc[\"Total\"] = covid19_deaths.sum()\n",
    "df_deaths_total=covid19_deaths.iloc[-1,4:]\n",
    "\n",
    "deaths_latest"
   ]
  },
  {
   "cell_type": "code",
   "execution_count": 4,
   "metadata": {
    "execution": {
     "iopub.execute_input": "2020-09-08T04:00:05.469770Z",
     "iopub.status.busy": "2020-09-08T04:00:05.469116Z",
     "iopub.status.idle": "2020-09-08T04:00:05.979858Z",
     "shell.execute_reply": "2020-09-08T04:00:05.980414Z"
    },
    "papermill": {
     "duration": 0.520729,
     "end_time": "2020-09-08T04:00:05.980610",
     "exception": false,
     "start_time": "2020-09-08T04:00:05.459881",
     "status": "completed"
    },
    "tags": []
   },
   "outputs": [
    {
     "data": {
      "text/plain": [
       "'9/6/20'"
      ]
     },
     "execution_count": 4,
     "metadata": {},
     "output_type": "execute_result"
    }
   ],
   "source": [
    "# recovered_global\n",
    "recovered_global='https://raw.githubusercontent.com/CSSEGISandData/COVID-19/master/csse_covid_19_data/csse_covid_19_time_series/time_series_covid19_recovered_global.csv'\n",
    "covid19_recovered=pd.read_csv(recovered_global,index_col='Country/Region')\n",
    "\n",
    "# recovered_latest\n",
    "recovered_latest = covid19_recovered.T.index.values[-1]\n",
    "\n",
    "# df_recovered\n",
    "df_grouped_recv=covid19_recovered.groupby('Country/Region').sum()\n",
    "df_recovered=df_grouped_recv.sort_values(recovered_latest,ascending=False).head(10).drop(['Lat', 'Long'],axis=1).T\n",
    "\n",
    "# df_recovered_total\n",
    "covid19_recovered.loc[\"Total\"] = covid19_recovered.sum()\n",
    "df_recovered_total=covid19_recovered.iloc[-1,4:]\n",
    "\n",
    "recovered_latest"
   ]
  },
  {
   "cell_type": "code",
   "execution_count": null,
   "metadata": {
    "papermill": {
     "duration": 0.006006,
     "end_time": "2020-09-08T04:00:05.991756",
     "exception": false,
     "start_time": "2020-09-08T04:00:05.985750",
     "status": "completed"
    },
    "tags": []
   },
   "outputs": [],
   "source": []
  }
 ],
 "metadata": {
  "kernelspec": {
   "display_name": "Python 3",
   "language": "python",
   "name": "python3"
  },
  "language_info": {
   "codemirror_mode": {
    "name": "ipython",
    "version": 3
   },
   "file_extension": ".py",
   "mimetype": "text/x-python",
   "name": "python",
   "nbconvert_exporter": "python",
   "pygments_lexer": "ipython3",
   "version": "3.8.2"
  },
  "papermill": {
   "duration": 4.451208,
   "end_time": "2020-09-08T04:00:06.335724",
   "environment_variables": {},
   "exception": null,
   "input_path": "covid-19-data.ipynb",
   "output_path": "./latest/covid-19-data.ipynb",
   "parameters": {},
   "start_time": "2020-09-08T04:00:01.884516",
   "version": "2.1.2"
  }
 },
 "nbformat": 4,
 "nbformat_minor": 4
}