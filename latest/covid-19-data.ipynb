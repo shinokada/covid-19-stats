{
 "cells": [
  {
   "cell_type": "code",
   "execution_count": 1,
   "metadata": {
    "execution": {
     "iopub.execute_input": "2020-07-05T04:00:04.075231Z",
     "iopub.status.busy": "2020-07-05T04:00:04.074593Z",
     "iopub.status.idle": "2020-07-05T04:00:04.092144Z",
     "shell.execute_reply": "2020-07-05T04:00:04.092614Z"
    },
    "papermill": {
     "duration": 0.026444,
     "end_time": "2020-07-05T04:00:04.092844",
     "exception": false,
     "start_time": "2020-07-05T04:00:04.066400",
     "status": "completed"
    },
    "tags": []
   },
   "outputs": [],
   "source": [
    "import pandas as pd\n",
    "import numpy as np"
   ]
  },
  {
   "cell_type": "code",
   "execution_count": 2,
   "metadata": {
    "execution": {
     "iopub.execute_input": "2020-07-05T04:00:04.106154Z",
     "iopub.status.busy": "2020-07-05T04:00:04.104993Z",
     "iopub.status.idle": "2020-07-05T04:00:04.343260Z",
     "shell.execute_reply": "2020-07-05T04:00:04.343675Z"
    },
    "papermill": {
     "duration": 0.247092,
     "end_time": "2020-07-05T04:00:04.343852",
     "exception": false,
     "start_time": "2020-07-05T04:00:04.096760",
     "status": "completed"
    },
    "tags": []
   },
   "outputs": [
    {
     "data": {
      "text/html": [
       "<div>\n",
       "<style scoped>\n",
       "    .dataframe tbody tr th:only-of-type {\n",
       "        vertical-align: middle;\n",
       "    }\n",
       "\n",
       "    .dataframe tbody tr th {\n",
       "        vertical-align: top;\n",
       "    }\n",
       "\n",
       "    .dataframe thead th {\n",
       "        text-align: right;\n",
       "    }\n",
       "</style>\n",
       "<table border=\"1\" class=\"dataframe\">\n",
       "  <thead>\n",
       "    <tr style=\"text-align: right;\">\n",
       "      <th>Country/Region</th>\n",
       "      <th>US</th>\n",
       "      <th>Brazil</th>\n",
       "      <th>Russia</th>\n",
       "      <th>India</th>\n",
       "      <th>Peru</th>\n",
       "      <th>Chile</th>\n",
       "      <th>United Kingdom</th>\n",
       "      <th>Spain</th>\n",
       "      <th>Mexico</th>\n",
       "      <th>Italy</th>\n",
       "    </tr>\n",
       "  </thead>\n",
       "  <tbody>\n",
       "    <tr>\n",
       "      <th>1/22/20</th>\n",
       "      <td>1</td>\n",
       "      <td>0</td>\n",
       "      <td>0</td>\n",
       "      <td>0</td>\n",
       "      <td>0</td>\n",
       "      <td>0</td>\n",
       "      <td>0</td>\n",
       "      <td>0</td>\n",
       "      <td>0</td>\n",
       "      <td>0</td>\n",
       "    </tr>\n",
       "    <tr>\n",
       "      <th>1/23/20</th>\n",
       "      <td>1</td>\n",
       "      <td>0</td>\n",
       "      <td>0</td>\n",
       "      <td>0</td>\n",
       "      <td>0</td>\n",
       "      <td>0</td>\n",
       "      <td>0</td>\n",
       "      <td>0</td>\n",
       "      <td>0</td>\n",
       "      <td>0</td>\n",
       "    </tr>\n",
       "    <tr>\n",
       "      <th>1/24/20</th>\n",
       "      <td>2</td>\n",
       "      <td>0</td>\n",
       "      <td>0</td>\n",
       "      <td>0</td>\n",
       "      <td>0</td>\n",
       "      <td>0</td>\n",
       "      <td>0</td>\n",
       "      <td>0</td>\n",
       "      <td>0</td>\n",
       "      <td>0</td>\n",
       "    </tr>\n",
       "    <tr>\n",
       "      <th>1/25/20</th>\n",
       "      <td>2</td>\n",
       "      <td>0</td>\n",
       "      <td>0</td>\n",
       "      <td>0</td>\n",
       "      <td>0</td>\n",
       "      <td>0</td>\n",
       "      <td>0</td>\n",
       "      <td>0</td>\n",
       "      <td>0</td>\n",
       "      <td>0</td>\n",
       "    </tr>\n",
       "    <tr>\n",
       "      <th>1/26/20</th>\n",
       "      <td>5</td>\n",
       "      <td>0</td>\n",
       "      <td>0</td>\n",
       "      <td>0</td>\n",
       "      <td>0</td>\n",
       "      <td>0</td>\n",
       "      <td>0</td>\n",
       "      <td>0</td>\n",
       "      <td>0</td>\n",
       "      <td>0</td>\n",
       "    </tr>\n",
       "    <tr>\n",
       "      <th>...</th>\n",
       "      <td>...</td>\n",
       "      <td>...</td>\n",
       "      <td>...</td>\n",
       "      <td>...</td>\n",
       "      <td>...</td>\n",
       "      <td>...</td>\n",
       "      <td>...</td>\n",
       "      <td>...</td>\n",
       "      <td>...</td>\n",
       "      <td>...</td>\n",
       "    </tr>\n",
       "    <tr>\n",
       "      <th>6/29/20</th>\n",
       "      <td>2590668</td>\n",
       "      <td>1368195</td>\n",
       "      <td>640246</td>\n",
       "      <td>566840</td>\n",
       "      <td>282365</td>\n",
       "      <td>275999</td>\n",
       "      <td>284812</td>\n",
       "      <td>248970</td>\n",
       "      <td>220657</td>\n",
       "      <td>240436</td>\n",
       "    </tr>\n",
       "    <tr>\n",
       "      <th>6/30/20</th>\n",
       "      <td>2636414</td>\n",
       "      <td>1402041</td>\n",
       "      <td>646929</td>\n",
       "      <td>585481</td>\n",
       "      <td>285213</td>\n",
       "      <td>279393</td>\n",
       "      <td>285216</td>\n",
       "      <td>249271</td>\n",
       "      <td>226089</td>\n",
       "      <td>240578</td>\n",
       "    </tr>\n",
       "    <tr>\n",
       "      <th>7/1/20</th>\n",
       "      <td>2687588</td>\n",
       "      <td>1448753</td>\n",
       "      <td>653479</td>\n",
       "      <td>604641</td>\n",
       "      <td>288477</td>\n",
       "      <td>282043</td>\n",
       "      <td>285279</td>\n",
       "      <td>249659</td>\n",
       "      <td>231770</td>\n",
       "      <td>240760</td>\n",
       "    </tr>\n",
       "    <tr>\n",
       "      <th>7/2/20</th>\n",
       "      <td>2742049</td>\n",
       "      <td>1496858</td>\n",
       "      <td>660231</td>\n",
       "      <td>625544</td>\n",
       "      <td>292004</td>\n",
       "      <td>284541</td>\n",
       "      <td>285285</td>\n",
       "      <td>250103</td>\n",
       "      <td>238511</td>\n",
       "      <td>240961</td>\n",
       "    </tr>\n",
       "    <tr>\n",
       "      <th>7/3/20</th>\n",
       "      <td>2794153</td>\n",
       "      <td>1539081</td>\n",
       "      <td>666941</td>\n",
       "      <td>648315</td>\n",
       "      <td>295599</td>\n",
       "      <td>288089</td>\n",
       "      <td>285787</td>\n",
       "      <td>250545</td>\n",
       "      <td>245251</td>\n",
       "      <td>241184</td>\n",
       "    </tr>\n",
       "  </tbody>\n",
       "</table>\n",
       "<p>164 rows × 10 columns</p>\n",
       "</div>"
      ],
      "text/plain": [
       "Country/Region       US   Brazil  Russia   India    Peru   Chile  \\\n",
       "1/22/20               1        0       0       0       0       0   \n",
       "1/23/20               1        0       0       0       0       0   \n",
       "1/24/20               2        0       0       0       0       0   \n",
       "1/25/20               2        0       0       0       0       0   \n",
       "1/26/20               5        0       0       0       0       0   \n",
       "...                 ...      ...     ...     ...     ...     ...   \n",
       "6/29/20         2590668  1368195  640246  566840  282365  275999   \n",
       "6/30/20         2636414  1402041  646929  585481  285213  279393   \n",
       "7/1/20          2687588  1448753  653479  604641  288477  282043   \n",
       "7/2/20          2742049  1496858  660231  625544  292004  284541   \n",
       "7/3/20          2794153  1539081  666941  648315  295599  288089   \n",
       "\n",
       "Country/Region  United Kingdom   Spain  Mexico   Italy  \n",
       "1/22/20                      0       0       0       0  \n",
       "1/23/20                      0       0       0       0  \n",
       "1/24/20                      0       0       0       0  \n",
       "1/25/20                      0       0       0       0  \n",
       "1/26/20                      0       0       0       0  \n",
       "...                        ...     ...     ...     ...  \n",
       "6/29/20                 284812  248970  220657  240436  \n",
       "6/30/20                 285216  249271  226089  240578  \n",
       "7/1/20                  285279  249659  231770  240760  \n",
       "7/2/20                  285285  250103  238511  240961  \n",
       "7/3/20                  285787  250545  245251  241184  \n",
       "\n",
       "[164 rows x 10 columns]"
      ]
     },
     "metadata": {},
     "output_type": "display_data"
    }
   ],
   "source": [
    "# confirmed_global\n",
    "confirmed_global='https://raw.githubusercontent.com/CSSEGISandData/COVID-19/master/csse_covid_19_data/csse_covid_19_time_series/time_series_covid19_confirmed_global.csv'\n",
    "covid19_confirmed=pd.read_csv(confirmed_global,index_col='Country/Region')\n",
    "\n",
    "\n",
    "# confirmed_latest\n",
    "confirmed_latest = covid19_confirmed.T.index.values[-1]\n",
    "# display(confirmed_latest)\n",
    "\n",
    "# df_confirmed\n",
    "df_grouped_conf=covid19_confirmed.groupby('Country/Region').sum()\n",
    "\n",
    "# display(df_grouped_conf.head(10))\n",
    "df_confirmed=df_grouped_conf.sort_values(by=confirmed_latest,ascending=False).head(10).drop(['Lat', 'Long'],axis=1).T\n",
    "# display(df_grouped_conf)\n",
    "display(df_confirmed)\n",
    "\n",
    "# display(df_confirmed)\n",
    "# df_confirmed_total\n",
    "covid19_confirmed.loc[\"Total\"] = covid19_confirmed.sum()\n",
    "df_confirmed_total=covid19_confirmed.iloc[-1,4:]\n",
    "\n",
    "# confirmed_latest"
   ]
  },
  {
   "cell_type": "code",
   "execution_count": 3,
   "metadata": {
    "execution": {
     "iopub.execute_input": "2020-07-05T04:00:04.357895Z",
     "iopub.status.busy": "2020-07-05T04:00:04.357251Z",
     "iopub.status.idle": "2020-07-05T04:00:04.529334Z",
     "shell.execute_reply": "2020-07-05T04:00:04.529789Z"
    },
    "papermill": {
     "duration": 0.181677,
     "end_time": "2020-07-05T04:00:04.529950",
     "exception": false,
     "start_time": "2020-07-05T04:00:04.348273",
     "status": "completed"
    },
    "tags": []
   },
   "outputs": [
    {
     "data": {
      "text/plain": [
       "'7/3/20'"
      ]
     },
     "execution_count": 3,
     "metadata": {},
     "output_type": "execute_result"
    }
   ],
   "source": [
    "# deaths_global\n",
    "deaths_global='https://raw.githubusercontent.com/CSSEGISandData/COVID-19/master/csse_covid_19_data/csse_covid_19_time_series/time_series_covid19_deaths_global.csv'\n",
    "covid19_deaths=pd.read_csv(deaths_global,index_col='Country/Region')\n",
    "\n",
    "# deaths_latest\n",
    "deaths_latest = covid19_deaths.T.index.values[-1]\n",
    "\n",
    "# df_deaths\n",
    "df_grouped_deaths=covid19_deaths.groupby('Country/Region').sum()\n",
    "df_deaths=df_grouped_deaths.sort_values(deaths_latest,ascending=False).head(10).drop(['Lat', 'Long'],axis=1).T\n",
    "\n",
    "# df_deaths_total\n",
    "covid19_deaths.loc[\"Total\"] = covid19_deaths.sum()\n",
    "df_deaths_total=covid19_deaths.iloc[-1,4:]\n",
    "\n",
    "deaths_latest"
   ]
  },
  {
   "cell_type": "code",
   "execution_count": 4,
   "metadata": {
    "execution": {
     "iopub.execute_input": "2020-07-05T04:00:04.544853Z",
     "iopub.status.busy": "2020-07-05T04:00:04.544162Z",
     "iopub.status.idle": "2020-07-05T04:00:04.717361Z",
     "shell.execute_reply": "2020-07-05T04:00:04.718038Z"
    },
    "papermill": {
     "duration": 0.182753,
     "end_time": "2020-07-05T04:00:04.718212",
     "exception": false,
     "start_time": "2020-07-05T04:00:04.535459",
     "status": "completed"
    },
    "tags": []
   },
   "outputs": [
    {
     "data": {
      "text/plain": [
       "'7/3/20'"
      ]
     },
     "execution_count": 4,
     "metadata": {},
     "output_type": "execute_result"
    }
   ],
   "source": [
    "# recovered_global\n",
    "recovered_global='https://raw.githubusercontent.com/CSSEGISandData/COVID-19/master/csse_covid_19_data/csse_covid_19_time_series/time_series_covid19_recovered_global.csv'\n",
    "covid19_recovered=pd.read_csv(recovered_global,index_col='Country/Region')\n",
    "\n",
    "# recovered_latest\n",
    "recovered_latest = covid19_recovered.T.index.values[-1]\n",
    "\n",
    "# df_recovered\n",
    "df_grouped_recv=covid19_recovered.groupby('Country/Region').sum()\n",
    "df_recovered=df_grouped_recv.sort_values(recovered_latest,ascending=False).head(10).drop(['Lat', 'Long'],axis=1).T\n",
    "\n",
    "# df_recovered_total\n",
    "covid19_recovered.loc[\"Total\"] = covid19_recovered.sum()\n",
    "df_recovered_total=covid19_recovered.iloc[-1,4:]\n",
    "\n",
    "recovered_latest"
   ]
  },
  {
   "cell_type": "code",
   "execution_count": null,
   "metadata": {
    "papermill": {
     "duration": 0.004946,
     "end_time": "2020-07-05T04:00:04.728645",
     "exception": false,
     "start_time": "2020-07-05T04:00:04.723699",
     "status": "completed"
    },
    "tags": []
   },
   "outputs": [],
   "source": []
  }
 ],
 "metadata": {
  "kernelspec": {
   "display_name": "Python 3",
   "language": "python",
   "name": "python3"
  },
  "language_info": {
   "codemirror_mode": {
    "name": "ipython",
    "version": 3
   },
   "file_extension": ".py",
   "mimetype": "text/x-python",
   "name": "python",
   "nbconvert_exporter": "python",
   "pygments_lexer": "ipython3",
   "version": "3.8.2"
  },
  "papermill": {
   "duration": 3.159903,
   "end_time": "2020-07-05T04:00:05.084070",
   "environment_variables": {},
   "exception": null,
   "input_path": "covid-19-data.ipynb",
   "output_path": "./latest/covid-19-data.ipynb",
   "parameters": {},
   "start_time": "2020-07-05T04:00:01.924167",
   "version": "2.1.1"
  }
 },
 "nbformat": 4,
 "nbformat_minor": 4
}