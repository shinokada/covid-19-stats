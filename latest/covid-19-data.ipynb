{
 "cells": [
  {
   "cell_type": "code",
   "execution_count": 1,
   "metadata": {
    "execution": {
     "iopub.execute_input": "2020-09-01T04:00:05.244442Z",
     "iopub.status.busy": "2020-09-01T04:00:05.243373Z",
     "iopub.status.idle": "2020-09-01T04:00:05.264198Z",
     "shell.execute_reply": "2020-09-01T04:00:05.264755Z"
    },
    "papermill": {
     "duration": 0.032779,
     "end_time": "2020-09-01T04:00:05.264992",
     "exception": false,
     "start_time": "2020-09-01T04:00:05.232213",
     "status": "completed"
    },
    "tags": []
   },
   "outputs": [],
   "source": [
    "import pandas as pd\n",
    "import numpy as np"
   ]
  },
  {
   "cell_type": "code",
   "execution_count": 2,
   "metadata": {
    "execution": {
     "iopub.execute_input": "2020-09-01T04:00:05.282119Z",
     "iopub.status.busy": "2020-09-01T04:00:05.279094Z",
     "iopub.status.idle": "2020-09-01T04:00:05.616229Z",
     "shell.execute_reply": "2020-09-01T04:00:05.616850Z"
    },
    "papermill": {
     "duration": 0.347462,
     "end_time": "2020-09-01T04:00:05.617034",
     "exception": false,
     "start_time": "2020-09-01T04:00:05.269572",
     "status": "completed"
    },
    "tags": []
   },
   "outputs": [
    {
     "data": {
      "text/html": [
       "<div>\n",
       "<style scoped>\n",
       "    .dataframe tbody tr th:only-of-type {\n",
       "        vertical-align: middle;\n",
       "    }\n",
       "\n",
       "    .dataframe tbody tr th {\n",
       "        vertical-align: top;\n",
       "    }\n",
       "\n",
       "    .dataframe thead th {\n",
       "        text-align: right;\n",
       "    }\n",
       "</style>\n",
       "<table border=\"1\" class=\"dataframe\">\n",
       "  <thead>\n",
       "    <tr style=\"text-align: right;\">\n",
       "      <th>Country/Region</th>\n",
       "      <th>US</th>\n",
       "      <th>Brazil</th>\n",
       "      <th>India</th>\n",
       "      <th>Russia</th>\n",
       "      <th>Peru</th>\n",
       "      <th>South Africa</th>\n",
       "      <th>Colombia</th>\n",
       "      <th>Mexico</th>\n",
       "      <th>Spain</th>\n",
       "      <th>Chile</th>\n",
       "    </tr>\n",
       "  </thead>\n",
       "  <tbody>\n",
       "    <tr>\n",
       "      <th>1/22/20</th>\n",
       "      <td>1</td>\n",
       "      <td>0</td>\n",
       "      <td>0</td>\n",
       "      <td>0</td>\n",
       "      <td>0</td>\n",
       "      <td>0</td>\n",
       "      <td>0</td>\n",
       "      <td>0</td>\n",
       "      <td>0</td>\n",
       "      <td>0</td>\n",
       "    </tr>\n",
       "    <tr>\n",
       "      <th>1/23/20</th>\n",
       "      <td>1</td>\n",
       "      <td>0</td>\n",
       "      <td>0</td>\n",
       "      <td>0</td>\n",
       "      <td>0</td>\n",
       "      <td>0</td>\n",
       "      <td>0</td>\n",
       "      <td>0</td>\n",
       "      <td>0</td>\n",
       "      <td>0</td>\n",
       "    </tr>\n",
       "    <tr>\n",
       "      <th>1/24/20</th>\n",
       "      <td>2</td>\n",
       "      <td>0</td>\n",
       "      <td>0</td>\n",
       "      <td>0</td>\n",
       "      <td>0</td>\n",
       "      <td>0</td>\n",
       "      <td>0</td>\n",
       "      <td>0</td>\n",
       "      <td>0</td>\n",
       "      <td>0</td>\n",
       "    </tr>\n",
       "    <tr>\n",
       "      <th>1/25/20</th>\n",
       "      <td>2</td>\n",
       "      <td>0</td>\n",
       "      <td>0</td>\n",
       "      <td>0</td>\n",
       "      <td>0</td>\n",
       "      <td>0</td>\n",
       "      <td>0</td>\n",
       "      <td>0</td>\n",
       "      <td>0</td>\n",
       "      <td>0</td>\n",
       "    </tr>\n",
       "    <tr>\n",
       "      <th>1/26/20</th>\n",
       "      <td>5</td>\n",
       "      <td>0</td>\n",
       "      <td>0</td>\n",
       "      <td>0</td>\n",
       "      <td>0</td>\n",
       "      <td>0</td>\n",
       "      <td>0</td>\n",
       "      <td>0</td>\n",
       "      <td>0</td>\n",
       "      <td>0</td>\n",
       "    </tr>\n",
       "    <tr>\n",
       "      <th>...</th>\n",
       "      <td>...</td>\n",
       "      <td>...</td>\n",
       "      <td>...</td>\n",
       "      <td>...</td>\n",
       "      <td>...</td>\n",
       "      <td>...</td>\n",
       "      <td>...</td>\n",
       "      <td>...</td>\n",
       "      <td>...</td>\n",
       "      <td>...</td>\n",
       "    </tr>\n",
       "    <tr>\n",
       "      <th>8/26/20</th>\n",
       "      <td>5822134</td>\n",
       "      <td>3717156</td>\n",
       "      <td>3310234</td>\n",
       "      <td>968297</td>\n",
       "      <td>607382</td>\n",
       "      <td>615701</td>\n",
       "      <td>572243</td>\n",
       "      <td>573888</td>\n",
       "      <td>419849</td>\n",
       "      <td>402365</td>\n",
       "    </tr>\n",
       "    <tr>\n",
       "      <th>8/27/20</th>\n",
       "      <td>5868055</td>\n",
       "      <td>3761391</td>\n",
       "      <td>3387500</td>\n",
       "      <td>972972</td>\n",
       "      <td>613378</td>\n",
       "      <td>618286</td>\n",
       "      <td>581995</td>\n",
       "      <td>579914</td>\n",
       "      <td>429507</td>\n",
       "      <td>404102</td>\n",
       "    </tr>\n",
       "    <tr>\n",
       "      <th>8/28/20</th>\n",
       "      <td>5914219</td>\n",
       "      <td>3804803</td>\n",
       "      <td>3463972</td>\n",
       "      <td>977730</td>\n",
       "      <td>621997</td>\n",
       "      <td>620132</td>\n",
       "      <td>590492</td>\n",
       "      <td>585738</td>\n",
       "      <td>439286</td>\n",
       "      <td>405972</td>\n",
       "    </tr>\n",
       "    <tr>\n",
       "      <th>8/29/20</th>\n",
       "      <td>5961375</td>\n",
       "      <td>3846153</td>\n",
       "      <td>3542733</td>\n",
       "      <td>982573</td>\n",
       "      <td>629961</td>\n",
       "      <td>622551</td>\n",
       "      <td>599884</td>\n",
       "      <td>591712</td>\n",
       "      <td>439286</td>\n",
       "      <td>408009</td>\n",
       "    </tr>\n",
       "    <tr>\n",
       "      <th>8/30/20</th>\n",
       "      <td>5996699</td>\n",
       "      <td>3862311</td>\n",
       "      <td>3621245</td>\n",
       "      <td>987470</td>\n",
       "      <td>639435</td>\n",
       "      <td>625056</td>\n",
       "      <td>607904</td>\n",
       "      <td>595841</td>\n",
       "      <td>439286</td>\n",
       "      <td>409974</td>\n",
       "    </tr>\n",
       "  </tbody>\n",
       "</table>\n",
       "<p>222 rows × 10 columns</p>\n",
       "</div>"
      ],
      "text/plain": [
       "Country/Region       US   Brazil    India  Russia    Peru  South Africa  \\\n",
       "1/22/20               1        0        0       0       0             0   \n",
       "1/23/20               1        0        0       0       0             0   \n",
       "1/24/20               2        0        0       0       0             0   \n",
       "1/25/20               2        0        0       0       0             0   \n",
       "1/26/20               5        0        0       0       0             0   \n",
       "...                 ...      ...      ...     ...     ...           ...   \n",
       "8/26/20         5822134  3717156  3310234  968297  607382        615701   \n",
       "8/27/20         5868055  3761391  3387500  972972  613378        618286   \n",
       "8/28/20         5914219  3804803  3463972  977730  621997        620132   \n",
       "8/29/20         5961375  3846153  3542733  982573  629961        622551   \n",
       "8/30/20         5996699  3862311  3621245  987470  639435        625056   \n",
       "\n",
       "Country/Region  Colombia  Mexico   Spain   Chile  \n",
       "1/22/20                0       0       0       0  \n",
       "1/23/20                0       0       0       0  \n",
       "1/24/20                0       0       0       0  \n",
       "1/25/20                0       0       0       0  \n",
       "1/26/20                0       0       0       0  \n",
       "...                  ...     ...     ...     ...  \n",
       "8/26/20           572243  573888  419849  402365  \n",
       "8/27/20           581995  579914  429507  404102  \n",
       "8/28/20           590492  585738  439286  405972  \n",
       "8/29/20           599884  591712  439286  408009  \n",
       "8/30/20           607904  595841  439286  409974  \n",
       "\n",
       "[222 rows x 10 columns]"
      ]
     },
     "metadata": {},
     "output_type": "display_data"
    }
   ],
   "source": [
    "# confirmed_global\n",
    "confirmed_global='https://raw.githubusercontent.com/CSSEGISandData/COVID-19/master/csse_covid_19_data/csse_covid_19_time_series/time_series_covid19_confirmed_global.csv'\n",
    "covid19_confirmed=pd.read_csv(confirmed_global,index_col='Country/Region')\n",
    "\n",
    "\n",
    "# confirmed_latest\n",
    "confirmed_latest = covid19_confirmed.T.index.values[-1]\n",
    "# display(confirmed_latest)\n",
    "\n",
    "# df_confirmed\n",
    "df_grouped_conf=covid19_confirmed.groupby('Country/Region').sum()\n",
    "\n",
    "# display(df_grouped_conf.head(10))\n",
    "df_confirmed=df_grouped_conf.sort_values(by=confirmed_latest,ascending=False).head(10).drop(['Lat', 'Long'],axis=1).T\n",
    "# display(df_grouped_conf)\n",
    "display(df_confirmed)\n",
    "\n",
    "# display(df_confirmed)\n",
    "# df_confirmed_total\n",
    "covid19_confirmed.loc[\"Total\"] = covid19_confirmed.sum()\n",
    "df_confirmed_total=covid19_confirmed.iloc[-1,4:]\n",
    "\n",
    "# confirmed_latest"
   ]
  },
  {
   "cell_type": "code",
   "execution_count": 3,
   "metadata": {
    "execution": {
     "iopub.execute_input": "2020-09-01T04:00:05.631827Z",
     "iopub.status.busy": "2020-09-01T04:00:05.630999Z",
     "iopub.status.idle": "2020-09-01T04:00:06.067107Z",
     "shell.execute_reply": "2020-09-01T04:00:06.067723Z"
    },
    "papermill": {
     "duration": 0.445863,
     "end_time": "2020-09-01T04:00:06.067909",
     "exception": false,
     "start_time": "2020-09-01T04:00:05.622046",
     "status": "completed"
    },
    "tags": []
   },
   "outputs": [
    {
     "data": {
      "text/plain": [
       "'8/30/20'"
      ]
     },
     "execution_count": 3,
     "metadata": {},
     "output_type": "execute_result"
    }
   ],
   "source": [
    "# deaths_global\n",
    "deaths_global='https://raw.githubusercontent.com/CSSEGISandData/COVID-19/master/csse_covid_19_data/csse_covid_19_time_series/time_series_covid19_deaths_global.csv'\n",
    "covid19_deaths=pd.read_csv(deaths_global,index_col='Country/Region')\n",
    "\n",
    "# deaths_latest\n",
    "deaths_latest = covid19_deaths.T.index.values[-1]\n",
    "\n",
    "# df_deaths\n",
    "df_grouped_deaths=covid19_deaths.groupby('Country/Region').sum()\n",
    "df_deaths=df_grouped_deaths.sort_values(deaths_latest,ascending=False).head(10).drop(['Lat', 'Long'],axis=1).T\n",
    "\n",
    "# df_deaths_total\n",
    "covid19_deaths.loc[\"Total\"] = covid19_deaths.sum()\n",
    "df_deaths_total=covid19_deaths.iloc[-1,4:]\n",
    "\n",
    "deaths_latest"
   ]
  },
  {
   "cell_type": "code",
   "execution_count": 4,
   "metadata": {
    "execution": {
     "iopub.execute_input": "2020-09-01T04:00:06.083379Z",
     "iopub.status.busy": "2020-09-01T04:00:06.081135Z",
     "iopub.status.idle": "2020-09-01T04:00:06.570113Z",
     "shell.execute_reply": "2020-09-01T04:00:06.570526Z"
    },
    "papermill": {
     "duration": 0.497842,
     "end_time": "2020-09-01T04:00:06.570758",
     "exception": false,
     "start_time": "2020-09-01T04:00:06.072916",
     "status": "completed"
    },
    "tags": []
   },
   "outputs": [
    {
     "data": {
      "text/plain": [
       "'8/30/20'"
      ]
     },
     "execution_count": 4,
     "metadata": {},
     "output_type": "execute_result"
    }
   ],
   "source": [
    "# recovered_global\n",
    "recovered_global='https://raw.githubusercontent.com/CSSEGISandData/COVID-19/master/csse_covid_19_data/csse_covid_19_time_series/time_series_covid19_recovered_global.csv'\n",
    "covid19_recovered=pd.read_csv(recovered_global,index_col='Country/Region')\n",
    "\n",
    "# recovered_latest\n",
    "recovered_latest = covid19_recovered.T.index.values[-1]\n",
    "\n",
    "# df_recovered\n",
    "df_grouped_recv=covid19_recovered.groupby('Country/Region').sum()\n",
    "df_recovered=df_grouped_recv.sort_values(recovered_latest,ascending=False).head(10).drop(['Lat', 'Long'],axis=1).T\n",
    "\n",
    "# df_recovered_total\n",
    "covid19_recovered.loc[\"Total\"] = covid19_recovered.sum()\n",
    "df_recovered_total=covid19_recovered.iloc[-1,4:]\n",
    "\n",
    "recovered_latest"
   ]
  },
  {
   "cell_type": "code",
   "execution_count": null,
   "metadata": {
    "papermill": {
     "duration": 0.004257,
     "end_time": "2020-09-01T04:00:06.579550",
     "exception": false,
     "start_time": "2020-09-01T04:00:06.575293",
     "status": "completed"
    },
    "tags": []
   },
   "outputs": [],
   "source": []
  }
 ],
 "metadata": {
  "kernelspec": {
   "display_name": "Python 3",
   "language": "python",
   "name": "python3"
  },
  "language_info": {
   "codemirror_mode": {
    "name": "ipython",
    "version": 3
   },
   "file_extension": ".py",
   "mimetype": "text/x-python",
   "name": "python",
   "nbconvert_exporter": "python",
   "pygments_lexer": "ipython3",
   "version": "3.8.2"
  },
  "papermill": {
   "duration": 4.350349,
   "end_time": "2020-09-01T04:00:07.067699",
   "environment_variables": {},
   "exception": null,
   "input_path": "covid-19-data.ipynb",
   "output_path": "./latest/covid-19-data.ipynb",
   "parameters": {},
   "start_time": "2020-09-01T04:00:02.717350",
   "version": "2.1.2"
  }
 },
 "nbformat": 4,
 "nbformat_minor": 4
}