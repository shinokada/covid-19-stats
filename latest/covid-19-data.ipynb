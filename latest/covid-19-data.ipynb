{
 "cells": [
  {
   "cell_type": "code",
   "execution_count": 1,
   "metadata": {
    "execution": {
     "iopub.execute_input": "2020-05-02T23:00:04.915589Z",
     "iopub.status.busy": "2020-05-02T23:00:04.914926Z",
     "iopub.status.idle": "2020-05-02T23:00:04.941340Z",
     "shell.execute_reply": "2020-05-02T23:00:04.942117Z"
    },
    "papermill": {
     "duration": 0.036571,
     "end_time": "2020-05-02T23:00:04.942382",
     "exception": false,
     "start_time": "2020-05-02T23:00:04.905811",
     "status": "completed"
    },
    "tags": []
   },
   "outputs": [],
   "source": [
    "import pandas as pd\n",
    "import numpy as np"
   ]
  },
  {
   "cell_type": "code",
   "execution_count": 2,
   "metadata": {
    "execution": {
     "iopub.execute_input": "2020-05-02T23:00:04.959502Z",
     "iopub.status.busy": "2020-05-02T23:00:04.958828Z",
     "iopub.status.idle": "2020-05-02T23:00:05.178049Z",
     "shell.execute_reply": "2020-05-02T23:00:05.178822Z"
    },
    "papermill": {
     "duration": 0.22916,
     "end_time": "2020-05-02T23:00:05.179060",
     "exception": false,
     "start_time": "2020-05-02T23:00:04.949900",
     "status": "completed"
    },
    "tags": []
   },
   "outputs": [],
   "source": [
    "# confirmed_global\n",
    "confirmed_global='https://raw.githubusercontent.com/CSSEGISandData/COVID-19/master/csse_covid_19_data/csse_covid_19_time_series/time_series_covid19_confirmed_global.csv'\n",
    "covid19_confirmed=pd.read_csv(confirmed_global,index_col='Country/Region')\n",
    "\n",
    "# confirmed_latest\n",
    "confirmed_latest = covid19_confirmed.T.index.values[-1]\n",
    "\n",
    "# df_confirmed\n",
    "df_grouped_conf=covid19_confirmed.groupby('Country/Region').sum()\n",
    "\n",
    "df_confirmed=df_grouped_conf.sort_values(confirmed_latest,ascending=False).head(10).drop(['Lat', 'Long'],axis=1).T\n",
    "\n",
    "# df_confirmed_total\n",
    "covid19_confirmed.loc[\"Total\"] = covid19_confirmed.sum()\n",
    "df_confirmed_total=covid19_confirmed.iloc[-1,4:]\n"
   ]
  },
  {
   "cell_type": "code",
   "execution_count": 3,
   "metadata": {
    "execution": {
     "iopub.execute_input": "2020-05-02T23:00:05.193503Z",
     "iopub.status.busy": "2020-05-02T23:00:05.192826Z",
     "iopub.status.idle": "2020-05-02T23:00:05.359412Z",
     "shell.execute_reply": "2020-05-02T23:00:05.358602Z"
    },
    "papermill": {
     "duration": 0.174726,
     "end_time": "2020-05-02T23:00:05.359614",
     "exception": false,
     "start_time": "2020-05-02T23:00:05.184888",
     "status": "completed"
    },
    "tags": []
   },
   "outputs": [],
   "source": [
    "# deaths_global\n",
    "deaths_global='https://raw.githubusercontent.com/CSSEGISandData/COVID-19/master/csse_covid_19_data/csse_covid_19_time_series/time_series_covid19_deaths_global.csv'\n",
    "covid19_deaths=pd.read_csv(deaths_global,index_col='Country/Region')\n",
    "\n",
    "# deaths_latest\n",
    "deaths_latest = covid19_deaths.T.index.values[-1]\n",
    "\n",
    "# df_deaths\n",
    "df_grouped_deaths=covid19_deaths.groupby('Country/Region').sum()\n",
    "df_deaths=df_grouped_deaths.sort_values(deaths_latest,ascending=False).head(10).drop(['Lat', 'Long'],axis=1).T\n",
    "\n",
    "# df_deaths_total\n",
    "covid19_deaths.loc[\"Total\"] = covid19_deaths.sum()\n",
    "df_deaths_total=covid19_deaths.iloc[-1,4:]\n"
   ]
  },
  {
   "cell_type": "code",
   "execution_count": 4,
   "metadata": {
    "execution": {
     "iopub.execute_input": "2020-05-02T23:00:05.378344Z",
     "iopub.status.busy": "2020-05-02T23:00:05.377613Z",
     "iopub.status.idle": "2020-05-02T23:00:05.537844Z",
     "shell.execute_reply": "2020-05-02T23:00:05.538325Z"
    },
    "papermill": {
     "duration": 0.170568,
     "end_time": "2020-05-02T23:00:05.538494",
     "exception": false,
     "start_time": "2020-05-02T23:00:05.367926",
     "status": "completed"
    },
    "tags": []
   },
   "outputs": [],
   "source": [
    "# recovered_global\n",
    "recovered_global='https://raw.githubusercontent.com/CSSEGISandData/COVID-19/master/csse_covid_19_data/csse_covid_19_time_series/time_series_covid19_recovered_global.csv'\n",
    "covid19_recovered=pd.read_csv(recovered_global,index_col='Country/Region')\n",
    "\n",
    "# recovered_latest\n",
    "recovered_latest = covid19_recovered.T.index.values[-1]\n",
    "\n",
    "# df_recovered\n",
    "df_grouped_recv=covid19_recovered.groupby('Country/Region').sum()\n",
    "df_recovered=df_grouped_recv.sort_values(recovered_latest,ascending=False).head(10).drop(['Lat', 'Long'],axis=1).T\n",
    "\n",
    "# df_recovered_total\n",
    "covid19_recovered.loc[\"Total\"] = covid19_recovered.sum()\n",
    "df_recovered_total=covid19_recovered.iloc[-1,4:]"
   ]
  },
  {
   "cell_type": "code",
   "execution_count": null,
   "metadata": {
    "papermill": {
     "duration": 0.004092,
     "end_time": "2020-05-02T23:00:05.546685",
     "exception": false,
     "start_time": "2020-05-02T23:00:05.542593",
     "status": "completed"
    },
    "tags": []
   },
   "outputs": [],
   "source": []
  }
 ],
 "metadata": {
  "kernelspec": {
   "display_name": "Python 3",
   "language": "python",
   "name": "python3"
  },
  "language_info": {
   "codemirror_mode": {
    "name": "ipython",
    "version": 3
   },
   "file_extension": ".py",
   "mimetype": "text/x-python",
   "name": "python",
   "nbconvert_exporter": "python",
   "pygments_lexer": "ipython3",
   "version": "3.8.2"
  },
  "papermill": {
   "duration": 3.650067,
   "end_time": "2020-05-02T23:00:05.804562",
   "environment_variables": {},
   "exception": null,
   "input_path": "covid-19-data.ipynb",
   "output_path": "./latest/covid-19-data.ipynb",
   "parameters": {},
   "start_time": "2020-05-02T23:00:02.154495",
   "version": "2.1.0"
  }
 },
 "nbformat": 4,
 "nbformat_minor": 4
}
