{
 "cells": [
  {
   "cell_type": "code",
   "execution_count": 1,
   "metadata": {
    "execution": {
     "iopub.execute_input": "2020-05-06T23:51:45.166463Z",
     "iopub.status.busy": "2020-05-06T23:51:45.165610Z",
     "iopub.status.idle": "2020-05-06T23:51:45.181820Z",
     "shell.execute_reply": "2020-05-06T23:51:45.182234Z"
    },
    "papermill": {
     "duration": 0.030131,
     "end_time": "2020-05-06T23:51:45.182412",
     "exception": false,
     "start_time": "2020-05-06T23:51:45.152281",
     "status": "completed"
    },
    "tags": []
   },
   "outputs": [],
   "source": [
    "import pandas as pd\n",
    "import numpy as np"
   ]
  },
  {
   "cell_type": "code",
   "execution_count": 2,
   "metadata": {
    "execution": {
     "iopub.execute_input": "2020-05-06T23:51:45.194579Z",
     "iopub.status.busy": "2020-05-06T23:51:45.193978Z",
     "iopub.status.idle": "2020-05-06T23:51:45.699813Z",
     "shell.execute_reply": "2020-05-06T23:51:45.699257Z"
    },
    "papermill": {
     "duration": 0.513735,
     "end_time": "2020-05-06T23:51:45.699957",
     "exception": false,
     "start_time": "2020-05-06T23:51:45.186222",
     "status": "completed"
    },
    "tags": []
   },
   "outputs": [],
   "source": [
    "# confirmed_global\n",
    "confirmed_global='https://raw.githubusercontent.com/CSSEGISandData/COVID-19/master/csse_covid_19_data/csse_covid_19_time_series/time_series_covid19_confirmed_global.csv'\n",
    "covid19_confirmed=pd.read_csv(confirmed_global,index_col='Country/Region')\n",
    "\n",
    "# confirmed_latest\n",
    "confirmed_latest = covid19_confirmed.T.index.values[-1]\n",
    "\n",
    "# df_confirmed\n",
    "df_grouped_conf=covid19_confirmed.groupby('Country/Region').sum()\n",
    "\n",
    "df_confirmed=df_grouped_conf.sort_values(confirmed_latest,ascending=False).head(10).drop(['Lat', 'Long'],axis=1).T\n",
    "\n",
    "# df_confirmed_total\n",
    "covid19_confirmed.loc[\"Total\"] = covid19_confirmed.sum()\n",
    "df_confirmed_total=covid19_confirmed.iloc[-1,4:]\n"
   ]
  },
  {
   "cell_type": "code",
   "execution_count": 3,
   "metadata": {
    "execution": {
     "iopub.execute_input": "2020-05-06T23:51:45.710377Z",
     "iopub.status.busy": "2020-05-06T23:51:45.709800Z",
     "iopub.status.idle": "2020-05-06T23:51:46.083256Z",
     "shell.execute_reply": "2020-05-06T23:51:46.083777Z"
    },
    "papermill": {
     "duration": 0.380805,
     "end_time": "2020-05-06T23:51:46.084023",
     "exception": false,
     "start_time": "2020-05-06T23:51:45.703218",
     "status": "completed"
    },
    "tags": []
   },
   "outputs": [],
   "source": [
    "# deaths_global\n",
    "deaths_global='https://raw.githubusercontent.com/CSSEGISandData/COVID-19/master/csse_covid_19_data/csse_covid_19_time_series/time_series_covid19_deaths_global.csv'\n",
    "covid19_deaths=pd.read_csv(deaths_global,index_col='Country/Region')\n",
    "\n",
    "# deaths_latest\n",
    "deaths_latest = covid19_deaths.T.index.values[-1]\n",
    "\n",
    "# df_deaths\n",
    "df_grouped_deaths=covid19_deaths.groupby('Country/Region').sum()\n",
    "df_deaths=df_grouped_deaths.sort_values(deaths_latest,ascending=False).head(10).drop(['Lat', 'Long'],axis=1).T\n",
    "\n",
    "# df_deaths_total\n",
    "covid19_deaths.loc[\"Total\"] = covid19_deaths.sum()\n",
    "df_deaths_total=covid19_deaths.iloc[-1,4:]\n"
   ]
  },
  {
   "cell_type": "code",
   "execution_count": 4,
   "metadata": {
    "execution": {
     "iopub.execute_input": "2020-05-06T23:51:46.094971Z",
     "iopub.status.busy": "2020-05-06T23:51:46.094381Z",
     "iopub.status.idle": "2020-05-06T23:51:46.489329Z",
     "shell.execute_reply": "2020-05-06T23:51:46.489917Z"
    },
    "papermill": {
     "duration": 0.402767,
     "end_time": "2020-05-06T23:51:46.490180",
     "exception": false,
     "start_time": "2020-05-06T23:51:46.087413",
     "status": "completed"
    },
    "tags": []
   },
   "outputs": [],
   "source": [
    "# recovered_global\n",
    "recovered_global='https://raw.githubusercontent.com/CSSEGISandData/COVID-19/master/csse_covid_19_data/csse_covid_19_time_series/time_series_covid19_recovered_global.csv'\n",
    "covid19_recovered=pd.read_csv(recovered_global,index_col='Country/Region')\n",
    "\n",
    "# recovered_latest\n",
    "recovered_latest = covid19_recovered.T.index.values[-1]\n",
    "\n",
    "# df_recovered\n",
    "df_grouped_recv=covid19_recovered.groupby('Country/Region').sum()\n",
    "df_recovered=df_grouped_recv.sort_values(recovered_latest,ascending=False).head(10).drop(['Lat', 'Long'],axis=1).T\n",
    "\n",
    "# df_recovered_total\n",
    "covid19_recovered.loc[\"Total\"] = covid19_recovered.sum()\n",
    "df_recovered_total=covid19_recovered.iloc[-1,4:]"
   ]
  },
  {
   "cell_type": "code",
   "execution_count": null,
   "metadata": {
    "papermill": {
     "duration": 0.003069,
     "end_time": "2020-05-06T23:51:46.496863",
     "exception": false,
     "start_time": "2020-05-06T23:51:46.493794",
     "status": "completed"
    },
    "tags": []
   },
   "outputs": [],
   "source": []
  }
 ],
 "metadata": {
  "kernelspec": {
   "display_name": "Python 3",
   "language": "python",
   "name": "python3"
  },
  "language_info": {
   "codemirror_mode": {
    "name": "ipython",
    "version": 3
   },
   "file_extension": ".py",
   "mimetype": "text/x-python",
   "name": "python",
   "nbconvert_exporter": "python",
   "pygments_lexer": "ipython3",
   "version": "3.8.2"
  },
  "papermill": {
   "duration": 3.083278,
   "end_time": "2020-05-06T23:51:46.609549",
   "environment_variables": {},
   "exception": null,
   "input_path": "covid-19-data.ipynb",
   "output_path": "./latest/covid-19-data.ipynb",
   "parameters": {},
   "start_time": "2020-05-06T23:51:43.526271",
   "version": "2.1.1"
  }
 },
 "nbformat": 4,
 "nbformat_minor": 4
}