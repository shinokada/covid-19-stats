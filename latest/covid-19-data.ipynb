{
 "cells": [
  {
   "cell_type": "code",
   "execution_count": 1,
   "metadata": {
    "execution": {
     "iopub.execute_input": "2020-06-15T04:00:04.925020Z",
     "iopub.status.busy": "2020-06-15T04:00:04.924034Z",
     "iopub.status.idle": "2020-06-15T04:00:04.946669Z",
     "shell.execute_reply": "2020-06-15T04:00:04.947191Z"
    },
    "papermill": {
     "duration": 0.036882,
     "end_time": "2020-06-15T04:00:04.947410",
     "exception": false,
     "start_time": "2020-06-15T04:00:04.910528",
     "status": "completed"
    },
    "tags": []
   },
   "outputs": [],
   "source": [
    "import pandas as pd\n",
    "import numpy as np"
   ]
  },
  {
   "cell_type": "code",
   "execution_count": 2,
   "metadata": {
    "execution": {
     "iopub.execute_input": "2020-06-15T04:00:04.964525Z",
     "iopub.status.busy": "2020-06-15T04:00:04.963190Z",
     "iopub.status.idle": "2020-06-15T04:00:05.367449Z",
     "shell.execute_reply": "2020-06-15T04:00:05.368049Z"
    },
    "papermill": {
     "duration": 0.41696,
     "end_time": "2020-06-15T04:00:05.368272",
     "exception": false,
     "start_time": "2020-06-15T04:00:04.951312",
     "status": "completed"
    },
    "tags": []
   },
   "outputs": [
    {
     "data": {
      "text/html": [
       "<div>\n",
       "<style scoped>\n",
       "    .dataframe tbody tr th:only-of-type {\n",
       "        vertical-align: middle;\n",
       "    }\n",
       "\n",
       "    .dataframe tbody tr th {\n",
       "        vertical-align: top;\n",
       "    }\n",
       "\n",
       "    .dataframe thead th {\n",
       "        text-align: right;\n",
       "    }\n",
       "</style>\n",
       "<table border=\"1\" class=\"dataframe\">\n",
       "  <thead>\n",
       "    <tr style=\"text-align: right;\">\n",
       "      <th>Country/Region</th>\n",
       "      <th>US</th>\n",
       "      <th>Brazil</th>\n",
       "      <th>Russia</th>\n",
       "      <th>India</th>\n",
       "      <th>United Kingdom</th>\n",
       "      <th>Spain</th>\n",
       "      <th>Italy</th>\n",
       "      <th>Peru</th>\n",
       "      <th>France</th>\n",
       "      <th>Germany</th>\n",
       "    </tr>\n",
       "  </thead>\n",
       "  <tbody>\n",
       "    <tr>\n",
       "      <th>1/22/20</th>\n",
       "      <td>1</td>\n",
       "      <td>0</td>\n",
       "      <td>0</td>\n",
       "      <td>0</td>\n",
       "      <td>0</td>\n",
       "      <td>0</td>\n",
       "      <td>0</td>\n",
       "      <td>0</td>\n",
       "      <td>0</td>\n",
       "      <td>0</td>\n",
       "    </tr>\n",
       "    <tr>\n",
       "      <th>1/23/20</th>\n",
       "      <td>1</td>\n",
       "      <td>0</td>\n",
       "      <td>0</td>\n",
       "      <td>0</td>\n",
       "      <td>0</td>\n",
       "      <td>0</td>\n",
       "      <td>0</td>\n",
       "      <td>0</td>\n",
       "      <td>0</td>\n",
       "      <td>0</td>\n",
       "    </tr>\n",
       "    <tr>\n",
       "      <th>1/24/20</th>\n",
       "      <td>2</td>\n",
       "      <td>0</td>\n",
       "      <td>0</td>\n",
       "      <td>0</td>\n",
       "      <td>0</td>\n",
       "      <td>0</td>\n",
       "      <td>0</td>\n",
       "      <td>0</td>\n",
       "      <td>2</td>\n",
       "      <td>0</td>\n",
       "    </tr>\n",
       "    <tr>\n",
       "      <th>1/25/20</th>\n",
       "      <td>2</td>\n",
       "      <td>0</td>\n",
       "      <td>0</td>\n",
       "      <td>0</td>\n",
       "      <td>0</td>\n",
       "      <td>0</td>\n",
       "      <td>0</td>\n",
       "      <td>0</td>\n",
       "      <td>3</td>\n",
       "      <td>0</td>\n",
       "    </tr>\n",
       "    <tr>\n",
       "      <th>1/26/20</th>\n",
       "      <td>5</td>\n",
       "      <td>0</td>\n",
       "      <td>0</td>\n",
       "      <td>0</td>\n",
       "      <td>0</td>\n",
       "      <td>0</td>\n",
       "      <td>0</td>\n",
       "      <td>0</td>\n",
       "      <td>3</td>\n",
       "      <td>0</td>\n",
       "    </tr>\n",
       "    <tr>\n",
       "      <th>...</th>\n",
       "      <td>...</td>\n",
       "      <td>...</td>\n",
       "      <td>...</td>\n",
       "      <td>...</td>\n",
       "      <td>...</td>\n",
       "      <td>...</td>\n",
       "      <td>...</td>\n",
       "      <td>...</td>\n",
       "      <td>...</td>\n",
       "      <td>...</td>\n",
       "    </tr>\n",
       "    <tr>\n",
       "      <th>6/10/20</th>\n",
       "      <td>2000702</td>\n",
       "      <td>772416</td>\n",
       "      <td>493023</td>\n",
       "      <td>286605</td>\n",
       "      <td>291588</td>\n",
       "      <td>242280</td>\n",
       "      <td>235763</td>\n",
       "      <td>208823</td>\n",
       "      <td>192068</td>\n",
       "      <td>186522</td>\n",
       "    </tr>\n",
       "    <tr>\n",
       "      <th>6/11/20</th>\n",
       "      <td>2023590</td>\n",
       "      <td>802828</td>\n",
       "      <td>501800</td>\n",
       "      <td>297535</td>\n",
       "      <td>292860</td>\n",
       "      <td>242707</td>\n",
       "      <td>236142</td>\n",
       "      <td>214788</td>\n",
       "      <td>192493</td>\n",
       "      <td>186691</td>\n",
       "    </tr>\n",
       "    <tr>\n",
       "      <th>6/12/20</th>\n",
       "      <td>2048986</td>\n",
       "      <td>828810</td>\n",
       "      <td>510761</td>\n",
       "      <td>297535</td>\n",
       "      <td>294402</td>\n",
       "      <td>243209</td>\n",
       "      <td>236305</td>\n",
       "      <td>214788</td>\n",
       "      <td>193220</td>\n",
       "      <td>187226</td>\n",
       "    </tr>\n",
       "    <tr>\n",
       "      <th>6/13/20</th>\n",
       "      <td>2074526</td>\n",
       "      <td>850514</td>\n",
       "      <td>519458</td>\n",
       "      <td>308993</td>\n",
       "      <td>295828</td>\n",
       "      <td>243605</td>\n",
       "      <td>236651</td>\n",
       "      <td>220749</td>\n",
       "      <td>193746</td>\n",
       "      <td>187267</td>\n",
       "    </tr>\n",
       "    <tr>\n",
       "      <th>6/14/20</th>\n",
       "      <td>2094058</td>\n",
       "      <td>867624</td>\n",
       "      <td>528267</td>\n",
       "      <td>320922</td>\n",
       "      <td>297342</td>\n",
       "      <td>243928</td>\n",
       "      <td>236989</td>\n",
       "      <td>229736</td>\n",
       "      <td>194153</td>\n",
       "      <td>187518</td>\n",
       "    </tr>\n",
       "  </tbody>\n",
       "</table>\n",
       "<p>145 rows × 10 columns</p>\n",
       "</div>"
      ],
      "text/plain": [
       "Country/Region       US  Brazil  Russia   India  United Kingdom   Spain  \\\n",
       "1/22/20               1       0       0       0               0       0   \n",
       "1/23/20               1       0       0       0               0       0   \n",
       "1/24/20               2       0       0       0               0       0   \n",
       "1/25/20               2       0       0       0               0       0   \n",
       "1/26/20               5       0       0       0               0       0   \n",
       "...                 ...     ...     ...     ...             ...     ...   \n",
       "6/10/20         2000702  772416  493023  286605          291588  242280   \n",
       "6/11/20         2023590  802828  501800  297535          292860  242707   \n",
       "6/12/20         2048986  828810  510761  297535          294402  243209   \n",
       "6/13/20         2074526  850514  519458  308993          295828  243605   \n",
       "6/14/20         2094058  867624  528267  320922          297342  243928   \n",
       "\n",
       "Country/Region   Italy    Peru  France  Germany  \n",
       "1/22/20              0       0       0        0  \n",
       "1/23/20              0       0       0        0  \n",
       "1/24/20              0       0       2        0  \n",
       "1/25/20              0       0       3        0  \n",
       "1/26/20              0       0       3        0  \n",
       "...                ...     ...     ...      ...  \n",
       "6/10/20         235763  208823  192068   186522  \n",
       "6/11/20         236142  214788  192493   186691  \n",
       "6/12/20         236305  214788  193220   187226  \n",
       "6/13/20         236651  220749  193746   187267  \n",
       "6/14/20         236989  229736  194153   187518  \n",
       "\n",
       "[145 rows x 10 columns]"
      ]
     },
     "metadata": {},
     "output_type": "display_data"
    }
   ],
   "source": [
    "# confirmed_global\n",
    "confirmed_global='https://raw.githubusercontent.com/CSSEGISandData/COVID-19/master/csse_covid_19_data/csse_covid_19_time_series/time_series_covid19_confirmed_global.csv'\n",
    "covid19_confirmed=pd.read_csv(confirmed_global,index_col='Country/Region')\n",
    "\n",
    "\n",
    "# confirmed_latest\n",
    "confirmed_latest = covid19_confirmed.T.index.values[-1]\n",
    "# display(confirmed_latest)\n",
    "\n",
    "# df_confirmed\n",
    "df_grouped_conf=covid19_confirmed.groupby('Country/Region').sum()\n",
    "\n",
    "# display(df_grouped_conf.head(10))\n",
    "df_confirmed=df_grouped_conf.sort_values(by=confirmed_latest,ascending=False).head(10).drop(['Lat', 'Long'],axis=1).T\n",
    "# display(df_grouped_conf)\n",
    "display(df_confirmed)\n",
    "\n",
    "# display(df_confirmed)\n",
    "# df_confirmed_total\n",
    "covid19_confirmed.loc[\"Total\"] = covid19_confirmed.sum()\n",
    "df_confirmed_total=covid19_confirmed.iloc[-1,4:]\n",
    "\n",
    "# confirmed_latest"
   ]
  },
  {
   "cell_type": "code",
   "execution_count": 3,
   "metadata": {
    "execution": {
     "iopub.execute_input": "2020-06-15T04:00:05.393850Z",
     "iopub.status.busy": "2020-06-15T04:00:05.392341Z",
     "iopub.status.idle": "2020-06-15T04:00:05.797868Z",
     "shell.execute_reply": "2020-06-15T04:00:05.797131Z"
    },
    "papermill": {
     "duration": 0.421003,
     "end_time": "2020-06-15T04:00:05.798060",
     "exception": false,
     "start_time": "2020-06-15T04:00:05.377057",
     "status": "completed"
    },
    "tags": []
   },
   "outputs": [
    {
     "data": {
      "text/plain": [
       "'6/14/20'"
      ]
     },
     "execution_count": 3,
     "metadata": {},
     "output_type": "execute_result"
    }
   ],
   "source": [
    "# deaths_global\n",
    "deaths_global='https://raw.githubusercontent.com/CSSEGISandData/COVID-19/master/csse_covid_19_data/csse_covid_19_time_series/time_series_covid19_deaths_global.csv'\n",
    "covid19_deaths=pd.read_csv(deaths_global,index_col='Country/Region')\n",
    "\n",
    "# deaths_latest\n",
    "deaths_latest = covid19_deaths.T.index.values[-1]\n",
    "\n",
    "# df_deaths\n",
    "df_grouped_deaths=covid19_deaths.groupby('Country/Region').sum()\n",
    "df_deaths=df_grouped_deaths.sort_values(deaths_latest,ascending=False).head(10).drop(['Lat', 'Long'],axis=1).T\n",
    "\n",
    "# df_deaths_total\n",
    "covid19_deaths.loc[\"Total\"] = covid19_deaths.sum()\n",
    "df_deaths_total=covid19_deaths.iloc[-1,4:]\n",
    "\n",
    "deaths_latest"
   ]
  },
  {
   "cell_type": "code",
   "execution_count": 4,
   "metadata": {
    "execution": {
     "iopub.execute_input": "2020-06-15T04:00:05.826435Z",
     "iopub.status.busy": "2020-06-15T04:00:05.825410Z",
     "iopub.status.idle": "2020-06-15T04:00:06.109192Z",
     "shell.execute_reply": "2020-06-15T04:00:06.110521Z"
    },
    "papermill": {
     "duration": 0.304555,
     "end_time": "2020-06-15T04:00:06.110771",
     "exception": false,
     "start_time": "2020-06-15T04:00:05.806216",
     "status": "completed"
    },
    "tags": []
   },
   "outputs": [
    {
     "data": {
      "text/plain": [
       "'6/14/20'"
      ]
     },
     "execution_count": 4,
     "metadata": {},
     "output_type": "execute_result"
    }
   ],
   "source": [
    "# recovered_global\n",
    "recovered_global='https://raw.githubusercontent.com/CSSEGISandData/COVID-19/master/csse_covid_19_data/csse_covid_19_time_series/time_series_covid19_recovered_global.csv'\n",
    "covid19_recovered=pd.read_csv(recovered_global,index_col='Country/Region')\n",
    "\n",
    "# recovered_latest\n",
    "recovered_latest = covid19_recovered.T.index.values[-1]\n",
    "\n",
    "# df_recovered\n",
    "df_grouped_recv=covid19_recovered.groupby('Country/Region').sum()\n",
    "df_recovered=df_grouped_recv.sort_values(recovered_latest,ascending=False).head(10).drop(['Lat', 'Long'],axis=1).T\n",
    "\n",
    "# df_recovered_total\n",
    "covid19_recovered.loc[\"Total\"] = covid19_recovered.sum()\n",
    "df_recovered_total=covid19_recovered.iloc[-1,4:]\n",
    "\n",
    "recovered_latest"
   ]
  },
  {
   "cell_type": "code",
   "execution_count": null,
   "metadata": {
    "papermill": {
     "duration": 0.006702,
     "end_time": "2020-06-15T04:00:06.127365",
     "exception": false,
     "start_time": "2020-06-15T04:00:06.120663",
     "status": "completed"
    },
    "tags": []
   },
   "outputs": [],
   "source": []
  }
 ],
 "metadata": {
  "kernelspec": {
   "display_name": "Python 3",
   "language": "python",
   "name": "python3"
  },
  "language_info": {
   "codemirror_mode": {
    "name": "ipython",
    "version": 3
   },
   "file_extension": ".py",
   "mimetype": "text/x-python",
   "name": "python",
   "nbconvert_exporter": "python",
   "pygments_lexer": "ipython3",
   "version": "3.8.2"
  },
  "papermill": {
   "duration": 5.416663,
   "end_time": "2020-06-15T04:00:07.449542",
   "environment_variables": {},
   "exception": null,
   "input_path": "covid-19-data.ipynb",
   "output_path": "./latest/covid-19-data.ipynb",
   "parameters": {},
   "start_time": "2020-06-15T04:00:02.032879",
   "version": "2.1.1"
  }
 },
 "nbformat": 4,
 "nbformat_minor": 4
}