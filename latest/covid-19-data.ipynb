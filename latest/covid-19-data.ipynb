{
 "cells": [
  {
   "cell_type": "code",
   "execution_count": 1,
   "metadata": {
    "execution": {
     "iopub.execute_input": "2020-06-12T04:06:50.824727Z",
     "iopub.status.busy": "2020-06-12T04:06:50.823722Z",
     "iopub.status.idle": "2020-06-12T04:06:50.866070Z",
     "shell.execute_reply": "2020-06-12T04:06:50.867124Z"
    },
    "papermill": {
     "duration": 0.056521,
     "end_time": "2020-06-12T04:06:50.867492",
     "exception": false,
     "start_time": "2020-06-12T04:06:50.810971",
     "status": "completed"
    },
    "tags": []
   },
   "outputs": [],
   "source": [
    "import pandas as pd\n",
    "import numpy as np"
   ]
  },
  {
   "cell_type": "code",
   "execution_count": 2,
   "metadata": {
    "execution": {
     "iopub.execute_input": "2020-06-12T04:06:50.907990Z",
     "iopub.status.busy": "2020-06-12T04:06:50.907010Z",
     "iopub.status.idle": "2020-06-12T04:06:52.196609Z",
     "shell.execute_reply": "2020-06-12T04:06:52.197071Z"
    },
    "papermill": {
     "duration": 1.320413,
     "end_time": "2020-06-12T04:06:52.197284",
     "exception": false,
     "start_time": "2020-06-12T04:06:50.876871",
     "status": "completed"
    },
    "tags": []
   },
   "outputs": [
    {
     "data": {
      "text/html": [
       "<div>\n",
       "<style scoped>\n",
       "    .dataframe tbody tr th:only-of-type {\n",
       "        vertical-align: middle;\n",
       "    }\n",
       "\n",
       "    .dataframe tbody tr th {\n",
       "        vertical-align: top;\n",
       "    }\n",
       "\n",
       "    .dataframe thead th {\n",
       "        text-align: right;\n",
       "    }\n",
       "</style>\n",
       "<table border=\"1\" class=\"dataframe\">\n",
       "  <thead>\n",
       "    <tr style=\"text-align: right;\">\n",
       "      <th>Country/Region</th>\n",
       "      <th>US</th>\n",
       "      <th>Brazil</th>\n",
       "      <th>Russia</th>\n",
       "      <th>United Kingdom</th>\n",
       "      <th>India</th>\n",
       "      <th>Spain</th>\n",
       "      <th>Italy</th>\n",
       "      <th>Peru</th>\n",
       "      <th>France</th>\n",
       "      <th>Germany</th>\n",
       "    </tr>\n",
       "  </thead>\n",
       "  <tbody>\n",
       "    <tr>\n",
       "      <th>1/22/20</th>\n",
       "      <td>1</td>\n",
       "      <td>0</td>\n",
       "      <td>0</td>\n",
       "      <td>0</td>\n",
       "      <td>0</td>\n",
       "      <td>0</td>\n",
       "      <td>0</td>\n",
       "      <td>0</td>\n",
       "      <td>0</td>\n",
       "      <td>0</td>\n",
       "    </tr>\n",
       "    <tr>\n",
       "      <th>1/23/20</th>\n",
       "      <td>1</td>\n",
       "      <td>0</td>\n",
       "      <td>0</td>\n",
       "      <td>0</td>\n",
       "      <td>0</td>\n",
       "      <td>0</td>\n",
       "      <td>0</td>\n",
       "      <td>0</td>\n",
       "      <td>0</td>\n",
       "      <td>0</td>\n",
       "    </tr>\n",
       "    <tr>\n",
       "      <th>1/24/20</th>\n",
       "      <td>2</td>\n",
       "      <td>0</td>\n",
       "      <td>0</td>\n",
       "      <td>0</td>\n",
       "      <td>0</td>\n",
       "      <td>0</td>\n",
       "      <td>0</td>\n",
       "      <td>0</td>\n",
       "      <td>2</td>\n",
       "      <td>0</td>\n",
       "    </tr>\n",
       "    <tr>\n",
       "      <th>1/25/20</th>\n",
       "      <td>2</td>\n",
       "      <td>0</td>\n",
       "      <td>0</td>\n",
       "      <td>0</td>\n",
       "      <td>0</td>\n",
       "      <td>0</td>\n",
       "      <td>0</td>\n",
       "      <td>0</td>\n",
       "      <td>3</td>\n",
       "      <td>0</td>\n",
       "    </tr>\n",
       "    <tr>\n",
       "      <th>1/26/20</th>\n",
       "      <td>5</td>\n",
       "      <td>0</td>\n",
       "      <td>0</td>\n",
       "      <td>0</td>\n",
       "      <td>0</td>\n",
       "      <td>0</td>\n",
       "      <td>0</td>\n",
       "      <td>0</td>\n",
       "      <td>3</td>\n",
       "      <td>0</td>\n",
       "    </tr>\n",
       "    <tr>\n",
       "      <th>...</th>\n",
       "      <td>...</td>\n",
       "      <td>...</td>\n",
       "      <td>...</td>\n",
       "      <td>...</td>\n",
       "      <td>...</td>\n",
       "      <td>...</td>\n",
       "      <td>...</td>\n",
       "      <td>...</td>\n",
       "      <td>...</td>\n",
       "      <td>...</td>\n",
       "    </tr>\n",
       "    <tr>\n",
       "      <th>6/6/20</th>\n",
       "      <td>1925765</td>\n",
       "      <td>672846</td>\n",
       "      <td>458102</td>\n",
       "      <td>286294</td>\n",
       "      <td>246622</td>\n",
       "      <td>241310</td>\n",
       "      <td>234801</td>\n",
       "      <td>191758</td>\n",
       "      <td>190759</td>\n",
       "      <td>185450</td>\n",
       "    </tr>\n",
       "    <tr>\n",
       "      <th>6/7/20</th>\n",
       "      <td>1943882</td>\n",
       "      <td>691758</td>\n",
       "      <td>467073</td>\n",
       "      <td>287621</td>\n",
       "      <td>257486</td>\n",
       "      <td>241550</td>\n",
       "      <td>234998</td>\n",
       "      <td>196515</td>\n",
       "      <td>191102</td>\n",
       "      <td>185750</td>\n",
       "    </tr>\n",
       "    <tr>\n",
       "      <th>6/8/20</th>\n",
       "      <td>1961428</td>\n",
       "      <td>707412</td>\n",
       "      <td>476043</td>\n",
       "      <td>288834</td>\n",
       "      <td>265928</td>\n",
       "      <td>241717</td>\n",
       "      <td>235278</td>\n",
       "      <td>199696</td>\n",
       "      <td>191313</td>\n",
       "      <td>186109</td>\n",
       "    </tr>\n",
       "    <tr>\n",
       "      <th>6/9/20</th>\n",
       "      <td>1979489</td>\n",
       "      <td>739503</td>\n",
       "      <td>484630</td>\n",
       "      <td>290581</td>\n",
       "      <td>276146</td>\n",
       "      <td>241966</td>\n",
       "      <td>235561</td>\n",
       "      <td>203736</td>\n",
       "      <td>191523</td>\n",
       "      <td>186506</td>\n",
       "    </tr>\n",
       "    <tr>\n",
       "      <th>6/10/20</th>\n",
       "      <td>2000464</td>\n",
       "      <td>772416</td>\n",
       "      <td>493023</td>\n",
       "      <td>291588</td>\n",
       "      <td>276583</td>\n",
       "      <td>242280</td>\n",
       "      <td>235763</td>\n",
       "      <td>208823</td>\n",
       "      <td>192068</td>\n",
       "      <td>186522</td>\n",
       "    </tr>\n",
       "  </tbody>\n",
       "</table>\n",
       "<p>141 rows × 10 columns</p>\n",
       "</div>"
      ],
      "text/plain": [
       "Country/Region       US  Brazil  Russia  United Kingdom   India   Spain  \\\n",
       "1/22/20               1       0       0               0       0       0   \n",
       "1/23/20               1       0       0               0       0       0   \n",
       "1/24/20               2       0       0               0       0       0   \n",
       "1/25/20               2       0       0               0       0       0   \n",
       "1/26/20               5       0       0               0       0       0   \n",
       "...                 ...     ...     ...             ...     ...     ...   \n",
       "6/6/20          1925765  672846  458102          286294  246622  241310   \n",
       "6/7/20          1943882  691758  467073          287621  257486  241550   \n",
       "6/8/20          1961428  707412  476043          288834  265928  241717   \n",
       "6/9/20          1979489  739503  484630          290581  276146  241966   \n",
       "6/10/20         2000464  772416  493023          291588  276583  242280   \n",
       "\n",
       "Country/Region   Italy    Peru  France  Germany  \n",
       "1/22/20              0       0       0        0  \n",
       "1/23/20              0       0       0        0  \n",
       "1/24/20              0       0       2        0  \n",
       "1/25/20              0       0       3        0  \n",
       "1/26/20              0       0       3        0  \n",
       "...                ...     ...     ...      ...  \n",
       "6/6/20          234801  191758  190759   185450  \n",
       "6/7/20          234998  196515  191102   185750  \n",
       "6/8/20          235278  199696  191313   186109  \n",
       "6/9/20          235561  203736  191523   186506  \n",
       "6/10/20         235763  208823  192068   186522  \n",
       "\n",
       "[141 rows x 10 columns]"
      ]
     },
     "metadata": {},
     "output_type": "display_data"
    }
   ],
   "source": [
    "# confirmed_global\n",
    "confirmed_global='https://raw.githubusercontent.com/CSSEGISandData/COVID-19/master/csse_covid_19_data/csse_covid_19_time_series/time_series_covid19_confirmed_global.csv'\n",
    "covid19_confirmed=pd.read_csv(confirmed_global,index_col='Country/Region')\n",
    "\n",
    "\n",
    "# confirmed_latest\n",
    "confirmed_latest = covid19_confirmed.T.index.values[-1]\n",
    "# display(confirmed_latest)\n",
    "\n",
    "# df_confirmed\n",
    "df_grouped_conf=covid19_confirmed.groupby('Country/Region').sum()\n",
    "\n",
    "# display(df_grouped_conf.head(10))\n",
    "df_confirmed=df_grouped_conf.sort_values(by=confirmed_latest,ascending=False).head(10).drop(['Lat', 'Long'],axis=1).T\n",
    "# display(df_grouped_conf)\n",
    "display(df_confirmed)\n",
    "\n",
    "# display(df_confirmed)\n",
    "# df_confirmed_total\n",
    "covid19_confirmed.loc[\"Total\"] = covid19_confirmed.sum()\n",
    "df_confirmed_total=covid19_confirmed.iloc[-1,4:]\n",
    "\n",
    "# confirmed_latest"
   ]
  },
  {
   "cell_type": "code",
   "execution_count": 3,
   "metadata": {
    "execution": {
     "iopub.execute_input": "2020-06-12T04:06:52.210423Z",
     "iopub.status.busy": "2020-06-12T04:06:52.209757Z",
     "iopub.status.idle": "2020-06-12T04:06:52.686880Z",
     "shell.execute_reply": "2020-06-12T04:06:52.687361Z"
    },
    "papermill": {
     "duration": 0.485846,
     "end_time": "2020-06-12T04:06:52.687524",
     "exception": false,
     "start_time": "2020-06-12T04:06:52.201678",
     "status": "completed"
    },
    "tags": []
   },
   "outputs": [
    {
     "data": {
      "text/plain": [
       "'6/10/20'"
      ]
     },
     "execution_count": 3,
     "metadata": {},
     "output_type": "execute_result"
    }
   ],
   "source": [
    "# deaths_global\n",
    "deaths_global='https://raw.githubusercontent.com/CSSEGISandData/COVID-19/master/csse_covid_19_data/csse_covid_19_time_series/time_series_covid19_deaths_global.csv'\n",
    "covid19_deaths=pd.read_csv(deaths_global,index_col='Country/Region')\n",
    "\n",
    "# deaths_latest\n",
    "deaths_latest = covid19_deaths.T.index.values[-1]\n",
    "\n",
    "# df_deaths\n",
    "df_grouped_deaths=covid19_deaths.groupby('Country/Region').sum()\n",
    "df_deaths=df_grouped_deaths.sort_values(deaths_latest,ascending=False).head(10).drop(['Lat', 'Long'],axis=1).T\n",
    "\n",
    "# df_deaths_total\n",
    "covid19_deaths.loc[\"Total\"] = covid19_deaths.sum()\n",
    "df_deaths_total=covid19_deaths.iloc[-1,4:]\n",
    "\n",
    "deaths_latest"
   ]
  },
  {
   "cell_type": "code",
   "execution_count": 4,
   "metadata": {
    "execution": {
     "iopub.execute_input": "2020-06-12T04:06:52.702170Z",
     "iopub.status.busy": "2020-06-12T04:06:52.701526Z",
     "iopub.status.idle": "2020-06-12T04:06:53.313614Z",
     "shell.execute_reply": "2020-06-12T04:06:53.313125Z"
    },
    "papermill": {
     "duration": 0.621195,
     "end_time": "2020-06-12T04:06:53.313799",
     "exception": false,
     "start_time": "2020-06-12T04:06:52.692604",
     "status": "completed"
    },
    "tags": []
   },
   "outputs": [
    {
     "data": {
      "text/plain": [
       "'6/10/20'"
      ]
     },
     "execution_count": 4,
     "metadata": {},
     "output_type": "execute_result"
    }
   ],
   "source": [
    "# recovered_global\n",
    "recovered_global='https://raw.githubusercontent.com/CSSEGISandData/COVID-19/master/csse_covid_19_data/csse_covid_19_time_series/time_series_covid19_recovered_global.csv'\n",
    "covid19_recovered=pd.read_csv(recovered_global,index_col='Country/Region')\n",
    "\n",
    "# recovered_latest\n",
    "recovered_latest = covid19_recovered.T.index.values[-1]\n",
    "\n",
    "# df_recovered\n",
    "df_grouped_recv=covid19_recovered.groupby('Country/Region').sum()\n",
    "df_recovered=df_grouped_recv.sort_values(recovered_latest,ascending=False).head(10).drop(['Lat', 'Long'],axis=1).T\n",
    "\n",
    "# df_recovered_total\n",
    "covid19_recovered.loc[\"Total\"] = covid19_recovered.sum()\n",
    "df_recovered_total=covid19_recovered.iloc[-1,4:]\n",
    "\n",
    "recovered_latest"
   ]
  },
  {
   "cell_type": "code",
   "execution_count": null,
   "metadata": {
    "papermill": {
     "duration": 0.004905,
     "end_time": "2020-06-12T04:06:53.323813",
     "exception": false,
     "start_time": "2020-06-12T04:06:53.318908",
     "status": "completed"
    },
    "tags": []
   },
   "outputs": [],
   "source": []
  }
 ],
 "metadata": {
  "kernelspec": {
   "display_name": "Python 3",
   "language": "python",
   "name": "python3"
  },
  "language_info": {
   "codemirror_mode": {
    "name": "ipython",
    "version": 3
   },
   "file_extension": ".py",
   "mimetype": "text/x-python",
   "name": "python",
   "nbconvert_exporter": "python",
   "pygments_lexer": "ipython3",
   "version": "3.8.2"
  },
  "papermill": {
   "duration": 16.846478,
   "end_time": "2020-06-12T04:06:53.574038",
   "environment_variables": {},
   "exception": null,
   "input_path": "covid-19-data.ipynb",
   "output_path": "./latest/covid-19-data.ipynb",
   "parameters": {},
   "start_time": "2020-06-12T04:06:36.727560",
   "version": "2.1.1"
  }
 },
 "nbformat": 4,
 "nbformat_minor": 4
}