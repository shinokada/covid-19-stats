{
 "cells": [
  {
   "cell_type": "code",
   "execution_count": 1,
   "metadata": {
    "execution": {
     "iopub.execute_input": "2020-04-25T23:00:04.182301Z",
     "iopub.status.busy": "2020-04-25T23:00:04.181594Z",
     "iopub.status.idle": "2020-04-25T23:00:04.209885Z",
     "shell.execute_reply": "2020-04-25T23:00:04.210633Z"
    },
    "papermill": {
     "duration": 0.040539,
     "end_time": "2020-04-25T23:00:04.210902",
     "exception": false,
     "start_time": "2020-04-25T23:00:04.170363",
     "status": "completed"
    },
    "tags": []
   },
   "outputs": [],
   "source": [
    "import pandas as pd\n",
    "import numpy as np"
   ]
  },
  {
   "cell_type": "code",
   "execution_count": 2,
   "metadata": {
    "execution": {
     "iopub.execute_input": "2020-04-25T23:00:04.226588Z",
     "iopub.status.busy": "2020-04-25T23:00:04.225910Z",
     "iopub.status.idle": "2020-04-25T23:00:04.614149Z",
     "shell.execute_reply": "2020-04-25T23:00:04.614636Z"
    },
    "papermill": {
     "duration": 0.397202,
     "end_time": "2020-04-25T23:00:04.614804",
     "exception": false,
     "start_time": "2020-04-25T23:00:04.217602",
     "status": "completed"
    },
    "tags": []
   },
   "outputs": [],
   "source": [
    "# confirmed_global\n",
    "confirmed_global='https://raw.githubusercontent.com/CSSEGISandData/COVID-19/master/csse_covid_19_data/csse_covid_19_time_series/time_series_covid19_confirmed_global.csv'\n",
    "covid19_confirmed=pd.read_csv(confirmed_global,index_col='Country/Region')\n",
    "\n",
    "# confirmed_latest\n",
    "confirmed_latest = covid19_confirmed.T.index.values[-1]\n",
    "\n",
    "# df_confirmed\n",
    "df_grouped_conf=covid19_confirmed.groupby('Country/Region').sum()\n",
    "\n",
    "df_confirmed=df_grouped_conf.sort_values(confirmed_latest,ascending=False).head(10).drop(['Lat', 'Long'],axis=1).T\n",
    "\n",
    "# df_confirmed_total\n",
    "covid19_confirmed.loc[\"Total\"] = covid19_confirmed.sum()\n",
    "df_confirmed_total=covid19_confirmed.iloc[-1,4:]\n"
   ]
  },
  {
   "cell_type": "code",
   "execution_count": 3,
   "metadata": {
    "execution": {
     "iopub.execute_input": "2020-04-25T23:00:04.627643Z",
     "iopub.status.busy": "2020-04-25T23:00:04.626964Z",
     "iopub.status.idle": "2020-04-25T23:00:04.956520Z",
     "shell.execute_reply": "2020-04-25T23:00:04.957056Z"
    },
    "papermill": {
     "duration": 0.338635,
     "end_time": "2020-04-25T23:00:04.957224",
     "exception": false,
     "start_time": "2020-04-25T23:00:04.618589",
     "status": "completed"
    },
    "tags": []
   },
   "outputs": [],
   "source": [
    "# deaths_global\n",
    "deaths_global='https://raw.githubusercontent.com/CSSEGISandData/COVID-19/master/csse_covid_19_data/csse_covid_19_time_series/time_series_covid19_deaths_global.csv'\n",
    "covid19_deaths=pd.read_csv(deaths_global,index_col='Country/Region')\n",
    "\n",
    "# deaths_latest\n",
    "deaths_latest = covid19_deaths.T.index.values[-1]\n",
    "\n",
    "# df_deaths\n",
    "df_grouped_deaths=covid19_deaths.groupby('Country/Region').sum()\n",
    "df_deaths=df_grouped_deaths.sort_values(deaths_latest,ascending=False).head(10).drop(['Lat', 'Long'],axis=1).T\n",
    "\n",
    "# df_deaths_total\n",
    "covid19_deaths.loc[\"Total\"] = covid19_deaths.sum()\n",
    "df_deaths_total=covid19_deaths.iloc[-1,4:]\n"
   ]
  },
  {
   "cell_type": "code",
   "execution_count": 4,
   "metadata": {
    "execution": {
     "iopub.execute_input": "2020-04-25T23:00:04.970276Z",
     "iopub.status.busy": "2020-04-25T23:00:04.969601Z",
     "iopub.status.idle": "2020-04-25T23:00:05.426537Z",
     "shell.execute_reply": "2020-04-25T23:00:05.425925Z"
    },
    "papermill": {
     "duration": 0.465558,
     "end_time": "2020-04-25T23:00:05.426682",
     "exception": false,
     "start_time": "2020-04-25T23:00:04.961124",
     "status": "completed"
    },
    "tags": []
   },
   "outputs": [],
   "source": [
    "# recovered_global\n",
    "recovered_global='https://raw.githubusercontent.com/CSSEGISandData/COVID-19/master/csse_covid_19_data/csse_covid_19_time_series/time_series_covid19_recovered_global.csv'\n",
    "covid19_recovered=pd.read_csv(recovered_global,index_col='Country/Region')\n",
    "\n",
    "# recovered_latest\n",
    "recovered_latest = covid19_recovered.T.index.values[-1]\n",
    "\n",
    "# df_recovered\n",
    "df_grouped_recv=covid19_recovered.groupby('Country/Region').sum()\n",
    "df_recovered=df_grouped_recv.sort_values(recovered_latest,ascending=False).head(10).drop(['Lat', 'Long'],axis=1).T\n",
    "\n",
    "# df_recovered_total\n",
    "covid19_recovered.loc[\"Total\"] = covid19_recovered.sum()\n",
    "df_recovered_total=covid19_recovered.iloc[-1,4:]"
   ]
  },
  {
   "cell_type": "code",
   "execution_count": null,
   "metadata": {
    "papermill": {
     "duration": 0.004278,
     "end_time": "2020-04-25T23:00:05.434747",
     "exception": false,
     "start_time": "2020-04-25T23:00:05.430469",
     "status": "completed"
    },
    "tags": []
   },
   "outputs": [],
   "source": []
  }
 ],
 "metadata": {
  "kernelspec": {
   "display_name": "Python 3",
   "language": "python",
   "name": "python3"
  },
  "language_info": {
   "codemirror_mode": {
    "name": "ipython",
    "version": 3
   },
   "file_extension": ".py",
   "mimetype": "text/x-python",
   "name": "python",
   "nbconvert_exporter": "python",
   "pygments_lexer": "ipython3",
   "version": "3.7.7"
  },
  "papermill": {
   "duration": 4.605782,
   "end_time": "2020-04-25T23:00:06.645978",
   "environment_variables": {},
   "exception": null,
   "input_path": "covid-19-data.ipynb",
   "output_path": "./latest/covid-19-data.ipynb",
   "parameters": {},
   "start_time": "2020-04-25T23:00:02.040196",
   "version": "2.1.0"
  }
 },
 "nbformat": 4,
 "nbformat_minor": 4
}