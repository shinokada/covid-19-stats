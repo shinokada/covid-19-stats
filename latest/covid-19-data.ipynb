{
 "cells": [
  {
   "cell_type": "code",
   "execution_count": 1,
   "metadata": {
    "execution": {
     "iopub.execute_input": "2020-08-11T04:00:04.833517Z",
     "iopub.status.busy": "2020-08-11T04:00:04.832571Z",
     "iopub.status.idle": "2020-08-11T04:00:04.855209Z",
     "shell.execute_reply": "2020-08-11T04:00:04.855920Z"
    },
    "papermill": {
     "duration": 0.03475,
     "end_time": "2020-08-11T04:00:04.856224",
     "exception": false,
     "start_time": "2020-08-11T04:00:04.821474",
     "status": "completed"
    },
    "tags": []
   },
   "outputs": [],
   "source": [
    "import pandas as pd\n",
    "import numpy as np"
   ]
  },
  {
   "cell_type": "code",
   "execution_count": 2,
   "metadata": {
    "execution": {
     "iopub.execute_input": "2020-08-11T04:00:04.873694Z",
     "iopub.status.busy": "2020-08-11T04:00:04.872590Z",
     "iopub.status.idle": "2020-08-11T04:00:05.154918Z",
     "shell.execute_reply": "2020-08-11T04:00:05.155624Z"
    },
    "papermill": {
     "duration": 0.293411,
     "end_time": "2020-08-11T04:00:05.155936",
     "exception": false,
     "start_time": "2020-08-11T04:00:04.862525",
     "status": "completed"
    },
    "tags": []
   },
   "outputs": [
    {
     "data": {
      "text/html": [
       "<div>\n",
       "<style scoped>\n",
       "    .dataframe tbody tr th:only-of-type {\n",
       "        vertical-align: middle;\n",
       "    }\n",
       "\n",
       "    .dataframe tbody tr th {\n",
       "        vertical-align: top;\n",
       "    }\n",
       "\n",
       "    .dataframe thead th {\n",
       "        text-align: right;\n",
       "    }\n",
       "</style>\n",
       "<table border=\"1\" class=\"dataframe\">\n",
       "  <thead>\n",
       "    <tr style=\"text-align: right;\">\n",
       "      <th>Country/Region</th>\n",
       "      <th>US</th>\n",
       "      <th>Brazil</th>\n",
       "      <th>India</th>\n",
       "      <th>Russia</th>\n",
       "      <th>South Africa</th>\n",
       "      <th>Mexico</th>\n",
       "      <th>Peru</th>\n",
       "      <th>Colombia</th>\n",
       "      <th>Chile</th>\n",
       "      <th>Iran</th>\n",
       "    </tr>\n",
       "  </thead>\n",
       "  <tbody>\n",
       "    <tr>\n",
       "      <th>1/22/20</th>\n",
       "      <td>1</td>\n",
       "      <td>0</td>\n",
       "      <td>0</td>\n",
       "      <td>0</td>\n",
       "      <td>0</td>\n",
       "      <td>0</td>\n",
       "      <td>0</td>\n",
       "      <td>0</td>\n",
       "      <td>0</td>\n",
       "      <td>0</td>\n",
       "    </tr>\n",
       "    <tr>\n",
       "      <th>1/23/20</th>\n",
       "      <td>1</td>\n",
       "      <td>0</td>\n",
       "      <td>0</td>\n",
       "      <td>0</td>\n",
       "      <td>0</td>\n",
       "      <td>0</td>\n",
       "      <td>0</td>\n",
       "      <td>0</td>\n",
       "      <td>0</td>\n",
       "      <td>0</td>\n",
       "    </tr>\n",
       "    <tr>\n",
       "      <th>1/24/20</th>\n",
       "      <td>2</td>\n",
       "      <td>0</td>\n",
       "      <td>0</td>\n",
       "      <td>0</td>\n",
       "      <td>0</td>\n",
       "      <td>0</td>\n",
       "      <td>0</td>\n",
       "      <td>0</td>\n",
       "      <td>0</td>\n",
       "      <td>0</td>\n",
       "    </tr>\n",
       "    <tr>\n",
       "      <th>1/25/20</th>\n",
       "      <td>2</td>\n",
       "      <td>0</td>\n",
       "      <td>0</td>\n",
       "      <td>0</td>\n",
       "      <td>0</td>\n",
       "      <td>0</td>\n",
       "      <td>0</td>\n",
       "      <td>0</td>\n",
       "      <td>0</td>\n",
       "      <td>0</td>\n",
       "    </tr>\n",
       "    <tr>\n",
       "      <th>1/26/20</th>\n",
       "      <td>5</td>\n",
       "      <td>0</td>\n",
       "      <td>0</td>\n",
       "      <td>0</td>\n",
       "      <td>0</td>\n",
       "      <td>0</td>\n",
       "      <td>0</td>\n",
       "      <td>0</td>\n",
       "      <td>0</td>\n",
       "      <td>0</td>\n",
       "    </tr>\n",
       "    <tr>\n",
       "      <th>...</th>\n",
       "      <td>...</td>\n",
       "      <td>...</td>\n",
       "      <td>...</td>\n",
       "      <td>...</td>\n",
       "      <td>...</td>\n",
       "      <td>...</td>\n",
       "      <td>...</td>\n",
       "      <td>...</td>\n",
       "      <td>...</td>\n",
       "      <td>...</td>\n",
       "    </tr>\n",
       "    <tr>\n",
       "      <th>8/5/20</th>\n",
       "      <td>4823890</td>\n",
       "      <td>2859073</td>\n",
       "      <td>1964536</td>\n",
       "      <td>864948</td>\n",
       "      <td>529877</td>\n",
       "      <td>456100</td>\n",
       "      <td>447624</td>\n",
       "      <td>345714</td>\n",
       "      <td>364723</td>\n",
       "      <td>317483</td>\n",
       "    </tr>\n",
       "    <tr>\n",
       "      <th>8/6/20</th>\n",
       "      <td>4883582</td>\n",
       "      <td>2912212</td>\n",
       "      <td>2027074</td>\n",
       "      <td>870187</td>\n",
       "      <td>538184</td>\n",
       "      <td>462690</td>\n",
       "      <td>455409</td>\n",
       "      <td>357710</td>\n",
       "      <td>366671</td>\n",
       "      <td>320117</td>\n",
       "    </tr>\n",
       "    <tr>\n",
       "      <th>8/7/20</th>\n",
       "      <td>4941755</td>\n",
       "      <td>2962442</td>\n",
       "      <td>2088611</td>\n",
       "      <td>875378</td>\n",
       "      <td>545476</td>\n",
       "      <td>469407</td>\n",
       "      <td>463875</td>\n",
       "      <td>367204</td>\n",
       "      <td>368825</td>\n",
       "      <td>322567</td>\n",
       "    </tr>\n",
       "    <tr>\n",
       "      <th>8/8/20</th>\n",
       "      <td>4997929</td>\n",
       "      <td>3012412</td>\n",
       "      <td>2153010</td>\n",
       "      <td>880563</td>\n",
       "      <td>553188</td>\n",
       "      <td>475902</td>\n",
       "      <td>463875</td>\n",
       "      <td>376870</td>\n",
       "      <td>371023</td>\n",
       "      <td>324692</td>\n",
       "    </tr>\n",
       "    <tr>\n",
       "      <th>8/9/20</th>\n",
       "      <td>5044864</td>\n",
       "      <td>3035422</td>\n",
       "      <td>2215074</td>\n",
       "      <td>885718</td>\n",
       "      <td>559859</td>\n",
       "      <td>480278</td>\n",
       "      <td>478024</td>\n",
       "      <td>387481</td>\n",
       "      <td>373056</td>\n",
       "      <td>326712</td>\n",
       "    </tr>\n",
       "  </tbody>\n",
       "</table>\n",
       "<p>201 rows × 10 columns</p>\n",
       "</div>"
      ],
      "text/plain": [
       "Country/Region       US   Brazil    India  Russia  South Africa  Mexico  \\\n",
       "1/22/20               1        0        0       0             0       0   \n",
       "1/23/20               1        0        0       0             0       0   \n",
       "1/24/20               2        0        0       0             0       0   \n",
       "1/25/20               2        0        0       0             0       0   \n",
       "1/26/20               5        0        0       0             0       0   \n",
       "...                 ...      ...      ...     ...           ...     ...   \n",
       "8/5/20          4823890  2859073  1964536  864948        529877  456100   \n",
       "8/6/20          4883582  2912212  2027074  870187        538184  462690   \n",
       "8/7/20          4941755  2962442  2088611  875378        545476  469407   \n",
       "8/8/20          4997929  3012412  2153010  880563        553188  475902   \n",
       "8/9/20          5044864  3035422  2215074  885718        559859  480278   \n",
       "\n",
       "Country/Region    Peru  Colombia   Chile    Iran  \n",
       "1/22/20              0         0       0       0  \n",
       "1/23/20              0         0       0       0  \n",
       "1/24/20              0         0       0       0  \n",
       "1/25/20              0         0       0       0  \n",
       "1/26/20              0         0       0       0  \n",
       "...                ...       ...     ...     ...  \n",
       "8/5/20          447624    345714  364723  317483  \n",
       "8/6/20          455409    357710  366671  320117  \n",
       "8/7/20          463875    367204  368825  322567  \n",
       "8/8/20          463875    376870  371023  324692  \n",
       "8/9/20          478024    387481  373056  326712  \n",
       "\n",
       "[201 rows x 10 columns]"
      ]
     },
     "metadata": {},
     "output_type": "display_data"
    }
   ],
   "source": [
    "# confirmed_global\n",
    "confirmed_global='https://raw.githubusercontent.com/CSSEGISandData/COVID-19/master/csse_covid_19_data/csse_covid_19_time_series/time_series_covid19_confirmed_global.csv'\n",
    "covid19_confirmed=pd.read_csv(confirmed_global,index_col='Country/Region')\n",
    "\n",
    "\n",
    "# confirmed_latest\n",
    "confirmed_latest = covid19_confirmed.T.index.values[-1]\n",
    "# display(confirmed_latest)\n",
    "\n",
    "# df_confirmed\n",
    "df_grouped_conf=covid19_confirmed.groupby('Country/Region').sum()\n",
    "\n",
    "# display(df_grouped_conf.head(10))\n",
    "df_confirmed=df_grouped_conf.sort_values(by=confirmed_latest,ascending=False).head(10).drop(['Lat', 'Long'],axis=1).T\n",
    "# display(df_grouped_conf)\n",
    "display(df_confirmed)\n",
    "\n",
    "# display(df_confirmed)\n",
    "# df_confirmed_total\n",
    "covid19_confirmed.loc[\"Total\"] = covid19_confirmed.sum()\n",
    "df_confirmed_total=covid19_confirmed.iloc[-1,4:]\n",
    "\n",
    "# confirmed_latest"
   ]
  },
  {
   "cell_type": "code",
   "execution_count": 3,
   "metadata": {
    "execution": {
     "iopub.execute_input": "2020-08-11T04:00:05.174705Z",
     "iopub.status.busy": "2020-08-11T04:00:05.173702Z",
     "iopub.status.idle": "2020-08-11T04:00:05.376736Z",
     "shell.execute_reply": "2020-08-11T04:00:05.377214Z"
    },
    "papermill": {
     "duration": 0.215748,
     "end_time": "2020-08-11T04:00:05.377879",
     "exception": false,
     "start_time": "2020-08-11T04:00:05.162131",
     "status": "completed"
    },
    "tags": []
   },
   "outputs": [
    {
     "data": {
      "text/plain": [
       "'8/9/20'"
      ]
     },
     "execution_count": 3,
     "metadata": {},
     "output_type": "execute_result"
    }
   ],
   "source": [
    "# deaths_global\n",
    "deaths_global='https://raw.githubusercontent.com/CSSEGISandData/COVID-19/master/csse_covid_19_data/csse_covid_19_time_series/time_series_covid19_deaths_global.csv'\n",
    "covid19_deaths=pd.read_csv(deaths_global,index_col='Country/Region')\n",
    "\n",
    "# deaths_latest\n",
    "deaths_latest = covid19_deaths.T.index.values[-1]\n",
    "\n",
    "# df_deaths\n",
    "df_grouped_deaths=covid19_deaths.groupby('Country/Region').sum()\n",
    "df_deaths=df_grouped_deaths.sort_values(deaths_latest,ascending=False).head(10).drop(['Lat', 'Long'],axis=1).T\n",
    "\n",
    "# df_deaths_total\n",
    "covid19_deaths.loc[\"Total\"] = covid19_deaths.sum()\n",
    "df_deaths_total=covid19_deaths.iloc[-1,4:]\n",
    "\n",
    "deaths_latest"
   ]
  },
  {
   "cell_type": "code",
   "execution_count": 4,
   "metadata": {
    "execution": {
     "iopub.execute_input": "2020-08-11T04:00:05.397780Z",
     "iopub.status.busy": "2020-08-11T04:00:05.396357Z",
     "iopub.status.idle": "2020-08-11T04:00:05.615981Z",
     "shell.execute_reply": "2020-08-11T04:00:05.616698Z"
    },
    "papermill": {
     "duration": 0.233612,
     "end_time": "2020-08-11T04:00:05.616969",
     "exception": false,
     "start_time": "2020-08-11T04:00:05.383357",
     "status": "completed"
    },
    "tags": []
   },
   "outputs": [
    {
     "data": {
      "text/plain": [
       "'8/9/20'"
      ]
     },
     "execution_count": 4,
     "metadata": {},
     "output_type": "execute_result"
    }
   ],
   "source": [
    "# recovered_global\n",
    "recovered_global='https://raw.githubusercontent.com/CSSEGISandData/COVID-19/master/csse_covid_19_data/csse_covid_19_time_series/time_series_covid19_recovered_global.csv'\n",
    "covid19_recovered=pd.read_csv(recovered_global,index_col='Country/Region')\n",
    "\n",
    "# recovered_latest\n",
    "recovered_latest = covid19_recovered.T.index.values[-1]\n",
    "\n",
    "# df_recovered\n",
    "df_grouped_recv=covid19_recovered.groupby('Country/Region').sum()\n",
    "df_recovered=df_grouped_recv.sort_values(recovered_latest,ascending=False).head(10).drop(['Lat', 'Long'],axis=1).T\n",
    "\n",
    "# df_recovered_total\n",
    "covid19_recovered.loc[\"Total\"] = covid19_recovered.sum()\n",
    "df_recovered_total=covid19_recovered.iloc[-1,4:]\n",
    "\n",
    "recovered_latest"
   ]
  },
  {
   "cell_type": "code",
   "execution_count": null,
   "metadata": {
    "papermill": {
     "duration": 0.012235,
     "end_time": "2020-08-11T04:00:05.634893",
     "exception": false,
     "start_time": "2020-08-11T04:00:05.622658",
     "status": "completed"
    },
    "tags": []
   },
   "outputs": [],
   "source": []
  }
 ],
 "metadata": {
  "kernelspec": {
   "display_name": "Python 3",
   "language": "python",
   "name": "python3"
  },
  "language_info": {
   "codemirror_mode": {
    "name": "ipython",
    "version": 3
   },
   "file_extension": ".py",
   "mimetype": "text/x-python",
   "name": "python",
   "nbconvert_exporter": "python",
   "pygments_lexer": "ipython3",
   "version": "3.8.2"
  },
  "papermill": {
   "duration": 4.9591,
   "end_time": "2020-08-11T04:00:06.947310",
   "environment_variables": {},
   "exception": null,
   "input_path": "covid-19-data.ipynb",
   "output_path": "./latest/covid-19-data.ipynb",
   "parameters": {},
   "start_time": "2020-08-11T04:00:01.988210",
   "version": "2.1.2"
  }
 },
 "nbformat": 4,
 "nbformat_minor": 4
}