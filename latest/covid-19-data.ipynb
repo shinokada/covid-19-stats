{
 "cells": [
  {
   "cell_type": "code",
   "execution_count": 1,
   "metadata": {
    "execution": {
     "iopub.execute_input": "2020-09-22T04:00:09.266594Z",
     "iopub.status.busy": "2020-09-22T04:00:09.265653Z",
     "iopub.status.idle": "2020-09-22T04:00:09.299780Z",
     "shell.execute_reply": "2020-09-22T04:00:09.301310Z"
    },
    "papermill": {
     "duration": 0.084459,
     "end_time": "2020-09-22T04:00:09.302519",
     "exception": false,
     "start_time": "2020-09-22T04:00:09.218060",
     "status": "completed"
    },
    "tags": []
   },
   "outputs": [],
   "source": [
    "import pandas as pd\n",
    "import numpy as np"
   ]
  },
  {
   "cell_type": "code",
   "execution_count": 2,
   "metadata": {
    "execution": {
     "iopub.execute_input": "2020-09-22T04:00:09.337763Z",
     "iopub.status.busy": "2020-09-22T04:00:09.337093Z",
     "iopub.status.idle": "2020-09-22T04:00:09.955574Z",
     "shell.execute_reply": "2020-09-22T04:00:09.956393Z"
    },
    "papermill": {
     "duration": 0.643773,
     "end_time": "2020-09-22T04:00:09.956771",
     "exception": false,
     "start_time": "2020-09-22T04:00:09.312998",
     "status": "completed"
    },
    "tags": []
   },
   "outputs": [
    {
     "data": {
      "text/html": [
       "<div>\n",
       "<style scoped>\n",
       "    .dataframe tbody tr th:only-of-type {\n",
       "        vertical-align: middle;\n",
       "    }\n",
       "\n",
       "    .dataframe tbody tr th {\n",
       "        vertical-align: top;\n",
       "    }\n",
       "\n",
       "    .dataframe thead th {\n",
       "        text-align: right;\n",
       "    }\n",
       "</style>\n",
       "<table border=\"1\" class=\"dataframe\">\n",
       "  <thead>\n",
       "    <tr style=\"text-align: right;\">\n",
       "      <th>Country/Region</th>\n",
       "      <th>US</th>\n",
       "      <th>India</th>\n",
       "      <th>Brazil</th>\n",
       "      <th>Russia</th>\n",
       "      <th>Colombia</th>\n",
       "      <th>Peru</th>\n",
       "      <th>Mexico</th>\n",
       "      <th>South Africa</th>\n",
       "      <th>Spain</th>\n",
       "      <th>Argentina</th>\n",
       "    </tr>\n",
       "  </thead>\n",
       "  <tbody>\n",
       "    <tr>\n",
       "      <th>1/22/20</th>\n",
       "      <td>1</td>\n",
       "      <td>0</td>\n",
       "      <td>0</td>\n",
       "      <td>0</td>\n",
       "      <td>0</td>\n",
       "      <td>0</td>\n",
       "      <td>0</td>\n",
       "      <td>0</td>\n",
       "      <td>0</td>\n",
       "      <td>0</td>\n",
       "    </tr>\n",
       "    <tr>\n",
       "      <th>1/23/20</th>\n",
       "      <td>1</td>\n",
       "      <td>0</td>\n",
       "      <td>0</td>\n",
       "      <td>0</td>\n",
       "      <td>0</td>\n",
       "      <td>0</td>\n",
       "      <td>0</td>\n",
       "      <td>0</td>\n",
       "      <td>0</td>\n",
       "      <td>0</td>\n",
       "    </tr>\n",
       "    <tr>\n",
       "      <th>1/24/20</th>\n",
       "      <td>2</td>\n",
       "      <td>0</td>\n",
       "      <td>0</td>\n",
       "      <td>0</td>\n",
       "      <td>0</td>\n",
       "      <td>0</td>\n",
       "      <td>0</td>\n",
       "      <td>0</td>\n",
       "      <td>0</td>\n",
       "      <td>0</td>\n",
       "    </tr>\n",
       "    <tr>\n",
       "      <th>1/25/20</th>\n",
       "      <td>2</td>\n",
       "      <td>0</td>\n",
       "      <td>0</td>\n",
       "      <td>0</td>\n",
       "      <td>0</td>\n",
       "      <td>0</td>\n",
       "      <td>0</td>\n",
       "      <td>0</td>\n",
       "      <td>0</td>\n",
       "      <td>0</td>\n",
       "    </tr>\n",
       "    <tr>\n",
       "      <th>1/26/20</th>\n",
       "      <td>5</td>\n",
       "      <td>0</td>\n",
       "      <td>0</td>\n",
       "      <td>0</td>\n",
       "      <td>0</td>\n",
       "      <td>0</td>\n",
       "      <td>0</td>\n",
       "      <td>0</td>\n",
       "      <td>0</td>\n",
       "      <td>0</td>\n",
       "    </tr>\n",
       "    <tr>\n",
       "      <th>...</th>\n",
       "      <td>...</td>\n",
       "      <td>...</td>\n",
       "      <td>...</td>\n",
       "      <td>...</td>\n",
       "      <td>...</td>\n",
       "      <td>...</td>\n",
       "      <td>...</td>\n",
       "      <td>...</td>\n",
       "      <td>...</td>\n",
       "      <td>...</td>\n",
       "    </tr>\n",
       "    <tr>\n",
       "      <th>9/16/20</th>\n",
       "      <td>6630051</td>\n",
       "      <td>5118253</td>\n",
       "      <td>4419083</td>\n",
       "      <td>1075485</td>\n",
       "      <td>736377</td>\n",
       "      <td>738020</td>\n",
       "      <td>680931</td>\n",
       "      <td>653444</td>\n",
       "      <td>614360</td>\n",
       "      <td>589012</td>\n",
       "    </tr>\n",
       "    <tr>\n",
       "      <th>9/17/20</th>\n",
       "      <td>6674411</td>\n",
       "      <td>5214677</td>\n",
       "      <td>4455386</td>\n",
       "      <td>1081152</td>\n",
       "      <td>743945</td>\n",
       "      <td>744400</td>\n",
       "      <td>684113</td>\n",
       "      <td>655572</td>\n",
       "      <td>625651</td>\n",
       "      <td>601713</td>\n",
       "    </tr>\n",
       "    <tr>\n",
       "      <th>9/18/20</th>\n",
       "      <td>6723933</td>\n",
       "      <td>5308014</td>\n",
       "      <td>4495183</td>\n",
       "      <td>1086955</td>\n",
       "      <td>750471</td>\n",
       "      <td>750098</td>\n",
       "      <td>688954</td>\n",
       "      <td>657627</td>\n",
       "      <td>640040</td>\n",
       "      <td>613658</td>\n",
       "    </tr>\n",
       "    <tr>\n",
       "      <th>9/19/20</th>\n",
       "      <td>6768119</td>\n",
       "      <td>5400619</td>\n",
       "      <td>4528240</td>\n",
       "      <td>1092915</td>\n",
       "      <td>758398</td>\n",
       "      <td>756412</td>\n",
       "      <td>694121</td>\n",
       "      <td>659656</td>\n",
       "      <td>640040</td>\n",
       "      <td>622934</td>\n",
       "    </tr>\n",
       "    <tr>\n",
       "      <th>9/20/20</th>\n",
       "      <td>6804814</td>\n",
       "      <td>5487580</td>\n",
       "      <td>4544629</td>\n",
       "      <td>1098958</td>\n",
       "      <td>765076</td>\n",
       "      <td>762865</td>\n",
       "      <td>697663</td>\n",
       "      <td>661211</td>\n",
       "      <td>640040</td>\n",
       "      <td>631365</td>\n",
       "    </tr>\n",
       "  </tbody>\n",
       "</table>\n",
       "<p>243 rows × 10 columns</p>\n",
       "</div>"
      ],
      "text/plain": [
       "Country/Region       US    India   Brazil   Russia  Colombia    Peru  Mexico  \\\n",
       "1/22/20               1        0        0        0         0       0       0   \n",
       "1/23/20               1        0        0        0         0       0       0   \n",
       "1/24/20               2        0        0        0         0       0       0   \n",
       "1/25/20               2        0        0        0         0       0       0   \n",
       "1/26/20               5        0        0        0         0       0       0   \n",
       "...                 ...      ...      ...      ...       ...     ...     ...   \n",
       "9/16/20         6630051  5118253  4419083  1075485    736377  738020  680931   \n",
       "9/17/20         6674411  5214677  4455386  1081152    743945  744400  684113   \n",
       "9/18/20         6723933  5308014  4495183  1086955    750471  750098  688954   \n",
       "9/19/20         6768119  5400619  4528240  1092915    758398  756412  694121   \n",
       "9/20/20         6804814  5487580  4544629  1098958    765076  762865  697663   \n",
       "\n",
       "Country/Region  South Africa   Spain  Argentina  \n",
       "1/22/20                    0       0          0  \n",
       "1/23/20                    0       0          0  \n",
       "1/24/20                    0       0          0  \n",
       "1/25/20                    0       0          0  \n",
       "1/26/20                    0       0          0  \n",
       "...                      ...     ...        ...  \n",
       "9/16/20               653444  614360     589012  \n",
       "9/17/20               655572  625651     601713  \n",
       "9/18/20               657627  640040     613658  \n",
       "9/19/20               659656  640040     622934  \n",
       "9/20/20               661211  640040     631365  \n",
       "\n",
       "[243 rows x 10 columns]"
      ]
     },
     "metadata": {},
     "output_type": "display_data"
    }
   ],
   "source": [
    "# confirmed_global\n",
    "confirmed_global='https://raw.githubusercontent.com/CSSEGISandData/COVID-19/master/csse_covid_19_data/csse_covid_19_time_series/time_series_covid19_confirmed_global.csv'\n",
    "covid19_confirmed=pd.read_csv(confirmed_global,index_col='Country/Region')\n",
    "\n",
    "\n",
    "# confirmed_latest\n",
    "confirmed_latest = covid19_confirmed.T.index.values[-1]\n",
    "# display(confirmed_latest)\n",
    "\n",
    "# df_confirmed\n",
    "df_grouped_conf=covid19_confirmed.groupby('Country/Region').sum()\n",
    "\n",
    "# display(df_grouped_conf.head(10))\n",
    "df_confirmed=df_grouped_conf.sort_values(by=confirmed_latest,ascending=False).head(10).drop(['Lat', 'Long'],axis=1).T\n",
    "# display(df_grouped_conf)\n",
    "display(df_confirmed)\n",
    "\n",
    "# display(df_confirmed)\n",
    "# df_confirmed_total\n",
    "covid19_confirmed.loc[\"Total\"] = covid19_confirmed.sum()\n",
    "df_confirmed_total=covid19_confirmed.iloc[-1,4:]\n",
    "\n",
    "# confirmed_latest"
   ]
  },
  {
   "cell_type": "code",
   "execution_count": 3,
   "metadata": {
    "execution": {
     "iopub.execute_input": "2020-09-22T04:00:09.976105Z",
     "iopub.status.busy": "2020-09-22T04:00:09.975157Z",
     "iopub.status.idle": "2020-09-22T04:00:10.523751Z",
     "shell.execute_reply": "2020-09-22T04:00:10.524309Z"
    },
    "papermill": {
     "duration": 0.562134,
     "end_time": "2020-09-22T04:00:10.524928",
     "exception": false,
     "start_time": "2020-09-22T04:00:09.962794",
     "status": "completed"
    },
    "tags": []
   },
   "outputs": [
    {
     "data": {
      "text/plain": [
       "'9/20/20'"
      ]
     },
     "execution_count": 3,
     "metadata": {},
     "output_type": "execute_result"
    }
   ],
   "source": [
    "# deaths_global\n",
    "deaths_global='https://raw.githubusercontent.com/CSSEGISandData/COVID-19/master/csse_covid_19_data/csse_covid_19_time_series/time_series_covid19_deaths_global.csv'\n",
    "covid19_deaths=pd.read_csv(deaths_global,index_col='Country/Region')\n",
    "\n",
    "# deaths_latest\n",
    "deaths_latest = covid19_deaths.T.index.values[-1]\n",
    "\n",
    "# df_deaths\n",
    "df_grouped_deaths=covid19_deaths.groupby('Country/Region').sum()\n",
    "df_deaths=df_grouped_deaths.sort_values(deaths_latest,ascending=False).head(10).drop(['Lat', 'Long'],axis=1).T\n",
    "\n",
    "# df_deaths_total\n",
    "covid19_deaths.loc[\"Total\"] = covid19_deaths.sum()\n",
    "df_deaths_total=covid19_deaths.iloc[-1,4:]\n",
    "\n",
    "deaths_latest"
   ]
  },
  {
   "cell_type": "code",
   "execution_count": 4,
   "metadata": {
    "execution": {
     "iopub.execute_input": "2020-09-22T04:00:10.542566Z",
     "iopub.status.busy": "2020-09-22T04:00:10.541866Z",
     "iopub.status.idle": "2020-09-22T04:00:10.800660Z",
     "shell.execute_reply": "2020-09-22T04:00:10.801119Z"
    },
    "papermill": {
     "duration": 0.271321,
     "end_time": "2020-09-22T04:00:10.801319",
     "exception": false,
     "start_time": "2020-09-22T04:00:10.529998",
     "status": "completed"
    },
    "tags": []
   },
   "outputs": [
    {
     "data": {
      "text/plain": [
       "'9/20/20'"
      ]
     },
     "execution_count": 4,
     "metadata": {},
     "output_type": "execute_result"
    }
   ],
   "source": [
    "# recovered_global\n",
    "recovered_global='https://raw.githubusercontent.com/CSSEGISandData/COVID-19/master/csse_covid_19_data/csse_covid_19_time_series/time_series_covid19_recovered_global.csv'\n",
    "covid19_recovered=pd.read_csv(recovered_global,index_col='Country/Region')\n",
    "\n",
    "# recovered_latest\n",
    "recovered_latest = covid19_recovered.T.index.values[-1]\n",
    "\n",
    "# df_recovered\n",
    "df_grouped_recv=covid19_recovered.groupby('Country/Region').sum()\n",
    "df_recovered=df_grouped_recv.sort_values(recovered_latest,ascending=False).head(10).drop(['Lat', 'Long'],axis=1).T\n",
    "\n",
    "# df_recovered_total\n",
    "covid19_recovered.loc[\"Total\"] = covid19_recovered.sum()\n",
    "df_recovered_total=covid19_recovered.iloc[-1,4:]\n",
    "\n",
    "recovered_latest"
   ]
  },
  {
   "cell_type": "code",
   "execution_count": null,
   "metadata": {
    "papermill": {
     "duration": 0.004756,
     "end_time": "2020-09-22T04:00:10.813329",
     "exception": false,
     "start_time": "2020-09-22T04:00:10.808573",
     "status": "completed"
    },
    "tags": []
   },
   "outputs": [],
   "source": []
  }
 ],
 "metadata": {
  "kernelspec": {
   "display_name": "Python 3",
   "language": "python",
   "name": "python3"
  },
  "language_info": {
   "codemirror_mode": {
    "name": "ipython",
    "version": 3
   },
   "file_extension": ".py",
   "mimetype": "text/x-python",
   "name": "python",
   "nbconvert_exporter": "python",
   "pygments_lexer": "ipython3",
   "version": "3.8.2"
  },
  "papermill": {
   "duration": 8.081845,
   "end_time": "2020-09-22T04:00:11.323162",
   "environment_variables": {},
   "exception": null,
   "input_path": "covid-19-data.ipynb",
   "output_path": "./latest/covid-19-data.ipynb",
   "parameters": {},
   "start_time": "2020-09-22T04:00:03.241317",
   "version": "2.1.2"
  }
 },
 "nbformat": 4,
 "nbformat_minor": 4
}