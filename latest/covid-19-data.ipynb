{
 "cells": [
  {
   "cell_type": "code",
   "execution_count": 1,
   "metadata": {
    "execution": {
     "iopub.execute_input": "2020-06-28T04:52:37.636399Z",
     "iopub.status.busy": "2020-06-28T04:52:37.635734Z",
     "iopub.status.idle": "2020-06-28T04:52:37.655238Z",
     "shell.execute_reply": "2020-06-28T04:52:37.655713Z"
    },
    "papermill": {
     "duration": 0.030273,
     "end_time": "2020-06-28T04:52:37.655952",
     "exception": false,
     "start_time": "2020-06-28T04:52:37.625679",
     "status": "completed"
    },
    "tags": []
   },
   "outputs": [],
   "source": [
    "import pandas as pd\n",
    "import numpy as np"
   ]
  },
  {
   "cell_type": "code",
   "execution_count": 2,
   "metadata": {
    "execution": {
     "iopub.execute_input": "2020-06-28T04:52:37.671057Z",
     "iopub.status.busy": "2020-06-28T04:52:37.670381Z",
     "iopub.status.idle": "2020-06-28T04:52:38.072269Z",
     "shell.execute_reply": "2020-06-28T04:52:38.071771Z"
    },
    "papermill": {
     "duration": 0.412637,
     "end_time": "2020-06-28T04:52:38.072408",
     "exception": false,
     "start_time": "2020-06-28T04:52:37.659771",
     "status": "completed"
    },
    "tags": []
   },
   "outputs": [
    {
     "data": {
      "text/html": [
       "<div>\n",
       "<style scoped>\n",
       "    .dataframe tbody tr th:only-of-type {\n",
       "        vertical-align: middle;\n",
       "    }\n",
       "\n",
       "    .dataframe tbody tr th {\n",
       "        vertical-align: top;\n",
       "    }\n",
       "\n",
       "    .dataframe thead th {\n",
       "        text-align: right;\n",
       "    }\n",
       "</style>\n",
       "<table border=\"1\" class=\"dataframe\">\n",
       "  <thead>\n",
       "    <tr style=\"text-align: right;\">\n",
       "      <th>Country/Region</th>\n",
       "      <th>US</th>\n",
       "      <th>Brazil</th>\n",
       "      <th>Russia</th>\n",
       "      <th>India</th>\n",
       "      <th>United Kingdom</th>\n",
       "      <th>Peru</th>\n",
       "      <th>Chile</th>\n",
       "      <th>Spain</th>\n",
       "      <th>Italy</th>\n",
       "      <th>Iran</th>\n",
       "    </tr>\n",
       "  </thead>\n",
       "  <tbody>\n",
       "    <tr>\n",
       "      <th>1/22/20</th>\n",
       "      <td>1</td>\n",
       "      <td>0</td>\n",
       "      <td>0</td>\n",
       "      <td>0</td>\n",
       "      <td>0</td>\n",
       "      <td>0</td>\n",
       "      <td>0</td>\n",
       "      <td>0</td>\n",
       "      <td>0</td>\n",
       "      <td>0</td>\n",
       "    </tr>\n",
       "    <tr>\n",
       "      <th>1/23/20</th>\n",
       "      <td>1</td>\n",
       "      <td>0</td>\n",
       "      <td>0</td>\n",
       "      <td>0</td>\n",
       "      <td>0</td>\n",
       "      <td>0</td>\n",
       "      <td>0</td>\n",
       "      <td>0</td>\n",
       "      <td>0</td>\n",
       "      <td>0</td>\n",
       "    </tr>\n",
       "    <tr>\n",
       "      <th>1/24/20</th>\n",
       "      <td>2</td>\n",
       "      <td>0</td>\n",
       "      <td>0</td>\n",
       "      <td>0</td>\n",
       "      <td>0</td>\n",
       "      <td>0</td>\n",
       "      <td>0</td>\n",
       "      <td>0</td>\n",
       "      <td>0</td>\n",
       "      <td>0</td>\n",
       "    </tr>\n",
       "    <tr>\n",
       "      <th>1/25/20</th>\n",
       "      <td>2</td>\n",
       "      <td>0</td>\n",
       "      <td>0</td>\n",
       "      <td>0</td>\n",
       "      <td>0</td>\n",
       "      <td>0</td>\n",
       "      <td>0</td>\n",
       "      <td>0</td>\n",
       "      <td>0</td>\n",
       "      <td>0</td>\n",
       "    </tr>\n",
       "    <tr>\n",
       "      <th>1/26/20</th>\n",
       "      <td>5</td>\n",
       "      <td>0</td>\n",
       "      <td>0</td>\n",
       "      <td>0</td>\n",
       "      <td>0</td>\n",
       "      <td>0</td>\n",
       "      <td>0</td>\n",
       "      <td>0</td>\n",
       "      <td>0</td>\n",
       "      <td>0</td>\n",
       "    </tr>\n",
       "    <tr>\n",
       "      <th>...</th>\n",
       "      <td>...</td>\n",
       "      <td>...</td>\n",
       "      <td>...</td>\n",
       "      <td>...</td>\n",
       "      <td>...</td>\n",
       "      <td>...</td>\n",
       "      <td>...</td>\n",
       "      <td>...</td>\n",
       "      <td>...</td>\n",
       "      <td>...</td>\n",
       "    </tr>\n",
       "    <tr>\n",
       "      <th>6/22/20</th>\n",
       "      <td>2312302</td>\n",
       "      <td>1106470</td>\n",
       "      <td>591465</td>\n",
       "      <td>440215</td>\n",
       "      <td>306761</td>\n",
       "      <td>257447</td>\n",
       "      <td>246963</td>\n",
       "      <td>246504</td>\n",
       "      <td>238720</td>\n",
       "      <td>207525</td>\n",
       "    </tr>\n",
       "    <tr>\n",
       "      <th>6/23/20</th>\n",
       "      <td>2347491</td>\n",
       "      <td>1145906</td>\n",
       "      <td>598878</td>\n",
       "      <td>456183</td>\n",
       "      <td>307682</td>\n",
       "      <td>260810</td>\n",
       "      <td>250767</td>\n",
       "      <td>246752</td>\n",
       "      <td>238833</td>\n",
       "      <td>209970</td>\n",
       "    </tr>\n",
       "    <tr>\n",
       "      <th>6/24/20</th>\n",
       "      <td>2382327</td>\n",
       "      <td>1188631</td>\n",
       "      <td>606043</td>\n",
       "      <td>473105</td>\n",
       "      <td>308337</td>\n",
       "      <td>264689</td>\n",
       "      <td>254416</td>\n",
       "      <td>247086</td>\n",
       "      <td>239410</td>\n",
       "      <td>212501</td>\n",
       "    </tr>\n",
       "    <tr>\n",
       "      <th>6/25/20</th>\n",
       "      <td>2422299</td>\n",
       "      <td>1228114</td>\n",
       "      <td>613148</td>\n",
       "      <td>490401</td>\n",
       "      <td>309455</td>\n",
       "      <td>268602</td>\n",
       "      <td>259064</td>\n",
       "      <td>247486</td>\n",
       "      <td>239706</td>\n",
       "      <td>215096</td>\n",
       "    </tr>\n",
       "    <tr>\n",
       "      <th>6/26/20</th>\n",
       "      <td>2467554</td>\n",
       "      <td>1274974</td>\n",
       "      <td>619936</td>\n",
       "      <td>508953</td>\n",
       "      <td>310836</td>\n",
       "      <td>272364</td>\n",
       "      <td>263360</td>\n",
       "      <td>247905</td>\n",
       "      <td>239961</td>\n",
       "      <td>217724</td>\n",
       "    </tr>\n",
       "  </tbody>\n",
       "</table>\n",
       "<p>157 rows × 10 columns</p>\n",
       "</div>"
      ],
      "text/plain": [
       "Country/Region       US   Brazil  Russia   India  United Kingdom    Peru  \\\n",
       "1/22/20               1        0       0       0               0       0   \n",
       "1/23/20               1        0       0       0               0       0   \n",
       "1/24/20               2        0       0       0               0       0   \n",
       "1/25/20               2        0       0       0               0       0   \n",
       "1/26/20               5        0       0       0               0       0   \n",
       "...                 ...      ...     ...     ...             ...     ...   \n",
       "6/22/20         2312302  1106470  591465  440215          306761  257447   \n",
       "6/23/20         2347491  1145906  598878  456183          307682  260810   \n",
       "6/24/20         2382327  1188631  606043  473105          308337  264689   \n",
       "6/25/20         2422299  1228114  613148  490401          309455  268602   \n",
       "6/26/20         2467554  1274974  619936  508953          310836  272364   \n",
       "\n",
       "Country/Region   Chile   Spain   Italy    Iran  \n",
       "1/22/20              0       0       0       0  \n",
       "1/23/20              0       0       0       0  \n",
       "1/24/20              0       0       0       0  \n",
       "1/25/20              0       0       0       0  \n",
       "1/26/20              0       0       0       0  \n",
       "...                ...     ...     ...     ...  \n",
       "6/22/20         246963  246504  238720  207525  \n",
       "6/23/20         250767  246752  238833  209970  \n",
       "6/24/20         254416  247086  239410  212501  \n",
       "6/25/20         259064  247486  239706  215096  \n",
       "6/26/20         263360  247905  239961  217724  \n",
       "\n",
       "[157 rows x 10 columns]"
      ]
     },
     "metadata": {},
     "output_type": "display_data"
    }
   ],
   "source": [
    "# confirmed_global\n",
    "confirmed_global='https://raw.githubusercontent.com/CSSEGISandData/COVID-19/master/csse_covid_19_data/csse_covid_19_time_series/time_series_covid19_confirmed_global.csv'\n",
    "covid19_confirmed=pd.read_csv(confirmed_global,index_col='Country/Region')\n",
    "\n",
    "\n",
    "# confirmed_latest\n",
    "confirmed_latest = covid19_confirmed.T.index.values[-1]\n",
    "# display(confirmed_latest)\n",
    "\n",
    "# df_confirmed\n",
    "df_grouped_conf=covid19_confirmed.groupby('Country/Region').sum()\n",
    "\n",
    "# display(df_grouped_conf.head(10))\n",
    "df_confirmed=df_grouped_conf.sort_values(by=confirmed_latest,ascending=False).head(10).drop(['Lat', 'Long'],axis=1).T\n",
    "# display(df_grouped_conf)\n",
    "display(df_confirmed)\n",
    "\n",
    "# display(df_confirmed)\n",
    "# df_confirmed_total\n",
    "covid19_confirmed.loc[\"Total\"] = covid19_confirmed.sum()\n",
    "df_confirmed_total=covid19_confirmed.iloc[-1,4:]\n",
    "\n",
    "# confirmed_latest"
   ]
  },
  {
   "cell_type": "code",
   "execution_count": 3,
   "metadata": {
    "execution": {
     "iopub.execute_input": "2020-06-28T04:52:38.086137Z",
     "iopub.status.busy": "2020-06-28T04:52:38.085445Z",
     "iopub.status.idle": "2020-06-28T04:52:38.426964Z",
     "shell.execute_reply": "2020-06-28T04:52:38.427571Z"
    },
    "papermill": {
     "duration": 0.351037,
     "end_time": "2020-06-28T04:52:38.427760",
     "exception": false,
     "start_time": "2020-06-28T04:52:38.076723",
     "status": "completed"
    },
    "tags": []
   },
   "outputs": [
    {
     "data": {
      "text/plain": [
       "'6/27/20'"
      ]
     },
     "execution_count": 3,
     "metadata": {},
     "output_type": "execute_result"
    }
   ],
   "source": [
    "# deaths_global\n",
    "deaths_global='https://raw.githubusercontent.com/CSSEGISandData/COVID-19/master/csse_covid_19_data/csse_covid_19_time_series/time_series_covid19_deaths_global.csv'\n",
    "covid19_deaths=pd.read_csv(deaths_global,index_col='Country/Region')\n",
    "\n",
    "# deaths_latest\n",
    "deaths_latest = covid19_deaths.T.index.values[-1]\n",
    "\n",
    "# df_deaths\n",
    "df_grouped_deaths=covid19_deaths.groupby('Country/Region').sum()\n",
    "df_deaths=df_grouped_deaths.sort_values(deaths_latest,ascending=False).head(10).drop(['Lat', 'Long'],axis=1).T\n",
    "\n",
    "# df_deaths_total\n",
    "covid19_deaths.loc[\"Total\"] = covid19_deaths.sum()\n",
    "df_deaths_total=covid19_deaths.iloc[-1,4:]\n",
    "\n",
    "deaths_latest"
   ]
  },
  {
   "cell_type": "code",
   "execution_count": 4,
   "metadata": {
    "execution": {
     "iopub.execute_input": "2020-06-28T04:52:38.446020Z",
     "iopub.status.busy": "2020-06-28T04:52:38.445233Z",
     "iopub.status.idle": "2020-06-28T04:52:38.785284Z",
     "shell.execute_reply": "2020-06-28T04:52:38.785747Z"
    },
    "papermill": {
     "duration": 0.35125,
     "end_time": "2020-06-28T04:52:38.785923",
     "exception": false,
     "start_time": "2020-06-28T04:52:38.434673",
     "status": "completed"
    },
    "tags": []
   },
   "outputs": [
    {
     "data": {
      "text/plain": [
       "'6/26/20'"
      ]
     },
     "execution_count": 4,
     "metadata": {},
     "output_type": "execute_result"
    }
   ],
   "source": [
    "# recovered_global\n",
    "recovered_global='https://raw.githubusercontent.com/CSSEGISandData/COVID-19/master/csse_covid_19_data/csse_covid_19_time_series/time_series_covid19_recovered_global.csv'\n",
    "covid19_recovered=pd.read_csv(recovered_global,index_col='Country/Region')\n",
    "\n",
    "# recovered_latest\n",
    "recovered_latest = covid19_recovered.T.index.values[-1]\n",
    "\n",
    "# df_recovered\n",
    "df_grouped_recv=covid19_recovered.groupby('Country/Region').sum()\n",
    "df_recovered=df_grouped_recv.sort_values(recovered_latest,ascending=False).head(10).drop(['Lat', 'Long'],axis=1).T\n",
    "\n",
    "# df_recovered_total\n",
    "covid19_recovered.loc[\"Total\"] = covid19_recovered.sum()\n",
    "df_recovered_total=covid19_recovered.iloc[-1,4:]\n",
    "\n",
    "recovered_latest"
   ]
  },
  {
   "cell_type": "code",
   "execution_count": null,
   "metadata": {
    "papermill": {
     "duration": 0.004781,
     "end_time": "2020-06-28T04:52:38.795700",
     "exception": false,
     "start_time": "2020-06-28T04:52:38.790919",
     "status": "completed"
    },
    "tags": []
   },
   "outputs": [],
   "source": []
  }
 ],
 "metadata": {
  "kernelspec": {
   "display_name": "Python 3",
   "language": "python",
   "name": "python3"
  },
  "language_info": {
   "codemirror_mode": {
    "name": "ipython",
    "version": 3
   },
   "file_extension": ".py",
   "mimetype": "text/x-python",
   "name": "python",
   "nbconvert_exporter": "python",
   "pygments_lexer": "ipython3",
   "version": "3.8.2"
  },
  "papermill": {
   "duration": 4.1144,
   "end_time": "2020-06-28T04:52:39.293640",
   "environment_variables": {},
   "exception": null,
   "input_path": "covid-19-data.ipynb",
   "output_path": "./latest/covid-19-data.ipynb",
   "parameters": {},
   "start_time": "2020-06-28T04:52:35.179240",
   "version": "2.1.1"
  }
 },
 "nbformat": 4,
 "nbformat_minor": 4
}