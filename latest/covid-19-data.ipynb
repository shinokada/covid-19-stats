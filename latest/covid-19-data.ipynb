{
 "cells": [
  {
   "cell_type": "code",
   "execution_count": 1,
   "metadata": {
    "execution": {
     "iopub.execute_input": "2020-07-14T04:00:04.561674Z",
     "iopub.status.busy": "2020-07-14T04:00:04.561030Z",
     "iopub.status.idle": "2020-07-14T04:00:04.579731Z",
     "shell.execute_reply": "2020-07-14T04:00:04.580486Z"
    },
    "papermill": {
     "duration": 0.029638,
     "end_time": "2020-07-14T04:00:04.580802",
     "exception": false,
     "start_time": "2020-07-14T04:00:04.551164",
     "status": "completed"
    },
    "tags": []
   },
   "outputs": [],
   "source": [
    "import pandas as pd\n",
    "import numpy as np"
   ]
  },
  {
   "cell_type": "code",
   "execution_count": 2,
   "metadata": {
    "execution": {
     "iopub.execute_input": "2020-07-14T04:00:04.597548Z",
     "iopub.status.busy": "2020-07-14T04:00:04.596758Z",
     "iopub.status.idle": "2020-07-14T04:00:05.882079Z",
     "shell.execute_reply": "2020-07-14T04:00:05.882674Z"
    },
    "papermill": {
     "duration": 1.296253,
     "end_time": "2020-07-14T04:00:05.882937",
     "exception": false,
     "start_time": "2020-07-14T04:00:04.586684",
     "status": "completed"
    },
    "tags": []
   },
   "outputs": [
    {
     "data": {
      "text/html": [
       "<div>\n",
       "<style scoped>\n",
       "    .dataframe tbody tr th:only-of-type {\n",
       "        vertical-align: middle;\n",
       "    }\n",
       "\n",
       "    .dataframe tbody tr th {\n",
       "        vertical-align: top;\n",
       "    }\n",
       "\n",
       "    .dataframe thead th {\n",
       "        text-align: right;\n",
       "    }\n",
       "</style>\n",
       "<table border=\"1\" class=\"dataframe\">\n",
       "  <thead>\n",
       "    <tr style=\"text-align: right;\">\n",
       "      <th>Country/Region</th>\n",
       "      <th>US</th>\n",
       "      <th>Brazil</th>\n",
       "      <th>India</th>\n",
       "      <th>Russia</th>\n",
       "      <th>Peru</th>\n",
       "      <th>Chile</th>\n",
       "      <th>Mexico</th>\n",
       "      <th>United Kingdom</th>\n",
       "      <th>South Africa</th>\n",
       "      <th>Iran</th>\n",
       "    </tr>\n",
       "  </thead>\n",
       "  <tbody>\n",
       "    <tr>\n",
       "      <th>1/22/20</th>\n",
       "      <td>1</td>\n",
       "      <td>0</td>\n",
       "      <td>0</td>\n",
       "      <td>0</td>\n",
       "      <td>0</td>\n",
       "      <td>0</td>\n",
       "      <td>0</td>\n",
       "      <td>0</td>\n",
       "      <td>0</td>\n",
       "      <td>0</td>\n",
       "    </tr>\n",
       "    <tr>\n",
       "      <th>1/23/20</th>\n",
       "      <td>1</td>\n",
       "      <td>0</td>\n",
       "      <td>0</td>\n",
       "      <td>0</td>\n",
       "      <td>0</td>\n",
       "      <td>0</td>\n",
       "      <td>0</td>\n",
       "      <td>0</td>\n",
       "      <td>0</td>\n",
       "      <td>0</td>\n",
       "    </tr>\n",
       "    <tr>\n",
       "      <th>1/24/20</th>\n",
       "      <td>2</td>\n",
       "      <td>0</td>\n",
       "      <td>0</td>\n",
       "      <td>0</td>\n",
       "      <td>0</td>\n",
       "      <td>0</td>\n",
       "      <td>0</td>\n",
       "      <td>0</td>\n",
       "      <td>0</td>\n",
       "      <td>0</td>\n",
       "    </tr>\n",
       "    <tr>\n",
       "      <th>1/25/20</th>\n",
       "      <td>2</td>\n",
       "      <td>0</td>\n",
       "      <td>0</td>\n",
       "      <td>0</td>\n",
       "      <td>0</td>\n",
       "      <td>0</td>\n",
       "      <td>0</td>\n",
       "      <td>0</td>\n",
       "      <td>0</td>\n",
       "      <td>0</td>\n",
       "    </tr>\n",
       "    <tr>\n",
       "      <th>1/26/20</th>\n",
       "      <td>5</td>\n",
       "      <td>0</td>\n",
       "      <td>0</td>\n",
       "      <td>0</td>\n",
       "      <td>0</td>\n",
       "      <td>0</td>\n",
       "      <td>0</td>\n",
       "      <td>0</td>\n",
       "      <td>0</td>\n",
       "      <td>0</td>\n",
       "    </tr>\n",
       "    <tr>\n",
       "      <th>...</th>\n",
       "      <td>...</td>\n",
       "      <td>...</td>\n",
       "      <td>...</td>\n",
       "      <td>...</td>\n",
       "      <td>...</td>\n",
       "      <td>...</td>\n",
       "      <td>...</td>\n",
       "      <td>...</td>\n",
       "      <td>...</td>\n",
       "      <td>...</td>\n",
       "    </tr>\n",
       "    <tr>\n",
       "      <th>7/8/20</th>\n",
       "      <td>3054699</td>\n",
       "      <td>1713160</td>\n",
       "      <td>767296</td>\n",
       "      <td>699749</td>\n",
       "      <td>312911</td>\n",
       "      <td>303083</td>\n",
       "      <td>275003</td>\n",
       "      <td>288511</td>\n",
       "      <td>224665</td>\n",
       "      <td>248379</td>\n",
       "    </tr>\n",
       "    <tr>\n",
       "      <th>7/9/20</th>\n",
       "      <td>3117946</td>\n",
       "      <td>1755779</td>\n",
       "      <td>793802</td>\n",
       "      <td>706240</td>\n",
       "      <td>316448</td>\n",
       "      <td>306216</td>\n",
       "      <td>282283</td>\n",
       "      <td>289154</td>\n",
       "      <td>238339</td>\n",
       "      <td>250458</td>\n",
       "    </tr>\n",
       "    <tr>\n",
       "      <th>7/10/20</th>\n",
       "      <td>3184573</td>\n",
       "      <td>1800827</td>\n",
       "      <td>820916</td>\n",
       "      <td>712863</td>\n",
       "      <td>319646</td>\n",
       "      <td>309274</td>\n",
       "      <td>289174</td>\n",
       "      <td>289678</td>\n",
       "      <td>250687</td>\n",
       "      <td>252720</td>\n",
       "    </tr>\n",
       "    <tr>\n",
       "      <th>7/11/20</th>\n",
       "      <td>3245925</td>\n",
       "      <td>1839850</td>\n",
       "      <td>849522</td>\n",
       "      <td>719449</td>\n",
       "      <td>322710</td>\n",
       "      <td>312029</td>\n",
       "      <td>295268</td>\n",
       "      <td>290504</td>\n",
       "      <td>264184</td>\n",
       "      <td>255117</td>\n",
       "    </tr>\n",
       "    <tr>\n",
       "      <th>7/12/20</th>\n",
       "      <td>3304942</td>\n",
       "      <td>1864681</td>\n",
       "      <td>878254</td>\n",
       "      <td>726036</td>\n",
       "      <td>326326</td>\n",
       "      <td>315041</td>\n",
       "      <td>299750</td>\n",
       "      <td>291154</td>\n",
       "      <td>276242</td>\n",
       "      <td>257303</td>\n",
       "    </tr>\n",
       "  </tbody>\n",
       "</table>\n",
       "<p>173 rows × 10 columns</p>\n",
       "</div>"
      ],
      "text/plain": [
       "Country/Region       US   Brazil   India  Russia    Peru   Chile  Mexico  \\\n",
       "1/22/20               1        0       0       0       0       0       0   \n",
       "1/23/20               1        0       0       0       0       0       0   \n",
       "1/24/20               2        0       0       0       0       0       0   \n",
       "1/25/20               2        0       0       0       0       0       0   \n",
       "1/26/20               5        0       0       0       0       0       0   \n",
       "...                 ...      ...     ...     ...     ...     ...     ...   \n",
       "7/8/20          3054699  1713160  767296  699749  312911  303083  275003   \n",
       "7/9/20          3117946  1755779  793802  706240  316448  306216  282283   \n",
       "7/10/20         3184573  1800827  820916  712863  319646  309274  289174   \n",
       "7/11/20         3245925  1839850  849522  719449  322710  312029  295268   \n",
       "7/12/20         3304942  1864681  878254  726036  326326  315041  299750   \n",
       "\n",
       "Country/Region  United Kingdom  South Africa    Iran  \n",
       "1/22/20                      0             0       0  \n",
       "1/23/20                      0             0       0  \n",
       "1/24/20                      0             0       0  \n",
       "1/25/20                      0             0       0  \n",
       "1/26/20                      0             0       0  \n",
       "...                        ...           ...     ...  \n",
       "7/8/20                  288511        224665  248379  \n",
       "7/9/20                  289154        238339  250458  \n",
       "7/10/20                 289678        250687  252720  \n",
       "7/11/20                 290504        264184  255117  \n",
       "7/12/20                 291154        276242  257303  \n",
       "\n",
       "[173 rows x 10 columns]"
      ]
     },
     "metadata": {},
     "output_type": "display_data"
    }
   ],
   "source": [
    "# confirmed_global\n",
    "confirmed_global='https://raw.githubusercontent.com/CSSEGISandData/COVID-19/master/csse_covid_19_data/csse_covid_19_time_series/time_series_covid19_confirmed_global.csv'\n",
    "covid19_confirmed=pd.read_csv(confirmed_global,index_col='Country/Region')\n",
    "\n",
    "\n",
    "# confirmed_latest\n",
    "confirmed_latest = covid19_confirmed.T.index.values[-1]\n",
    "# display(confirmed_latest)\n",
    "\n",
    "# df_confirmed\n",
    "df_grouped_conf=covid19_confirmed.groupby('Country/Region').sum()\n",
    "\n",
    "# display(df_grouped_conf.head(10))\n",
    "df_confirmed=df_grouped_conf.sort_values(by=confirmed_latest,ascending=False).head(10).drop(['Lat', 'Long'],axis=1).T\n",
    "# display(df_grouped_conf)\n",
    "display(df_confirmed)\n",
    "\n",
    "# display(df_confirmed)\n",
    "# df_confirmed_total\n",
    "covid19_confirmed.loc[\"Total\"] = covid19_confirmed.sum()\n",
    "df_confirmed_total=covid19_confirmed.iloc[-1,4:]\n",
    "\n",
    "# confirmed_latest"
   ]
  },
  {
   "cell_type": "code",
   "execution_count": 3,
   "metadata": {
    "execution": {
     "iopub.execute_input": "2020-07-14T04:00:05.896410Z",
     "iopub.status.busy": "2020-07-14T04:00:05.895753Z",
     "iopub.status.idle": "2020-07-14T04:00:06.086800Z",
     "shell.execute_reply": "2020-07-14T04:00:06.087567Z"
    },
    "papermill": {
     "duration": 0.200624,
     "end_time": "2020-07-14T04:00:06.087839",
     "exception": false,
     "start_time": "2020-07-14T04:00:05.887215",
     "status": "completed"
    },
    "tags": []
   },
   "outputs": [
    {
     "data": {
      "text/plain": [
       "'7/12/20'"
      ]
     },
     "execution_count": 3,
     "metadata": {},
     "output_type": "execute_result"
    }
   ],
   "source": [
    "# deaths_global\n",
    "deaths_global='https://raw.githubusercontent.com/CSSEGISandData/COVID-19/master/csse_covid_19_data/csse_covid_19_time_series/time_series_covid19_deaths_global.csv'\n",
    "covid19_deaths=pd.read_csv(deaths_global,index_col='Country/Region')\n",
    "\n",
    "# deaths_latest\n",
    "deaths_latest = covid19_deaths.T.index.values[-1]\n",
    "\n",
    "# df_deaths\n",
    "df_grouped_deaths=covid19_deaths.groupby('Country/Region').sum()\n",
    "df_deaths=df_grouped_deaths.sort_values(deaths_latest,ascending=False).head(10).drop(['Lat', 'Long'],axis=1).T\n",
    "\n",
    "# df_deaths_total\n",
    "covid19_deaths.loc[\"Total\"] = covid19_deaths.sum()\n",
    "df_deaths_total=covid19_deaths.iloc[-1,4:]\n",
    "\n",
    "deaths_latest"
   ]
  },
  {
   "cell_type": "code",
   "execution_count": 4,
   "metadata": {
    "execution": {
     "iopub.execute_input": "2020-07-14T04:00:06.104709Z",
     "iopub.status.busy": "2020-07-14T04:00:06.104055Z",
     "iopub.status.idle": "2020-07-14T04:00:06.310648Z",
     "shell.execute_reply": "2020-07-14T04:00:06.311105Z"
    },
    "papermill": {
     "duration": 0.216205,
     "end_time": "2020-07-14T04:00:06.311300",
     "exception": false,
     "start_time": "2020-07-14T04:00:06.095095",
     "status": "completed"
    },
    "tags": []
   },
   "outputs": [
    {
     "data": {
      "text/plain": [
       "'7/12/20'"
      ]
     },
     "execution_count": 4,
     "metadata": {},
     "output_type": "execute_result"
    }
   ],
   "source": [
    "# recovered_global\n",
    "recovered_global='https://raw.githubusercontent.com/CSSEGISandData/COVID-19/master/csse_covid_19_data/csse_covid_19_time_series/time_series_covid19_recovered_global.csv'\n",
    "covid19_recovered=pd.read_csv(recovered_global,index_col='Country/Region')\n",
    "\n",
    "# recovered_latest\n",
    "recovered_latest = covid19_recovered.T.index.values[-1]\n",
    "\n",
    "# df_recovered\n",
    "df_grouped_recv=covid19_recovered.groupby('Country/Region').sum()\n",
    "df_recovered=df_grouped_recv.sort_values(recovered_latest,ascending=False).head(10).drop(['Lat', 'Long'],axis=1).T\n",
    "\n",
    "# df_recovered_total\n",
    "covid19_recovered.loc[\"Total\"] = covid19_recovered.sum()\n",
    "df_recovered_total=covid19_recovered.iloc[-1,4:]\n",
    "\n",
    "recovered_latest"
   ]
  },
  {
   "cell_type": "code",
   "execution_count": null,
   "metadata": {
    "papermill": {
     "duration": 0.004899,
     "end_time": "2020-07-14T04:00:06.321039",
     "exception": false,
     "start_time": "2020-07-14T04:00:06.316140",
     "status": "completed"
    },
    "tags": []
   },
   "outputs": [],
   "source": []
  }
 ],
 "metadata": {
  "kernelspec": {
   "display_name": "Python 3",
   "language": "python",
   "name": "python3"
  },
  "language_info": {
   "codemirror_mode": {
    "name": "ipython",
    "version": 3
   },
   "file_extension": ".py",
   "mimetype": "text/x-python",
   "name": "python",
   "nbconvert_exporter": "python",
   "pygments_lexer": "ipython3",
   "version": "3.8.2"
  },
  "papermill": {
   "duration": 5.320268,
   "end_time": "2020-07-14T04:00:06.759450",
   "environment_variables": {},
   "exception": null,
   "input_path": "covid-19-data.ipynb",
   "output_path": "./latest/covid-19-data.ipynb",
   "parameters": {},
   "start_time": "2020-07-14T04:00:01.439182",
   "version": "2.1.2"
  }
 },
 "nbformat": 4,
 "nbformat_minor": 4
}