{
 "cells": [
  {
   "cell_type": "code",
   "execution_count": 1,
   "metadata": {
    "execution": {
     "iopub.execute_input": "2020-07-09T04:00:05.234892Z",
     "iopub.status.busy": "2020-07-09T04:00:05.234201Z",
     "iopub.status.idle": "2020-07-09T04:00:05.251789Z",
     "shell.execute_reply": "2020-07-09T04:00:05.252272Z"
    },
    "papermill": {
     "duration": 0.026672,
     "end_time": "2020-07-09T04:00:05.252507",
     "exception": false,
     "start_time": "2020-07-09T04:00:05.225835",
     "status": "completed"
    },
    "tags": []
   },
   "outputs": [],
   "source": [
    "import pandas as pd\n",
    "import numpy as np"
   ]
  },
  {
   "cell_type": "code",
   "execution_count": 2,
   "metadata": {
    "execution": {
     "iopub.execute_input": "2020-07-09T04:00:05.265791Z",
     "iopub.status.busy": "2020-07-09T04:00:05.264731Z",
     "iopub.status.idle": "2020-07-09T04:00:05.491255Z",
     "shell.execute_reply": "2020-07-09T04:00:05.491725Z"
    },
    "papermill": {
     "duration": 0.235544,
     "end_time": "2020-07-09T04:00:05.491889",
     "exception": false,
     "start_time": "2020-07-09T04:00:05.256345",
     "status": "completed"
    },
    "tags": []
   },
   "outputs": [
    {
     "data": {
      "text/html": [
       "<div>\n",
       "<style scoped>\n",
       "    .dataframe tbody tr th:only-of-type {\n",
       "        vertical-align: middle;\n",
       "    }\n",
       "\n",
       "    .dataframe tbody tr th {\n",
       "        vertical-align: top;\n",
       "    }\n",
       "\n",
       "    .dataframe thead th {\n",
       "        text-align: right;\n",
       "    }\n",
       "</style>\n",
       "<table border=\"1\" class=\"dataframe\">\n",
       "  <thead>\n",
       "    <tr style=\"text-align: right;\">\n",
       "      <th>Country/Region</th>\n",
       "      <th>US</th>\n",
       "      <th>Brazil</th>\n",
       "      <th>India</th>\n",
       "      <th>Russia</th>\n",
       "      <th>Peru</th>\n",
       "      <th>Chile</th>\n",
       "      <th>United Kingdom</th>\n",
       "      <th>Mexico</th>\n",
       "      <th>Spain</th>\n",
       "      <th>Iran</th>\n",
       "    </tr>\n",
       "  </thead>\n",
       "  <tbody>\n",
       "    <tr>\n",
       "      <th>1/22/20</th>\n",
       "      <td>1</td>\n",
       "      <td>0</td>\n",
       "      <td>0</td>\n",
       "      <td>0</td>\n",
       "      <td>0</td>\n",
       "      <td>0</td>\n",
       "      <td>0</td>\n",
       "      <td>0</td>\n",
       "      <td>0</td>\n",
       "      <td>0</td>\n",
       "    </tr>\n",
       "    <tr>\n",
       "      <th>1/23/20</th>\n",
       "      <td>1</td>\n",
       "      <td>0</td>\n",
       "      <td>0</td>\n",
       "      <td>0</td>\n",
       "      <td>0</td>\n",
       "      <td>0</td>\n",
       "      <td>0</td>\n",
       "      <td>0</td>\n",
       "      <td>0</td>\n",
       "      <td>0</td>\n",
       "    </tr>\n",
       "    <tr>\n",
       "      <th>1/24/20</th>\n",
       "      <td>2</td>\n",
       "      <td>0</td>\n",
       "      <td>0</td>\n",
       "      <td>0</td>\n",
       "      <td>0</td>\n",
       "      <td>0</td>\n",
       "      <td>0</td>\n",
       "      <td>0</td>\n",
       "      <td>0</td>\n",
       "      <td>0</td>\n",
       "    </tr>\n",
       "    <tr>\n",
       "      <th>1/25/20</th>\n",
       "      <td>2</td>\n",
       "      <td>0</td>\n",
       "      <td>0</td>\n",
       "      <td>0</td>\n",
       "      <td>0</td>\n",
       "      <td>0</td>\n",
       "      <td>0</td>\n",
       "      <td>0</td>\n",
       "      <td>0</td>\n",
       "      <td>0</td>\n",
       "    </tr>\n",
       "    <tr>\n",
       "      <th>1/26/20</th>\n",
       "      <td>5</td>\n",
       "      <td>0</td>\n",
       "      <td>0</td>\n",
       "      <td>0</td>\n",
       "      <td>0</td>\n",
       "      <td>0</td>\n",
       "      <td>0</td>\n",
       "      <td>0</td>\n",
       "      <td>0</td>\n",
       "      <td>0</td>\n",
       "    </tr>\n",
       "    <tr>\n",
       "      <th>...</th>\n",
       "      <td>...</td>\n",
       "      <td>...</td>\n",
       "      <td>...</td>\n",
       "      <td>...</td>\n",
       "      <td>...</td>\n",
       "      <td>...</td>\n",
       "      <td>...</td>\n",
       "      <td>...</td>\n",
       "      <td>...</td>\n",
       "      <td>...</td>\n",
       "    </tr>\n",
       "    <tr>\n",
       "      <th>7/3/20</th>\n",
       "      <td>2795361</td>\n",
       "      <td>1539081</td>\n",
       "      <td>648315</td>\n",
       "      <td>666941</td>\n",
       "      <td>295599</td>\n",
       "      <td>288089</td>\n",
       "      <td>285787</td>\n",
       "      <td>245251</td>\n",
       "      <td>250545</td>\n",
       "      <td>235429</td>\n",
       "    </tr>\n",
       "    <tr>\n",
       "      <th>7/4/20</th>\n",
       "      <td>2841241</td>\n",
       "      <td>1577004</td>\n",
       "      <td>673165</td>\n",
       "      <td>673564</td>\n",
       "      <td>299080</td>\n",
       "      <td>291847</td>\n",
       "      <td>286412</td>\n",
       "      <td>252165</td>\n",
       "      <td>250545</td>\n",
       "      <td>237878</td>\n",
       "    </tr>\n",
       "    <tr>\n",
       "      <th>7/5/20</th>\n",
       "      <td>2891124</td>\n",
       "      <td>1603055</td>\n",
       "      <td>697413</td>\n",
       "      <td>680283</td>\n",
       "      <td>302718</td>\n",
       "      <td>295532</td>\n",
       "      <td>286931</td>\n",
       "      <td>256848</td>\n",
       "      <td>250545</td>\n",
       "      <td>240438</td>\n",
       "    </tr>\n",
       "    <tr>\n",
       "      <th>7/6/20</th>\n",
       "      <td>2936077</td>\n",
       "      <td>1623284</td>\n",
       "      <td>719664</td>\n",
       "      <td>686852</td>\n",
       "      <td>305703</td>\n",
       "      <td>298557</td>\n",
       "      <td>287290</td>\n",
       "      <td>261750</td>\n",
       "      <td>251789</td>\n",
       "      <td>243051</td>\n",
       "    </tr>\n",
       "    <tr>\n",
       "      <th>7/7/20</th>\n",
       "      <td>2996098</td>\n",
       "      <td>1668589</td>\n",
       "      <td>742417</td>\n",
       "      <td>693215</td>\n",
       "      <td>309278</td>\n",
       "      <td>301019</td>\n",
       "      <td>287874</td>\n",
       "      <td>268008</td>\n",
       "      <td>252130</td>\n",
       "      <td>245688</td>\n",
       "    </tr>\n",
       "  </tbody>\n",
       "</table>\n",
       "<p>168 rows × 10 columns</p>\n",
       "</div>"
      ],
      "text/plain": [
       "Country/Region       US   Brazil   India  Russia    Peru   Chile  \\\n",
       "1/22/20               1        0       0       0       0       0   \n",
       "1/23/20               1        0       0       0       0       0   \n",
       "1/24/20               2        0       0       0       0       0   \n",
       "1/25/20               2        0       0       0       0       0   \n",
       "1/26/20               5        0       0       0       0       0   \n",
       "...                 ...      ...     ...     ...     ...     ...   \n",
       "7/3/20          2795361  1539081  648315  666941  295599  288089   \n",
       "7/4/20          2841241  1577004  673165  673564  299080  291847   \n",
       "7/5/20          2891124  1603055  697413  680283  302718  295532   \n",
       "7/6/20          2936077  1623284  719664  686852  305703  298557   \n",
       "7/7/20          2996098  1668589  742417  693215  309278  301019   \n",
       "\n",
       "Country/Region  United Kingdom  Mexico   Spain    Iran  \n",
       "1/22/20                      0       0       0       0  \n",
       "1/23/20                      0       0       0       0  \n",
       "1/24/20                      0       0       0       0  \n",
       "1/25/20                      0       0       0       0  \n",
       "1/26/20                      0       0       0       0  \n",
       "...                        ...     ...     ...     ...  \n",
       "7/3/20                  285787  245251  250545  235429  \n",
       "7/4/20                  286412  252165  250545  237878  \n",
       "7/5/20                  286931  256848  250545  240438  \n",
       "7/6/20                  287290  261750  251789  243051  \n",
       "7/7/20                  287874  268008  252130  245688  \n",
       "\n",
       "[168 rows x 10 columns]"
      ]
     },
     "metadata": {},
     "output_type": "display_data"
    }
   ],
   "source": [
    "# confirmed_global\n",
    "confirmed_global='https://raw.githubusercontent.com/CSSEGISandData/COVID-19/master/csse_covid_19_data/csse_covid_19_time_series/time_series_covid19_confirmed_global.csv'\n",
    "covid19_confirmed=pd.read_csv(confirmed_global,index_col='Country/Region')\n",
    "\n",
    "\n",
    "# confirmed_latest\n",
    "confirmed_latest = covid19_confirmed.T.index.values[-1]\n",
    "# display(confirmed_latest)\n",
    "\n",
    "# df_confirmed\n",
    "df_grouped_conf=covid19_confirmed.groupby('Country/Region').sum()\n",
    "\n",
    "# display(df_grouped_conf.head(10))\n",
    "df_confirmed=df_grouped_conf.sort_values(by=confirmed_latest,ascending=False).head(10).drop(['Lat', 'Long'],axis=1).T\n",
    "# display(df_grouped_conf)\n",
    "display(df_confirmed)\n",
    "\n",
    "# display(df_confirmed)\n",
    "# df_confirmed_total\n",
    "covid19_confirmed.loc[\"Total\"] = covid19_confirmed.sum()\n",
    "df_confirmed_total=covid19_confirmed.iloc[-1,4:]\n",
    "\n",
    "# confirmed_latest"
   ]
  },
  {
   "cell_type": "code",
   "execution_count": 3,
   "metadata": {
    "execution": {
     "iopub.execute_input": "2020-07-09T04:00:05.505408Z",
     "iopub.status.busy": "2020-07-09T04:00:05.504755Z",
     "iopub.status.idle": "2020-07-09T04:00:05.690198Z",
     "shell.execute_reply": "2020-07-09T04:00:05.689698Z"
    },
    "papermill": {
     "duration": 0.194053,
     "end_time": "2020-07-09T04:00:05.690374",
     "exception": false,
     "start_time": "2020-07-09T04:00:05.496321",
     "status": "completed"
    },
    "tags": []
   },
   "outputs": [
    {
     "data": {
      "text/plain": [
       "'7/7/20'"
      ]
     },
     "execution_count": 3,
     "metadata": {},
     "output_type": "execute_result"
    }
   ],
   "source": [
    "# deaths_global\n",
    "deaths_global='https://raw.githubusercontent.com/CSSEGISandData/COVID-19/master/csse_covid_19_data/csse_covid_19_time_series/time_series_covid19_deaths_global.csv'\n",
    "covid19_deaths=pd.read_csv(deaths_global,index_col='Country/Region')\n",
    "\n",
    "# deaths_latest\n",
    "deaths_latest = covid19_deaths.T.index.values[-1]\n",
    "\n",
    "# df_deaths\n",
    "df_grouped_deaths=covid19_deaths.groupby('Country/Region').sum()\n",
    "df_deaths=df_grouped_deaths.sort_values(deaths_latest,ascending=False).head(10).drop(['Lat', 'Long'],axis=1).T\n",
    "\n",
    "# df_deaths_total\n",
    "covid19_deaths.loc[\"Total\"] = covid19_deaths.sum()\n",
    "df_deaths_total=covid19_deaths.iloc[-1,4:]\n",
    "\n",
    "deaths_latest"
   ]
  },
  {
   "cell_type": "code",
   "execution_count": 4,
   "metadata": {
    "execution": {
     "iopub.execute_input": "2020-07-09T04:00:05.705436Z",
     "iopub.status.busy": "2020-07-09T04:00:05.704533Z",
     "iopub.status.idle": "2020-07-09T04:00:05.885122Z",
     "shell.execute_reply": "2020-07-09T04:00:05.885651Z"
    },
    "papermill": {
     "duration": 0.190758,
     "end_time": "2020-07-09T04:00:05.885829",
     "exception": false,
     "start_time": "2020-07-09T04:00:05.695071",
     "status": "completed"
    },
    "tags": []
   },
   "outputs": [
    {
     "data": {
      "text/plain": [
       "'7/7/20'"
      ]
     },
     "execution_count": 4,
     "metadata": {},
     "output_type": "execute_result"
    }
   ],
   "source": [
    "# recovered_global\n",
    "recovered_global='https://raw.githubusercontent.com/CSSEGISandData/COVID-19/master/csse_covid_19_data/csse_covid_19_time_series/time_series_covid19_recovered_global.csv'\n",
    "covid19_recovered=pd.read_csv(recovered_global,index_col='Country/Region')\n",
    "\n",
    "# recovered_latest\n",
    "recovered_latest = covid19_recovered.T.index.values[-1]\n",
    "\n",
    "# df_recovered\n",
    "df_grouped_recv=covid19_recovered.groupby('Country/Region').sum()\n",
    "df_recovered=df_grouped_recv.sort_values(recovered_latest,ascending=False).head(10).drop(['Lat', 'Long'],axis=1).T\n",
    "\n",
    "# df_recovered_total\n",
    "covid19_recovered.loc[\"Total\"] = covid19_recovered.sum()\n",
    "df_recovered_total=covid19_recovered.iloc[-1,4:]\n",
    "\n",
    "recovered_latest"
   ]
  },
  {
   "cell_type": "code",
   "execution_count": null,
   "metadata": {
    "papermill": {
     "duration": 0.004828,
     "end_time": "2020-07-09T04:00:05.895609",
     "exception": false,
     "start_time": "2020-07-09T04:00:05.890781",
     "status": "completed"
    },
    "tags": []
   },
   "outputs": [],
   "source": []
  }
 ],
 "metadata": {
  "kernelspec": {
   "display_name": "Python 3",
   "language": "python",
   "name": "python3"
  },
  "language_info": {
   "codemirror_mode": {
    "name": "ipython",
    "version": 3
   },
   "file_extension": ".py",
   "mimetype": "text/x-python",
   "name": "python",
   "nbconvert_exporter": "python",
   "pygments_lexer": "ipython3",
   "version": "3.8.2"
  },
  "papermill": {
   "duration": 5.166774,
   "end_time": "2020-07-09T04:00:06.358879",
   "environment_variables": {},
   "exception": null,
   "input_path": "covid-19-data.ipynb",
   "output_path": "./latest/covid-19-data.ipynb",
   "parameters": {},
   "start_time": "2020-07-09T04:00:01.192105",
   "version": "2.1.2"
  }
 },
 "nbformat": 4,
 "nbformat_minor": 4
}