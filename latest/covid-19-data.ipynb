{
 "cells": [
  {
   "cell_type": "code",
   "execution_count": 1,
   "metadata": {
    "execution": {
     "iopub.execute_input": "2020-10-10T00:27:38.520045Z",
     "iopub.status.busy": "2020-10-10T00:27:38.519269Z",
     "iopub.status.idle": "2020-10-10T00:27:38.535335Z",
     "shell.execute_reply": "2020-10-10T00:27:38.536105Z"
    },
    "papermill": {
     "duration": 0.027103,
     "end_time": "2020-10-10T00:27:38.536436",
     "exception": false,
     "start_time": "2020-10-10T00:27:38.509333",
     "status": "completed"
    },
    "tags": []
   },
   "outputs": [],
   "source": [
    "import pandas as pd\n",
    "import numpy as np"
   ]
  },
  {
   "cell_type": "code",
   "execution_count": 2,
   "metadata": {
    "execution": {
     "iopub.execute_input": "2020-10-10T00:27:38.548934Z",
     "iopub.status.busy": "2020-10-10T00:27:38.548002Z",
     "iopub.status.idle": "2020-10-10T00:27:38.806716Z",
     "shell.execute_reply": "2020-10-10T00:27:38.807184Z"
    },
    "papermill": {
     "duration": 0.267208,
     "end_time": "2020-10-10T00:27:38.807432",
     "exception": false,
     "start_time": "2020-10-10T00:27:38.540224",
     "status": "completed"
    },
    "tags": []
   },
   "outputs": [
    {
     "data": {
      "text/html": [
       "<div>\n",
       "<style scoped>\n",
       "    .dataframe tbody tr th:only-of-type {\n",
       "        vertical-align: middle;\n",
       "    }\n",
       "\n",
       "    .dataframe tbody tr th {\n",
       "        vertical-align: top;\n",
       "    }\n",
       "\n",
       "    .dataframe thead th {\n",
       "        text-align: right;\n",
       "    }\n",
       "</style>\n",
       "<table border=\"1\" class=\"dataframe\">\n",
       "  <thead>\n",
       "    <tr style=\"text-align: right;\">\n",
       "      <th>Country/Region</th>\n",
       "      <th>US</th>\n",
       "      <th>India</th>\n",
       "      <th>Brazil</th>\n",
       "      <th>Russia</th>\n",
       "      <th>Colombia</th>\n",
       "      <th>Argentina</th>\n",
       "      <th>Spain</th>\n",
       "      <th>Peru</th>\n",
       "      <th>Mexico</th>\n",
       "      <th>France</th>\n",
       "    </tr>\n",
       "  </thead>\n",
       "  <tbody>\n",
       "    <tr>\n",
       "      <th>1/22/20</th>\n",
       "      <td>1</td>\n",
       "      <td>0</td>\n",
       "      <td>0</td>\n",
       "      <td>0</td>\n",
       "      <td>0</td>\n",
       "      <td>0</td>\n",
       "      <td>0</td>\n",
       "      <td>0</td>\n",
       "      <td>0</td>\n",
       "      <td>0</td>\n",
       "    </tr>\n",
       "    <tr>\n",
       "      <th>1/23/20</th>\n",
       "      <td>1</td>\n",
       "      <td>0</td>\n",
       "      <td>0</td>\n",
       "      <td>0</td>\n",
       "      <td>0</td>\n",
       "      <td>0</td>\n",
       "      <td>0</td>\n",
       "      <td>0</td>\n",
       "      <td>0</td>\n",
       "      <td>0</td>\n",
       "    </tr>\n",
       "    <tr>\n",
       "      <th>1/24/20</th>\n",
       "      <td>2</td>\n",
       "      <td>0</td>\n",
       "      <td>0</td>\n",
       "      <td>0</td>\n",
       "      <td>0</td>\n",
       "      <td>0</td>\n",
       "      <td>0</td>\n",
       "      <td>0</td>\n",
       "      <td>0</td>\n",
       "      <td>2</td>\n",
       "    </tr>\n",
       "    <tr>\n",
       "      <th>1/25/20</th>\n",
       "      <td>2</td>\n",
       "      <td>0</td>\n",
       "      <td>0</td>\n",
       "      <td>0</td>\n",
       "      <td>0</td>\n",
       "      <td>0</td>\n",
       "      <td>0</td>\n",
       "      <td>0</td>\n",
       "      <td>0</td>\n",
       "      <td>3</td>\n",
       "    </tr>\n",
       "    <tr>\n",
       "      <th>1/26/20</th>\n",
       "      <td>5</td>\n",
       "      <td>0</td>\n",
       "      <td>0</td>\n",
       "      <td>0</td>\n",
       "      <td>0</td>\n",
       "      <td>0</td>\n",
       "      <td>0</td>\n",
       "      <td>0</td>\n",
       "      <td>0</td>\n",
       "      <td>3</td>\n",
       "    </tr>\n",
       "    <tr>\n",
       "      <th>...</th>\n",
       "      <td>...</td>\n",
       "      <td>...</td>\n",
       "      <td>...</td>\n",
       "      <td>...</td>\n",
       "      <td>...</td>\n",
       "      <td>...</td>\n",
       "      <td>...</td>\n",
       "      <td>...</td>\n",
       "      <td>...</td>\n",
       "      <td>...</td>\n",
       "    </tr>\n",
       "    <tr>\n",
       "      <th>10/4/20</th>\n",
       "      <td>7417845</td>\n",
       "      <td>6623815</td>\n",
       "      <td>4915289</td>\n",
       "      <td>1209039</td>\n",
       "      <td>855052</td>\n",
       "      <td>798486</td>\n",
       "      <td>789932</td>\n",
       "      <td>821564</td>\n",
       "      <td>761665</td>\n",
       "      <td>629509</td>\n",
       "    </tr>\n",
       "    <tr>\n",
       "      <th>10/5/20</th>\n",
       "      <td>7457402</td>\n",
       "      <td>6685082</td>\n",
       "      <td>4927235</td>\n",
       "      <td>1219796</td>\n",
       "      <td>862158</td>\n",
       "      <td>809728</td>\n",
       "      <td>813412</td>\n",
       "      <td>828169</td>\n",
       "      <td>789780</td>\n",
       "      <td>664289</td>\n",
       "    </tr>\n",
       "    <tr>\n",
       "      <th>10/6/20</th>\n",
       "      <td>7499341</td>\n",
       "      <td>6757131</td>\n",
       "      <td>4969141</td>\n",
       "      <td>1231277</td>\n",
       "      <td>869808</td>\n",
       "      <td>824468</td>\n",
       "      <td>825410</td>\n",
       "      <td>829999</td>\n",
       "      <td>794608</td>\n",
       "      <td>675736</td>\n",
       "    </tr>\n",
       "    <tr>\n",
       "      <th>10/7/20</th>\n",
       "      <td>7549682</td>\n",
       "      <td>6835655</td>\n",
       "      <td>5000694</td>\n",
       "      <td>1242258</td>\n",
       "      <td>877684</td>\n",
       "      <td>840915</td>\n",
       "      <td>835901</td>\n",
       "      <td>832929</td>\n",
       "      <td>799188</td>\n",
       "      <td>693603</td>\n",
       "    </tr>\n",
       "    <tr>\n",
       "      <th>10/8/20</th>\n",
       "      <td>7605873</td>\n",
       "      <td>6906151</td>\n",
       "      <td>5028444</td>\n",
       "      <td>1253603</td>\n",
       "      <td>886179</td>\n",
       "      <td>856369</td>\n",
       "      <td>848324</td>\n",
       "      <td>835662</td>\n",
       "      <td>804488</td>\n",
       "      <td>711704</td>\n",
       "    </tr>\n",
       "  </tbody>\n",
       "</table>\n",
       "<p>261 rows × 10 columns</p>\n",
       "</div>"
      ],
      "text/plain": [
       "Country/Region       US    India   Brazil   Russia  Colombia  Argentina  \\\n",
       "1/22/20               1        0        0        0         0          0   \n",
       "1/23/20               1        0        0        0         0          0   \n",
       "1/24/20               2        0        0        0         0          0   \n",
       "1/25/20               2        0        0        0         0          0   \n",
       "1/26/20               5        0        0        0         0          0   \n",
       "...                 ...      ...      ...      ...       ...        ...   \n",
       "10/4/20         7417845  6623815  4915289  1209039    855052     798486   \n",
       "10/5/20         7457402  6685082  4927235  1219796    862158     809728   \n",
       "10/6/20         7499341  6757131  4969141  1231277    869808     824468   \n",
       "10/7/20         7549682  6835655  5000694  1242258    877684     840915   \n",
       "10/8/20         7605873  6906151  5028444  1253603    886179     856369   \n",
       "\n",
       "Country/Region   Spain    Peru  Mexico  France  \n",
       "1/22/20              0       0       0       0  \n",
       "1/23/20              0       0       0       0  \n",
       "1/24/20              0       0       0       2  \n",
       "1/25/20              0       0       0       3  \n",
       "1/26/20              0       0       0       3  \n",
       "...                ...     ...     ...     ...  \n",
       "10/4/20         789932  821564  761665  629509  \n",
       "10/5/20         813412  828169  789780  664289  \n",
       "10/6/20         825410  829999  794608  675736  \n",
       "10/7/20         835901  832929  799188  693603  \n",
       "10/8/20         848324  835662  804488  711704  \n",
       "\n",
       "[261 rows x 10 columns]"
      ]
     },
     "metadata": {},
     "output_type": "display_data"
    }
   ],
   "source": [
    "# confirmed_global\n",
    "confirmed_global='https://raw.githubusercontent.com/CSSEGISandData/COVID-19/master/csse_covid_19_data/csse_covid_19_time_series/time_series_covid19_confirmed_global.csv'\n",
    "covid19_confirmed=pd.read_csv(confirmed_global,index_col='Country/Region')\n",
    "\n",
    "\n",
    "# confirmed_latest\n",
    "confirmed_latest = covid19_confirmed.T.index.values[-1]\n",
    "# display(confirmed_latest)\n",
    "\n",
    "# df_confirmed\n",
    "df_grouped_conf=covid19_confirmed.groupby('Country/Region').sum()\n",
    "\n",
    "# display(df_grouped_conf.head(10))\n",
    "df_confirmed=df_grouped_conf.sort_values(by=confirmed_latest,ascending=False).head(10).drop(['Lat', 'Long'],axis=1).T\n",
    "# display(df_grouped_conf)\n",
    "display(df_confirmed)\n",
    "\n",
    "# display(df_confirmed)\n",
    "# df_confirmed_total\n",
    "covid19_confirmed.loc[\"Total\"] = covid19_confirmed.sum()\n",
    "df_confirmed_total=covid19_confirmed.iloc[-1,4:]\n",
    "\n",
    "# confirmed_latest"
   ]
  },
  {
   "cell_type": "code",
   "execution_count": 3,
   "metadata": {
    "execution": {
     "iopub.execute_input": "2020-10-10T00:27:38.820640Z",
     "iopub.status.busy": "2020-10-10T00:27:38.820059Z",
     "iopub.status.idle": "2020-10-10T00:27:39.307540Z",
     "shell.execute_reply": "2020-10-10T00:27:39.307945Z"
    },
    "papermill": {
     "duration": 0.496042,
     "end_time": "2020-10-10T00:27:39.308127",
     "exception": false,
     "start_time": "2020-10-10T00:27:38.812085",
     "status": "completed"
    },
    "tags": []
   },
   "outputs": [
    {
     "data": {
      "text/plain": [
       "'10/8/20'"
      ]
     },
     "execution_count": 3,
     "metadata": {},
     "output_type": "execute_result"
    }
   ],
   "source": [
    "# deaths_global\n",
    "deaths_global='https://raw.githubusercontent.com/CSSEGISandData/COVID-19/master/csse_covid_19_data/csse_covid_19_time_series/time_series_covid19_deaths_global.csv'\n",
    "covid19_deaths=pd.read_csv(deaths_global,index_col='Country/Region')\n",
    "\n",
    "# deaths_latest\n",
    "deaths_latest = covid19_deaths.T.index.values[-1]\n",
    "\n",
    "# df_deaths\n",
    "df_grouped_deaths=covid19_deaths.groupby('Country/Region').sum()\n",
    "df_deaths=df_grouped_deaths.sort_values(deaths_latest,ascending=False).head(10).drop(['Lat', 'Long'],axis=1).T\n",
    "\n",
    "# df_deaths_total\n",
    "covid19_deaths.loc[\"Total\"] = covid19_deaths.sum()\n",
    "df_deaths_total=covid19_deaths.iloc[-1,4:]\n",
    "\n",
    "deaths_latest"
   ]
  },
  {
   "cell_type": "code",
   "execution_count": 4,
   "metadata": {
    "execution": {
     "iopub.execute_input": "2020-10-10T00:27:39.322130Z",
     "iopub.status.busy": "2020-10-10T00:27:39.321550Z",
     "iopub.status.idle": "2020-10-10T00:27:39.705452Z",
     "shell.execute_reply": "2020-10-10T00:27:39.705858Z"
    },
    "papermill": {
     "duration": 0.393907,
     "end_time": "2020-10-10T00:27:39.706040",
     "exception": false,
     "start_time": "2020-10-10T00:27:39.312133",
     "status": "completed"
    },
    "tags": []
   },
   "outputs": [
    {
     "data": {
      "text/plain": [
       "'10/8/20'"
      ]
     },
     "execution_count": 4,
     "metadata": {},
     "output_type": "execute_result"
    }
   ],
   "source": [
    "# recovered_global\n",
    "recovered_global='https://raw.githubusercontent.com/CSSEGISandData/COVID-19/master/csse_covid_19_data/csse_covid_19_time_series/time_series_covid19_recovered_global.csv'\n",
    "covid19_recovered=pd.read_csv(recovered_global,index_col='Country/Region')\n",
    "\n",
    "# recovered_latest\n",
    "recovered_latest = covid19_recovered.T.index.values[-1]\n",
    "\n",
    "# df_recovered\n",
    "df_grouped_recv=covid19_recovered.groupby('Country/Region').sum()\n",
    "df_recovered=df_grouped_recv.sort_values(recovered_latest,ascending=False).head(10).drop(['Lat', 'Long'],axis=1).T\n",
    "\n",
    "# df_recovered_total\n",
    "covid19_recovered.loc[\"Total\"] = covid19_recovered.sum()\n",
    "df_recovered_total=covid19_recovered.iloc[-1,4:]\n",
    "\n",
    "recovered_latest"
   ]
  },
  {
   "cell_type": "code",
   "execution_count": null,
   "metadata": {
    "papermill": {
     "duration": 0.004218,
     "end_time": "2020-10-10T00:27:39.714483",
     "exception": false,
     "start_time": "2020-10-10T00:27:39.710265",
     "status": "completed"
    },
    "tags": []
   },
   "outputs": [],
   "source": []
  }
 ],
 "metadata": {
  "kernelspec": {
   "display_name": "Python 3",
   "language": "python",
   "name": "python3"
  },
  "language_info": {
   "codemirror_mode": {
    "name": "ipython",
    "version": 3
   },
   "file_extension": ".py",
   "mimetype": "text/x-python",
   "name": "python",
   "nbconvert_exporter": "python",
   "pygments_lexer": "ipython3",
   "version": "3.8.2"
  },
  "papermill": {
   "duration": 4.16218,
   "end_time": "2020-10-10T00:27:40.035622",
   "environment_variables": {},
   "exception": null,
   "input_path": "covid-19-data.ipynb",
   "output_path": "./latest/covid-19-data.ipynb",
   "parameters": {},
   "start_time": "2020-10-10T00:27:35.873442",
   "version": "2.1.2"
  }
 },
 "nbformat": 4,
 "nbformat_minor": 4
}