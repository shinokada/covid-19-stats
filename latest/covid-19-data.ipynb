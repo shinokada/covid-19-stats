{
 "cells": [
  {
   "cell_type": "code",
   "execution_count": 1,
   "metadata": {
    "execution": {
     "iopub.execute_input": "2020-07-01T04:00:05.692959Z",
     "iopub.status.busy": "2020-07-01T04:00:05.691796Z",
     "iopub.status.idle": "2020-07-01T04:00:05.725879Z",
     "shell.execute_reply": "2020-07-01T04:00:05.727561Z"
    },
    "papermill": {
     "duration": 0.048842,
     "end_time": "2020-07-01T04:00:05.727940",
     "exception": false,
     "start_time": "2020-07-01T04:00:05.679098",
     "status": "completed"
    },
    "tags": []
   },
   "outputs": [],
   "source": [
    "import pandas as pd\n",
    "import numpy as np"
   ]
  },
  {
   "cell_type": "code",
   "execution_count": 2,
   "metadata": {
    "execution": {
     "iopub.execute_input": "2020-07-01T04:00:05.747924Z",
     "iopub.status.busy": "2020-07-01T04:00:05.746755Z",
     "iopub.status.idle": "2020-07-01T04:00:06.060815Z",
     "shell.execute_reply": "2020-07-01T04:00:06.063646Z"
    },
    "papermill": {
     "duration": 0.329517,
     "end_time": "2020-07-01T04:00:06.064158",
     "exception": false,
     "start_time": "2020-07-01T04:00:05.734641",
     "status": "completed"
    },
    "tags": []
   },
   "outputs": [
    {
     "data": {
      "text/html": [
       "<div>\n",
       "<style scoped>\n",
       "    .dataframe tbody tr th:only-of-type {\n",
       "        vertical-align: middle;\n",
       "    }\n",
       "\n",
       "    .dataframe tbody tr th {\n",
       "        vertical-align: top;\n",
       "    }\n",
       "\n",
       "    .dataframe thead th {\n",
       "        text-align: right;\n",
       "    }\n",
       "</style>\n",
       "<table border=\"1\" class=\"dataframe\">\n",
       "  <thead>\n",
       "    <tr style=\"text-align: right;\">\n",
       "      <th>Country/Region</th>\n",
       "      <th>US</th>\n",
       "      <th>Brazil</th>\n",
       "      <th>Russia</th>\n",
       "      <th>India</th>\n",
       "      <th>United Kingdom</th>\n",
       "      <th>Peru</th>\n",
       "      <th>Chile</th>\n",
       "      <th>Spain</th>\n",
       "      <th>Italy</th>\n",
       "      <th>Iran</th>\n",
       "    </tr>\n",
       "  </thead>\n",
       "  <tbody>\n",
       "    <tr>\n",
       "      <th>1/22/20</th>\n",
       "      <td>1</td>\n",
       "      <td>0</td>\n",
       "      <td>0</td>\n",
       "      <td>0</td>\n",
       "      <td>0</td>\n",
       "      <td>0</td>\n",
       "      <td>0</td>\n",
       "      <td>0</td>\n",
       "      <td>0</td>\n",
       "      <td>0</td>\n",
       "    </tr>\n",
       "    <tr>\n",
       "      <th>1/23/20</th>\n",
       "      <td>1</td>\n",
       "      <td>0</td>\n",
       "      <td>0</td>\n",
       "      <td>0</td>\n",
       "      <td>0</td>\n",
       "      <td>0</td>\n",
       "      <td>0</td>\n",
       "      <td>0</td>\n",
       "      <td>0</td>\n",
       "      <td>0</td>\n",
       "    </tr>\n",
       "    <tr>\n",
       "      <th>1/24/20</th>\n",
       "      <td>2</td>\n",
       "      <td>0</td>\n",
       "      <td>0</td>\n",
       "      <td>0</td>\n",
       "      <td>0</td>\n",
       "      <td>0</td>\n",
       "      <td>0</td>\n",
       "      <td>0</td>\n",
       "      <td>0</td>\n",
       "      <td>0</td>\n",
       "    </tr>\n",
       "    <tr>\n",
       "      <th>1/25/20</th>\n",
       "      <td>2</td>\n",
       "      <td>0</td>\n",
       "      <td>0</td>\n",
       "      <td>0</td>\n",
       "      <td>0</td>\n",
       "      <td>0</td>\n",
       "      <td>0</td>\n",
       "      <td>0</td>\n",
       "      <td>0</td>\n",
       "      <td>0</td>\n",
       "    </tr>\n",
       "    <tr>\n",
       "      <th>1/26/20</th>\n",
       "      <td>5</td>\n",
       "      <td>0</td>\n",
       "      <td>0</td>\n",
       "      <td>0</td>\n",
       "      <td>0</td>\n",
       "      <td>0</td>\n",
       "      <td>0</td>\n",
       "      <td>0</td>\n",
       "      <td>0</td>\n",
       "      <td>0</td>\n",
       "    </tr>\n",
       "    <tr>\n",
       "      <th>...</th>\n",
       "      <td>...</td>\n",
       "      <td>...</td>\n",
       "      <td>...</td>\n",
       "      <td>...</td>\n",
       "      <td>...</td>\n",
       "      <td>...</td>\n",
       "      <td>...</td>\n",
       "      <td>...</td>\n",
       "      <td>...</td>\n",
       "      <td>...</td>\n",
       "    </tr>\n",
       "    <tr>\n",
       "      <th>6/25/20</th>\n",
       "      <td>2422299</td>\n",
       "      <td>1228114</td>\n",
       "      <td>613148</td>\n",
       "      <td>490401</td>\n",
       "      <td>309455</td>\n",
       "      <td>268602</td>\n",
       "      <td>259064</td>\n",
       "      <td>247486</td>\n",
       "      <td>239706</td>\n",
       "      <td>215096</td>\n",
       "    </tr>\n",
       "    <tr>\n",
       "      <th>6/26/20</th>\n",
       "      <td>2467554</td>\n",
       "      <td>1274974</td>\n",
       "      <td>619936</td>\n",
       "      <td>508953</td>\n",
       "      <td>310836</td>\n",
       "      <td>272364</td>\n",
       "      <td>263360</td>\n",
       "      <td>247905</td>\n",
       "      <td>239961</td>\n",
       "      <td>217724</td>\n",
       "    </tr>\n",
       "    <tr>\n",
       "      <th>6/27/20</th>\n",
       "      <td>2510151</td>\n",
       "      <td>1313667</td>\n",
       "      <td>626779</td>\n",
       "      <td>528859</td>\n",
       "      <td>311727</td>\n",
       "      <td>275989</td>\n",
       "      <td>267766</td>\n",
       "      <td>248469</td>\n",
       "      <td>240136</td>\n",
       "      <td>220180</td>\n",
       "    </tr>\n",
       "    <tr>\n",
       "      <th>6/28/20</th>\n",
       "      <td>2548996</td>\n",
       "      <td>1344143</td>\n",
       "      <td>633563</td>\n",
       "      <td>548318</td>\n",
       "      <td>312640</td>\n",
       "      <td>279419</td>\n",
       "      <td>271982</td>\n",
       "      <td>248770</td>\n",
       "      <td>240310</td>\n",
       "      <td>222669</td>\n",
       "    </tr>\n",
       "    <tr>\n",
       "      <th>6/29/20</th>\n",
       "      <td>2590651</td>\n",
       "      <td>1368195</td>\n",
       "      <td>640246</td>\n",
       "      <td>566840</td>\n",
       "      <td>313470</td>\n",
       "      <td>282365</td>\n",
       "      <td>275999</td>\n",
       "      <td>248970</td>\n",
       "      <td>240436</td>\n",
       "      <td>225205</td>\n",
       "    </tr>\n",
       "  </tbody>\n",
       "</table>\n",
       "<p>160 rows × 10 columns</p>\n",
       "</div>"
      ],
      "text/plain": [
       "Country/Region       US   Brazil  Russia   India  United Kingdom    Peru  \\\n",
       "1/22/20               1        0       0       0               0       0   \n",
       "1/23/20               1        0       0       0               0       0   \n",
       "1/24/20               2        0       0       0               0       0   \n",
       "1/25/20               2        0       0       0               0       0   \n",
       "1/26/20               5        0       0       0               0       0   \n",
       "...                 ...      ...     ...     ...             ...     ...   \n",
       "6/25/20         2422299  1228114  613148  490401          309455  268602   \n",
       "6/26/20         2467554  1274974  619936  508953          310836  272364   \n",
       "6/27/20         2510151  1313667  626779  528859          311727  275989   \n",
       "6/28/20         2548996  1344143  633563  548318          312640  279419   \n",
       "6/29/20         2590651  1368195  640246  566840          313470  282365   \n",
       "\n",
       "Country/Region   Chile   Spain   Italy    Iran  \n",
       "1/22/20              0       0       0       0  \n",
       "1/23/20              0       0       0       0  \n",
       "1/24/20              0       0       0       0  \n",
       "1/25/20              0       0       0       0  \n",
       "1/26/20              0       0       0       0  \n",
       "...                ...     ...     ...     ...  \n",
       "6/25/20         259064  247486  239706  215096  \n",
       "6/26/20         263360  247905  239961  217724  \n",
       "6/27/20         267766  248469  240136  220180  \n",
       "6/28/20         271982  248770  240310  222669  \n",
       "6/29/20         275999  248970  240436  225205  \n",
       "\n",
       "[160 rows x 10 columns]"
      ]
     },
     "metadata": {},
     "output_type": "display_data"
    }
   ],
   "source": [
    "# confirmed_global\n",
    "confirmed_global='https://raw.githubusercontent.com/CSSEGISandData/COVID-19/master/csse_covid_19_data/csse_covid_19_time_series/time_series_covid19_confirmed_global.csv'\n",
    "covid19_confirmed=pd.read_csv(confirmed_global,index_col='Country/Region')\n",
    "\n",
    "\n",
    "# confirmed_latest\n",
    "confirmed_latest = covid19_confirmed.T.index.values[-1]\n",
    "# display(confirmed_latest)\n",
    "\n",
    "# df_confirmed\n",
    "df_grouped_conf=covid19_confirmed.groupby('Country/Region').sum()\n",
    "\n",
    "# display(df_grouped_conf.head(10))\n",
    "df_confirmed=df_grouped_conf.sort_values(by=confirmed_latest,ascending=False).head(10).drop(['Lat', 'Long'],axis=1).T\n",
    "# display(df_grouped_conf)\n",
    "display(df_confirmed)\n",
    "\n",
    "# display(df_confirmed)\n",
    "# df_confirmed_total\n",
    "covid19_confirmed.loc[\"Total\"] = covid19_confirmed.sum()\n",
    "df_confirmed_total=covid19_confirmed.iloc[-1,4:]\n",
    "\n",
    "# confirmed_latest"
   ]
  },
  {
   "cell_type": "code",
   "execution_count": 3,
   "metadata": {
    "execution": {
     "iopub.execute_input": "2020-07-01T04:00:06.085667Z",
     "iopub.status.busy": "2020-07-01T04:00:06.084697Z",
     "iopub.status.idle": "2020-07-01T04:00:06.317401Z",
     "shell.execute_reply": "2020-07-01T04:00:06.318092Z"
    },
    "papermill": {
     "duration": 0.247108,
     "end_time": "2020-07-01T04:00:06.318424",
     "exception": false,
     "start_time": "2020-07-01T04:00:06.071316",
     "status": "completed"
    },
    "tags": []
   },
   "outputs": [
    {
     "data": {
      "text/plain": [
       "'6/29/20'"
      ]
     },
     "execution_count": 3,
     "metadata": {},
     "output_type": "execute_result"
    }
   ],
   "source": [
    "# deaths_global\n",
    "deaths_global='https://raw.githubusercontent.com/CSSEGISandData/COVID-19/master/csse_covid_19_data/csse_covid_19_time_series/time_series_covid19_deaths_global.csv'\n",
    "covid19_deaths=pd.read_csv(deaths_global,index_col='Country/Region')\n",
    "\n",
    "# deaths_latest\n",
    "deaths_latest = covid19_deaths.T.index.values[-1]\n",
    "\n",
    "# df_deaths\n",
    "df_grouped_deaths=covid19_deaths.groupby('Country/Region').sum()\n",
    "df_deaths=df_grouped_deaths.sort_values(deaths_latest,ascending=False).head(10).drop(['Lat', 'Long'],axis=1).T\n",
    "\n",
    "# df_deaths_total\n",
    "covid19_deaths.loc[\"Total\"] = covid19_deaths.sum()\n",
    "df_deaths_total=covid19_deaths.iloc[-1,4:]\n",
    "\n",
    "deaths_latest"
   ]
  },
  {
   "cell_type": "code",
   "execution_count": 4,
   "metadata": {
    "execution": {
     "iopub.execute_input": "2020-07-01T04:00:06.344916Z",
     "iopub.status.busy": "2020-07-01T04:00:06.343971Z",
     "iopub.status.idle": "2020-07-01T04:00:06.839005Z",
     "shell.execute_reply": "2020-07-01T04:00:06.839840Z"
    },
    "papermill": {
     "duration": 0.509773,
     "end_time": "2020-07-01T04:00:06.840199",
     "exception": false,
     "start_time": "2020-07-01T04:00:06.330426",
     "status": "completed"
    },
    "tags": []
   },
   "outputs": [
    {
     "data": {
      "text/plain": [
       "'6/29/20'"
      ]
     },
     "execution_count": 4,
     "metadata": {},
     "output_type": "execute_result"
    }
   ],
   "source": [
    "# recovered_global\n",
    "recovered_global='https://raw.githubusercontent.com/CSSEGISandData/COVID-19/master/csse_covid_19_data/csse_covid_19_time_series/time_series_covid19_recovered_global.csv'\n",
    "covid19_recovered=pd.read_csv(recovered_global,index_col='Country/Region')\n",
    "\n",
    "# recovered_latest\n",
    "recovered_latest = covid19_recovered.T.index.values[-1]\n",
    "\n",
    "# df_recovered\n",
    "df_grouped_recv=covid19_recovered.groupby('Country/Region').sum()\n",
    "df_recovered=df_grouped_recv.sort_values(recovered_latest,ascending=False).head(10).drop(['Lat', 'Long'],axis=1).T\n",
    "\n",
    "# df_recovered_total\n",
    "covid19_recovered.loc[\"Total\"] = covid19_recovered.sum()\n",
    "df_recovered_total=covid19_recovered.iloc[-1,4:]\n",
    "\n",
    "recovered_latest"
   ]
  },
  {
   "cell_type": "code",
   "execution_count": null,
   "metadata": {
    "papermill": {
     "duration": 0.006312,
     "end_time": "2020-07-01T04:00:06.853605",
     "exception": false,
     "start_time": "2020-07-01T04:00:06.847293",
     "status": "completed"
    },
    "tags": []
   },
   "outputs": [],
   "source": []
  }
 ],
 "metadata": {
  "kernelspec": {
   "display_name": "Python 3",
   "language": "python",
   "name": "python3"
  },
  "language_info": {
   "codemirror_mode": {
    "name": "ipython",
    "version": 3
   },
   "file_extension": ".py",
   "mimetype": "text/x-python",
   "name": "python",
   "nbconvert_exporter": "python",
   "pygments_lexer": "ipython3",
   "version": "3.8.2"
  },
  "papermill": {
   "duration": 4.818123,
   "end_time": "2020-07-01T04:00:07.366304",
   "environment_variables": {},
   "exception": null,
   "input_path": "covid-19-data.ipynb",
   "output_path": "./latest/covid-19-data.ipynb",
   "parameters": {},
   "start_time": "2020-07-01T04:00:02.548181",
   "version": "2.1.1"
  }
 },
 "nbformat": 4,
 "nbformat_minor": 4
}