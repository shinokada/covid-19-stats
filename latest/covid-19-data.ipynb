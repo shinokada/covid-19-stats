{
 "cells": [
  {
   "cell_type": "code",
   "execution_count": 1,
   "metadata": {
    "execution": {
     "iopub.execute_input": "2020-07-21T04:00:07.816136Z",
     "iopub.status.busy": "2020-07-21T04:00:07.815188Z",
     "iopub.status.idle": "2020-07-21T04:00:07.834617Z",
     "shell.execute_reply": "2020-07-21T04:00:07.835295Z"
    },
    "papermill": {
     "duration": 0.031789,
     "end_time": "2020-07-21T04:00:07.835527",
     "exception": false,
     "start_time": "2020-07-21T04:00:07.803738",
     "status": "completed"
    },
    "tags": []
   },
   "outputs": [],
   "source": [
    "import pandas as pd\n",
    "import numpy as np"
   ]
  },
  {
   "cell_type": "code",
   "execution_count": 2,
   "metadata": {
    "execution": {
     "iopub.execute_input": "2020-07-21T04:00:07.847663Z",
     "iopub.status.busy": "2020-07-21T04:00:07.847011Z",
     "iopub.status.idle": "2020-07-21T04:00:08.086391Z",
     "shell.execute_reply": "2020-07-21T04:00:08.087206Z"
    },
    "papermill": {
     "duration": 0.248165,
     "end_time": "2020-07-21T04:00:08.087475",
     "exception": false,
     "start_time": "2020-07-21T04:00:07.839310",
     "status": "completed"
    },
    "tags": []
   },
   "outputs": [
    {
     "data": {
      "text/html": [
       "<div>\n",
       "<style scoped>\n",
       "    .dataframe tbody tr th:only-of-type {\n",
       "        vertical-align: middle;\n",
       "    }\n",
       "\n",
       "    .dataframe tbody tr th {\n",
       "        vertical-align: top;\n",
       "    }\n",
       "\n",
       "    .dataframe thead th {\n",
       "        text-align: right;\n",
       "    }\n",
       "</style>\n",
       "<table border=\"1\" class=\"dataframe\">\n",
       "  <thead>\n",
       "    <tr style=\"text-align: right;\">\n",
       "      <th>Country/Region</th>\n",
       "      <th>US</th>\n",
       "      <th>Brazil</th>\n",
       "      <th>India</th>\n",
       "      <th>Russia</th>\n",
       "      <th>South Africa</th>\n",
       "      <th>Peru</th>\n",
       "      <th>Mexico</th>\n",
       "      <th>Chile</th>\n",
       "      <th>United Kingdom</th>\n",
       "      <th>Iran</th>\n",
       "    </tr>\n",
       "  </thead>\n",
       "  <tbody>\n",
       "    <tr>\n",
       "      <th>1/22/20</th>\n",
       "      <td>1</td>\n",
       "      <td>0</td>\n",
       "      <td>0</td>\n",
       "      <td>0</td>\n",
       "      <td>0</td>\n",
       "      <td>0</td>\n",
       "      <td>0</td>\n",
       "      <td>0</td>\n",
       "      <td>0</td>\n",
       "      <td>0</td>\n",
       "    </tr>\n",
       "    <tr>\n",
       "      <th>1/23/20</th>\n",
       "      <td>1</td>\n",
       "      <td>0</td>\n",
       "      <td>0</td>\n",
       "      <td>0</td>\n",
       "      <td>0</td>\n",
       "      <td>0</td>\n",
       "      <td>0</td>\n",
       "      <td>0</td>\n",
       "      <td>0</td>\n",
       "      <td>0</td>\n",
       "    </tr>\n",
       "    <tr>\n",
       "      <th>1/24/20</th>\n",
       "      <td>2</td>\n",
       "      <td>0</td>\n",
       "      <td>0</td>\n",
       "      <td>0</td>\n",
       "      <td>0</td>\n",
       "      <td>0</td>\n",
       "      <td>0</td>\n",
       "      <td>0</td>\n",
       "      <td>0</td>\n",
       "      <td>0</td>\n",
       "    </tr>\n",
       "    <tr>\n",
       "      <th>1/25/20</th>\n",
       "      <td>2</td>\n",
       "      <td>0</td>\n",
       "      <td>0</td>\n",
       "      <td>0</td>\n",
       "      <td>0</td>\n",
       "      <td>0</td>\n",
       "      <td>0</td>\n",
       "      <td>0</td>\n",
       "      <td>0</td>\n",
       "      <td>0</td>\n",
       "    </tr>\n",
       "    <tr>\n",
       "      <th>1/26/20</th>\n",
       "      <td>5</td>\n",
       "      <td>0</td>\n",
       "      <td>0</td>\n",
       "      <td>0</td>\n",
       "      <td>0</td>\n",
       "      <td>0</td>\n",
       "      <td>0</td>\n",
       "      <td>0</td>\n",
       "      <td>0</td>\n",
       "      <td>0</td>\n",
       "    </tr>\n",
       "    <tr>\n",
       "      <th>...</th>\n",
       "      <td>...</td>\n",
       "      <td>...</td>\n",
       "      <td>...</td>\n",
       "      <td>...</td>\n",
       "      <td>...</td>\n",
       "      <td>...</td>\n",
       "      <td>...</td>\n",
       "      <td>...</td>\n",
       "      <td>...</td>\n",
       "      <td>...</td>\n",
       "    </tr>\n",
       "    <tr>\n",
       "      <th>7/15/20</th>\n",
       "      <td>3498902</td>\n",
       "      <td>1966748</td>\n",
       "      <td>968857</td>\n",
       "      <td>745197</td>\n",
       "      <td>311049</td>\n",
       "      <td>337751</td>\n",
       "      <td>317635</td>\n",
       "      <td>321205</td>\n",
       "      <td>293469</td>\n",
       "      <td>264561</td>\n",
       "    </tr>\n",
       "    <tr>\n",
       "      <th>7/16/20</th>\n",
       "      <td>3576157</td>\n",
       "      <td>2012151</td>\n",
       "      <td>1003832</td>\n",
       "      <td>751612</td>\n",
       "      <td>324221</td>\n",
       "      <td>341586</td>\n",
       "      <td>324041</td>\n",
       "      <td>323698</td>\n",
       "      <td>294116</td>\n",
       "      <td>267061</td>\n",
       "    </tr>\n",
       "    <tr>\n",
       "      <th>7/17/20</th>\n",
       "      <td>3647715</td>\n",
       "      <td>2046328</td>\n",
       "      <td>1039084</td>\n",
       "      <td>758001</td>\n",
       "      <td>337594</td>\n",
       "      <td>345537</td>\n",
       "      <td>331298</td>\n",
       "      <td>326439</td>\n",
       "      <td>294803</td>\n",
       "      <td>269440</td>\n",
       "    </tr>\n",
       "    <tr>\n",
       "      <th>7/18/20</th>\n",
       "      <td>3711413</td>\n",
       "      <td>2074860</td>\n",
       "      <td>1077781</td>\n",
       "      <td>764215</td>\n",
       "      <td>350879</td>\n",
       "      <td>349500</td>\n",
       "      <td>338913</td>\n",
       "      <td>328846</td>\n",
       "      <td>295632</td>\n",
       "      <td>271606</td>\n",
       "    </tr>\n",
       "    <tr>\n",
       "      <th>7/19/20</th>\n",
       "      <td>3773260</td>\n",
       "      <td>2098389</td>\n",
       "      <td>1118206</td>\n",
       "      <td>770311</td>\n",
       "      <td>364328</td>\n",
       "      <td>353590</td>\n",
       "      <td>344224</td>\n",
       "      <td>330930</td>\n",
       "      <td>296358</td>\n",
       "      <td>273788</td>\n",
       "    </tr>\n",
       "  </tbody>\n",
       "</table>\n",
       "<p>180 rows × 10 columns</p>\n",
       "</div>"
      ],
      "text/plain": [
       "Country/Region       US   Brazil    India  Russia  South Africa    Peru  \\\n",
       "1/22/20               1        0        0       0             0       0   \n",
       "1/23/20               1        0        0       0             0       0   \n",
       "1/24/20               2        0        0       0             0       0   \n",
       "1/25/20               2        0        0       0             0       0   \n",
       "1/26/20               5        0        0       0             0       0   \n",
       "...                 ...      ...      ...     ...           ...     ...   \n",
       "7/15/20         3498902  1966748   968857  745197        311049  337751   \n",
       "7/16/20         3576157  2012151  1003832  751612        324221  341586   \n",
       "7/17/20         3647715  2046328  1039084  758001        337594  345537   \n",
       "7/18/20         3711413  2074860  1077781  764215        350879  349500   \n",
       "7/19/20         3773260  2098389  1118206  770311        364328  353590   \n",
       "\n",
       "Country/Region  Mexico   Chile  United Kingdom    Iran  \n",
       "1/22/20              0       0               0       0  \n",
       "1/23/20              0       0               0       0  \n",
       "1/24/20              0       0               0       0  \n",
       "1/25/20              0       0               0       0  \n",
       "1/26/20              0       0               0       0  \n",
       "...                ...     ...             ...     ...  \n",
       "7/15/20         317635  321205          293469  264561  \n",
       "7/16/20         324041  323698          294116  267061  \n",
       "7/17/20         331298  326439          294803  269440  \n",
       "7/18/20         338913  328846          295632  271606  \n",
       "7/19/20         344224  330930          296358  273788  \n",
       "\n",
       "[180 rows x 10 columns]"
      ]
     },
     "metadata": {},
     "output_type": "display_data"
    }
   ],
   "source": [
    "# confirmed_global\n",
    "confirmed_global='https://raw.githubusercontent.com/CSSEGISandData/COVID-19/master/csse_covid_19_data/csse_covid_19_time_series/time_series_covid19_confirmed_global.csv'\n",
    "covid19_confirmed=pd.read_csv(confirmed_global,index_col='Country/Region')\n",
    "\n",
    "\n",
    "# confirmed_latest\n",
    "confirmed_latest = covid19_confirmed.T.index.values[-1]\n",
    "# display(confirmed_latest)\n",
    "\n",
    "# df_confirmed\n",
    "df_grouped_conf=covid19_confirmed.groupby('Country/Region').sum()\n",
    "\n",
    "# display(df_grouped_conf.head(10))\n",
    "df_confirmed=df_grouped_conf.sort_values(by=confirmed_latest,ascending=False).head(10).drop(['Lat', 'Long'],axis=1).T\n",
    "# display(df_grouped_conf)\n",
    "display(df_confirmed)\n",
    "\n",
    "# display(df_confirmed)\n",
    "# df_confirmed_total\n",
    "covid19_confirmed.loc[\"Total\"] = covid19_confirmed.sum()\n",
    "df_confirmed_total=covid19_confirmed.iloc[-1,4:]\n",
    "\n",
    "# confirmed_latest"
   ]
  },
  {
   "cell_type": "code",
   "execution_count": 3,
   "metadata": {
    "execution": {
     "iopub.execute_input": "2020-07-21T04:00:08.104813Z",
     "iopub.status.busy": "2020-07-21T04:00:08.104030Z",
     "iopub.status.idle": "2020-07-21T04:00:08.282127Z",
     "shell.execute_reply": "2020-07-21T04:00:08.282588Z"
    },
    "papermill": {
     "duration": 0.188786,
     "end_time": "2020-07-21T04:00:08.282783",
     "exception": false,
     "start_time": "2020-07-21T04:00:08.093997",
     "status": "completed"
    },
    "tags": []
   },
   "outputs": [
    {
     "data": {
      "text/plain": [
       "'7/19/20'"
      ]
     },
     "execution_count": 3,
     "metadata": {},
     "output_type": "execute_result"
    }
   ],
   "source": [
    "# deaths_global\n",
    "deaths_global='https://raw.githubusercontent.com/CSSEGISandData/COVID-19/master/csse_covid_19_data/csse_covid_19_time_series/time_series_covid19_deaths_global.csv'\n",
    "covid19_deaths=pd.read_csv(deaths_global,index_col='Country/Region')\n",
    "\n",
    "# deaths_latest\n",
    "deaths_latest = covid19_deaths.T.index.values[-1]\n",
    "\n",
    "# df_deaths\n",
    "df_grouped_deaths=covid19_deaths.groupby('Country/Region').sum()\n",
    "df_deaths=df_grouped_deaths.sort_values(deaths_latest,ascending=False).head(10).drop(['Lat', 'Long'],axis=1).T\n",
    "\n",
    "# df_deaths_total\n",
    "covid19_deaths.loc[\"Total\"] = covid19_deaths.sum()\n",
    "df_deaths_total=covid19_deaths.iloc[-1,4:]\n",
    "\n",
    "deaths_latest"
   ]
  },
  {
   "cell_type": "code",
   "execution_count": 4,
   "metadata": {
    "execution": {
     "iopub.execute_input": "2020-07-21T04:00:08.296369Z",
     "iopub.status.busy": "2020-07-21T04:00:08.295692Z",
     "iopub.status.idle": "2020-07-21T04:00:08.467293Z",
     "shell.execute_reply": "2020-07-21T04:00:08.467750Z"
    },
    "papermill": {
     "duration": 0.180525,
     "end_time": "2020-07-21T04:00:08.467943",
     "exception": false,
     "start_time": "2020-07-21T04:00:08.287418",
     "status": "completed"
    },
    "tags": []
   },
   "outputs": [
    {
     "data": {
      "text/plain": [
       "'7/19/20'"
      ]
     },
     "execution_count": 4,
     "metadata": {},
     "output_type": "execute_result"
    }
   ],
   "source": [
    "# recovered_global\n",
    "recovered_global='https://raw.githubusercontent.com/CSSEGISandData/COVID-19/master/csse_covid_19_data/csse_covid_19_time_series/time_series_covid19_recovered_global.csv'\n",
    "covid19_recovered=pd.read_csv(recovered_global,index_col='Country/Region')\n",
    "\n",
    "# recovered_latest\n",
    "recovered_latest = covid19_recovered.T.index.values[-1]\n",
    "\n",
    "# df_recovered\n",
    "df_grouped_recv=covid19_recovered.groupby('Country/Region').sum()\n",
    "df_recovered=df_grouped_recv.sort_values(recovered_latest,ascending=False).head(10).drop(['Lat', 'Long'],axis=1).T\n",
    "\n",
    "# df_recovered_total\n",
    "covid19_recovered.loc[\"Total\"] = covid19_recovered.sum()\n",
    "df_recovered_total=covid19_recovered.iloc[-1,4:]\n",
    "\n",
    "recovered_latest"
   ]
  },
  {
   "cell_type": "code",
   "execution_count": null,
   "metadata": {
    "papermill": {
     "duration": 0.004464,
     "end_time": "2020-07-21T04:00:08.476717",
     "exception": false,
     "start_time": "2020-07-21T04:00:08.472253",
     "status": "completed"
    },
    "tags": []
   },
   "outputs": [],
   "source": []
  }
 ],
 "metadata": {
  "kernelspec": {
   "display_name": "Python 3",
   "language": "python",
   "name": "python3"
  },
  "language_info": {
   "codemirror_mode": {
    "name": "ipython",
    "version": 3
   },
   "file_extension": ".py",
   "mimetype": "text/x-python",
   "name": "python",
   "nbconvert_exporter": "python",
   "pygments_lexer": "ipython3",
   "version": "3.8.2"
  },
  "papermill": {
   "duration": 7.180706,
   "end_time": "2020-07-21T04:00:08.864901",
   "environment_variables": {},
   "exception": null,
   "input_path": "covid-19-data.ipynb",
   "output_path": "./latest/covid-19-data.ipynb",
   "parameters": {},
   "start_time": "2020-07-21T04:00:01.684195",
   "version": "2.1.2"
  }
 },
 "nbformat": 4,
 "nbformat_minor": 4
}