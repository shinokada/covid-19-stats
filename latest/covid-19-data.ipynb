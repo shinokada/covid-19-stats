{
 "cells": [
  {
   "cell_type": "code",
   "execution_count": 1,
   "metadata": {
    "execution": {
     "iopub.execute_input": "2020-07-28T04:00:04.059237Z",
     "iopub.status.busy": "2020-07-28T04:00:04.058242Z",
     "iopub.status.idle": "2020-07-28T04:00:04.079951Z",
     "shell.execute_reply": "2020-07-28T04:00:04.080409Z"
    },
    "papermill": {
     "duration": 0.032943,
     "end_time": "2020-07-28T04:00:04.080628",
     "exception": false,
     "start_time": "2020-07-28T04:00:04.047685",
     "status": "completed"
    },
    "tags": []
   },
   "outputs": [],
   "source": [
    "import pandas as pd\n",
    "import numpy as np"
   ]
  },
  {
   "cell_type": "code",
   "execution_count": 2,
   "metadata": {
    "execution": {
     "iopub.execute_input": "2020-07-28T04:00:04.092322Z",
     "iopub.status.busy": "2020-07-28T04:00:04.091668Z",
     "iopub.status.idle": "2020-07-28T04:00:04.379340Z",
     "shell.execute_reply": "2020-07-28T04:00:04.379807Z"
    },
    "papermill": {
     "duration": 0.296052,
     "end_time": "2020-07-28T04:00:04.380007",
     "exception": false,
     "start_time": "2020-07-28T04:00:04.083955",
     "status": "completed"
    },
    "tags": []
   },
   "outputs": [
    {
     "data": {
      "text/html": [
       "<div>\n",
       "<style scoped>\n",
       "    .dataframe tbody tr th:only-of-type {\n",
       "        vertical-align: middle;\n",
       "    }\n",
       "\n",
       "    .dataframe tbody tr th {\n",
       "        vertical-align: top;\n",
       "    }\n",
       "\n",
       "    .dataframe thead th {\n",
       "        text-align: right;\n",
       "    }\n",
       "</style>\n",
       "<table border=\"1\" class=\"dataframe\">\n",
       "  <thead>\n",
       "    <tr style=\"text-align: right;\">\n",
       "      <th>Country/Region</th>\n",
       "      <th>US</th>\n",
       "      <th>Brazil</th>\n",
       "      <th>India</th>\n",
       "      <th>Russia</th>\n",
       "      <th>South Africa</th>\n",
       "      <th>Mexico</th>\n",
       "      <th>Peru</th>\n",
       "      <th>Chile</th>\n",
       "      <th>United Kingdom</th>\n",
       "      <th>Iran</th>\n",
       "    </tr>\n",
       "  </thead>\n",
       "  <tbody>\n",
       "    <tr>\n",
       "      <th>1/22/20</th>\n",
       "      <td>1</td>\n",
       "      <td>0</td>\n",
       "      <td>0</td>\n",
       "      <td>0</td>\n",
       "      <td>0</td>\n",
       "      <td>0</td>\n",
       "      <td>0</td>\n",
       "      <td>0</td>\n",
       "      <td>0</td>\n",
       "      <td>0</td>\n",
       "    </tr>\n",
       "    <tr>\n",
       "      <th>1/23/20</th>\n",
       "      <td>1</td>\n",
       "      <td>0</td>\n",
       "      <td>0</td>\n",
       "      <td>0</td>\n",
       "      <td>0</td>\n",
       "      <td>0</td>\n",
       "      <td>0</td>\n",
       "      <td>0</td>\n",
       "      <td>0</td>\n",
       "      <td>0</td>\n",
       "    </tr>\n",
       "    <tr>\n",
       "      <th>1/24/20</th>\n",
       "      <td>2</td>\n",
       "      <td>0</td>\n",
       "      <td>0</td>\n",
       "      <td>0</td>\n",
       "      <td>0</td>\n",
       "      <td>0</td>\n",
       "      <td>0</td>\n",
       "      <td>0</td>\n",
       "      <td>0</td>\n",
       "      <td>0</td>\n",
       "    </tr>\n",
       "    <tr>\n",
       "      <th>1/25/20</th>\n",
       "      <td>2</td>\n",
       "      <td>0</td>\n",
       "      <td>0</td>\n",
       "      <td>0</td>\n",
       "      <td>0</td>\n",
       "      <td>0</td>\n",
       "      <td>0</td>\n",
       "      <td>0</td>\n",
       "      <td>0</td>\n",
       "      <td>0</td>\n",
       "    </tr>\n",
       "    <tr>\n",
       "      <th>1/26/20</th>\n",
       "      <td>5</td>\n",
       "      <td>0</td>\n",
       "      <td>0</td>\n",
       "      <td>0</td>\n",
       "      <td>0</td>\n",
       "      <td>0</td>\n",
       "      <td>0</td>\n",
       "      <td>0</td>\n",
       "      <td>0</td>\n",
       "      <td>0</td>\n",
       "    </tr>\n",
       "    <tr>\n",
       "      <th>...</th>\n",
       "      <td>...</td>\n",
       "      <td>...</td>\n",
       "      <td>...</td>\n",
       "      <td>...</td>\n",
       "      <td>...</td>\n",
       "      <td>...</td>\n",
       "      <td>...</td>\n",
       "      <td>...</td>\n",
       "      <td>...</td>\n",
       "      <td>...</td>\n",
       "    </tr>\n",
       "    <tr>\n",
       "      <th>7/22/20</th>\n",
       "      <td>3970121</td>\n",
       "      <td>2227514</td>\n",
       "      <td>1238798</td>\n",
       "      <td>787890</td>\n",
       "      <td>394948</td>\n",
       "      <td>362274</td>\n",
       "      <td>366550</td>\n",
       "      <td>336402</td>\n",
       "      <td>297952</td>\n",
       "      <td>281413</td>\n",
       "    </tr>\n",
       "    <tr>\n",
       "      <th>7/23/20</th>\n",
       "      <td>4038816</td>\n",
       "      <td>2287475</td>\n",
       "      <td>1288108</td>\n",
       "      <td>793720</td>\n",
       "      <td>408052</td>\n",
       "      <td>370712</td>\n",
       "      <td>371096</td>\n",
       "      <td>338759</td>\n",
       "      <td>298731</td>\n",
       "      <td>284034</td>\n",
       "    </tr>\n",
       "    <tr>\n",
       "      <th>7/24/20</th>\n",
       "      <td>4112531</td>\n",
       "      <td>2343366</td>\n",
       "      <td>1337024</td>\n",
       "      <td>799499</td>\n",
       "      <td>421996</td>\n",
       "      <td>378285</td>\n",
       "      <td>375961</td>\n",
       "      <td>341304</td>\n",
       "      <td>299500</td>\n",
       "      <td>286523</td>\n",
       "    </tr>\n",
       "    <tr>\n",
       "      <th>7/25/20</th>\n",
       "      <td>4178970</td>\n",
       "      <td>2394513</td>\n",
       "      <td>1385635</td>\n",
       "      <td>805332</td>\n",
       "      <td>434200</td>\n",
       "      <td>385036</td>\n",
       "      <td>375961</td>\n",
       "      <td>343592</td>\n",
       "      <td>300270</td>\n",
       "      <td>288839</td>\n",
       "    </tr>\n",
       "    <tr>\n",
       "      <th>7/26/20</th>\n",
       "      <td>4233923</td>\n",
       "      <td>2419091</td>\n",
       "      <td>1435616</td>\n",
       "      <td>811073</td>\n",
       "      <td>445433</td>\n",
       "      <td>390516</td>\n",
       "      <td>375961</td>\n",
       "      <td>345790</td>\n",
       "      <td>301020</td>\n",
       "      <td>291172</td>\n",
       "    </tr>\n",
       "  </tbody>\n",
       "</table>\n",
       "<p>187 rows × 10 columns</p>\n",
       "</div>"
      ],
      "text/plain": [
       "Country/Region       US   Brazil    India  Russia  South Africa  Mexico  \\\n",
       "1/22/20               1        0        0       0             0       0   \n",
       "1/23/20               1        0        0       0             0       0   \n",
       "1/24/20               2        0        0       0             0       0   \n",
       "1/25/20               2        0        0       0             0       0   \n",
       "1/26/20               5        0        0       0             0       0   \n",
       "...                 ...      ...      ...     ...           ...     ...   \n",
       "7/22/20         3970121  2227514  1238798  787890        394948  362274   \n",
       "7/23/20         4038816  2287475  1288108  793720        408052  370712   \n",
       "7/24/20         4112531  2343366  1337024  799499        421996  378285   \n",
       "7/25/20         4178970  2394513  1385635  805332        434200  385036   \n",
       "7/26/20         4233923  2419091  1435616  811073        445433  390516   \n",
       "\n",
       "Country/Region    Peru   Chile  United Kingdom    Iran  \n",
       "1/22/20              0       0               0       0  \n",
       "1/23/20              0       0               0       0  \n",
       "1/24/20              0       0               0       0  \n",
       "1/25/20              0       0               0       0  \n",
       "1/26/20              0       0               0       0  \n",
       "...                ...     ...             ...     ...  \n",
       "7/22/20         366550  336402          297952  281413  \n",
       "7/23/20         371096  338759          298731  284034  \n",
       "7/24/20         375961  341304          299500  286523  \n",
       "7/25/20         375961  343592          300270  288839  \n",
       "7/26/20         375961  345790          301020  291172  \n",
       "\n",
       "[187 rows x 10 columns]"
      ]
     },
     "metadata": {},
     "output_type": "display_data"
    }
   ],
   "source": [
    "# confirmed_global\n",
    "confirmed_global='https://raw.githubusercontent.com/CSSEGISandData/COVID-19/master/csse_covid_19_data/csse_covid_19_time_series/time_series_covid19_confirmed_global.csv'\n",
    "covid19_confirmed=pd.read_csv(confirmed_global,index_col='Country/Region')\n",
    "\n",
    "\n",
    "# confirmed_latest\n",
    "confirmed_latest = covid19_confirmed.T.index.values[-1]\n",
    "# display(confirmed_latest)\n",
    "\n",
    "# df_confirmed\n",
    "df_grouped_conf=covid19_confirmed.groupby('Country/Region').sum()\n",
    "\n",
    "# display(df_grouped_conf.head(10))\n",
    "df_confirmed=df_grouped_conf.sort_values(by=confirmed_latest,ascending=False).head(10).drop(['Lat', 'Long'],axis=1).T\n",
    "# display(df_grouped_conf)\n",
    "display(df_confirmed)\n",
    "\n",
    "# display(df_confirmed)\n",
    "# df_confirmed_total\n",
    "covid19_confirmed.loc[\"Total\"] = covid19_confirmed.sum()\n",
    "df_confirmed_total=covid19_confirmed.iloc[-1,4:]\n",
    "\n",
    "# confirmed_latest"
   ]
  },
  {
   "cell_type": "code",
   "execution_count": 3,
   "metadata": {
    "execution": {
     "iopub.execute_input": "2020-07-28T04:00:04.393363Z",
     "iopub.status.busy": "2020-07-28T04:00:04.392688Z",
     "iopub.status.idle": "2020-07-28T04:00:04.594718Z",
     "shell.execute_reply": "2020-07-28T04:00:04.595187Z"
    },
    "papermill": {
     "duration": 0.211121,
     "end_time": "2020-07-28T04:00:04.595387",
     "exception": false,
     "start_time": "2020-07-28T04:00:04.384266",
     "status": "completed"
    },
    "tags": []
   },
   "outputs": [
    {
     "data": {
      "text/plain": [
       "'7/26/20'"
      ]
     },
     "execution_count": 3,
     "metadata": {},
     "output_type": "execute_result"
    }
   ],
   "source": [
    "# deaths_global\n",
    "deaths_global='https://raw.githubusercontent.com/CSSEGISandData/COVID-19/master/csse_covid_19_data/csse_covid_19_time_series/time_series_covid19_deaths_global.csv'\n",
    "covid19_deaths=pd.read_csv(deaths_global,index_col='Country/Region')\n",
    "\n",
    "# deaths_latest\n",
    "deaths_latest = covid19_deaths.T.index.values[-1]\n",
    "\n",
    "# df_deaths\n",
    "df_grouped_deaths=covid19_deaths.groupby('Country/Region').sum()\n",
    "df_deaths=df_grouped_deaths.sort_values(deaths_latest,ascending=False).head(10).drop(['Lat', 'Long'],axis=1).T\n",
    "\n",
    "# df_deaths_total\n",
    "covid19_deaths.loc[\"Total\"] = covid19_deaths.sum()\n",
    "df_deaths_total=covid19_deaths.iloc[-1,4:]\n",
    "\n",
    "deaths_latest"
   ]
  },
  {
   "cell_type": "code",
   "execution_count": 4,
   "metadata": {
    "execution": {
     "iopub.execute_input": "2020-07-28T04:00:04.609118Z",
     "iopub.status.busy": "2020-07-28T04:00:04.608464Z",
     "iopub.status.idle": "2020-07-28T04:00:05.040352Z",
     "shell.execute_reply": "2020-07-28T04:00:05.041061Z"
    },
    "papermill": {
     "duration": 0.441385,
     "end_time": "2020-07-28T04:00:05.041271",
     "exception": false,
     "start_time": "2020-07-28T04:00:04.599886",
     "status": "completed"
    },
    "tags": []
   },
   "outputs": [
    {
     "data": {
      "text/plain": [
       "'7/26/20'"
      ]
     },
     "execution_count": 4,
     "metadata": {},
     "output_type": "execute_result"
    }
   ],
   "source": [
    "# recovered_global\n",
    "recovered_global='https://raw.githubusercontent.com/CSSEGISandData/COVID-19/master/csse_covid_19_data/csse_covid_19_time_series/time_series_covid19_recovered_global.csv'\n",
    "covid19_recovered=pd.read_csv(recovered_global,index_col='Country/Region')\n",
    "\n",
    "# recovered_latest\n",
    "recovered_latest = covid19_recovered.T.index.values[-1]\n",
    "\n",
    "# df_recovered\n",
    "df_grouped_recv=covid19_recovered.groupby('Country/Region').sum()\n",
    "df_recovered=df_grouped_recv.sort_values(recovered_latest,ascending=False).head(10).drop(['Lat', 'Long'],axis=1).T\n",
    "\n",
    "# df_recovered_total\n",
    "covid19_recovered.loc[\"Total\"] = covid19_recovered.sum()\n",
    "df_recovered_total=covid19_recovered.iloc[-1,4:]\n",
    "\n",
    "recovered_latest"
   ]
  },
  {
   "cell_type": "code",
   "execution_count": null,
   "metadata": {
    "papermill": {
     "duration": 0.004898,
     "end_time": "2020-07-28T04:00:05.051079",
     "exception": false,
     "start_time": "2020-07-28T04:00:05.046181",
     "status": "completed"
    },
    "tags": []
   },
   "outputs": [],
   "source": []
  }
 ],
 "metadata": {
  "kernelspec": {
   "display_name": "Python 3",
   "language": "python",
   "name": "python3"
  },
  "language_info": {
   "codemirror_mode": {
    "name": "ipython",
    "version": 3
   },
   "file_extension": ".py",
   "mimetype": "text/x-python",
   "name": "python",
   "nbconvert_exporter": "python",
   "pygments_lexer": "ipython3",
   "version": "3.8.2"
  },
  "papermill": {
   "duration": 4.766057,
   "end_time": "2020-07-28T04:00:06.419559",
   "environment_variables": {},
   "exception": null,
   "input_path": "covid-19-data.ipynb",
   "output_path": "./latest/covid-19-data.ipynb",
   "parameters": {},
   "start_time": "2020-07-28T04:00:01.653502",
   "version": "2.1.2"
  }
 },
 "nbformat": 4,
 "nbformat_minor": 4
}