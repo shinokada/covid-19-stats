{
 "cells": [
  {
   "cell_type": "code",
   "execution_count": 1,
   "metadata": {
    "execution": {
     "iopub.execute_input": "2020-06-23T04:00:03.584480Z",
     "iopub.status.busy": "2020-06-23T04:00:03.583696Z",
     "iopub.status.idle": "2020-06-23T04:00:03.602433Z",
     "shell.execute_reply": "2020-06-23T04:00:03.602905Z"
    },
    "papermill": {
     "duration": 0.028347,
     "end_time": "2020-06-23T04:00:03.603087",
     "exception": false,
     "start_time": "2020-06-23T04:00:03.574740",
     "status": "completed"
    },
    "tags": []
   },
   "outputs": [],
   "source": [
    "import pandas as pd\n",
    "import numpy as np"
   ]
  },
  {
   "cell_type": "code",
   "execution_count": 2,
   "metadata": {
    "execution": {
     "iopub.execute_input": "2020-06-23T04:00:03.616337Z",
     "iopub.status.busy": "2020-06-23T04:00:03.615585Z",
     "iopub.status.idle": "2020-06-23T04:00:03.837069Z",
     "shell.execute_reply": "2020-06-23T04:00:03.836567Z"
    },
    "papermill": {
     "duration": 0.229927,
     "end_time": "2020-06-23T04:00:03.837209",
     "exception": false,
     "start_time": "2020-06-23T04:00:03.607282",
     "status": "completed"
    },
    "tags": []
   },
   "outputs": [
    {
     "data": {
      "text/html": [
       "<div>\n",
       "<style scoped>\n",
       "    .dataframe tbody tr th:only-of-type {\n",
       "        vertical-align: middle;\n",
       "    }\n",
       "\n",
       "    .dataframe tbody tr th {\n",
       "        vertical-align: top;\n",
       "    }\n",
       "\n",
       "    .dataframe thead th {\n",
       "        text-align: right;\n",
       "    }\n",
       "</style>\n",
       "<table border=\"1\" class=\"dataframe\">\n",
       "  <thead>\n",
       "    <tr style=\"text-align: right;\">\n",
       "      <th>Country/Region</th>\n",
       "      <th>US</th>\n",
       "      <th>Brazil</th>\n",
       "      <th>Russia</th>\n",
       "      <th>India</th>\n",
       "      <th>United Kingdom</th>\n",
       "      <th>Peru</th>\n",
       "      <th>Spain</th>\n",
       "      <th>Chile</th>\n",
       "      <th>Italy</th>\n",
       "      <th>Iran</th>\n",
       "    </tr>\n",
       "  </thead>\n",
       "  <tbody>\n",
       "    <tr>\n",
       "      <th>1/22/20</th>\n",
       "      <td>1</td>\n",
       "      <td>0</td>\n",
       "      <td>0</td>\n",
       "      <td>0</td>\n",
       "      <td>0</td>\n",
       "      <td>0</td>\n",
       "      <td>0</td>\n",
       "      <td>0</td>\n",
       "      <td>0</td>\n",
       "      <td>0</td>\n",
       "    </tr>\n",
       "    <tr>\n",
       "      <th>1/23/20</th>\n",
       "      <td>1</td>\n",
       "      <td>0</td>\n",
       "      <td>0</td>\n",
       "      <td>0</td>\n",
       "      <td>0</td>\n",
       "      <td>0</td>\n",
       "      <td>0</td>\n",
       "      <td>0</td>\n",
       "      <td>0</td>\n",
       "      <td>0</td>\n",
       "    </tr>\n",
       "    <tr>\n",
       "      <th>1/24/20</th>\n",
       "      <td>2</td>\n",
       "      <td>0</td>\n",
       "      <td>0</td>\n",
       "      <td>0</td>\n",
       "      <td>0</td>\n",
       "      <td>0</td>\n",
       "      <td>0</td>\n",
       "      <td>0</td>\n",
       "      <td>0</td>\n",
       "      <td>0</td>\n",
       "    </tr>\n",
       "    <tr>\n",
       "      <th>1/25/20</th>\n",
       "      <td>2</td>\n",
       "      <td>0</td>\n",
       "      <td>0</td>\n",
       "      <td>0</td>\n",
       "      <td>0</td>\n",
       "      <td>0</td>\n",
       "      <td>0</td>\n",
       "      <td>0</td>\n",
       "      <td>0</td>\n",
       "      <td>0</td>\n",
       "    </tr>\n",
       "    <tr>\n",
       "      <th>1/26/20</th>\n",
       "      <td>5</td>\n",
       "      <td>0</td>\n",
       "      <td>0</td>\n",
       "      <td>0</td>\n",
       "      <td>0</td>\n",
       "      <td>0</td>\n",
       "      <td>0</td>\n",
       "      <td>0</td>\n",
       "      <td>0</td>\n",
       "      <td>0</td>\n",
       "    </tr>\n",
       "    <tr>\n",
       "      <th>...</th>\n",
       "      <td>...</td>\n",
       "      <td>...</td>\n",
       "      <td>...</td>\n",
       "      <td>...</td>\n",
       "      <td>...</td>\n",
       "      <td>...</td>\n",
       "      <td>...</td>\n",
       "      <td>...</td>\n",
       "      <td>...</td>\n",
       "      <td>...</td>\n",
       "    </tr>\n",
       "    <tr>\n",
       "      <th>6/17/20</th>\n",
       "      <td>2163290</td>\n",
       "      <td>955377</td>\n",
       "      <td>552549</td>\n",
       "      <td>366946</td>\n",
       "      <td>300717</td>\n",
       "      <td>240908</td>\n",
       "      <td>244683</td>\n",
       "      <td>220628</td>\n",
       "      <td>237828</td>\n",
       "      <td>195051</td>\n",
       "    </tr>\n",
       "    <tr>\n",
       "      <th>6/18/20</th>\n",
       "      <td>2191052</td>\n",
       "      <td>978142</td>\n",
       "      <td>560321</td>\n",
       "      <td>380532</td>\n",
       "      <td>301935</td>\n",
       "      <td>244388</td>\n",
       "      <td>245268</td>\n",
       "      <td>225103</td>\n",
       "      <td>238159</td>\n",
       "      <td>197647</td>\n",
       "    </tr>\n",
       "    <tr>\n",
       "      <th>6/19/20</th>\n",
       "      <td>2222579</td>\n",
       "      <td>1032913</td>\n",
       "      <td>568292</td>\n",
       "      <td>395048</td>\n",
       "      <td>303285</td>\n",
       "      <td>244388</td>\n",
       "      <td>245575</td>\n",
       "      <td>231393</td>\n",
       "      <td>238011</td>\n",
       "      <td>200262</td>\n",
       "    </tr>\n",
       "    <tr>\n",
       "      <th>6/20/20</th>\n",
       "      <td>2255119</td>\n",
       "      <td>1067579</td>\n",
       "      <td>576162</td>\n",
       "      <td>410451</td>\n",
       "      <td>304580</td>\n",
       "      <td>251338</td>\n",
       "      <td>245938</td>\n",
       "      <td>236748</td>\n",
       "      <td>238275</td>\n",
       "      <td>202584</td>\n",
       "    </tr>\n",
       "    <tr>\n",
       "      <th>6/21/20</th>\n",
       "      <td>2281290</td>\n",
       "      <td>1083341</td>\n",
       "      <td>583879</td>\n",
       "      <td>425282</td>\n",
       "      <td>305803</td>\n",
       "      <td>251338</td>\n",
       "      <td>246272</td>\n",
       "      <td>242355</td>\n",
       "      <td>238499</td>\n",
       "      <td>204952</td>\n",
       "    </tr>\n",
       "  </tbody>\n",
       "</table>\n",
       "<p>152 rows × 10 columns</p>\n",
       "</div>"
      ],
      "text/plain": [
       "Country/Region       US   Brazil  Russia   India  United Kingdom    Peru  \\\n",
       "1/22/20               1        0       0       0               0       0   \n",
       "1/23/20               1        0       0       0               0       0   \n",
       "1/24/20               2        0       0       0               0       0   \n",
       "1/25/20               2        0       0       0               0       0   \n",
       "1/26/20               5        0       0       0               0       0   \n",
       "...                 ...      ...     ...     ...             ...     ...   \n",
       "6/17/20         2163290   955377  552549  366946          300717  240908   \n",
       "6/18/20         2191052   978142  560321  380532          301935  244388   \n",
       "6/19/20         2222579  1032913  568292  395048          303285  244388   \n",
       "6/20/20         2255119  1067579  576162  410451          304580  251338   \n",
       "6/21/20         2281290  1083341  583879  425282          305803  251338   \n",
       "\n",
       "Country/Region   Spain   Chile   Italy    Iran  \n",
       "1/22/20              0       0       0       0  \n",
       "1/23/20              0       0       0       0  \n",
       "1/24/20              0       0       0       0  \n",
       "1/25/20              0       0       0       0  \n",
       "1/26/20              0       0       0       0  \n",
       "...                ...     ...     ...     ...  \n",
       "6/17/20         244683  220628  237828  195051  \n",
       "6/18/20         245268  225103  238159  197647  \n",
       "6/19/20         245575  231393  238011  200262  \n",
       "6/20/20         245938  236748  238275  202584  \n",
       "6/21/20         246272  242355  238499  204952  \n",
       "\n",
       "[152 rows x 10 columns]"
      ]
     },
     "metadata": {},
     "output_type": "display_data"
    }
   ],
   "source": [
    "# confirmed_global\n",
    "confirmed_global='https://raw.githubusercontent.com/CSSEGISandData/COVID-19/master/csse_covid_19_data/csse_covid_19_time_series/time_series_covid19_confirmed_global.csv'\n",
    "covid19_confirmed=pd.read_csv(confirmed_global,index_col='Country/Region')\n",
    "\n",
    "\n",
    "# confirmed_latest\n",
    "confirmed_latest = covid19_confirmed.T.index.values[-1]\n",
    "# display(confirmed_latest)\n",
    "\n",
    "# df_confirmed\n",
    "df_grouped_conf=covid19_confirmed.groupby('Country/Region').sum()\n",
    "\n",
    "# display(df_grouped_conf.head(10))\n",
    "df_confirmed=df_grouped_conf.sort_values(by=confirmed_latest,ascending=False).head(10).drop(['Lat', 'Long'],axis=1).T\n",
    "# display(df_grouped_conf)\n",
    "display(df_confirmed)\n",
    "\n",
    "# display(df_confirmed)\n",
    "# df_confirmed_total\n",
    "covid19_confirmed.loc[\"Total\"] = covid19_confirmed.sum()\n",
    "df_confirmed_total=covid19_confirmed.iloc[-1,4:]\n",
    "\n",
    "# confirmed_latest"
   ]
  },
  {
   "cell_type": "code",
   "execution_count": 3,
   "metadata": {
    "execution": {
     "iopub.execute_input": "2020-06-23T04:00:03.852602Z",
     "iopub.status.busy": "2020-06-23T04:00:03.851824Z",
     "iopub.status.idle": "2020-06-23T04:00:04.116635Z",
     "shell.execute_reply": "2020-06-23T04:00:04.117278Z"
    },
    "papermill": {
     "duration": 0.273966,
     "end_time": "2020-06-23T04:00:04.117510",
     "exception": false,
     "start_time": "2020-06-23T04:00:03.843544",
     "status": "completed"
    },
    "tags": []
   },
   "outputs": [
    {
     "data": {
      "text/plain": [
       "'6/21/20'"
      ]
     },
     "execution_count": 3,
     "metadata": {},
     "output_type": "execute_result"
    }
   ],
   "source": [
    "# deaths_global\n",
    "deaths_global='https://raw.githubusercontent.com/CSSEGISandData/COVID-19/master/csse_covid_19_data/csse_covid_19_time_series/time_series_covid19_deaths_global.csv'\n",
    "covid19_deaths=pd.read_csv(deaths_global,index_col='Country/Region')\n",
    "\n",
    "# deaths_latest\n",
    "deaths_latest = covid19_deaths.T.index.values[-1]\n",
    "\n",
    "# df_deaths\n",
    "df_grouped_deaths=covid19_deaths.groupby('Country/Region').sum()\n",
    "df_deaths=df_grouped_deaths.sort_values(deaths_latest,ascending=False).head(10).drop(['Lat', 'Long'],axis=1).T\n",
    "\n",
    "# df_deaths_total\n",
    "covid19_deaths.loc[\"Total\"] = covid19_deaths.sum()\n",
    "df_deaths_total=covid19_deaths.iloc[-1,4:]\n",
    "\n",
    "deaths_latest"
   ]
  },
  {
   "cell_type": "code",
   "execution_count": 4,
   "metadata": {
    "execution": {
     "iopub.execute_input": "2020-06-23T04:00:04.138982Z",
     "iopub.status.busy": "2020-06-23T04:00:04.138169Z",
     "iopub.status.idle": "2020-06-23T04:00:04.488462Z",
     "shell.execute_reply": "2020-06-23T04:00:04.492223Z"
    },
    "papermill": {
     "duration": 0.366063,
     "end_time": "2020-06-23T04:00:04.492445",
     "exception": false,
     "start_time": "2020-06-23T04:00:04.126382",
     "status": "completed"
    },
    "tags": []
   },
   "outputs": [
    {
     "data": {
      "text/plain": [
       "'6/21/20'"
      ]
     },
     "execution_count": 4,
     "metadata": {},
     "output_type": "execute_result"
    }
   ],
   "source": [
    "# recovered_global\n",
    "recovered_global='https://raw.githubusercontent.com/CSSEGISandData/COVID-19/master/csse_covid_19_data/csse_covid_19_time_series/time_series_covid19_recovered_global.csv'\n",
    "covid19_recovered=pd.read_csv(recovered_global,index_col='Country/Region')\n",
    "\n",
    "# recovered_latest\n",
    "recovered_latest = covid19_recovered.T.index.values[-1]\n",
    "\n",
    "# df_recovered\n",
    "df_grouped_recv=covid19_recovered.groupby('Country/Region').sum()\n",
    "df_recovered=df_grouped_recv.sort_values(recovered_latest,ascending=False).head(10).drop(['Lat', 'Long'],axis=1).T\n",
    "\n",
    "# df_recovered_total\n",
    "covid19_recovered.loc[\"Total\"] = covid19_recovered.sum()\n",
    "df_recovered_total=covid19_recovered.iloc[-1,4:]\n",
    "\n",
    "recovered_latest"
   ]
  },
  {
   "cell_type": "code",
   "execution_count": null,
   "metadata": {
    "papermill": {
     "duration": 0.016197,
     "end_time": "2020-06-23T04:00:04.515726",
     "exception": false,
     "start_time": "2020-06-23T04:00:04.499529",
     "status": "completed"
    },
    "tags": []
   },
   "outputs": [],
   "source": []
  }
 ],
 "metadata": {
  "kernelspec": {
   "display_name": "Python 3",
   "language": "python",
   "name": "python3"
  },
  "language_info": {
   "codemirror_mode": {
    "name": "ipython",
    "version": 3
   },
   "file_extension": ".py",
   "mimetype": "text/x-python",
   "name": "python",
   "nbconvert_exporter": "python",
   "pygments_lexer": "ipython3",
   "version": "3.8.2"
  },
  "papermill": {
   "duration": 4.461652,
   "end_time": "2020-06-23T04:00:05.978697",
   "environment_variables": {},
   "exception": null,
   "input_path": "covid-19-data.ipynb",
   "output_path": "./latest/covid-19-data.ipynb",
   "parameters": {},
   "start_time": "2020-06-23T04:00:01.517045",
   "version": "2.1.1"
  }
 },
 "nbformat": 4,
 "nbformat_minor": 4
}