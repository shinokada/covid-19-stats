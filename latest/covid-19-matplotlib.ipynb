{
 "cells": [
  {
   "cell_type": "markdown",
   "metadata": {
    "papermill": {
     "duration": null,
     "end_time": null,
     "exception": null,
     "start_time": null,
     "status": "completed"
    },
    "tags": []
   },
   "source": [
    "# See this in [nbviewer](https://nbviewer.jupyter.org/github/shinokada/covid-19-stats/blob/master/latest/covid-19-matplotlib.ipynb).\n",
    "\n",
    "# See this in [Binder](https://mybinder.org/v2/gh/shinokada/covid-19-stats/master)\n",
    "\n",
    "<a href=\"https://mybinder.org/v2/gh/shinokada/covid-19-stats/master\" target=\"_blank\"><img src=\"https://mybinder.org/badge_logo.svg\"/></a>"
   ]
  },
  {
   "cell_type": "code",
   "execution_count": null,
   "metadata": {
    "papermill": {
     "duration": null,
     "end_time": null,
     "exception": null,
     "start_time": null,
     "status": "completed"
    },
    "tags": []
   },
   "outputs": [],
   "source": [
    "%run covid-19-data.ipynb\n",
    "\n",
    "import pandas as pd\n",
    "import numpy as np\n",
    "from matplotlib.ticker import ScalarFormatter"
   ]
  },
  {
   "cell_type": "code",
   "execution_count": null,
   "metadata": {
    "papermill": {
     "duration": null,
     "end_time": null,
     "exception": null,
     "start_time": null,
     "status": "completed"
    },
    "tags": []
   },
   "outputs": [],
   "source": [
    "fig = plt.figure()\n",
    "ax = fig.add_subplot(1, 1, 1)\n",
    "df_confirmed.plot(ax=ax,figsize=(20,20))\n",
    "ax.set_title(f'COVID-19 Time series Confirmed as of {confirmed_latest}',fontsize= 30)\n",
    "plt.xlabel('Date',fontsize= 20)\n",
    "plt.ylabel('Number',fontsize= 20)\n",
    "plt.rc('legend', fontsize=16)\n",
    "plt.tick_params(labelsize=16)\n",
    "fig.autofmt_xdate() # mke space for and rotate the x-axis tick labels\n",
    "plt.legend(loc=2)\n",
    "plt.show()"
   ]
  },
  {
   "cell_type": "code",
   "execution_count": null,
   "metadata": {
    "papermill": {
     "duration": null,
     "end_time": null,
     "exception": null,
     "start_time": null,
     "status": "completed"
    },
    "tags": []
   },
   "outputs": [],
   "source": [
    "fig = plt.figure()\n",
    "ax = fig.add_subplot(1, 1, 1)\n",
    "df_deaths.plot(ax=ax,figsize=(20,20))\n",
    "ax.set_title(f'COVID-19 Time series Death as of {deaths_latest}',fontsize= 30)\n",
    "plt.xlabel('Date',fontsize= 20)\n",
    "plt.ylabel('Number',fontsize= 20)\n",
    "plt.rc('legend', fontsize=16)\n",
    "plt.tick_params(labelsize=16)\n",
    "fig.autofmt_xdate() # mke space for and rotate the x-axis tick labels\n",
    "plt.legend(loc=2)\n",
    "plt.show()"
   ]
  },
  {
   "cell_type": "code",
   "execution_count": null,
   "metadata": {
    "papermill": {
     "duration": null,
     "end_time": null,
     "exception": null,
     "start_time": null,
     "status": "completed"
    },
    "tags": []
   },
   "outputs": [],
   "source": [
    "fig = plt.figure()\n",
    "ax = fig.add_subplot(1, 1, 1)\n",
    "df_recovered.plot(ax=ax,figsize=(20,20))\n",
    "ax.set_title(f'COVID-19 Time series Recovered as of {recovered_latest}',fontsize= 30)\n",
    "plt.xlabel('Date',fontsize= 20)\n",
    "plt.ylabel('Number',fontsize= 20)\n",
    "plt.rc('legend', fontsize=16)\n",
    "plt.tick_params(labelsize=16)\n",
    "fig.autofmt_xdate() # mke space for and rotate the x-axis tick labels\n",
    "plt.legend(loc=2)\n",
    "plt.show()"
   ]
  },
  {
   "cell_type": "code",
   "execution_count": null,
   "metadata": {
    "papermill": {
     "duration": null,
     "end_time": null,
     "exception": null,
     "start_time": null,
     "status": "completed"
    },
    "tags": []
   },
   "outputs": [],
   "source": [
    "# Total Confirmed by date\n",
    "fig = plt.figure()\n",
    "ax = fig.add_subplot(1, 1, 1)\n",
    "df_confirmed_total.plot(ax=ax,figsize=(20,20))\n",
    "ax.set_title(f'COVID-19 Time series global confirmed as of {confirmed_latest}',fontsize= 30)\n",
    "plt.xlabel('Date',fontsize= 20)\n",
    "plt.ylabel('Number',fontsize= 20)\n",
    "plt.tick_params(labelsize=16)\n",
    "ax.yaxis.set_major_formatter(ScalarFormatter(useMathText=True))\n",
    "ax.ticklabel_format(style=\"plain\",  axis=\"y\")\n",
    "fig.autofmt_xdate() # mke space for and rotate the x-axis tick labels\n",
    "plt.show()"
   ]
  },
  {
   "cell_type": "code",
   "execution_count": null,
   "metadata": {
    "papermill": {
     "duration": null,
     "end_time": null,
     "exception": null,
     "start_time": null,
     "status": "completed"
    },
    "tags": []
   },
   "outputs": [],
   "source": [
    "# Total deaths by date\n",
    "fig = plt.figure()\n",
    "ax = fig.add_subplot(1, 1, 1)\n",
    "df_deaths_total.plot(ax=ax,figsize=(20,20))\n",
    "ax.set_title(f'COVID-19 Time series global deaths as of {deaths_latest}',fontsize= 30)\n",
    "plt.xlabel('Date',fontsize= 20)\n",
    "plt.ylabel('Number',fontsize= 20)\n",
    "plt.tick_params(labelsize=16)\n",
    "ax.yaxis.set_major_formatter(ScalarFormatter(useMathText=True))\n",
    "ax.ticklabel_format(style=\"plain\",  axis=\"y\",scilimits=(0,0))\n",
    "fig.autofmt_xdate() # mke space for and rotate the x-axis tick labels\n",
    "plt.show()"
   ]
  },
  {
   "cell_type": "code",
   "execution_count": null,
   "metadata": {
    "papermill": {
     "duration": null,
     "end_time": null,
     "exception": null,
     "start_time": null,
     "status": "completed"
    },
    "tags": []
   },
   "outputs": [],
   "source": [
    "# Total recovered by date\n",
    "fig = plt.figure()\n",
    "ax = fig.add_subplot(1, 1, 1)\n",
    "df_recovered_total.plot(ax=ax,figsize=(20,20))\n",
    "ax.set_title(f'COVID-19 Time series global recovered as of {recovered_latest}',fontsize= 30)\n",
    "plt.xlabel('Date',fontsize= 20)\n",
    "plt.ylabel('Number',fontsize= 20)\n",
    "plt.tick_params(labelsize=16)\n",
    "ax.yaxis.set_major_formatter(ScalarFormatter(useMathText=True))\n",
    "ax.ticklabel_format(style=\"plain\",  axis=\"y\",scilimits=(0,0))\n",
    "fig.autofmt_xdate() # mke space for and rotate the x-axis tick labels\n",
    "plt.show()"
   ]
  },
  {
   "cell_type": "code",
   "execution_count": null,
   "metadata": {
    "papermill": {
     "duration": null,
     "end_time": null,
     "exception": null,
     "start_time": null,
     "status": "completed"
    },
    "tags": []
   },
   "outputs": [],
   "source": []
  }
 ],
 "metadata": {
  "kernelspec": {
   "display_name": "Python 3",
   "language": "python",
   "name": "python3"
  },
  "language_info": {
   "codemirror_mode": {
    "name": "ipython",
    "version": 3
   },
   "file_extension": ".py",
   "mimetype": "text/x-python",
   "name": "python",
   "nbconvert_exporter": "python",
   "pygments_lexer": "ipython3",
   "version": "3.8.2"
  },
  "papermill": {
   "duration": 4165.08968,
   "end_time": "2020-06-28T06:02:08.009864",
   "environment_variables": {},
   "exception": null,
   "input_path": "covid-19-matplotlib.ipynb",
   "output_path": "./latest/covid-19-matplotlib.ipynb",
   "parameters": {},
   "start_time": "2020-06-28T04:52:42.920184",
   "version": "2.1.1"
  }
 },
 "nbformat": 4,
 "nbformat_minor": 4
}