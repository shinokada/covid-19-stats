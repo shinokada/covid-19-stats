{
 "cells": [
  {
   "cell_type": "markdown",
   "id": "108f4063",
   "metadata": {
    "tags": [
     "papermill-error-cell-tag"
    ]
   },
   "source": [
    "<span style=\"color:red; font-family:Helvetica Neue, Helvetica, Arial, sans-serif; font-size:2em;\">An Exception was encountered at '<a href=\"#papermill-error-cell\">In [1]</a>'.</span>"
   ]
  },
  {
   "cell_type": "markdown",
   "id": "57baaa6f",
   "metadata": {
    "papermill": {
     "duration": 0.006847,
     "end_time": "2021-04-29T04:54:01.643261",
     "exception": false,
     "start_time": "2021-04-29T04:54:01.636414",
     "status": "completed"
    },
    "tags": []
   },
   "source": [
    "# Github can't render plotly so see this repo at [nbviewer](https://nbviewer.jupyter.org/github/shinokada/covid-19-stats/blob/master/latest/data_scraping.ipynb)\n",
    "\n"
   ]
  },
  {
   "cell_type": "markdown",
   "id": "b3c0d102",
   "metadata": {
    "papermill": {
     "duration": 0.003892,
     "end_time": "2021-04-29T04:54:01.652117",
     "exception": false,
     "start_time": "2021-04-29T04:54:01.648225",
     "status": "completed"
    },
    "tags": []
   },
   "source": [
    "Scraping data from Github repo and creating a catter plot on a map\n"
   ]
  },
  {
   "cell_type": "markdown",
   "id": "6d46bd2f",
   "metadata": {
    "tags": [
     "papermill-error-cell-tag"
    ]
   },
   "source": [
    "<span id=\"papermill-error-cell\" style=\"color:red; font-family:Helvetica Neue, Helvetica, Arial, sans-serif; font-size:2em;\">Execution using papermill encountered an exception here and stopped:</span>"
   ]
  },
  {
   "cell_type": "code",
   "execution_count": 1,
   "id": "5b167ae9",
   "metadata": {
    "execution": {
     "iopub.execute_input": "2021-04-29T04:54:01.670696Z",
     "iopub.status.busy": "2021-04-29T04:54:01.670081Z",
     "iopub.status.idle": "2021-04-29T04:54:01.904911Z",
     "shell.execute_reply": "2021-04-29T04:54:01.903412Z"
    },
    "papermill": {
     "duration": 0.249514,
     "end_time": "2021-04-29T04:54:01.905362",
     "exception": true,
     "start_time": "2021-04-29T04:54:01.655848",
     "status": "failed"
    },
    "scrolled": false,
    "tags": []
   },
   "outputs": [
    {
     "ename": "ModuleNotFoundError",
     "evalue": "No module named 'bs4'",
     "output_type": "error",
     "traceback": [
      "\u001b[0;31m---------------------------------------------------------------------------\u001b[0m",
      "\u001b[0;31mModuleNotFoundError\u001b[0m                       Traceback (most recent call last)",
      "\u001b[0;32m<ipython-input-1-15c213a2eb6b>\u001b[0m in \u001b[0;36m<module>\u001b[0;34m\u001b[0m\n\u001b[1;32m      1\u001b[0m \u001b[0;32mimport\u001b[0m \u001b[0mrequests\u001b[0m\u001b[0;34m\u001b[0m\u001b[0;34m\u001b[0m\u001b[0m\n\u001b[0;32m----> 2\u001b[0;31m \u001b[0;32mfrom\u001b[0m \u001b[0mbs4\u001b[0m \u001b[0;32mimport\u001b[0m \u001b[0mBeautifulSoup\u001b[0m\u001b[0;34m\u001b[0m\u001b[0;34m\u001b[0m\u001b[0m\n\u001b[0m\u001b[1;32m      3\u001b[0m \u001b[0;32mimport\u001b[0m \u001b[0mplotly\u001b[0m\u001b[0;34m.\u001b[0m\u001b[0mexpress\u001b[0m \u001b[0;32mas\u001b[0m \u001b[0mpx\u001b[0m\u001b[0;34m\u001b[0m\u001b[0;34m\u001b[0m\u001b[0m\n\u001b[1;32m      4\u001b[0m \u001b[0;32mimport\u001b[0m \u001b[0mpandas\u001b[0m \u001b[0;32mas\u001b[0m \u001b[0mpd\u001b[0m\u001b[0;34m\u001b[0m\u001b[0;34m\u001b[0m\u001b[0m\n\u001b[1;32m      5\u001b[0m \u001b[0;34m\u001b[0m\u001b[0m\n",
      "\u001b[0;31mModuleNotFoundError\u001b[0m: No module named 'bs4'"
     ]
    }
   ],
   "source": [
    "import requests\n",
    "from bs4 import BeautifulSoup\n",
    "import plotly.express as px\n",
    "import pandas as pd\n",
    "\n",
    "github = 'https://github.com'\n",
    "URL = 'https://github.com/CSSEGISandData/COVID-19/tree/master/csse_covid_19_data/csse_covid_19_daily_reports_us'\n",
    "\n",
    "page = requests.get(URL)\n",
    "soup = BeautifulSoup(page.content, 'html.parser')\n",
    "# find the latest report\n",
    "latest = str(soup.table.find_all('a')[-4]['href'])\n",
    "# print(latest)\n",
    "# go to the latest report page\n",
    "latestURL = github + latest\n",
    "latestPage = requests.get(latestURL, 'html.parser')\n",
    "# print(latestURL)\n",
    "# find the raw page url\n",
    "soup = BeautifulSoup(latestPage.content, 'html.parser')\n",
    "raw = str(soup.find(id='raw-url')['href'])\n",
    "rawURL = github + raw\n",
    "# print(rawURL)\n",
    "df = pd.read_csv(rawURL)\n",
    "# print(df.head(20))\n",
    "df = df.dropna(axis=0, subset=['Lat'])\n",
    "df = df.fillna(0)\n",
    "# display(df.head())\n",
    "date, time = df.iloc[0, 2].split()\n",
    "# print(date)\n",
    "px.set_mapbox_access_token(open(\".mapbox_token\").read())\n",
    "\n",
    "fig = px.scatter_mapbox(df,\n",
    "                        lat=\"Lat\",\n",
    "                        lon=\"Long_\",\n",
    "                        color=\"Deaths\",\n",
    "                        size=\"Deaths\",\n",
    "                        center={\"lat\": 37.0902, \"lon\": -95.7129},\n",
    "                        # https://plotly.com/python/builtin-colorscales/\n",
    "                        color_continuous_scale=px.colors.sequential.Jet,\n",
    "                        size_max=40,\n",
    "                        zoom=3,\n",
    "                        hover_data=[\"Confirmed\"],\n",
    "                        hover_name='Province_State'\n",
    "                        )\n",
    "\n",
    "fig.update_layout(\n",
    "    title=f'COVID-19 Deaths in USA by states. Date: {date}',\n",
    ")\n",
    "fig.show()"
   ]
  },
  {
   "cell_type": "code",
   "execution_count": null,
   "id": "a8943888",
   "metadata": {
    "papermill": {
     "duration": null,
     "end_time": null,
     "exception": null,
     "start_time": null,
     "status": "pending"
    },
    "tags": []
   },
   "outputs": [],
   "source": [
    "one=pd.Series(list(range(100)))\n",
    "type(one)"
   ]
  },
  {
   "cell_type": "code",
   "execution_count": null,
   "id": "2c267c4e",
   "metadata": {
    "papermill": {
     "duration": null,
     "end_time": null,
     "exception": null,
     "start_time": null,
     "status": "pending"
    },
    "tags": []
   },
   "outputs": [],
   "source": []
  }
 ],
 "metadata": {
  "kernelspec": {
   "display_name": "Python 3",
   "language": "python",
   "name": "python3"
  },
  "language_info": {
   "codemirror_mode": {
    "name": "ipython",
    "version": 3
   },
   "file_extension": ".py",
   "mimetype": "text/x-python",
   "name": "python",
   "nbconvert_exporter": "python",
   "pygments_lexer": "ipython3",
   "version": "3.8.6"
  },
  "papermill": {
   "default_parameters": {},
   "duration": 2.100869,
   "end_time": "2021-04-29T04:54:02.321585",
   "environment_variables": {},
   "exception": true,
   "input_path": "data_scraping.ipynb",
   "output_path": "./latest/data_scraping.ipynb",
   "parameters": {},
   "start_time": "2021-04-29T04:54:00.220716",
   "version": "2.3.3"
  }
 },
 "nbformat": 4,
 "nbformat_minor": 5
}