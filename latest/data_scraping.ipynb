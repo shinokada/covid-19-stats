{
 "cells": [
  {
   "cell_type": "markdown",
   "metadata": {
    "tags": [
     "papermill-error-cell-tag"
    ]
   },
   "source": [
    "<span style=\"color:red; font-family:Helvetica Neue, Helvetica, Arial, sans-serif; font-size:2em;\">An Exception was encountered at '<a href=\"#papermill-error-cell\">In [1]</a>'.</span>"
   ]
  },
  {
   "cell_type": "markdown",
   "metadata": {
    "papermill": {
     "duration": 0.005849,
     "end_time": "2020-06-26T04:01:15.144636",
     "exception": false,
     "start_time": "2020-06-26T04:01:15.138787",
     "status": "completed"
    },
    "tags": []
   },
   "source": [
    "# Github can't render plotly so see this repo at [nbviewer](https://nbviewer.jupyter.org/github/shinokada/covid-19-stats/blob/master/latest/data_scraping.ipynb)\n",
    "\n"
   ]
  },
  {
   "cell_type": "markdown",
   "metadata": {
    "papermill": {
     "duration": 0.005358,
     "end_time": "2020-06-26T04:01:15.154815",
     "exception": false,
     "start_time": "2020-06-26T04:01:15.149457",
     "status": "completed"
    },
    "tags": []
   },
   "source": [
    "Scraping data from Github repo and creating a catter plot on a map\n"
   ]
  },
  {
   "cell_type": "markdown",
   "metadata": {
    "tags": [
     "papermill-error-cell-tag"
    ]
   },
   "source": [
    "<span id=\"papermill-error-cell\" style=\"color:red; font-family:Helvetica Neue, Helvetica, Arial, sans-serif; font-size:2em;\">Execution using papermill encountered an exception here and stopped:</span>"
   ]
  },
  {
   "cell_type": "code",
   "execution_count": 1,
   "metadata": {
    "execution": {
     "iopub.execute_input": "2020-06-26T04:01:15.175553Z",
     "iopub.status.busy": "2020-06-26T04:01:15.174554Z",
     "iopub.status.idle": "2020-06-26T04:01:16.610754Z",
     "shell.execute_reply": "2020-06-26T04:01:16.609336Z"
    },
    "papermill": {
     "duration": 1.451664,
     "end_time": "2020-06-26T04:01:16.611020",
     "exception": true,
     "start_time": "2020-06-26T04:01:15.159356",
     "status": "failed"
    },
    "scrolled": false,
    "tags": []
   },
   "outputs": [
    {
     "ename": "AttributeError",
     "evalue": "'NoneType' object has no attribute 'find_all'",
     "output_type": "error",
     "traceback": [
      "\u001b[0;31m---------------------------------------------------------------------------\u001b[0m",
      "\u001b[0;31mAttributeError\u001b[0m                            Traceback (most recent call last)",
      "\u001b[0;32m<ipython-input-1-15c213a2eb6b>\u001b[0m in \u001b[0;36m<module>\u001b[0;34m\u001b[0m\n\u001b[1;32m     10\u001b[0m \u001b[0msoup\u001b[0m \u001b[0;34m=\u001b[0m \u001b[0mBeautifulSoup\u001b[0m\u001b[0;34m(\u001b[0m\u001b[0mpage\u001b[0m\u001b[0;34m.\u001b[0m\u001b[0mcontent\u001b[0m\u001b[0;34m,\u001b[0m \u001b[0;34m'html.parser'\u001b[0m\u001b[0;34m)\u001b[0m\u001b[0;34m\u001b[0m\u001b[0;34m\u001b[0m\u001b[0m\n\u001b[1;32m     11\u001b[0m \u001b[0;31m# find the latest report\u001b[0m\u001b[0;34m\u001b[0m\u001b[0;34m\u001b[0m\u001b[0;34m\u001b[0m\u001b[0m\n\u001b[0;32m---> 12\u001b[0;31m \u001b[0mlatest\u001b[0m \u001b[0;34m=\u001b[0m \u001b[0mstr\u001b[0m\u001b[0;34m(\u001b[0m\u001b[0msoup\u001b[0m\u001b[0;34m.\u001b[0m\u001b[0mtable\u001b[0m\u001b[0;34m.\u001b[0m\u001b[0mfind_all\u001b[0m\u001b[0;34m(\u001b[0m\u001b[0;34m'a'\u001b[0m\u001b[0;34m)\u001b[0m\u001b[0;34m[\u001b[0m\u001b[0;34m-\u001b[0m\u001b[0;36m4\u001b[0m\u001b[0;34m]\u001b[0m\u001b[0;34m[\u001b[0m\u001b[0;34m'href'\u001b[0m\u001b[0;34m]\u001b[0m\u001b[0;34m)\u001b[0m\u001b[0;34m\u001b[0m\u001b[0;34m\u001b[0m\u001b[0m\n\u001b[0m\u001b[1;32m     13\u001b[0m \u001b[0;31m# print(latest)\u001b[0m\u001b[0;34m\u001b[0m\u001b[0;34m\u001b[0m\u001b[0;34m\u001b[0m\u001b[0m\n\u001b[1;32m     14\u001b[0m \u001b[0;31m# go to the latest report page\u001b[0m\u001b[0;34m\u001b[0m\u001b[0;34m\u001b[0m\u001b[0;34m\u001b[0m\u001b[0m\n",
      "\u001b[0;31mAttributeError\u001b[0m: 'NoneType' object has no attribute 'find_all'"
     ]
    }
   ],
   "source": [
    "import requests\n",
    "from bs4 import BeautifulSoup\n",
    "import plotly.express as px\n",
    "import pandas as pd\n",
    "\n",
    "github = 'https://github.com'\n",
    "URL = 'https://github.com/CSSEGISandData/COVID-19/tree/master/csse_covid_19_data/csse_covid_19_daily_reports_us'\n",
    "\n",
    "page = requests.get(URL)\n",
    "soup = BeautifulSoup(page.content, 'html.parser')\n",
    "# find the latest report\n",
    "latest = str(soup.table.find_all('a')[-4]['href'])\n",
    "# print(latest)\n",
    "# go to the latest report page\n",
    "latestURL = github + latest\n",
    "latestPage = requests.get(latestURL, 'html.parser')\n",
    "# print(latestURL)\n",
    "# find the raw page url\n",
    "soup = BeautifulSoup(latestPage.content, 'html.parser')\n",
    "raw = str(soup.find(id='raw-url')['href'])\n",
    "rawURL = github + raw\n",
    "# print(rawURL)\n",
    "df = pd.read_csv(rawURL)\n",
    "# print(df.head(20))\n",
    "df = df.dropna(axis=0, subset=['Lat'])\n",
    "df = df.fillna(0)\n",
    "# display(df.head())\n",
    "date, time = df.iloc[0, 2].split()\n",
    "# print(date)\n",
    "px.set_mapbox_access_token(open(\".mapbox_token\").read())\n",
    "\n",
    "fig = px.scatter_mapbox(df,\n",
    "                        lat=\"Lat\",\n",
    "                        lon=\"Long_\",\n",
    "                        color=\"Deaths\",\n",
    "                        size=\"Deaths\",\n",
    "                        center={\"lat\": 37.0902, \"lon\": -95.7129},\n",
    "                        # https://plotly.com/python/builtin-colorscales/\n",
    "                        color_continuous_scale=px.colors.sequential.Jet,\n",
    "                        size_max=40,\n",
    "                        zoom=3,\n",
    "                        hover_data=[\"Confirmed\"],\n",
    "                        hover_name='Province_State'\n",
    "                        )\n",
    "\n",
    "fig.update_layout(\n",
    "    title=f'COVID-19 Deaths in USA by states. Date: {date}',\n",
    ")\n",
    "fig.show()"
   ]
  },
  {
   "cell_type": "code",
   "execution_count": null,
   "metadata": {
    "papermill": {
     "duration": null,
     "end_time": null,
     "exception": null,
     "start_time": null,
     "status": "pending"
    },
    "tags": []
   },
   "outputs": [],
   "source": [
    "one=pd.Series(list(range(100)))\n",
    "type(one)"
   ]
  },
  {
   "cell_type": "code",
   "execution_count": null,
   "metadata": {
    "papermill": {
     "duration": null,
     "end_time": null,
     "exception": null,
     "start_time": null,
     "status": "pending"
    },
    "tags": []
   },
   "outputs": [],
   "source": []
  }
 ],
 "metadata": {
  "kernelspec": {
   "display_name": "Python 3",
   "language": "python",
   "name": "python3"
  },
  "language_info": {
   "codemirror_mode": {
    "name": "ipython",
    "version": 3
   },
   "file_extension": ".py",
   "mimetype": "text/x-python",
   "name": "python",
   "nbconvert_exporter": "python",
   "pygments_lexer": "ipython3",
   "version": "3.8.2"
  },
  "papermill": {
   "duration": 4.244929,
   "end_time": "2020-06-26T04:01:17.296120",
   "environment_variables": {},
   "exception": true,
   "input_path": "data_scraping.ipynb",
   "output_path": "./latest/data_scraping.ipynb",
   "parameters": {},
   "start_time": "2020-06-26T04:01:13.051191",
   "version": "2.1.1"
  }
 },
 "nbformat": 4,
 "nbformat_minor": 4
}