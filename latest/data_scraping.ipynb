{
 "cells": [
  {
   "cell_type": "markdown",
   "id": "c765d167",
   "metadata": {
    "tags": [
     "papermill-error-cell-tag"
    ]
   },
   "source": [
    "<span style=\"color:red; font-family:Helvetica Neue, Helvetica, Arial, sans-serif; font-size:2em;\">An Exception was encountered at '<a href=\"#papermill-error-cell\">In [1]</a>'.</span>"
   ]
  },
  {
   "cell_type": "markdown",
   "id": "ed0ef2d9",
   "metadata": {
    "papermill": {
     "duration": 0.00685,
     "end_time": "2021-04-29T05:07:20.644729",
     "exception": false,
     "start_time": "2021-04-29T05:07:20.637879",
     "status": "completed"
    },
    "tags": []
   },
   "source": [
    "# Github can't render plotly so see this repo at [nbviewer](https://nbviewer.jupyter.org/github/shinokada/covid-19-stats/blob/master/latest/data_scraping.ipynb)\n",
    "\n"
   ]
  },
  {
   "cell_type": "markdown",
   "id": "047a7bcb",
   "metadata": {
    "papermill": {
     "duration": 0.004257,
     "end_time": "2021-04-29T05:07:20.653790",
     "exception": false,
     "start_time": "2021-04-29T05:07:20.649533",
     "status": "completed"
    },
    "tags": []
   },
   "source": [
    "Scraping data from Github repo and creating a catter plot on a map\n"
   ]
  },
  {
   "cell_type": "markdown",
   "id": "8d003cc9",
   "metadata": {
    "tags": [
     "papermill-error-cell-tag"
    ]
   },
   "source": [
    "<span id=\"papermill-error-cell\" style=\"color:red; font-family:Helvetica Neue, Helvetica, Arial, sans-serif; font-size:2em;\">Execution using papermill encountered an exception here and stopped:</span>"
   ]
  },
  {
   "cell_type": "code",
   "execution_count": 47,
   "id": "751e6b7f",
   "metadata": {
    "papermill": {
     "duration": 1.61914,
     "end_time": "2021-04-29T05:07:22.277783",
     "exception": true,
     "start_time": "2021-04-29T05:07:20.658643",
     "status": "failed"
    },
    "tags": []
   },
   "outputs": [
    {
     "name": "stdout",
     "output_type": "stream",
     "text": [
      "04-26-2021\n",
      "https://github.com/CSSEGISandData/COVID-19/blob/master/csse_covid_19_data/csse_covid_19_daily_reports_us/<a class=\"js-navigation-open Link--primary\" data-pjax=\"#repo-content-pjax-container\" href=\"/CSSEGISandData/COVID-19/blob/master/csse_covid_19_data/csse_covid_19_daily_reports_us/04-26-2021.csv\" title=\"04-26-2021.csv\">04-26-2021.csv</a>\n"
     ]
    },
    {
     "ename": "TypeError",
     "evalue": "'NoneType' object is not subscriptable",
     "output_type": "error",
     "traceback": [
      "\u001b[0;31m---------------------------------------------------------------------------\u001b[0m",
      "\u001b[0;31mTypeError\u001b[0m                                 Traceback (most recent call last)",
      "\u001b[0;32m<ipython-input-47-09d24252c30a>\u001b[0m in \u001b[0;36m<module>\u001b[0;34m\u001b[0m\n\u001b[1;32m     30\u001b[0m \u001b[0;31m# find the raw page url\u001b[0m\u001b[0;34m\u001b[0m\u001b[0;34m\u001b[0m\u001b[0;34m\u001b[0m\u001b[0m\n\u001b[1;32m     31\u001b[0m \u001b[0msoup\u001b[0m \u001b[0;34m=\u001b[0m \u001b[0mBeautifulSoup\u001b[0m\u001b[0;34m(\u001b[0m\u001b[0mlatestPage\u001b[0m\u001b[0;34m.\u001b[0m\u001b[0mcontent\u001b[0m\u001b[0;34m,\u001b[0m \u001b[0;34m'html.parser'\u001b[0m\u001b[0;34m)\u001b[0m\u001b[0;34m\u001b[0m\u001b[0;34m\u001b[0m\u001b[0m\n\u001b[0;32m---> 32\u001b[0;31m \u001b[0mraw\u001b[0m \u001b[0;34m=\u001b[0m \u001b[0mstr\u001b[0m\u001b[0;34m(\u001b[0m\u001b[0msoup\u001b[0m\u001b[0;34m.\u001b[0m\u001b[0mfind\u001b[0m\u001b[0;34m(\u001b[0m\u001b[0mid\u001b[0m\u001b[0;34m=\u001b[0m\u001b[0;34m'raw-url'\u001b[0m\u001b[0;34m)\u001b[0m\u001b[0;34m[\u001b[0m\u001b[0;34m'href'\u001b[0m\u001b[0;34m]\u001b[0m\u001b[0;34m)\u001b[0m\u001b[0;34m\u001b[0m\u001b[0;34m\u001b[0m\u001b[0m\n\u001b[0m\u001b[1;32m     33\u001b[0m \u001b[0mrawURL\u001b[0m \u001b[0;34m=\u001b[0m \u001b[0mgithub\u001b[0m \u001b[0;34m+\u001b[0m \u001b[0mraw\u001b[0m\u001b[0;34m\u001b[0m\u001b[0;34m\u001b[0m\u001b[0m\n\u001b[1;32m     34\u001b[0m \u001b[0;31m# print(rawURL)\u001b[0m\u001b[0;34m\u001b[0m\u001b[0;34m\u001b[0m\u001b[0;34m\u001b[0m\u001b[0m\n",
      "\u001b[0;31mTypeError\u001b[0m: 'NoneType' object is not subscriptable"
     ]
    }
   ],
   "source": [
    "import requests\n",
    "from bs4 import BeautifulSoup\n",
    "import plotly.express as px\n",
    "import pandas as pd\n",
    "import re\n",
    "from datetime import date\n",
    "from datetime import timedelta\n",
    "\n",
    "today = date.today()\n",
    "# another = date.strftime(today,\"%m-%d-%Y\")\n",
    "# print(another)\n",
    "# three days ago\n",
    "threedaysago=today - timedelta(days = 3)\n",
    "three = date.strftime(threedaysago,\"%m-%d-%Y\")\n",
    "print(three)\n",
    "exit\n",
    "github = 'https://github.com'\n",
    "URL = 'https://github.com/CSSEGISandData/COVID-19/tree/master/csse_covid_19_data/csse_covid_19_daily_reports_us'\n",
    "blob = 'https://github.com/CSSEGISandData/COVID-19/blob/master/csse_covid_19_data/csse_covid_19_daily_reports_us/'\n",
    "page = requests.get(URL)\n",
    "soup = BeautifulSoup(page.content, 'html.parser')\n",
    "\n",
    "# find the latest report\n",
    "threecsv = str(three)+\".csv\"\n",
    "\n",
    "# go to the latest report page\n",
    "latestURL = str(blob) + str(latest)\n",
    "latestPage = requests.get(latestURL, 'html.parser')\n",
    "print(latestURL)\n",
    "# find the raw page url\n",
    "soup = BeautifulSoup(latestPage.content, 'html.parser')\n",
    "raw = str(soup.find(id='raw-url')['href'])\n",
    "rawURL = github + raw\n",
    "# print(rawURL)\n",
    "df = pd.read_csv(rawURL)\n",
    "# print(df.head(20))\n",
    "df = df.dropna(axis=0, subset=['Lat'])\n",
    "df = df.fillna(0)\n",
    "# display(df.head())\n",
    "date, time = df.iloc[0, 2].split()\n",
    "# print(date)\n",
    "px.set_mapbox_access_token(open(\".mapbox_token\").read())\n",
    "\n",
    "fig = px.scatter_mapbox(df,\n",
    "                        lat=\"Lat\",\n",
    "                        lon=\"Long_\",\n",
    "                        color=\"Deaths\",\n",
    "                        size=\"Deaths\",\n",
    "                        center={\"lat\": 37.0902, \"lon\": -95.7129},\n",
    "                        # https://plotly.com/python/builtin-colorscales/\n",
    "                        color_continuous_scale=px.colors.sequential.Jet,\n",
    "                        size_max=40,\n",
    "                        zoom=3,\n",
    "                        hover_data=[\"Confirmed\"],\n",
    "                        hover_name='Province_State'\n",
    "                        )\n",
    "\n",
    "fig.update_layout(\n",
    "    title=f'COVID-19 Deaths in USA by states. Date: {date}',\n",
    ")\n",
    "fig.show()"
   ]
  },
  {
   "cell_type": "code",
   "execution_count": null,
   "id": "06e38d30",
   "metadata": {
    "papermill": {
     "duration": null,
     "end_time": null,
     "exception": null,
     "start_time": null,
     "status": "pending"
    },
    "tags": []
   },
   "outputs": [],
   "source": [
    "one=pd.Series(list(range(100)))\n",
    "type(one)"
   ]
  },
  {
   "cell_type": "code",
   "execution_count": 9,
   "id": "24634503",
   "metadata": {},
   "outputs": [
    {
     "name": "stdout",
     "output_type": "stream",
     "text": [
      "Today is:  2021-04-29\n",
      "Yesterday was:  2021-04-28\n",
      "2021-04-26\n"
     ]
    }
   ],
   "source": [
    "from datetime import date\n",
    "from datetime import timedelta\n",
    "\n",
    "today = date.today()\n",
    "print(\"Today is: \", today)\n",
    "  \n",
    "# Yesterday date\n",
    "yesterday = today - timedelta(days = 1)\n",
    "print(\"Yesterday was: \", yesterday)\n",
    "\n",
    "# three days ago\n",
    "threedaysago=today - timedelta(days = 3)\n",
    "print(threedaysago)"
   ]
  },
  {
   "cell_type": "code",
   "execution_count": null,
   "id": "94c4f3bc",
   "metadata": {},
   "outputs": [],
   "source": []
  }
 ],
 "metadata": {
  "kernelspec": {
   "display_name": "Python 3",
   "language": "python",
   "name": "python3"
  },
  "language_info": {
   "codemirror_mode": {
    "name": "ipython",
    "version": 3
   },
   "file_extension": ".py",
   "mimetype": "text/x-python",
   "name": "python",
   "nbconvert_exporter": "python",
   "pygments_lexer": "ipython3",
   "version": "3.8.6"
  },
  "papermill": {
   "default_parameters": {},
   "duration": 3.943156,
   "end_time": "2021-04-29T05:07:22.878094",
   "environment_variables": {},
   "exception": true,
   "input_path": "data_scraping.ipynb",
   "output_path": "./latest/data_scraping.ipynb",
   "parameters": {},
   "start_time": "2021-04-29T05:07:18.934938",
   "version": "2.3.3"
  }
 },
 "nbformat": 4,
 "nbformat_minor": 5
}
