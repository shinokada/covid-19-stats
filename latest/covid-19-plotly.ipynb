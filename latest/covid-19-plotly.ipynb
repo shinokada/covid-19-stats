{
 "cells": [
  {
   "cell_type": "markdown",
   "id": "01f9705a",
   "metadata": {
    "tags": [
     "papermill-error-cell-tag"
    ]
   },
   "source": [
    "<span style=\"color:red; font-family:Helvetica Neue, Helvetica, Arial, sans-serif; font-size:2em;\">An Exception was encountered at '<a href=\"#papermill-error-cell\">In [1]</a>'.</span>"
   ]
  },
  {
   "cell_type": "markdown",
   "id": "2c952691",
   "metadata": {
    "papermill": {
     "duration": 0.010299,
     "end_time": "2021-04-29T04:56:46.426062",
     "exception": false,
     "start_time": "2021-04-29T04:56:46.415763",
     "status": "completed"
    },
    "tags": []
   },
   "source": [
    "# See this in [nbviewer](https://nbviewer.jupyter.org/github/shinokada/covid-19-stats/blob/master/latest/covid-19-plotly.ipynb).\n",
    "\n",
    "# See this in [Binder](https://mybinder.org/v2/gh/shinokada/covid-19-stats/master)\n",
    "\n",
    "<a href=\"https://mybinder.org/v2/gh/shinokada/covid-19-stats/master\" target=\"_blank\"><img src=\"https://mybinder.org/badge_logo.svg\"/></a>"
   ]
  },
  {
   "cell_type": "markdown",
   "id": "4b01ffe0",
   "metadata": {
    "tags": [
     "papermill-error-cell-tag"
    ]
   },
   "source": [
    "<span id=\"papermill-error-cell\" style=\"color:red; font-family:Helvetica Neue, Helvetica, Arial, sans-serif; font-size:2em;\">Execution using papermill encountered an exception here and stopped:</span>"
   ]
  },
  {
   "cell_type": "code",
   "execution_count": 1,
   "id": "ca675ae2",
   "metadata": {
    "execution": {
     "iopub.execute_input": "2021-04-29T04:56:46.443622Z",
     "iopub.status.busy": "2021-04-29T04:56:46.442567Z",
     "iopub.status.idle": "2021-04-29T04:56:47.148957Z",
     "shell.execute_reply": "2021-04-29T04:56:47.148111Z"
    },
    "papermill": {
     "duration": 0.717096,
     "end_time": "2021-04-29T04:56:47.149234",
     "exception": true,
     "start_time": "2021-04-29T04:56:46.432138",
     "status": "failed"
    },
    "tags": []
   },
   "outputs": [
    {
     "data": {
      "text/html": [
       "<div>\n",
       "<style scoped>\n",
       "    .dataframe tbody tr th:only-of-type {\n",
       "        vertical-align: middle;\n",
       "    }\n",
       "\n",
       "    .dataframe tbody tr th {\n",
       "        vertical-align: top;\n",
       "    }\n",
       "\n",
       "    .dataframe thead th {\n",
       "        text-align: right;\n",
       "    }\n",
       "</style>\n",
       "<table border=\"1\" class=\"dataframe\">\n",
       "  <thead>\n",
       "    <tr style=\"text-align: right;\">\n",
       "      <th>Country/Region</th>\n",
       "      <th>US</th>\n",
       "      <th>India</th>\n",
       "      <th>Brazil</th>\n",
       "      <th>France</th>\n",
       "      <th>Turkey</th>\n",
       "      <th>Russia</th>\n",
       "      <th>United Kingdom</th>\n",
       "      <th>Italy</th>\n",
       "      <th>Spain</th>\n",
       "      <th>Germany</th>\n",
       "    </tr>\n",
       "  </thead>\n",
       "  <tbody>\n",
       "    <tr>\n",
       "      <th>1/22/20</th>\n",
       "      <td>1</td>\n",
       "      <td>0</td>\n",
       "      <td>0</td>\n",
       "      <td>0</td>\n",
       "      <td>0</td>\n",
       "      <td>0</td>\n",
       "      <td>0</td>\n",
       "      <td>0</td>\n",
       "      <td>0</td>\n",
       "      <td>0</td>\n",
       "    </tr>\n",
       "    <tr>\n",
       "      <th>1/23/20</th>\n",
       "      <td>1</td>\n",
       "      <td>0</td>\n",
       "      <td>0</td>\n",
       "      <td>0</td>\n",
       "      <td>0</td>\n",
       "      <td>0</td>\n",
       "      <td>0</td>\n",
       "      <td>0</td>\n",
       "      <td>0</td>\n",
       "      <td>0</td>\n",
       "    </tr>\n",
       "    <tr>\n",
       "      <th>1/24/20</th>\n",
       "      <td>2</td>\n",
       "      <td>0</td>\n",
       "      <td>0</td>\n",
       "      <td>2</td>\n",
       "      <td>0</td>\n",
       "      <td>0</td>\n",
       "      <td>0</td>\n",
       "      <td>0</td>\n",
       "      <td>0</td>\n",
       "      <td>0</td>\n",
       "    </tr>\n",
       "    <tr>\n",
       "      <th>1/25/20</th>\n",
       "      <td>2</td>\n",
       "      <td>0</td>\n",
       "      <td>0</td>\n",
       "      <td>3</td>\n",
       "      <td>0</td>\n",
       "      <td>0</td>\n",
       "      <td>0</td>\n",
       "      <td>0</td>\n",
       "      <td>0</td>\n",
       "      <td>0</td>\n",
       "    </tr>\n",
       "    <tr>\n",
       "      <th>1/26/20</th>\n",
       "      <td>5</td>\n",
       "      <td>0</td>\n",
       "      <td>0</td>\n",
       "      <td>3</td>\n",
       "      <td>0</td>\n",
       "      <td>0</td>\n",
       "      <td>0</td>\n",
       "      <td>0</td>\n",
       "      <td>0</td>\n",
       "      <td>0</td>\n",
       "    </tr>\n",
       "    <tr>\n",
       "      <th>...</th>\n",
       "      <td>...</td>\n",
       "      <td>...</td>\n",
       "      <td>...</td>\n",
       "      <td>...</td>\n",
       "      <td>...</td>\n",
       "      <td>...</td>\n",
       "      <td>...</td>\n",
       "      <td>...</td>\n",
       "      <td>...</td>\n",
       "      <td>...</td>\n",
       "    </tr>\n",
       "    <tr>\n",
       "      <th>4/24/21</th>\n",
       "      <td>32045113</td>\n",
       "      <td>16960172</td>\n",
       "      <td>14308215</td>\n",
       "      <td>5534656</td>\n",
       "      <td>4591416</td>\n",
       "      <td>4699988</td>\n",
       "      <td>4418710</td>\n",
       "      <td>3949517</td>\n",
       "      <td>3468617</td>\n",
       "      <td>3291293</td>\n",
       "    </tr>\n",
       "    <tr>\n",
       "      <th>4/25/21</th>\n",
       "      <td>32077178</td>\n",
       "      <td>17313163</td>\n",
       "      <td>14340787</td>\n",
       "      <td>5559121</td>\n",
       "      <td>4629969</td>\n",
       "      <td>4708640</td>\n",
       "      <td>4420443</td>\n",
       "      <td>3962674</td>\n",
       "      <td>3468617</td>\n",
       "      <td>3306692</td>\n",
       "    </tr>\n",
       "    <tr>\n",
       "      <th>4/26/21</th>\n",
       "      <td>32124869</td>\n",
       "      <td>17636186</td>\n",
       "      <td>14369423</td>\n",
       "      <td>5565080</td>\n",
       "      <td>4667281</td>\n",
       "      <td>4717321</td>\n",
       "      <td>4422562</td>\n",
       "      <td>3971114</td>\n",
       "      <td>3488469</td>\n",
       "      <td>3312653</td>\n",
       "    </tr>\n",
       "    <tr>\n",
       "      <th>4/27/21</th>\n",
       "      <td>32175725</td>\n",
       "      <td>17997113</td>\n",
       "      <td>14441563</td>\n",
       "      <td>5595403</td>\n",
       "      <td>4710582</td>\n",
       "      <td>4725252</td>\n",
       "      <td>4425259</td>\n",
       "      <td>3981512</td>\n",
       "      <td>3496134</td>\n",
       "      <td>3338564</td>\n",
       "    </tr>\n",
       "    <tr>\n",
       "      <th>4/28/21</th>\n",
       "      <td>32229327</td>\n",
       "      <td>17997267</td>\n",
       "      <td>14521289</td>\n",
       "      <td>5626985</td>\n",
       "      <td>4751026</td>\n",
       "      <td>4732981</td>\n",
       "      <td>4427390</td>\n",
       "      <td>3994894</td>\n",
       "      <td>3504799</td>\n",
       "      <td>3366827</td>\n",
       "    </tr>\n",
       "  </tbody>\n",
       "</table>\n",
       "<p>463 rows × 10 columns</p>\n",
       "</div>"
      ],
      "text/plain": [
       "Country/Region        US     India    Brazil   France   Turkey   Russia  \\\n",
       "1/22/20                1         0         0        0        0        0   \n",
       "1/23/20                1         0         0        0        0        0   \n",
       "1/24/20                2         0         0        2        0        0   \n",
       "1/25/20                2         0         0        3        0        0   \n",
       "1/26/20                5         0         0        3        0        0   \n",
       "...                  ...       ...       ...      ...      ...      ...   \n",
       "4/24/21         32045113  16960172  14308215  5534656  4591416  4699988   \n",
       "4/25/21         32077178  17313163  14340787  5559121  4629969  4708640   \n",
       "4/26/21         32124869  17636186  14369423  5565080  4667281  4717321   \n",
       "4/27/21         32175725  17997113  14441563  5595403  4710582  4725252   \n",
       "4/28/21         32229327  17997267  14521289  5626985  4751026  4732981   \n",
       "\n",
       "Country/Region  United Kingdom    Italy    Spain  Germany  \n",
       "1/22/20                      0        0        0        0  \n",
       "1/23/20                      0        0        0        0  \n",
       "1/24/20                      0        0        0        0  \n",
       "1/25/20                      0        0        0        0  \n",
       "1/26/20                      0        0        0        0  \n",
       "...                        ...      ...      ...      ...  \n",
       "4/24/21                4418710  3949517  3468617  3291293  \n",
       "4/25/21                4420443  3962674  3468617  3306692  \n",
       "4/26/21                4422562  3971114  3488469  3312653  \n",
       "4/27/21                4425259  3981512  3496134  3338564  \n",
       "4/28/21                4427390  3994894  3504799  3366827  \n",
       "\n",
       "[463 rows x 10 columns]"
      ]
     },
     "metadata": {},
     "output_type": "display_data"
    },
    {
     "ename": "ModuleNotFoundError",
     "evalue": "No module named 'cufflinks'",
     "output_type": "error",
     "traceback": [
      "\u001b[0;31m---------------------------------------------------------------------------\u001b[0m",
      "\u001b[0;31mModuleNotFoundError\u001b[0m                       Traceback (most recent call last)",
      "\u001b[0;32m<ipython-input-1-8af37789c7f0>\u001b[0m in \u001b[0;36m<module>\u001b[0;34m\u001b[0m\n\u001b[1;32m      3\u001b[0m \u001b[0;32mimport\u001b[0m \u001b[0mpandas\u001b[0m \u001b[0;32mas\u001b[0m \u001b[0mpd\u001b[0m\u001b[0;34m\u001b[0m\u001b[0;34m\u001b[0m\u001b[0m\n\u001b[1;32m      4\u001b[0m \u001b[0;32mimport\u001b[0m \u001b[0mnumpy\u001b[0m \u001b[0;32mas\u001b[0m \u001b[0mnp\u001b[0m\u001b[0;34m\u001b[0m\u001b[0;34m\u001b[0m\u001b[0m\n\u001b[0;32m----> 5\u001b[0;31m \u001b[0;32mimport\u001b[0m \u001b[0mcufflinks\u001b[0m \u001b[0;32mas\u001b[0m \u001b[0mcf\u001b[0m\u001b[0;34m\u001b[0m\u001b[0;34m\u001b[0m\u001b[0m\n\u001b[0m",
      "\u001b[0;31mModuleNotFoundError\u001b[0m: No module named 'cufflinks'"
     ]
    }
   ],
   "source": [
    "%run covid-19-data.ipynb\n",
    "\n",
    "import pandas as pd\n",
    "import numpy as np\n",
    "import cufflinks as cf"
   ]
  },
  {
   "cell_type": "code",
   "execution_count": null,
   "id": "9b797b0b",
   "metadata": {
    "papermill": {
     "duration": null,
     "end_time": null,
     "exception": null,
     "start_time": null,
     "status": "pending"
    },
    "tags": []
   },
   "outputs": [],
   "source": [
    "# Time series total confirmed by country\n",
    "fig = df_confirmed.iplot(asFigure=True, xTitle=\"Date\", yTitle=\"Number\", title=f'COVID-19 time series total confirmed by country as of {confirmed_latest}')\n",
    "fig.show()"
   ]
  },
  {
   "cell_type": "code",
   "execution_count": null,
   "id": "f1bb5046",
   "metadata": {
    "papermill": {
     "duration": null,
     "end_time": null,
     "exception": null,
     "start_time": null,
     "status": "pending"
    },
    "scrolled": true,
    "tags": []
   },
   "outputs": [],
   "source": [
    "# Time series total deaths by country\n",
    "fig = df_deaths.iplot(asFigure=True, xTitle=\"Date\", yTitle=\"Number\", title=f'COVID-19 time series total deaths by country as of {deaths_latest}')\n",
    "fig.show()"
   ]
  },
  {
   "cell_type": "code",
   "execution_count": null,
   "id": "010b11aa",
   "metadata": {
    "papermill": {
     "duration": null,
     "end_time": null,
     "exception": null,
     "start_time": null,
     "status": "pending"
    },
    "tags": []
   },
   "outputs": [],
   "source": [
    "# Time series total recovered by country\n",
    "fig = df_recovered.iplot(asFigure=True, xTitle=\"Date\", yTitle=\"Number\", title=f'COVID-19 time series total recovered by country as of {recovered_latest}')\n",
    "fig.show()"
   ]
  },
  {
   "cell_type": "code",
   "execution_count": null,
   "id": "f1f03a92",
   "metadata": {
    "papermill": {
     "duration": null,
     "end_time": null,
     "exception": null,
     "start_time": null,
     "status": "pending"
    },
    "tags": []
   },
   "outputs": [],
   "source": [
    "# Total confirmed by date\n",
    "fig = df_confirmed_total.iplot(asFigure=True, xTitle=\"Date\", yTitle=\"Number\", title=f'COVID-19 time series total confirmed as of {confirmed_latest}')\n",
    "fig.show()"
   ]
  },
  {
   "cell_type": "code",
   "execution_count": null,
   "id": "4079a0b2",
   "metadata": {
    "papermill": {
     "duration": null,
     "end_time": null,
     "exception": null,
     "start_time": null,
     "status": "pending"
    },
    "tags": []
   },
   "outputs": [],
   "source": [
    "# Total death by date\n",
    "fig = df_deaths_total.iplot(asFigure=True, xTitle=\"Date\", yTitle=\"Number\", title=f'COVID-19 time series total confirmed as of {deaths_latest}')\n",
    "fig.show()"
   ]
  },
  {
   "cell_type": "code",
   "execution_count": null,
   "id": "fe8c219e",
   "metadata": {
    "papermill": {
     "duration": null,
     "end_time": null,
     "exception": null,
     "start_time": null,
     "status": "pending"
    },
    "tags": []
   },
   "outputs": [],
   "source": [
    "# Total recovered by date\n",
    "fig = df_recovered_total.iplot(asFigure=True, xTitle=\"Date\", yTitle=\"Number\", title=f'COVID-19 time series total confirmed as of {recovered_latest}')\n",
    "fig.show()"
   ]
  },
  {
   "cell_type": "code",
   "execution_count": null,
   "id": "7b8b82e1",
   "metadata": {
    "papermill": {
     "duration": null,
     "end_time": null,
     "exception": null,
     "start_time": null,
     "status": "pending"
    },
    "tags": []
   },
   "outputs": [],
   "source": []
  }
 ],
 "metadata": {
  "kernelspec": {
   "display_name": "Python 3",
   "language": "python",
   "name": "python3"
  },
  "language_info": {
   "codemirror_mode": {
    "name": "ipython",
    "version": 3
   },
   "file_extension": ".py",
   "mimetype": "text/x-python",
   "name": "python",
   "nbconvert_exporter": "python",
   "pygments_lexer": "ipython3",
   "version": "3.8.6"
  },
  "papermill": {
   "default_parameters": {},
   "duration": 2.690913,
   "end_time": "2021-04-29T04:56:47.568283",
   "environment_variables": {},
   "exception": true,
   "input_path": "covid-19-plotly.ipynb",
   "output_path": "./latest/covid-19-plotly.ipynb",
   "parameters": {},
   "start_time": "2021-04-29T04:56:44.877370",
   "version": "2.3.3"
  }
 },
 "nbformat": 4,
 "nbformat_minor": 5
}