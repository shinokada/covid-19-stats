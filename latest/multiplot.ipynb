{
 "cells": [
  {
   "cell_type": "code",
   "execution_count": 1,
   "id": "2b3bda95",
   "metadata": {
    "execution": {
     "iopub.execute_input": "2021-05-04T01:12:18.647021Z",
     "iopub.status.busy": "2021-05-04T01:12:18.645662Z",
     "iopub.status.idle": "2021-05-04T01:12:18.670932Z",
     "shell.execute_reply": "2021-05-04T01:12:18.671768Z"
    },
    "papermill": {
     "duration": 0.046146,
     "end_time": "2021-05-04T01:12:18.672170",
     "exception": false,
     "start_time": "2021-05-04T01:12:18.626024",
     "status": "completed"
    },
    "tags": []
   },
   "outputs": [],
   "source": [
    "# multi_plot requires two variables:\n",
    "# - df is a dataframe with countries as columns and rows as date\n",
    "# - addAll is to have a dropdown button to display all countries at once\n",
    "def multi_plot(df, title, addAll = True):\n",
    "    fig = go.Figure()\n",
    "\n",
    "    for column in df.columns.to_list():\n",
    "        fig.add_trace(\n",
    "            go.Scatter(\n",
    "                x = df.index,\n",
    "                y = df[column],\n",
    "                name = column\n",
    "            )\n",
    "        )\n",
    "\n",
    "    button_all = dict(label = 'All',\n",
    "                      method = 'update',\n",
    "                      args = [{'visible': df.columns.isin(df.columns),\n",
    "                               'title': 'All',\n",
    "                               'showlegend':True}])\n",
    "\n",
    "    def create_layout_button(column):\n",
    "        return dict(label = column,\n",
    "                    method = 'update',\n",
    "                    args = [{'visible': df.columns.isin([column]),\n",
    "                             'title': column,\n",
    "                             'showlegend': True}])\n",
    "\n",
    "    fig.update_layout(\n",
    "        updatemenus=[go.layout.Updatemenu(\n",
    "            active = 0,\n",
    "            buttons = ([button_all] * addAll) + list(df.columns.map(lambda column: create_layout_button(column)))\n",
    "            )\n",
    "        ],\n",
    "         yaxis_type=\"log\"       \n",
    "    )\n",
    "    # Update remaining layout properties\n",
    "    fig.update_layout(\n",
    "        title_text=title\n",
    "    )\n",
    "   \n",
    "    \n",
    "    fig.show()"
   ]
  },
  {
   "cell_type": "code",
   "execution_count": null,
   "id": "b1309d01",
   "metadata": {
    "papermill": {
     "duration": 0.00237,
     "end_time": "2021-05-04T01:12:18.677641",
     "exception": false,
     "start_time": "2021-05-04T01:12:18.675271",
     "status": "completed"
    },
    "tags": []
   },
   "outputs": [],
   "source": []
  }
 ],
 "metadata": {
  "kernelspec": {
   "display_name": "Python 3",
   "language": "python",
   "name": "python3"
  },
  "language_info": {
   "codemirror_mode": {
    "name": "ipython",
    "version": 3
   },
   "file_extension": ".py",
   "mimetype": "text/x-python",
   "name": "python",
   "nbconvert_exporter": "python",
   "pygments_lexer": "ipython3",
   "version": "3.8.6"
  },
  "papermill": {
   "default_parameters": {},
   "duration": 3.232308,
   "end_time": "2021-05-04T01:12:19.208245",
   "environment_variables": {},
   "exception": null,
   "input_path": "multiplot.ipynb",
   "output_path": "./latest/multiplot.ipynb",
   "parameters": {},
   "start_time": "2021-05-04T01:12:15.975937",
   "version": "2.3.3"
  }
 },
 "nbformat": 4,
 "nbformat_minor": 5
}