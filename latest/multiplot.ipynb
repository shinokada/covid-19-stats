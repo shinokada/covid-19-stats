{
 "cells": [
  {
   "cell_type": "code",
   "execution_count": 1,
   "metadata": {
    "execution": {
     "iopub.execute_input": "2020-05-24T06:06:26.304578Z",
     "iopub.status.busy": "2020-05-24T06:06:26.303137Z",
     "iopub.status.idle": "2020-05-24T06:06:26.321094Z",
     "shell.execute_reply": "2020-05-24T06:06:26.321522Z"
    },
    "papermill": {
     "duration": 0.032007,
     "end_time": "2020-05-24T06:06:26.321707",
     "exception": false,
     "start_time": "2020-05-24T06:06:26.289700",
     "status": "completed"
    },
    "tags": []
   },
   "outputs": [],
   "source": [
    "# multi_plot requires two variables:\n",
    "# - df is a dataframe with countries as columns and rows as date\n",
    "# - addAll is to have a dropdown button to display all countries at once\n",
    "def multi_plot(df, title, addAll = True):\n",
    "    fig = go.Figure()\n",
    "\n",
    "    for column in df.columns.to_list():\n",
    "        fig.add_trace(\n",
    "            go.Scatter(\n",
    "                x = df.index,\n",
    "                y = df[column],\n",
    "                name = column\n",
    "            )\n",
    "        )\n",
    "\n",
    "    button_all = dict(label = 'All',\n",
    "                      method = 'update',\n",
    "                      args = [{'visible': df.columns.isin(df.columns),\n",
    "                               'title': 'All',\n",
    "                               'showlegend':True}])\n",
    "\n",
    "    def create_layout_button(column):\n",
    "        return dict(label = column,\n",
    "                    method = 'update',\n",
    "                    args = [{'visible': df.columns.isin([column]),\n",
    "                             'title': column,\n",
    "                             'showlegend': True}])\n",
    "\n",
    "    fig.update_layout(\n",
    "        updatemenus=[go.layout.Updatemenu(\n",
    "            active = 0,\n",
    "            buttons = ([button_all] * addAll) + list(df.columns.map(lambda column: create_layout_button(column)))\n",
    "            )\n",
    "        ],\n",
    "         yaxis_type=\"log\"       \n",
    "    )\n",
    "    # Update remaining layout properties\n",
    "    fig.update_layout(\n",
    "        title_text=title\n",
    "    )\n",
    "   \n",
    "    \n",
    "    fig.show()"
   ]
  },
  {
   "cell_type": "code",
   "execution_count": null,
   "metadata": {
    "papermill": {
     "duration": 0.002116,
     "end_time": "2020-05-24T06:06:26.326713",
     "exception": false,
     "start_time": "2020-05-24T06:06:26.324597",
     "status": "completed"
    },
    "tags": []
   },
   "outputs": [],
   "source": []
  }
 ],
 "metadata": {
  "kernelspec": {
   "display_name": "Python 3",
   "language": "python",
   "name": "python3"
  },
  "language_info": {
   "codemirror_mode": {
    "name": "ipython",
    "version": 3
   },
   "file_extension": ".py",
   "mimetype": "text/x-python",
   "name": "python",
   "nbconvert_exporter": "python",
   "pygments_lexer": "ipython3",
   "version": "3.8.2"
  },
  "papermill": {
   "duration": 1.287437,
   "end_time": "2020-05-24T06:06:26.440400",
   "environment_variables": {},
   "exception": null,
   "input_path": "multiplot.ipynb",
   "output_path": "./latest/multiplot.ipynb",
   "parameters": {},
   "start_time": "2020-05-24T06:06:25.152963",
   "version": "2.1.1"
  }
 },
 "nbformat": 4,
 "nbformat_minor": 4
}