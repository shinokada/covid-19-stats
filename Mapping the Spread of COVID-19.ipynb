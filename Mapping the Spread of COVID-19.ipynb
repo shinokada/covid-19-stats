{
 "cells": [
  {
   "cell_type": "markdown",
   "metadata": {},
   "source": [
    "# [Mapping the Spread of COVID-19 with Python](https://www.jumpingrivers.com/blog/interactive-maps-python-covid-19-spread/)"
   ]
  },
  {
   "cell_type": "code",
   "execution_count": 7,
   "metadata": {},
   "outputs": [],
   "source": [
    "import branca.colormap as cm\n",
    "import folium\n",
    "import geopandas as gpd\n",
    "import numpy as np\n",
    "import pandas as pd"
   ]
  },
  {
   "cell_type": "code",
   "execution_count": 22,
   "metadata": {},
   "outputs": [
    {
     "name": "stdout",
     "output_type": "stream",
     "text": [
      "<class 'pandas.core.frame.DataFrame'>\n",
      "RangeIndex: 10358 entries, 0 to 10357\n",
      "Data columns (total 8 columns):\n",
      " #   Column           Non-Null Count  Dtype  \n",
      "---  ------           --------------  -----  \n",
      " 0   SNo              10358 non-null  int64  \n",
      " 1   ObservationDate  10358 non-null  object \n",
      " 2   Province/State   5578 non-null   object \n",
      " 3   Country/Region   10358 non-null  object \n",
      " 4   Last Update      10358 non-null  object \n",
      " 5   Confirmed        10358 non-null  float64\n",
      " 6   Deaths           10358 non-null  float64\n",
      " 7   Recovered        10358 non-null  float64\n",
      "dtypes: float64(3), int64(1), object(4)\n",
      "memory usage: 647.5+ KB\n"
     ]
    }
   ],
   "source": [
    "corona_df = pd.read_csv(\"data/covid_19_data.csv\")\n",
    "countries = gpd.read_file('data/Countries_WGS84.shp')\n",
    "# countries.head()\n",
    "corona_df.info()"
   ]
  },
  {
   "cell_type": "code",
   "execution_count": 23,
   "metadata": {},
   "outputs": [],
   "source": [
    "corona_df = corona_df.replace({'Country/Region' : \n",
    "                      dict.fromkeys(['Taiwan', \n",
    "                                     'Mainland China', \n",
    "                                     'Hong Kong', \n",
    "                                     'Macau'], \n",
    "                                     'China')})\n",
    "corona_df = corona_df.replace({'Country/Region' : 'US'}, \n",
    "                                'United States')\n",
    "corona_df = corona_df.replace({'Country/Region' : 'UK'}, \n",
    "                                'United Kingdom')\n",
    "corona_df = corona_df.replace({'Country/Region' : 'North Ireland'}, \n",
    "                                'United Kingdom')\n",
    "corona_df = corona_df.replace({'Country/Region' : 'Republic of Ireland'}, \n",
    "                                'Ireland')\n",
    "corona_df = corona_df.replace({'Country/Region' : 'Vatican City'}, \n",
    "                                'Italy')\n",
    "countries = countries.replace({'CNTRY_NAME' : 'Byelarus'}, \n",
    "                               'Belarus')\n",
    "countries = countries.replace({'CNTRY_NAME' : 'Macedonia'}, \n",
    "                               'North Macedonia')\n"
   ]
  },
  {
   "cell_type": "code",
   "execution_count": 25,
   "metadata": {},
   "outputs": [],
   "source": [
    "countries = countries.rename(columns={'CNTRY_NAME': 'Country/Region'})"
   ]
  },
  {
   "cell_type": "code",
   "execution_count": 26,
   "metadata": {},
   "outputs": [],
   "source": [
    "corona_df = corona_df[corona_df.Confirmed != 0]"
   ]
  },
  {
   "cell_type": "code",
   "execution_count": 27,
   "metadata": {},
   "outputs": [],
   "source": [
    "sorted_df = corona_df.sort_values(['Country/Region', \n",
    "                     'ObservationDate']).reset_index(drop=True)"
   ]
  },
  {
   "cell_type": "code",
   "execution_count": 29,
   "metadata": {},
   "outputs": [],
   "source": [
    "sum_df = sorted_df.groupby(['Country/Region', 'ObservationDate'], as_index=False).sum()"
   ]
  },
  {
   "cell_type": "code",
   "execution_count": 31,
   "metadata": {},
   "outputs": [],
   "source": [
    "joined_df = sum_df.merge(countries, on='Country/Region')"
   ]
  },
  {
   "cell_type": "code",
   "execution_count": null,
   "metadata": {},
   "outputs": [],
   "source": []
  }
 ],
 "metadata": {
  "kernelspec": {
   "display_name": "Python 3",
   "language": "python",
   "name": "python3"
  },
  "language_info": {
   "codemirror_mode": {
    "name": "ipython",
    "version": 3
   },
   "file_extension": ".py",
   "mimetype": "text/x-python",
   "name": "python",
   "nbconvert_exporter": "python",
   "pygments_lexer": "ipython3",
   "version": "3.7.7"
  }
 },
 "nbformat": 4,
 "nbformat_minor": 4
}
